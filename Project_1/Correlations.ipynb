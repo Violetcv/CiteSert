{
 "cells": [
  {
   "cell_type": "code",
   "execution_count": 2,
   "id": "037c6f7f-26f6-4cc7-a13c-538a74b973e2",
   "metadata": {},
   "outputs": [
    {
     "name": "stdout",
     "output_type": "stream",
     "text": [
      "         date           Company Name   Symbol                    author  year  \\\n",
      "0  2024-07-29  havells india limited  HAVELLS        Geojit BNP Paribas  2024   \n",
      "1  2024-07-21  havells india limited  HAVELLS               Anand Rathi  2024   \n",
      "2  2024-07-19  havells india limited  HAVELLS      Keynote Capitals Ltd  2024   \n",
      "3  2024-07-19  havells india limited  HAVELLS       Prabhudas Lilladhar  2024   \n",
      "4  2024-06-05  havells india limited  HAVELLS  BOB Capital Markets Ltd.  2024   \n",
      "\n",
      "           Sector  expected_return  actual_return  \n",
      "0  Consumer Goods       -10.535481      -0.011863  \n",
      "1  Consumer Goods        21.345773       0.036465  \n",
      "2  Consumer Goods        -2.742437       0.039960  \n",
      "3  Consumer Goods        11.733107       0.039960  \n",
      "4  Consumer Goods        -0.713967       0.011188  \n"
     ]
    }
   ],
   "source": [
    "import pandas as pd\n",
    "\n",
    "# Load the filtered DataFrame from the CSV file\n",
    "filtered_df = pd.read_csv('data/filtered_data.csv')\n",
    "\n",
    "# Display the first few rows of the DataFrame to verify it loaded correctly\n",
    "print(filtered_df.head())"
   ]
  },
  {
   "cell_type": "code",
   "execution_count": 5,
   "id": "b6a9a157-95c5-4103-bdce-ef0fc7090c08",
   "metadata": {},
   "outputs": [
    {
     "name": "stdout",
     "output_type": "stream",
     "text": [
      "Correlation between expected returns and actual returns: -0.029279284079480924\n"
     ]
    }
   ],
   "source": [
    "# Calculate correlation\n",
    "correlation = filtered_df[['expected_return', 'actual_return']].corr().iloc[0, 1]\n",
    "print(f\"Correlation between expected returns and actual returns: {correlation}\")"
   ]
  },
  {
   "cell_type": "code",
   "execution_count": 4,
   "id": "f23d35fb-796f-48d2-bc03-c563c8b29e74",
   "metadata": {},
   "outputs": [
    {
     "name": "stdout",
     "output_type": "stream",
     "text": [
      "Correlation between expected and actual returns by year:\n",
      "year\n",
      "2014         NaN\n",
      "2015    0.034897\n",
      "2016   -0.044052\n",
      "2017    0.285551\n",
      "2018   -0.204528\n",
      "2019   -0.088272\n",
      "2020    0.070569\n",
      "2021    0.027652\n",
      "2022   -0.074631\n",
      "2023    0.221254\n",
      "2024   -0.208925\n",
      "dtype: float64\n"
     ]
    },
    {
     "name": "stderr",
     "output_type": "stream",
     "text": [
      "C:\\Users\\disch\\AppData\\Local\\Temp\\ipykernel_8444\\3742466470.py:9: DeprecationWarning: DataFrameGroupBy.apply operated on the grouping columns. This behavior is deprecated, and in a future version of pandas the grouping columns will be excluded from the operation. Either pass `include_groups=False` to exclude the groupings or explicitly select the grouping columns after groupby to silence this warning.\n",
      "  correlation_by_year = filtered_df.groupby('year').apply(\n"
     ]
    }
   ],
   "source": [
    "# Groupby Timelines\n",
    "import pandas as pd\n",
    "\n",
    "# Step 1: Extract the year from the 'date' column\n",
    "filtered_df['year'] = pd.to_datetime(filtered_df['date']).dt.year\n",
    "\n",
    "# Step 2: Calculate the correlation between actual and expected return grouped by year\n",
    "# Ensure you have an 'actual_return' column calculated in your DataFrame\n",
    "correlation_by_year = filtered_df.groupby('year').apply(\n",
    "    lambda group: group[['expected_return', 'actual_return']].corr().iloc[0, 1]\n",
    ")\n",
    "\n",
    "# Print the correlation results for each year\n",
    "print(\"Correlation between expected and actual returns by year:\")\n",
    "print(correlation_by_year)"
   ]
  },
  {
   "cell_type": "code",
   "execution_count": 3,
   "id": "f1a6ec64-b5fa-41f3-babb-96a9622fc507",
   "metadata": {},
   "outputs": [
    {
     "name": "stdout",
     "output_type": "stream",
     "text": [
      "Correlation, expected and actual returns by year and ticker:\n",
      "     year     Symbol  correlation  expected_return  actual_return\n",
      "0    2014    HAVELLS          NaN         7.591378       0.078384\n",
      "1    2015    ACLGATI          NaN        58.144176       0.025457\n",
      "2    2015  AURIONPRO          NaN        72.884440      -0.037464\n",
      "3    2015    DHANUKA     1.000000        10.037672      -0.102774\n",
      "4    2015    HAVELLS     0.406506         6.050510       0.032681\n",
      "..    ...        ...          ...              ...            ...\n",
      "100  2024       PGEL          NaN        28.489007       0.108765\n",
      "101  2024    POLYMED          NaN        -4.107558      -0.028398\n",
      "102  2024   RELIGARE          NaN       127.301859      -0.058444\n",
      "103  2024    ROSSARI     0.086800        20.428919       0.009161\n",
      "104  2024       RVNL     1.000000        -1.662380       0.127137\n",
      "\n",
      "[105 rows x 5 columns]\n"
     ]
    },
    {
     "name": "stderr",
     "output_type": "stream",
     "text": [
      "C:\\Users\\disch\\AppData\\Local\\Temp\\ipykernel_8444\\2612998841.py:9: DeprecationWarning: DataFrameGroupBy.apply operated on the grouping columns. This behavior is deprecated, and in a future version of pandas the grouping columns will be excluded from the operation. Either pass `include_groups=False` to exclude the groupings or explicitly select the grouping columns after groupby to silence this warning.\n",
      "  correlation_by_year_and_ticker = filtered_df.groupby(['year', 'Symbol']).apply(calculate_correlation).reset_index(name='correlation')\n"
     ]
    }
   ],
   "source": [
    "# Step 1: Extract the year from the 'date' column\n",
    "filtered_df['year'] = pd.to_datetime(filtered_df['date']).dt.year\n",
    "\n",
    "# Step 2: Calculate the correlation between actual and expected returns grouped by year and ticker\n",
    "def calculate_correlation(group):\n",
    "    return group[['expected_return', 'actual_return']].corr().iloc[0, 1]\n",
    "\n",
    "# Group by 'year' and 'Symbol' (ticker) and calculate correlation\n",
    "correlation_by_year_and_ticker = filtered_df.groupby(['year', 'Symbol']).apply(calculate_correlation).reset_index(name='correlation')\n",
    "\n",
    "# Step 3: Map the expected and actual returns for each ticker in each year\n",
    "mapped_returns = filtered_df.groupby(['year', 'Symbol'])[['expected_return', 'actual_return']].mean().reset_index()\n",
    "\n",
    "# Merge the correlation and return mappings\n",
    "merged_results = pd.merge(correlation_by_year_and_ticker, mapped_returns, on=['year', 'Symbol'])\n",
    "\n",
    "# Print the results\n",
    "print(\"Correlation, expected and actual returns by year and ticker:\")\n",
    "print(merged_results)\n"
   ]
  },
  {
   "cell_type": "code",
   "execution_count": 6,
   "id": "14fe39da-933c-45c4-b17f-b68ed5eedf6a",
   "metadata": {},
   "outputs": [
    {
     "name": "stdout",
     "output_type": "stream",
     "text": [
      "Correlation between expected and actual returns by sector:\n",
      "               Sector  correlation\n",
      "0      Consumer Goods    -0.075283\n",
      "1              Energy     0.141444\n",
      "2             Finance    -0.121837\n",
      "3          Healthcare     0.343641\n",
      "4       Manufacturing     0.015537\n",
      "5          Technology     0.065681\n",
      "6  Telecommunications    -0.054823\n"
     ]
    },
    {
     "name": "stderr",
     "output_type": "stream",
     "text": [
      "C:\\Users\\disch\\AppData\\Local\\Temp\\ipykernel_8444\\2895770494.py:6: DeprecationWarning: DataFrameGroupBy.apply operated on the grouping columns. This behavior is deprecated, and in a future version of pandas the grouping columns will be excluded from the operation. Either pass `include_groups=False` to exclude the groupings or explicitly select the grouping columns after groupby to silence this warning.\n",
      "  correlation_by_sector = filtered_df.groupby('Sector').apply(calculate_correlation).reset_index(name='correlation')\n"
     ]
    }
   ],
   "source": [
    "# Step 1: Calculate correlation grouped by sector\n",
    "def calculate_correlation(group):\n",
    "    return group[['expected_return', 'actual_return']].corr().iloc[0, 1]\n",
    "\n",
    "# Group by sector and calculate the correlation for each sector\n",
    "correlation_by_sector = filtered_df.groupby('Sector').apply(calculate_correlation).reset_index(name='correlation')\n",
    "\n",
    "# Display the correlation by sector\n",
    "print(\"Correlation between expected and actual returns by sector:\")\n",
    "print(correlation_by_sector)"
   ]
  },
  {
   "cell_type": "code",
   "execution_count": 7,
   "id": "171de4c6-f5ee-4977-8008-2a27f96d0460",
   "metadata": {},
   "outputs": [
    {
     "name": "stdout",
     "output_type": "stream",
     "text": [
      "                              author  correlation\n",
      "0                        AUM Capital     0.834745\n",
      "1                        Anand Rathi     0.975618\n",
      "2                      Angel Broking    -1.000000\n",
      "3                        Axis Direct     0.191618\n",
      "4           BOB Capital Markets Ltd.    -0.066707\n",
      "5                            Bonanza     1.000000\n",
      "6                Chola Wealth Direct     0.271378\n",
      "7                      Dolat Capital    -0.343397\n",
      "8                          Edelweiss    -0.167934\n",
      "9                              Emkay     0.036317\n",
      "10                Geojit BNP Paribas    -0.099693\n",
      "11                   HDFC Securities     0.143396\n",
      "12                      ICICI Direct    -0.123333\n",
      "13          ICICI Securities Limited     0.089705\n",
      "14                      IDBI Capital    -0.122017\n",
      "15                      JM Financial    -1.000000\n",
      "16                         KRChoksey     0.321818\n",
      "17                             Karvy     0.016246\n",
      "18              Keynote Capitals Ltd    -0.544101\n",
      "19  Monarch Networth Capital Limited    -0.142114\n",
      "20                     Motilal Oswal     0.061037\n",
      "21                   Phillip Capital     0.091245\n",
      "22               Prabhudas Lilladhar    -0.092070\n",
      "23               Reliance Securities    -0.882229\n",
      "24                          Religare    -0.555513\n",
      "25                         Sharekhan     0.736629\n",
      "26                           Ventura    -0.430056\n",
      "27                        Way2Wealth    -0.768863\n",
      "28                    Yes Securities    -0.023466\n"
     ]
    },
    {
     "name": "stderr",
     "output_type": "stream",
     "text": [
      "C:\\Users\\disch\\AppData\\Local\\Temp\\ipykernel_8444\\1515320299.py:15: DeprecationWarning: DataFrameGroupBy.apply operated on the grouping columns. This behavior is deprecated, and in a future version of pandas the grouping columns will be excluded from the operation. Either pass `include_groups=False` to exclude the groupings or explicitly select the grouping columns after groupby to silence this warning.\n",
      "  .apply(lambda x: pd.Series({'correlation': x['expected_return'].corr(x['actual_return'])}))\n"
     ]
    }
   ],
   "source": [
    "import pandas as pd\n",
    "\n",
    "# Filter out rows with NaN values in 'expected_return' and 'actual_return'\n",
    "filtered_author_df = filtered_df.dropna(subset=['expected_return', 'actual_return'])\n",
    "\n",
    "# Calculate correlations by author, excluding groups with insufficient data\n",
    "author_correlations = (\n",
    "    filtered_author_df.groupby('author', as_index=False)  # Keep author as a column\n",
    "    .filter(lambda x: len(x) > 1)  # Ensure at least two data points\n",
    ")\n",
    "\n",
    "# Now calculate the correlation\n",
    "author_correlations = (\n",
    "    author_correlations.groupby('author', group_keys=False)\n",
    "    .apply(lambda x: pd.Series({'correlation': x['expected_return'].corr(x['actual_return'])}))\n",
    "    .reset_index()\n",
    ")\n",
    "\n",
    "# Display the results\n",
    "print(author_correlations)"
   ]
  },
  {
   "cell_type": "code",
   "execution_count": 8,
   "id": "063e00d9-ebe4-4998-8429-65acde4c756a",
   "metadata": {},
   "outputs": [
    {
     "name": "stdout",
     "output_type": "stream",
     "text": [
      "Correlation by (year, author):\n",
      "     year                    author  correlation\n",
      "0   2015  BOB Capital Markets Ltd.     0.842666\n",
      "1   2015       Chola Wealth Direct     0.086817\n",
      "2   2015           Phillip Capital     0.254804\n",
      "3   2016       Chola Wealth Direct     0.757072\n",
      "4   2016           HDFC Securities     0.538052\n",
      "..   ...                       ...          ...\n",
      "93  2024                 KRChoksey    -0.385458\n",
      "94  2024      Keynote Capitals Ltd     0.288138\n",
      "95  2024             Motilal Oswal    -0.028693\n",
      "96  2024       Prabhudas Lilladhar     0.496572\n",
      "97  2024                 Sharekhan     1.000000\n",
      "\n",
      "[98 rows x 3 columns]\n"
     ]
    },
    {
     "name": "stderr",
     "output_type": "stream",
     "text": [
      "C:\\Users\\disch\\AppData\\Local\\Temp\\ipykernel_8444\\2909189485.py:14: DeprecationWarning: DataFrameGroupBy.apply operated on the grouping columns. This behavior is deprecated, and in a future version of pandas the grouping columns will be excluded from the operation. Either pass `include_groups=False` to exclude the groupings or explicitly select the grouping columns after groupby to silence this warning.\n",
      "  return df_grouped.groupby(group_cols, as_index=False).apply(\n"
     ]
    }
   ],
   "source": [
    "import pandas as pd\n",
    "\n",
    "# Using .loc to avoid SettingWithCopyWarning\n",
    "filtered_df.loc[:, 'expected_return'] = pd.to_numeric(filtered_df['expected_return'], errors='coerce')\n",
    "filtered_df.loc[:, 'actual_return'] = pd.to_numeric(filtered_df['actual_return'], errors='coerce')\n",
    "\n",
    "# Drop rows where either 'expected_return' or 'actual_return' is NaN\n",
    "filtered_df = filtered_df.dropna(subset=['expected_return', 'actual_return'])\n",
    "\n",
    "# Function to calculate correlation with minimum group size check\n",
    "def calculate_correlation(df, group_cols):\n",
    "    # Filter groups with at least two data points to avoid degrees of freedom error\n",
    "    df_grouped = df.groupby(group_cols).filter(lambda x: len(x) > 1)\n",
    "    return df_grouped.groupby(group_cols, as_index=False).apply(\n",
    "        lambda x: pd.Series({'correlation': x['expected_return'].corr(x['actual_return'])})\n",
    "    ).reset_index(drop=True)\n",
    "\n",
    "# (1) Correlation by (year, author)\n",
    "year_author_corr = calculate_correlation(filtered_df, ['year', 'author'])\n",
    "\n",
    "# Display the results\n",
    "print(\"Correlation by (year, author):\\n\", year_author_corr)"
   ]
  },
  {
   "cell_type": "code",
   "execution_count": 12,
   "id": "38597d35-0efd-4e68-9e7d-0f6bdc85fda4",
   "metadata": {},
   "outputs": [
    {
     "name": "stdout",
     "output_type": "stream",
     "text": [
      "\n",
      "Correlation by (year, sector):\n",
      "     year              Sector  correlation\n",
      "0   2015      Consumer Goods     0.406506\n",
      "1   2015          Technology     0.916257\n",
      "2   2016      Consumer Goods     0.366037\n",
      "3   2016          Healthcare     0.621926\n",
      "4   2016       Manufacturing    -0.547948\n",
      "5   2016          Technology     0.575729\n",
      "6   2017      Consumer Goods     0.250595\n",
      "7   2017             Finance     0.040604\n",
      "8   2017          Healthcare     0.244423\n",
      "9   2017       Manufacturing     0.378522\n",
      "10  2017          Technology     0.033824\n",
      "11  2017  Telecommunications    -1.000000\n",
      "12  2018      Consumer Goods    -0.199377\n",
      "13  2018              Energy    -0.682790\n",
      "14  2018             Finance     0.365534\n",
      "15  2018          Healthcare    -0.524752\n",
      "16  2018       Manufacturing    -0.128119\n",
      "17  2018          Technology     0.652988\n",
      "18  2018  Telecommunications    -0.063471\n",
      "19  2019      Consumer Goods     0.019893\n",
      "20  2019             Finance     0.093031\n",
      "21  2019          Healthcare    -1.000000\n",
      "22  2019       Manufacturing     0.025434\n",
      "23  2019          Technology     0.328058\n",
      "24  2019  Telecommunications    -1.000000\n",
      "25  2020      Consumer Goods     0.060915\n",
      "26  2020             Finance    -0.114859\n",
      "27  2020       Manufacturing     0.437166\n",
      "28  2020          Technology    -0.155563\n",
      "29  2021      Consumer Goods    -0.296688\n",
      "30  2021             Finance    -0.306501\n",
      "31  2021          Healthcare    -1.000000\n",
      "32  2021       Manufacturing    -0.096437\n",
      "33  2021          Technology     0.574983\n",
      "34  2022      Consumer Goods    -0.094439\n",
      "35  2022             Finance    -0.302963\n",
      "36  2022          Healthcare     0.171852\n",
      "37  2022       Manufacturing     0.188782\n",
      "38  2022          Technology    -0.074844\n",
      "39  2023      Consumer Goods    -0.286062\n",
      "40  2023             Finance     0.808219\n",
      "41  2023          Healthcare     0.712419\n",
      "42  2023       Manufacturing    -0.105680\n",
      "43  2023          Technology     0.078613\n",
      "44  2024      Consumer Goods    -0.100194\n",
      "45  2024             Finance    -0.318169\n",
      "46  2024          Healthcare    -0.971011\n",
      "47  2024       Manufacturing     0.126121\n",
      "48  2024          Technology    -0.060292\n"
     ]
    },
    {
     "name": "stderr",
     "output_type": "stream",
     "text": [
      "C:\\Users\\disch\\AppData\\Local\\Temp\\ipykernel_8444\\2909189485.py:14: DeprecationWarning: DataFrameGroupBy.apply operated on the grouping columns. This behavior is deprecated, and in a future version of pandas the grouping columns will be excluded from the operation. Either pass `include_groups=False` to exclude the groupings or explicitly select the grouping columns after groupby to silence this warning.\n",
      "  return df_grouped.groupby(group_cols, as_index=False).apply(\n"
     ]
    }
   ],
   "source": [
    "# (2) Correlation by (year, sector)\n",
    "year_sector_corr = calculate_correlation(filtered_df, ['year', 'Sector'])\n",
    "print(\"\\nCorrelation by (year, sector):\\n\", year_sector_corr)"
   ]
  },
  {
   "cell_type": "code",
   "execution_count": 13,
   "id": "da0f0d15-efe3-4652-8af0-61e928d64c14",
   "metadata": {},
   "outputs": [
    {
     "name": "stdout",
     "output_type": "stream",
     "text": [
      "\n",
      "Correlation by (sector, author):\n",
      "                 Sector                            author  correlation\n",
      "0       Consumer Goods                       Anand Rathi     0.999894\n",
      "1       Consumer Goods                       Axis Direct    -1.000000\n",
      "2       Consumer Goods          BOB Capital Markets Ltd.    -0.251559\n",
      "3       Consumer Goods               Chola Wealth Direct     0.271378\n",
      "4       Consumer Goods                     Dolat Capital    -0.119958\n",
      "5       Consumer Goods                         Edelweiss    -0.712385\n",
      "6       Consumer Goods                             Emkay    -0.896341\n",
      "7       Consumer Goods                Geojit BNP Paribas    -0.311422\n",
      "8       Consumer Goods                   HDFC Securities     0.184101\n",
      "9       Consumer Goods                      ICICI Direct     0.290493\n",
      "10      Consumer Goods          ICICI Securities Limited    -0.035375\n",
      "11      Consumer Goods                      JM Financial    -1.000000\n",
      "12      Consumer Goods                             Karvy     0.241023\n",
      "13      Consumer Goods              Keynote Capitals Ltd    -0.544101\n",
      "14      Consumer Goods                     Motilal Oswal     0.356092\n",
      "15      Consumer Goods                   Phillip Capital     0.907386\n",
      "16      Consumer Goods               Prabhudas Lilladhar    -0.013349\n",
      "17      Consumer Goods               Reliance Securities    -0.882229\n",
      "18      Consumer Goods                        Way2Wealth     1.000000\n",
      "19      Consumer Goods                    Yes Securities     1.000000\n",
      "20              Energy                             Karvy    -0.747201\n",
      "21             Finance                       Axis Direct     0.590825\n",
      "22             Finance          BOB Capital Markets Ltd.    -0.374336\n",
      "23             Finance                             Emkay     0.095491\n",
      "24             Finance                Geojit BNP Paribas    -1.000000\n",
      "25             Finance                   HDFC Securities    -0.121807\n",
      "26             Finance                      ICICI Direct     0.115809\n",
      "27             Finance          ICICI Securities Limited     0.290401\n",
      "28             Finance                      IDBI Capital     0.088561\n",
      "29             Finance                     Motilal Oswal    -0.142647\n",
      "30             Finance               Prabhudas Lilladhar    -0.567750\n",
      "31             Finance                         Sharekhan     0.934872\n",
      "32             Finance                           Ventura    -1.000000\n",
      "33          Healthcare                         Edelweiss     0.796896\n",
      "34          Healthcare          ICICI Securities Limited     0.135404\n",
      "35          Healthcare  Monarch Networth Capital Limited    -0.187408\n",
      "36       Manufacturing                       AUM Capital     0.834745\n",
      "37       Manufacturing                     Angel Broking    -1.000000\n",
      "38       Manufacturing          BOB Capital Markets Ltd.     1.000000\n",
      "39       Manufacturing                         Edelweiss    -0.952655\n",
      "40       Manufacturing                   HDFC Securities     0.569626\n",
      "41       Manufacturing                      ICICI Direct    -0.634860\n",
      "42       Manufacturing          ICICI Securities Limited     0.327415\n",
      "43       Manufacturing                      IDBI Capital    -0.210754\n",
      "44       Manufacturing                             Karvy    -0.079563\n",
      "45       Manufacturing                     Motilal Oswal     0.043945\n",
      "46       Manufacturing               Prabhudas Lilladhar     0.024838\n",
      "47       Manufacturing                          Religare    -0.555513\n",
      "48          Technology                       Axis Direct     0.148040\n",
      "49          Technology          BOB Capital Markets Ltd.     1.000000\n",
      "50          Technology                     Dolat Capital    -1.000000\n",
      "51          Technology                         Edelweiss     0.083471\n",
      "52          Technology                             Emkay     0.494612\n",
      "53          Technology                   HDFC Securities     0.449999\n",
      "54          Technology          ICICI Securities Limited     0.011006\n",
      "55          Technology                         KRChoksey     0.321818\n",
      "56          Technology                   Phillip Capital     0.711895\n",
      "57          Technology               Prabhudas Lilladhar    -0.038376\n",
      "58  Telecommunications                             Karvy     0.261588\n"
     ]
    },
    {
     "name": "stderr",
     "output_type": "stream",
     "text": [
      "C:\\Users\\disch\\AppData\\Local\\Temp\\ipykernel_8444\\2909189485.py:14: DeprecationWarning: DataFrameGroupBy.apply operated on the grouping columns. This behavior is deprecated, and in a future version of pandas the grouping columns will be excluded from the operation. Either pass `include_groups=False` to exclude the groupings or explicitly select the grouping columns after groupby to silence this warning.\n",
      "  return df_grouped.groupby(group_cols, as_index=False).apply(\n"
     ]
    }
   ],
   "source": [
    "# (3) Correlation by (sector, author)\n",
    "sector_author_corr = calculate_correlation(filtered_df, ['Sector', 'author'])\n",
    "print(\"\\nCorrelation by (sector, author):\\n\", sector_author_corr)"
   ]
  },
  {
   "cell_type": "code",
   "execution_count": null,
   "id": "c2e224d8-e3a5-42a7-990f-9ea590070517",
   "metadata": {},
   "outputs": [],
   "source": [
    "print(\"\\nCorrelation by (sector, author):\\n\", sector_author_corr)"
   ]
  }
 ],
 "metadata": {
  "kernelspec": {
   "display_name": "Python 3 (ipykernel)",
   "language": "python",
   "name": "python3"
  },
  "language_info": {
   "codemirror_mode": {
    "name": "ipython",
    "version": 3
   },
   "file_extension": ".py",
   "mimetype": "text/x-python",
   "name": "python",
   "nbconvert_exporter": "python",
   "pygments_lexer": "ipython3",
   "version": "3.11.5"
  }
 },
 "nbformat": 4,
 "nbformat_minor": 5
}
