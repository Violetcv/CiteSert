{
 "cells": [
  {
   "cell_type": "markdown",
   "id": "0ec826f1-50a0-43c5-ace6-b0c186350fe5",
   "metadata": {},
   "source": [
    "# Import librarires"
   ]
  },
  {
   "cell_type": "code",
   "execution_count": 1,
   "id": "5010c1a9-3c75-45d6-9f22-cad368c5876a",
   "metadata": {},
   "outputs": [],
   "source": [
    "import pandas as pd\n",
    "import numpy as np\n",
    "import re"
   ]
  },
  {
   "cell_type": "markdown",
   "id": "b7ca3d32-a88f-4bac-a08e-d7d55eeffc7b",
   "metadata": {},
   "source": [
    "# Load Data"
   ]
  },
  {
   "cell_type": "code",
   "execution_count": 2,
   "id": "b454d15e-9f4e-47d0-adbe-d9ec0f5e95bc",
   "metadata": {},
   "outputs": [
    {
     "data": {
      "text/html": [
       "<div>\n",
       "<style scoped>\n",
       "    .dataframe tbody tr th:only-of-type {\n",
       "        vertical-align: middle;\n",
       "    }\n",
       "\n",
       "    .dataframe tbody tr th {\n",
       "        vertical-align: top;\n",
       "    }\n",
       "\n",
       "    .dataframe thead th {\n",
       "        text-align: right;\n",
       "    }\n",
       "</style>\n",
       "<table border=\"1\" class=\"dataframe\">\n",
       "  <thead>\n",
       "    <tr style=\"text-align: right;\">\n",
       "      <th></th>\n",
       "      <th>Date</th>\n",
       "      <th>Open</th>\n",
       "      <th>High</th>\n",
       "      <th>Low</th>\n",
       "      <th>Close</th>\n",
       "      <th>Adj Close</th>\n",
       "      <th>Volume</th>\n",
       "      <th>Description</th>\n",
       "      <th>Symbol</th>\n",
       "      <th>Company Name</th>\n",
       "      <th>Market capitalization as on March 28, 2024\\n(In lakhs)</th>\n",
       "    </tr>\n",
       "  </thead>\n",
       "  <tbody>\n",
       "    <tr>\n",
       "      <th>0</th>\n",
       "      <td>2024-07-30</td>\n",
       "      <td>3034.05</td>\n",
       "      <td>3050.00</td>\n",
       "      <td>3020.00</td>\n",
       "      <td>3026.30</td>\n",
       "      <td>3026.30</td>\n",
       "      <td>4110291.0</td>\n",
       "      <td>Reliance Industries Limited engages in hydroca...</td>\n",
       "      <td>RELIANCE</td>\n",
       "      <td>Reliance Industries Limited</td>\n",
       "      <td>2.010560e+08</td>\n",
       "    </tr>\n",
       "    <tr>\n",
       "      <th>1</th>\n",
       "      <td>2024-07-29</td>\n",
       "      <td>3023.90</td>\n",
       "      <td>3055.00</td>\n",
       "      <td>3023.55</td>\n",
       "      <td>3040.20</td>\n",
       "      <td>3040.20</td>\n",
       "      <td>3769275.0</td>\n",
       "      <td>Reliance Industries Limited engages in hydroca...</td>\n",
       "      <td>RELIANCE</td>\n",
       "      <td>Reliance Industries Limited</td>\n",
       "      <td>2.010560e+08</td>\n",
       "    </tr>\n",
       "    <tr>\n",
       "      <th>2</th>\n",
       "      <td>2024-07-26</td>\n",
       "      <td>2984.80</td>\n",
       "      <td>3024.85</td>\n",
       "      <td>2980.70</td>\n",
       "      <td>3018.05</td>\n",
       "      <td>3018.05</td>\n",
       "      <td>4929970.0</td>\n",
       "      <td>Reliance Industries Limited engages in hydroca...</td>\n",
       "      <td>RELIANCE</td>\n",
       "      <td>Reliance Industries Limited</td>\n",
       "      <td>2.010560e+08</td>\n",
       "    </tr>\n",
       "    <tr>\n",
       "      <th>3</th>\n",
       "      <td>2024-07-25</td>\n",
       "      <td>2962.00</td>\n",
       "      <td>3000.95</td>\n",
       "      <td>2954.15</td>\n",
       "      <td>2984.80</td>\n",
       "      <td>2984.80</td>\n",
       "      <td>6259938.0</td>\n",
       "      <td>Reliance Industries Limited engages in hydroca...</td>\n",
       "      <td>RELIANCE</td>\n",
       "      <td>Reliance Industries Limited</td>\n",
       "      <td>2.010560e+08</td>\n",
       "    </tr>\n",
       "    <tr>\n",
       "      <th>4</th>\n",
       "      <td>2024-07-24</td>\n",
       "      <td>2970.00</td>\n",
       "      <td>3019.00</td>\n",
       "      <td>2952.80</td>\n",
       "      <td>2991.40</td>\n",
       "      <td>2991.40</td>\n",
       "      <td>5956681.0</td>\n",
       "      <td>Reliance Industries Limited engages in hydroca...</td>\n",
       "      <td>RELIANCE</td>\n",
       "      <td>Reliance Industries Limited</td>\n",
       "      <td>2.010560e+08</td>\n",
       "    </tr>\n",
       "  </tbody>\n",
       "</table>\n",
       "</div>"
      ],
      "text/plain": [
       "        Date     Open     High      Low    Close  Adj Close     Volume  \\\n",
       "0 2024-07-30  3034.05  3050.00  3020.00  3026.30    3026.30  4110291.0   \n",
       "1 2024-07-29  3023.90  3055.00  3023.55  3040.20    3040.20  3769275.0   \n",
       "2 2024-07-26  2984.80  3024.85  2980.70  3018.05    3018.05  4929970.0   \n",
       "3 2024-07-25  2962.00  3000.95  2954.15  2984.80    2984.80  6259938.0   \n",
       "4 2024-07-24  2970.00  3019.00  2952.80  2991.40    2991.40  5956681.0   \n",
       "\n",
       "                                         Description    Symbol  \\\n",
       "0  Reliance Industries Limited engages in hydroca...  RELIANCE   \n",
       "1  Reliance Industries Limited engages in hydroca...  RELIANCE   \n",
       "2  Reliance Industries Limited engages in hydroca...  RELIANCE   \n",
       "3  Reliance Industries Limited engages in hydroca...  RELIANCE   \n",
       "4  Reliance Industries Limited engages in hydroca...  RELIANCE   \n",
       "\n",
       "                  Company Name  \\\n",
       "0  Reliance Industries Limited   \n",
       "1  Reliance Industries Limited   \n",
       "2  Reliance Industries Limited   \n",
       "3  Reliance Industries Limited   \n",
       "4  Reliance Industries Limited   \n",
       "\n",
       "   Market capitalization as on March 28, 2024\\n(In lakhs)  \n",
       "0                                       2.010560e+08       \n",
       "1                                       2.010560e+08       \n",
       "2                                       2.010560e+08       \n",
       "3                                       2.010560e+08       \n",
       "4                                       2.010560e+08       "
      ]
     },
     "execution_count": 2,
     "metadata": {},
     "output_type": "execute_result"
    }
   ],
   "source": [
    "stock_df = pd.read_csv('data/adjusted_stock_data.csv')\n",
    "stock_df['Date'] = pd.to_datetime(stock_df['Date'])\n",
    "stock_df.head()"
   ]
  },
  {
   "cell_type": "code",
   "execution_count": 3,
   "id": "e3e2df54-83f0-4098-8536-4bd8e18bf366",
   "metadata": {},
   "outputs": [
    {
     "data": {
      "text/html": [
       "<div>\n",
       "<style scoped>\n",
       "    .dataframe tbody tr th:only-of-type {\n",
       "        vertical-align: middle;\n",
       "    }\n",
       "\n",
       "    .dataframe tbody tr th {\n",
       "        vertical-align: top;\n",
       "    }\n",
       "\n",
       "    .dataframe thead th {\n",
       "        text-align: right;\n",
       "    }\n",
       "</style>\n",
       "<table border=\"1\" class=\"dataframe\">\n",
       "  <thead>\n",
       "    <tr style=\"text-align: right;\">\n",
       "      <th></th>\n",
       "      <th>Date</th>\n",
       "      <th>Open</th>\n",
       "      <th>High</th>\n",
       "      <th>Low</th>\n",
       "      <th>Close</th>\n",
       "      <th>Adj Close</th>\n",
       "      <th>Volume</th>\n",
       "      <th>Company Name_x</th>\n",
       "      <th>Ticker</th>\n",
       "      <th>Company Name_y</th>\n",
       "      <th>Description</th>\n",
       "      <th>Symbol</th>\n",
       "      <th>Company Name</th>\n",
       "      <th>Market capitalization as on March 28, 2024\\n(In lakhs)</th>\n",
       "    </tr>\n",
       "  </thead>\n",
       "  <tbody>\n",
       "    <tr>\n",
       "      <th>0</th>\n",
       "      <td>2023-08-21</td>\n",
       "      <td>9.00Dividend</td>\n",
       "      <td>NaN</td>\n",
       "      <td>NaN</td>\n",
       "      <td>NaN</td>\n",
       "      <td>NaN</td>\n",
       "      <td>NaN</td>\n",
       "      <td>Reliance Industries Limited</td>\n",
       "      <td>RELIANCE</td>\n",
       "      <td>Reliance Industries Limited</td>\n",
       "      <td>Reliance Industries Limited engages in hydroca...</td>\n",
       "      <td>RELIANCE</td>\n",
       "      <td>Reliance Industries Limited</td>\n",
       "      <td>2.010560e+08</td>\n",
       "    </tr>\n",
       "    <tr>\n",
       "      <th>1</th>\n",
       "      <td>2022-08-18</td>\n",
       "      <td>8.00Dividend</td>\n",
       "      <td>NaN</td>\n",
       "      <td>NaN</td>\n",
       "      <td>NaN</td>\n",
       "      <td>NaN</td>\n",
       "      <td>NaN</td>\n",
       "      <td>Reliance Industries Limited</td>\n",
       "      <td>RELIANCE</td>\n",
       "      <td>Reliance Industries Limited</td>\n",
       "      <td>Reliance Industries Limited engages in hydroca...</td>\n",
       "      <td>RELIANCE</td>\n",
       "      <td>Reliance Industries Limited</td>\n",
       "      <td>2.010560e+08</td>\n",
       "    </tr>\n",
       "    <tr>\n",
       "      <th>2</th>\n",
       "      <td>2021-06-11</td>\n",
       "      <td>7.00Dividend</td>\n",
       "      <td>NaN</td>\n",
       "      <td>NaN</td>\n",
       "      <td>NaN</td>\n",
       "      <td>NaN</td>\n",
       "      <td>NaN</td>\n",
       "      <td>Reliance Industries Limited</td>\n",
       "      <td>RELIANCE</td>\n",
       "      <td>Reliance Industries Limited</td>\n",
       "      <td>Reliance Industries Limited engages in hydroca...</td>\n",
       "      <td>RELIANCE</td>\n",
       "      <td>Reliance Industries Limited</td>\n",
       "      <td>2.010560e+08</td>\n",
       "    </tr>\n",
       "    <tr>\n",
       "      <th>3</th>\n",
       "      <td>2020-07-02</td>\n",
       "      <td>6.50Dividend</td>\n",
       "      <td>NaN</td>\n",
       "      <td>NaN</td>\n",
       "      <td>NaN</td>\n",
       "      <td>NaN</td>\n",
       "      <td>NaN</td>\n",
       "      <td>Reliance Industries Limited</td>\n",
       "      <td>RELIANCE</td>\n",
       "      <td>Reliance Industries Limited</td>\n",
       "      <td>Reliance Industries Limited engages in hydroca...</td>\n",
       "      <td>RELIANCE</td>\n",
       "      <td>Reliance Industries Limited</td>\n",
       "      <td>2.010560e+08</td>\n",
       "    </tr>\n",
       "    <tr>\n",
       "      <th>4</th>\n",
       "      <td>2019-08-02</td>\n",
       "      <td>6.44Dividend</td>\n",
       "      <td>NaN</td>\n",
       "      <td>NaN</td>\n",
       "      <td>NaN</td>\n",
       "      <td>NaN</td>\n",
       "      <td>NaN</td>\n",
       "      <td>Reliance Industries Limited</td>\n",
       "      <td>RELIANCE</td>\n",
       "      <td>Reliance Industries Limited</td>\n",
       "      <td>Reliance Industries Limited engages in hydroca...</td>\n",
       "      <td>RELIANCE</td>\n",
       "      <td>Reliance Industries Limited</td>\n",
       "      <td>2.010560e+08</td>\n",
       "    </tr>\n",
       "  </tbody>\n",
       "</table>\n",
       "</div>"
      ],
      "text/plain": [
       "        Date          Open  High  Low  Close  Adj Close  Volume  \\\n",
       "0 2023-08-21  9.00Dividend   NaN  NaN    NaN        NaN     NaN   \n",
       "1 2022-08-18  8.00Dividend   NaN  NaN    NaN        NaN     NaN   \n",
       "2 2021-06-11  7.00Dividend   NaN  NaN    NaN        NaN     NaN   \n",
       "3 2020-07-02  6.50Dividend   NaN  NaN    NaN        NaN     NaN   \n",
       "4 2019-08-02  6.44Dividend   NaN  NaN    NaN        NaN     NaN   \n",
       "\n",
       "                Company Name_x    Ticker               Company Name_y  \\\n",
       "0  Reliance Industries Limited  RELIANCE  Reliance Industries Limited   \n",
       "1  Reliance Industries Limited  RELIANCE  Reliance Industries Limited   \n",
       "2  Reliance Industries Limited  RELIANCE  Reliance Industries Limited   \n",
       "3  Reliance Industries Limited  RELIANCE  Reliance Industries Limited   \n",
       "4  Reliance Industries Limited  RELIANCE  Reliance Industries Limited   \n",
       "\n",
       "                                         Description    Symbol  \\\n",
       "0  Reliance Industries Limited engages in hydroca...  RELIANCE   \n",
       "1  Reliance Industries Limited engages in hydroca...  RELIANCE   \n",
       "2  Reliance Industries Limited engages in hydroca...  RELIANCE   \n",
       "3  Reliance Industries Limited engages in hydroca...  RELIANCE   \n",
       "4  Reliance Industries Limited engages in hydroca...  RELIANCE   \n",
       "\n",
       "                  Company Name  \\\n",
       "0  Reliance Industries Limited   \n",
       "1  Reliance Industries Limited   \n",
       "2  Reliance Industries Limited   \n",
       "3  Reliance Industries Limited   \n",
       "4  Reliance Industries Limited   \n",
       "\n",
       "   Market capitalization as on March 28, 2024\\n(In lakhs)  \n",
       "0                                       2.010560e+08       \n",
       "1                                       2.010560e+08       \n",
       "2                                       2.010560e+08       \n",
       "3                                       2.010560e+08       \n",
       "4                                       2.010560e+08       "
      ]
     },
     "execution_count": 3,
     "metadata": {},
     "output_type": "execute_result"
    }
   ],
   "source": [
    "dividend_rows =  pd.read_csv('data/dividend_rows.csv')\n",
    "dividend_rows['Date'] = pd.to_datetime(dividend_rows['Date'])\n",
    "dividend_rows.head()"
   ]
  },
  {
   "cell_type": "code",
   "execution_count": 4,
   "id": "c090dacb-bea9-4a62-9906-1ef610c4d295",
   "metadata": {},
   "outputs": [
    {
     "name": "stderr",
     "output_type": "stream",
     "text": [
      "C:\\Users\\disch\\AppData\\Local\\Temp\\ipykernel_2452\\435423600.py:2: UserWarning: Could not infer format, so each element will be parsed individually, falling back to `dateutil`. To ensure parsing is consistent and as-expected, please specify a format.\n",
      "  analyst_ratings['date'] = pd.to_datetime(analyst_ratings['date'])\n"
     ]
    },
    {
     "data": {
      "text/html": [
       "<div>\n",
       "<style scoped>\n",
       "    .dataframe tbody tr th:only-of-type {\n",
       "        vertical-align: middle;\n",
       "    }\n",
       "\n",
       "    .dataframe tbody tr th {\n",
       "        vertical-align: top;\n",
       "    }\n",
       "\n",
       "    .dataframe thead th {\n",
       "        text-align: right;\n",
       "    }\n",
       "</style>\n",
       "<table border=\"1\" class=\"dataframe\">\n",
       "  <thead>\n",
       "    <tr style=\"text-align: right;\">\n",
       "      <th></th>\n",
       "      <th>Unnamed: 0</th>\n",
       "      <th>date</th>\n",
       "      <th>stock_name</th>\n",
       "      <th>author</th>\n",
       "      <th>ltp</th>\n",
       "      <th>target</th>\n",
       "      <th>price_at_reco</th>\n",
       "      <th>upside%</th>\n",
       "      <th>type</th>\n",
       "      <th>pdf_url</th>\n",
       "    </tr>\n",
       "  </thead>\n",
       "  <tbody>\n",
       "    <tr>\n",
       "      <th>0</th>\n",
       "      <td>0</td>\n",
       "      <td>2024-09-14</td>\n",
       "      <td>angel-one-ltd</td>\n",
       "      <td>Consensus Share Price Target</td>\n",
       "      <td>2451.75</td>\n",
       "      <td>2715.0</td>\n",
       "      <td>-</td>\n",
       "      <td>10.74</td>\n",
       "      <td>Consensus Recommendation</td>\n",
       "      <td>NaN</td>\n",
       "    </tr>\n",
       "    <tr>\n",
       "      <th>1</th>\n",
       "      <td>1</td>\n",
       "      <td>2024-07-18</td>\n",
       "      <td>angel-one-ltd</td>\n",
       "      <td>Keynote Capitals Ltd\\nTarget</td>\n",
       "      <td>2451.75</td>\n",
       "      <td>2351.0</td>\n",
       "      <td>2158.80\\n(13.57%)</td>\n",
       "      <td>Target met</td>\n",
       "      <td>Neutral</td>\n",
       "      <td>https://trendlyne.com/get-document/report/pdf/...</td>\n",
       "    </tr>\n",
       "    <tr>\n",
       "      <th>2</th>\n",
       "      <td>2</td>\n",
       "      <td>2024-04-19</td>\n",
       "      <td>angel-one-ltd</td>\n",
       "      <td>Keynote Capitals Ltd\\nReco   Target</td>\n",
       "      <td>2451.75</td>\n",
       "      <td>2795.0</td>\n",
       "      <td>2688.10\\n(-8.79%)</td>\n",
       "      <td>Target met</td>\n",
       "      <td>Neutral</td>\n",
       "      <td>https://trendlyne.com/get-document/report/pdf/...</td>\n",
       "    </tr>\n",
       "    <tr>\n",
       "      <th>3</th>\n",
       "      <td>3</td>\n",
       "      <td>2024-04-19</td>\n",
       "      <td>angel-one-ltd</td>\n",
       "      <td>ICICI Securities Limited\\nReco   Target</td>\n",
       "      <td>2451.75</td>\n",
       "      <td>3469.0</td>\n",
       "      <td>2688.10\\n(-8.79%)</td>\n",
       "      <td>41.49</td>\n",
       "      <td>Buy</td>\n",
       "      <td>https://trendlyne.com/get-document/report/pdf/...</td>\n",
       "    </tr>\n",
       "    <tr>\n",
       "      <th>4</th>\n",
       "      <td>4</td>\n",
       "      <td>2024-04-18</td>\n",
       "      <td>angel-one-ltd</td>\n",
       "      <td>Motilal Oswal\\nTarget</td>\n",
       "      <td>2451.75</td>\n",
       "      <td>4200.0</td>\n",
       "      <td>2792.80\\n(-12.21%)</td>\n",
       "      <td>71.31</td>\n",
       "      <td>Buy</td>\n",
       "      <td>https://trendlyne.com/get-document/report/pdf/...</td>\n",
       "    </tr>\n",
       "  </tbody>\n",
       "</table>\n",
       "</div>"
      ],
      "text/plain": [
       "   Unnamed: 0       date     stock_name  \\\n",
       "0           0 2024-09-14  angel-one-ltd   \n",
       "1           1 2024-07-18  angel-one-ltd   \n",
       "2           2 2024-04-19  angel-one-ltd   \n",
       "3           3 2024-04-19  angel-one-ltd   \n",
       "4           4 2024-04-18  angel-one-ltd   \n",
       "\n",
       "                                    author      ltp  target  \\\n",
       "0             Consensus Share Price Target  2451.75  2715.0   \n",
       "1             Keynote Capitals Ltd\\nTarget  2451.75  2351.0   \n",
       "2      Keynote Capitals Ltd\\nReco   Target  2451.75  2795.0   \n",
       "3  ICICI Securities Limited\\nReco   Target  2451.75  3469.0   \n",
       "4                    Motilal Oswal\\nTarget  2451.75  4200.0   \n",
       "\n",
       "        price_at_reco     upside%                      type  \\\n",
       "0                   -       10.74  Consensus Recommendation   \n",
       "1   2158.80\\n(13.57%)  Target met                   Neutral   \n",
       "2   2688.10\\n(-8.79%)  Target met                   Neutral   \n",
       "3   2688.10\\n(-8.79%)       41.49                       Buy   \n",
       "4  2792.80\\n(-12.21%)       71.31                       Buy   \n",
       "\n",
       "                                             pdf_url  \n",
       "0                                                NaN  \n",
       "1  https://trendlyne.com/get-document/report/pdf/...  \n",
       "2  https://trendlyne.com/get-document/report/pdf/...  \n",
       "3  https://trendlyne.com/get-document/report/pdf/...  \n",
       "4  https://trendlyne.com/get-document/report/pdf/...  "
      ]
     },
     "execution_count": 4,
     "metadata": {},
     "output_type": "execute_result"
    }
   ],
   "source": [
    "analyst_ratings =  pd.read_csv('data/2000_analysts.csv')\n",
    "analyst_ratings['date'] = pd.to_datetime(analyst_ratings['date'])\n",
    "analyst_ratings.head()"
   ]
  },
  {
   "cell_type": "markdown",
   "id": "7d79eddf-12fe-4c72-b7fc-f3502ae86aa9",
   "metadata": {},
   "source": [
    "# Data Exploration"
   ]
  },
  {
   "cell_type": "code",
   "execution_count": 5,
   "id": "774d761d-6152-4ff7-8508-cd742a1386f8",
   "metadata": {},
   "outputs": [
    {
     "data": {
      "text/plain": [
       "Index(['Date', 'Open', 'High', 'Low', 'Close', 'Adj Close', 'Volume',\n",
       "       'Description', 'Symbol', 'Company Name',\n",
       "       'Market capitalization as on March 28, 2024\\n(In lakhs)'],\n",
       "      dtype='object')"
      ]
     },
     "execution_count": 5,
     "metadata": {},
     "output_type": "execute_result"
    }
   ],
   "source": [
    "stock_df.columns"
   ]
  },
  {
   "cell_type": "code",
   "execution_count": 6,
   "id": "23f6da1f-1ba1-496b-9e82-cd4c0ff465a4",
   "metadata": {},
   "outputs": [
    {
     "data": {
      "text/plain": [
       "Date                                                           0\n",
       "Open                                                           0\n",
       "High                                                           0\n",
       "Low                                                            0\n",
       "Close                                                          0\n",
       "Adj Close                                                      0\n",
       "Volume                                                    292717\n",
       "Description                                                    0\n",
       "Symbol                                                         0\n",
       "Company Name                                                   0\n",
       "Market capitalization as on March 28, 2024\\n(In lakhs)    103692\n",
       "dtype: int64"
      ]
     },
     "execution_count": 6,
     "metadata": {},
     "output_type": "execute_result"
    }
   ],
   "source": [
    "stock_df.isna().sum()"
   ]
  },
  {
   "cell_type": "code",
   "execution_count": 7,
   "id": "3c7e6a6d-187c-48db-a67b-c2e359e6055a",
   "metadata": {},
   "outputs": [
    {
     "data": {
      "text/plain": [
       "Index(['Date', 'Open', 'High', 'Low', 'Close', 'Adj Close', 'Volume',\n",
       "       'Company Name_x', 'Ticker', 'Company Name_y', 'Description', 'Symbol',\n",
       "       'Company Name',\n",
       "       'Market capitalization as on March 28, 2024\\n(In lakhs)'],\n",
       "      dtype='object')"
      ]
     },
     "execution_count": 7,
     "metadata": {},
     "output_type": "execute_result"
    }
   ],
   "source": [
    "dividend_rows.columns"
   ]
  },
  {
   "cell_type": "code",
   "execution_count": 8,
   "id": "c22c67aa-6cdf-413a-902d-d29e2a79b2a1",
   "metadata": {},
   "outputs": [
    {
     "data": {
      "text/plain": [
       "Date                                                          0\n",
       "Open                                                          0\n",
       "High                                                      21651\n",
       "Low                                                       21651\n",
       "Close                                                     21651\n",
       "Adj Close                                                 21651\n",
       "Volume                                                    21651\n",
       "Company Name_x                                                0\n",
       "Ticker                                                        0\n",
       "Company Name_y                                                0\n",
       "Description                                                   0\n",
       "Symbol                                                        0\n",
       "Company Name                                                  0\n",
       "Market capitalization as on March 28, 2024\\n(In lakhs)       79\n",
       "dtype: int64"
      ]
     },
     "execution_count": 8,
     "metadata": {},
     "output_type": "execute_result"
    }
   ],
   "source": [
    "dividend_rows.isna().sum()"
   ]
  },
  {
   "cell_type": "code",
   "execution_count": 9,
   "id": "bfa148bc-f818-470c-80a4-2c014c58e1cb",
   "metadata": {},
   "outputs": [
    {
     "data": {
      "text/plain": [
       "array(['RELIANCE', 'TCS', 'HDFCBANK', ..., 'VISASTEEL', 'GICHSGFIN',\n",
       "       'ALLSEC'], dtype=object)"
      ]
     },
     "execution_count": 9,
     "metadata": {},
     "output_type": "execute_result"
    }
   ],
   "source": [
    "unique_tickers = dividend_rows['Ticker'].unique() \n",
    "unique_tickers"
   ]
  },
  {
   "cell_type": "code",
   "execution_count": 10,
   "id": "3e9513c9-4898-4394-9bf1-6efc5bbc3ce5",
   "metadata": {},
   "outputs": [
    {
     "name": "stdout",
     "output_type": "stream",
     "text": [
      "Number of common symbols: 1536\n"
     ]
    }
   ],
   "source": [
    "# Check if the symbols and dates match between datasets - company tickers\n",
    "common_symbols = set(stock_df['Symbol']).intersection(set(dividend_rows['Symbol']))\n",
    "print(f\"Number of common symbols: {len(common_symbols)}\")"
   ]
  },
  {
   "cell_type": "code",
   "execution_count": 11,
   "id": "5d797597-04d4-424d-9375-cba8fbfcfd47",
   "metadata": {},
   "outputs": [
    {
     "data": {
      "text/plain": [
       "Index(['Unnamed: 0', 'date', 'stock_name', 'author', 'ltp', 'target',\n",
       "       'price_at_reco', 'upside%', 'type', 'pdf_url'],\n",
       "      dtype='object')"
      ]
     },
     "execution_count": 11,
     "metadata": {},
     "output_type": "execute_result"
    }
   ],
   "source": [
    "analyst_ratings.columns"
   ]
  },
  {
   "cell_type": "code",
   "execution_count": 12,
   "id": "fc61ae1f-e080-4d7a-a7bc-6649afe9263d",
   "metadata": {},
   "outputs": [
    {
     "data": {
      "text/plain": [
       "Unnamed: 0           0\n",
       "date                 0\n",
       "stock_name           0\n",
       "author               0\n",
       "ltp                  0\n",
       "target            5454\n",
       "price_at_reco     1445\n",
       "upside%          13945\n",
       "type               825\n",
       "pdf_url           1921\n",
       "dtype: int64"
      ]
     },
     "execution_count": 12,
     "metadata": {},
     "output_type": "execute_result"
    }
   ],
   "source": [
    "analyst_ratings.isna().sum()"
   ]
  },
  {
   "cell_type": "markdown",
   "id": "5919744f-c5a0-428c-a7f6-80d5246b14d2",
   "metadata": {},
   "source": [
    "# Data Preprocessing"
   ]
  },
  {
   "cell_type": "code",
   "execution_count": 13,
   "id": "085c784f-513a-4214-ab88-2ebe81d31f47",
   "metadata": {},
   "outputs": [
    {
     "name": "stdout",
     "output_type": "stream",
     "text": [
      "['Consensus Share Price Target' 'Keynote Capitals Ltd'\n",
      " 'ICICI Securities Limited' 'Motilal Oswal' 'Hem Securities'\n",
      " 'Ashika Research' 'HDFC Securities' 'Karvy' 'Reliance Securities'\n",
      " 'Axis Direct' 'Prabhudas Lilladhar' 'ICICI Direct'\n",
      " 'BOB Capital Markets Ltd.' 'Sharekhan' 'SMC online' 'Emkay'\n",
      " 'Geojit BNP Paribas' 'BP Wealth' 'Ventura' 'IDBI Capital' 'Dolat Capital'\n",
      " 'East India Securities Ltd' 'JM Financial' 'Religare' 'Angel Broking'\n",
      " 'LKP Securities' 'Edelweiss' 'Anand Rathi' 'Centrum Broking'\n",
      " 'Kotak Securities' 'Phillip Capital' 'AUM Capital'\n",
      " 'Monarch Networth Capital Limited' 'Joindre Capital Services' 'KRChoksey'\n",
      " 'SBI Securities' 'Mehta Equities' 'CD Equisearch' 'GEPL Capital'\n",
      " 'Axis Capital' 'Jainam Broking Limited' 'Marwadi Financial Services'\n",
      " 'Asit C Mehta Investment Interrmediates' 'Canara Bank Securities'\n",
      " 'Hensex Securities' 'Rudra Shares and Stock Brokers Ltd'\n",
      " 'Chola Wealth Direct' 'Choice India' 'Dynamic Levels' 'KamayaKya Wealth'\n",
      " 'Arihant Capital' 'Systematix Group' 'Keynotes Financial Opiniery'\n",
      " 'Aditya Birla Money Limited' 'Yes Securities' 'Bonanza' 'Way2Wealth'\n",
      " 'SPA Research' 'Trendlyne Analysis' 'FundsIndia' 'Ajcon Global'\n",
      " 'Investment Imperative' 'Asit C Mehta Investment Intermediates'\n",
      " 'WealthyVia' 'InCred Equities' 'StoxBox - BP Wealth'\n",
      " 'Khambatta Securities' 'DAM Capital' 'IIFL Holdings' 'Equirus Wealth'\n",
      " 'Sushil Finance' 'Share India' 'Swastika' 'IIFL Securities'\n",
      " 'Eureka Stock & Share Broking Services' 'Haitong' 'Stoxbox - BP Wealth'\n",
      " 'SPA Securities']\n"
     ]
    }
   ],
   "source": [
    "# Define a function to clean author names\n",
    "def clean_author_name(author):\n",
    "    # Remove any newline characters and unwanted suffixes\n",
    "    return re.sub(r'\\n.*', '', author).strip()\n",
    "\n",
    "# Apply the cleaning function to the 'author' column using .loc\n",
    "analyst_ratings.loc[:, 'author'] = analyst_ratings['author'].apply(clean_author_name)\n",
    "\n",
    "# Display the cleaned unique author names\n",
    "print(analyst_ratings['author'].unique())"
   ]
  },
  {
   "cell_type": "code",
   "execution_count": 14,
   "id": "2b999203-552f-4f5d-a171-b7ed8eb4eac2",
   "metadata": {},
   "outputs": [],
   "source": [
    "stock_df = stock_df.drop(['Volume', 'Market capitalization as on March 28, 2024\\n(In lakhs)'], axis=1)"
   ]
  },
  {
   "cell_type": "code",
   "execution_count": 15,
   "id": "f07d46b6-7558-48ea-96f9-061fdc63548f",
   "metadata": {},
   "outputs": [
    {
     "data": {
      "text/html": [
       "<div>\n",
       "<style scoped>\n",
       "    .dataframe tbody tr th:only-of-type {\n",
       "        vertical-align: middle;\n",
       "    }\n",
       "\n",
       "    .dataframe tbody tr th {\n",
       "        vertical-align: top;\n",
       "    }\n",
       "\n",
       "    .dataframe thead th {\n",
       "        text-align: right;\n",
       "    }\n",
       "</style>\n",
       "<table border=\"1\" class=\"dataframe\">\n",
       "  <thead>\n",
       "    <tr style=\"text-align: right;\">\n",
       "      <th></th>\n",
       "      <th>price_at_reco</th>\n",
       "      <th>cleaned_price_at_reco</th>\n",
       "      <th>percentage</th>\n",
       "    </tr>\n",
       "  </thead>\n",
       "  <tbody>\n",
       "    <tr>\n",
       "      <th>0</th>\n",
       "      <td>-</td>\n",
       "      <td>NaN</td>\n",
       "      <td>NaN</td>\n",
       "    </tr>\n",
       "    <tr>\n",
       "      <th>1</th>\n",
       "      <td>2158.80\\n(13.57%)</td>\n",
       "      <td>2158.80</td>\n",
       "      <td>(13.57%)</td>\n",
       "    </tr>\n",
       "    <tr>\n",
       "      <th>2</th>\n",
       "      <td>2688.10\\n(-8.79%)</td>\n",
       "      <td>2688.10</td>\n",
       "      <td>(-8.79%)</td>\n",
       "    </tr>\n",
       "    <tr>\n",
       "      <th>3</th>\n",
       "      <td>2688.10\\n(-8.79%)</td>\n",
       "      <td>2688.10</td>\n",
       "      <td>(-8.79%)</td>\n",
       "    </tr>\n",
       "    <tr>\n",
       "      <th>4</th>\n",
       "      <td>2792.80\\n(-12.21%)</td>\n",
       "      <td>2792.80</td>\n",
       "      <td>(-12.21%)</td>\n",
       "    </tr>\n",
       "    <tr>\n",
       "      <th>...</th>\n",
       "      <td>...</td>\n",
       "      <td>...</td>\n",
       "      <td>...</td>\n",
       "    </tr>\n",
       "    <tr>\n",
       "      <th>46072</th>\n",
       "      <td>349.00\\n(-47.07%)</td>\n",
       "      <td>349.00</td>\n",
       "      <td>(-47.07%)</td>\n",
       "    </tr>\n",
       "    <tr>\n",
       "      <th>46073</th>\n",
       "      <td>261.95\\n(-29.48%)</td>\n",
       "      <td>261.95</td>\n",
       "      <td>(-29.48%)</td>\n",
       "    </tr>\n",
       "    <tr>\n",
       "      <th>46074</th>\n",
       "      <td>120.15\\n(53.76%)</td>\n",
       "      <td>120.15</td>\n",
       "      <td>(53.76%)</td>\n",
       "    </tr>\n",
       "    <tr>\n",
       "      <th>46075</th>\n",
       "      <td>108.80\\n(69.80%)</td>\n",
       "      <td>108.80</td>\n",
       "      <td>(69.80%)</td>\n",
       "    </tr>\n",
       "    <tr>\n",
       "      <th>46076</th>\n",
       "      <td>84.55\\n(118.50%)</td>\n",
       "      <td>84.55</td>\n",
       "      <td>(118.50%)</td>\n",
       "    </tr>\n",
       "  </tbody>\n",
       "</table>\n",
       "<p>46077 rows × 3 columns</p>\n",
       "</div>"
      ],
      "text/plain": [
       "            price_at_reco  cleaned_price_at_reco percentage\n",
       "0                       -                    NaN        NaN\n",
       "1       2158.80\\n(13.57%)                2158.80   (13.57%)\n",
       "2       2688.10\\n(-8.79%)                2688.10   (-8.79%)\n",
       "3       2688.10\\n(-8.79%)                2688.10   (-8.79%)\n",
       "4      2792.80\\n(-12.21%)                2792.80  (-12.21%)\n",
       "...                   ...                    ...        ...\n",
       "46072   349.00\\n(-47.07%)                 349.00  (-47.07%)\n",
       "46073   261.95\\n(-29.48%)                 261.95  (-29.48%)\n",
       "46074    120.15\\n(53.76%)                 120.15   (53.76%)\n",
       "46075    108.80\\n(69.80%)                 108.80   (69.80%)\n",
       "46076    84.55\\n(118.50%)                  84.55  (118.50%)\n",
       "\n",
       "[46077 rows x 3 columns]"
      ]
     },
     "execution_count": 15,
     "metadata": {},
     "output_type": "execute_result"
    }
   ],
   "source": [
    "def clean_price_at_reco(price):\n",
    "    percentage = None  # Initialize percentage as None\n",
    "\n",
    "    # Check if the price is a string\n",
    "    if isinstance(price, str):\n",
    "        # Split the string by newline\n",
    "        parts = price.split('\\n')\n",
    "        \n",
    "        # Check if we have at least two parts\n",
    "        if len(parts) >= 2:\n",
    "            # Take the first part as price and second as percentage\n",
    "            price = parts[0]\n",
    "            percentage = parts[1]\n",
    "            \n",
    "        # Attempt to convert to numeric, ignoring any errors\n",
    "        price = pd.to_numeric(price, errors='coerce')\n",
    "    \n",
    "    return price, percentage\n",
    "    \n",
    "# Apply the cleaning function to the 'price_at_reco' column and collect results\n",
    "analyst_ratings[['cleaned_price_at_reco', 'percentage']] = analyst_ratings['price_at_reco'].apply(\n",
    "    lambda x: pd.Series(clean_price_at_reco(x))\n",
    ")\n",
    "\n",
    "# Print the cleaned DataFrame\n",
    "analyst_ratings[['price_at_reco', 'cleaned_price_at_reco', 'percentage']]"
   ]
  },
  {
   "cell_type": "code",
   "execution_count": 16,
   "id": "e62efa29-72c0-494e-ac5b-aadb2c04e9aa",
   "metadata": {},
   "outputs": [],
   "source": [
    "# Clean 'price_at_reco' and 'target' to extract numeric values\n",
    "analyst_ratings['cleaned_price_at_reco'] = analyst_ratings['cleaned_price_at_reco'].astype(float)\n",
    "analyst_ratings['target'] = analyst_ratings['target'].astype(float)"
   ]
  },
  {
   "cell_type": "code",
   "execution_count": 17,
   "id": "204a5d0f-da4c-495b-8ff4-0d5ea76573ed",
   "metadata": {},
   "outputs": [
    {
     "data": {
      "text/html": [
       "<div>\n",
       "<style scoped>\n",
       "    .dataframe tbody tr th:only-of-type {\n",
       "        vertical-align: middle;\n",
       "    }\n",
       "\n",
       "    .dataframe tbody tr th {\n",
       "        vertical-align: top;\n",
       "    }\n",
       "\n",
       "    .dataframe thead th {\n",
       "        text-align: right;\n",
       "    }\n",
       "</style>\n",
       "<table border=\"1\" class=\"dataframe\">\n",
       "  <thead>\n",
       "    <tr style=\"text-align: right;\">\n",
       "      <th></th>\n",
       "      <th>target</th>\n",
       "      <th>cleaned_price_at_reco</th>\n",
       "    </tr>\n",
       "  </thead>\n",
       "  <tbody>\n",
       "    <tr>\n",
       "      <th>0</th>\n",
       "      <td>2715.0</td>\n",
       "      <td>NaN</td>\n",
       "    </tr>\n",
       "    <tr>\n",
       "      <th>1</th>\n",
       "      <td>2351.0</td>\n",
       "      <td>2158.80</td>\n",
       "    </tr>\n",
       "    <tr>\n",
       "      <th>2</th>\n",
       "      <td>2795.0</td>\n",
       "      <td>2688.10</td>\n",
       "    </tr>\n",
       "    <tr>\n",
       "      <th>3</th>\n",
       "      <td>3469.0</td>\n",
       "      <td>2688.10</td>\n",
       "    </tr>\n",
       "    <tr>\n",
       "      <th>4</th>\n",
       "      <td>4200.0</td>\n",
       "      <td>2792.80</td>\n",
       "    </tr>\n",
       "    <tr>\n",
       "      <th>...</th>\n",
       "      <td>...</td>\n",
       "      <td>...</td>\n",
       "    </tr>\n",
       "    <tr>\n",
       "      <th>46072</th>\n",
       "      <td>410.0</td>\n",
       "      <td>349.00</td>\n",
       "    </tr>\n",
       "    <tr>\n",
       "      <th>46073</th>\n",
       "      <td>362.0</td>\n",
       "      <td>261.95</td>\n",
       "    </tr>\n",
       "    <tr>\n",
       "      <th>46074</th>\n",
       "      <td>144.0</td>\n",
       "      <td>120.15</td>\n",
       "    </tr>\n",
       "    <tr>\n",
       "      <th>46075</th>\n",
       "      <td>139.0</td>\n",
       "      <td>108.80</td>\n",
       "    </tr>\n",
       "    <tr>\n",
       "      <th>46076</th>\n",
       "      <td>103.0</td>\n",
       "      <td>84.55</td>\n",
       "    </tr>\n",
       "  </tbody>\n",
       "</table>\n",
       "<p>46077 rows × 2 columns</p>\n",
       "</div>"
      ],
      "text/plain": [
       "       target  cleaned_price_at_reco\n",
       "0      2715.0                    NaN\n",
       "1      2351.0                2158.80\n",
       "2      2795.0                2688.10\n",
       "3      3469.0                2688.10\n",
       "4      4200.0                2792.80\n",
       "...       ...                    ...\n",
       "46072   410.0                 349.00\n",
       "46073   362.0                 261.95\n",
       "46074   144.0                 120.15\n",
       "46075   139.0                 108.80\n",
       "46076   103.0                  84.55\n",
       "\n",
       "[46077 rows x 2 columns]"
      ]
     },
     "execution_count": 17,
     "metadata": {},
     "output_type": "execute_result"
    }
   ],
   "source": [
    "#difference between target and price at recommendation - which defines upside% whether target was met or not\n",
    "analyst_ratings[['target','cleaned_price_at_reco']]"
   ]
  },
  {
   "cell_type": "markdown",
   "id": "01d3040f-d4cf-41a4-b6cf-bbf0efd420db",
   "metadata": {},
   "source": [
    "# Output Variable 1"
   ]
  },
  {
   "cell_type": "code",
   "execution_count": 18,
   "id": "39ca47b1-710b-4d38-8e5e-27c280cbcc31",
   "metadata": {},
   "outputs": [],
   "source": [
    "# Calculate expected return\n",
    "analyst_ratings['expected_return'] = ((analyst_ratings['target'] - analyst_ratings['cleaned_price_at_reco']) / analyst_ratings['cleaned_price_at_reco']) * 100"
   ]
  },
  {
   "cell_type": "code",
   "execution_count": 19,
   "id": "061e6b11-bd07-4aa3-a31c-46600cae795b",
   "metadata": {},
   "outputs": [
    {
     "data": {
      "text/html": [
       "<div>\n",
       "<style scoped>\n",
       "    .dataframe tbody tr th:only-of-type {\n",
       "        vertical-align: middle;\n",
       "    }\n",
       "\n",
       "    .dataframe tbody tr th {\n",
       "        vertical-align: top;\n",
       "    }\n",
       "\n",
       "    .dataframe thead th {\n",
       "        text-align: right;\n",
       "    }\n",
       "</style>\n",
       "<table border=\"1\" class=\"dataframe\">\n",
       "  <thead>\n",
       "    <tr style=\"text-align: right;\">\n",
       "      <th></th>\n",
       "      <th>Unnamed: 0</th>\n",
       "      <th>date</th>\n",
       "      <th>stock_name</th>\n",
       "      <th>author</th>\n",
       "      <th>ltp</th>\n",
       "      <th>target</th>\n",
       "      <th>price_at_reco</th>\n",
       "      <th>upside%</th>\n",
       "      <th>type</th>\n",
       "      <th>pdf_url</th>\n",
       "      <th>cleaned_price_at_reco</th>\n",
       "      <th>percentage</th>\n",
       "      <th>expected_return</th>\n",
       "    </tr>\n",
       "  </thead>\n",
       "  <tbody>\n",
       "    <tr>\n",
       "      <th>0</th>\n",
       "      <td>0</td>\n",
       "      <td>2024-09-14</td>\n",
       "      <td>angel-one-ltd</td>\n",
       "      <td>Consensus Share Price Target</td>\n",
       "      <td>2451.75</td>\n",
       "      <td>2715.0</td>\n",
       "      <td>-</td>\n",
       "      <td>10.74</td>\n",
       "      <td>Consensus Recommendation</td>\n",
       "      <td>NaN</td>\n",
       "      <td>NaN</td>\n",
       "      <td>NaN</td>\n",
       "      <td>NaN</td>\n",
       "    </tr>\n",
       "    <tr>\n",
       "      <th>1</th>\n",
       "      <td>1</td>\n",
       "      <td>2024-07-18</td>\n",
       "      <td>angel-one-ltd</td>\n",
       "      <td>Keynote Capitals Ltd</td>\n",
       "      <td>2451.75</td>\n",
       "      <td>2351.0</td>\n",
       "      <td>2158.80\\n(13.57%)</td>\n",
       "      <td>Target met</td>\n",
       "      <td>Neutral</td>\n",
       "      <td>https://trendlyne.com/get-document/report/pdf/...</td>\n",
       "      <td>2158.8</td>\n",
       "      <td>(13.57%)</td>\n",
       "      <td>8.903094</td>\n",
       "    </tr>\n",
       "    <tr>\n",
       "      <th>2</th>\n",
       "      <td>2</td>\n",
       "      <td>2024-04-19</td>\n",
       "      <td>angel-one-ltd</td>\n",
       "      <td>Keynote Capitals Ltd</td>\n",
       "      <td>2451.75</td>\n",
       "      <td>2795.0</td>\n",
       "      <td>2688.10\\n(-8.79%)</td>\n",
       "      <td>Target met</td>\n",
       "      <td>Neutral</td>\n",
       "      <td>https://trendlyne.com/get-document/report/pdf/...</td>\n",
       "      <td>2688.1</td>\n",
       "      <td>(-8.79%)</td>\n",
       "      <td>3.976787</td>\n",
       "    </tr>\n",
       "    <tr>\n",
       "      <th>3</th>\n",
       "      <td>3</td>\n",
       "      <td>2024-04-19</td>\n",
       "      <td>angel-one-ltd</td>\n",
       "      <td>ICICI Securities Limited</td>\n",
       "      <td>2451.75</td>\n",
       "      <td>3469.0</td>\n",
       "      <td>2688.10\\n(-8.79%)</td>\n",
       "      <td>41.49</td>\n",
       "      <td>Buy</td>\n",
       "      <td>https://trendlyne.com/get-document/report/pdf/...</td>\n",
       "      <td>2688.1</td>\n",
       "      <td>(-8.79%)</td>\n",
       "      <td>29.050259</td>\n",
       "    </tr>\n",
       "    <tr>\n",
       "      <th>4</th>\n",
       "      <td>4</td>\n",
       "      <td>2024-04-18</td>\n",
       "      <td>angel-one-ltd</td>\n",
       "      <td>Motilal Oswal</td>\n",
       "      <td>2451.75</td>\n",
       "      <td>4200.0</td>\n",
       "      <td>2792.80\\n(-12.21%)</td>\n",
       "      <td>71.31</td>\n",
       "      <td>Buy</td>\n",
       "      <td>https://trendlyne.com/get-document/report/pdf/...</td>\n",
       "      <td>2792.8</td>\n",
       "      <td>(-12.21%)</td>\n",
       "      <td>50.386709</td>\n",
       "    </tr>\n",
       "  </tbody>\n",
       "</table>\n",
       "</div>"
      ],
      "text/plain": [
       "   Unnamed: 0       date     stock_name                        author  \\\n",
       "0           0 2024-09-14  angel-one-ltd  Consensus Share Price Target   \n",
       "1           1 2024-07-18  angel-one-ltd          Keynote Capitals Ltd   \n",
       "2           2 2024-04-19  angel-one-ltd          Keynote Capitals Ltd   \n",
       "3           3 2024-04-19  angel-one-ltd      ICICI Securities Limited   \n",
       "4           4 2024-04-18  angel-one-ltd                 Motilal Oswal   \n",
       "\n",
       "       ltp  target       price_at_reco     upside%                      type  \\\n",
       "0  2451.75  2715.0                   -       10.74  Consensus Recommendation   \n",
       "1  2451.75  2351.0   2158.80\\n(13.57%)  Target met                   Neutral   \n",
       "2  2451.75  2795.0   2688.10\\n(-8.79%)  Target met                   Neutral   \n",
       "3  2451.75  3469.0   2688.10\\n(-8.79%)       41.49                       Buy   \n",
       "4  2451.75  4200.0  2792.80\\n(-12.21%)       71.31                       Buy   \n",
       "\n",
       "                                             pdf_url  cleaned_price_at_reco  \\\n",
       "0                                                NaN                    NaN   \n",
       "1  https://trendlyne.com/get-document/report/pdf/...                 2158.8   \n",
       "2  https://trendlyne.com/get-document/report/pdf/...                 2688.1   \n",
       "3  https://trendlyne.com/get-document/report/pdf/...                 2688.1   \n",
       "4  https://trendlyne.com/get-document/report/pdf/...                 2792.8   \n",
       "\n",
       "  percentage  expected_return  \n",
       "0        NaN              NaN  \n",
       "1   (13.57%)         8.903094  \n",
       "2   (-8.79%)         3.976787  \n",
       "3   (-8.79%)        29.050259  \n",
       "4  (-12.21%)        50.386709  "
      ]
     },
     "execution_count": 19,
     "metadata": {},
     "output_type": "execute_result"
    }
   ],
   "source": [
    "analyst_ratings.head()"
   ]
  },
  {
   "cell_type": "code",
   "execution_count": 20,
   "id": "41f37a2d-33f3-479b-b963-55158fc8cace",
   "metadata": {},
   "outputs": [
    {
     "name": "stdout",
     "output_type": "stream",
     "text": [
      "Matrix shape (1973, 5000)\n"
     ]
    },
    {
     "name": "stderr",
     "output_type": "stream",
     "text": [
      "100%|███████████████████████████████████████████████████████████████████████████| 46077/46077 [06:47<00:00, 113.01it/s]\n"
     ]
    }
   ],
   "source": [
    "from sklearn.feature_extraction.text import TfidfVectorizer\n",
    "from sklearn.metrics.pairwise import cosine_similarity\n",
    "import pandas as pd\n",
    "from tqdm import tqdm\n",
    "\n",
    "# Filter the DataFrame for the date range\n",
    "df_2019 = stock_df[(stock_df['Date'] >= '1900-01-01') & (stock_df['Date'] <= '2024-12-31')]\n",
    "\n",
    "# Prepare company names for TF-IDF matching\n",
    "company_names = [x.lower() for x in stock_df['Company Name'].unique().tolist()]\n",
    "vectorizer = TfidfVectorizer(analyzer='char', ngram_range=(2, 4), max_features=5000)  # Character-based TF-IDF\n",
    "tfidf_matrix = vectorizer.fit_transform(company_names)\n",
    "\n",
    "print(\"Matrix shape\", tfidf_matrix.shape)\n",
    "\n",
    "# Function to get the best match using cosine similarity\n",
    "def get_closest_company_name(input_name, company_names, tfidf_matrix, vectorizer):\n",
    "    input_tfidf = vectorizer.transform([input_name.lower()])\n",
    "    cosine_similarities = cosine_similarity(input_tfidf, tfidf_matrix).flatten()\n",
    "    best_match_idx = cosine_similarities.argmax()\n",
    "    best_match_score = cosine_similarities[best_match_idx]\n",
    "    return company_names[best_match_idx] if best_match_score > 0.5 else None  # Threshold of 0.5 for similarity\n",
    "\n",
    "# Apply TF-IDF matching with tqdm for progress visualization\n",
    "tqdm.pandas()  # Initialize tqdm with pandas\n",
    "analyst_ratings['matched_company_name'] = analyst_ratings['stock_name'].progress_apply(\n",
    "    lambda x: get_closest_company_name(x, company_names, tfidf_matrix, vectorizer)\n",
    ")\n",
    "\n",
    "# Create a mapping of matched company names to symbols\n",
    "symbol_map = stock_df[['Company Name', 'Symbol']].drop_duplicates()\n",
    "symbol_map['Company Name'] = symbol_map['Company Name'].str.lower()\n",
    "analyst_ratings = pd.merge(analyst_ratings, symbol_map, left_on='matched_company_name', right_on='Company Name', how='left')"
   ]
  },
  {
   "cell_type": "code",
   "execution_count": 21,
   "id": "0e7d625f-834d-4036-84d3-fcd01f2e6edb",
   "metadata": {},
   "outputs": [
    {
     "name": "stdout",
     "output_type": "stream",
     "text": [
      "       Unnamed: 0       date           stock_name  \\\n",
      "0               0 2024-09-14        angel-one-ltd   \n",
      "1               1 2024-07-18        angel-one-ltd   \n",
      "2               2 2024-04-19        angel-one-ltd   \n",
      "3               3 2024-04-19        angel-one-ltd   \n",
      "4               4 2024-04-18        angel-one-ltd   \n",
      "...           ...        ...                  ...   \n",
      "46072       46072 2017-11-08  rain-industries-ltd   \n",
      "46073       46073 2017-11-01  rain-industries-ltd   \n",
      "46074       46074 2017-08-14  rain-industries-ltd   \n",
      "46075       46075 2017-05-08  rain-industries-ltd   \n",
      "46076       46076 2017-02-27  rain-industries-ltd   \n",
      "\n",
      "                             author      ltp  target       price_at_reco  \\\n",
      "0      Consensus Share Price Target  2451.75  2715.0                   -   \n",
      "1              Keynote Capitals Ltd  2451.75  2351.0   2158.80\\n(13.57%)   \n",
      "2              Keynote Capitals Ltd  2451.75  2795.0   2688.10\\n(-8.79%)   \n",
      "3          ICICI Securities Limited  2451.75  3469.0   2688.10\\n(-8.79%)   \n",
      "4                     Motilal Oswal  2451.75  4200.0  2792.80\\n(-12.21%)   \n",
      "...                             ...      ...     ...                 ...   \n",
      "46072                   AUM Capital   184.74   410.0   349.00\\n(-47.07%)   \n",
      "46073                 Motilal Oswal   184.74   362.0   261.95\\n(-29.48%)   \n",
      "46074                  IDBI Capital   184.74   144.0    120.15\\n(53.76%)   \n",
      "46075                  IDBI Capital   184.74   139.0    108.80\\n(69.80%)   \n",
      "46076                  IDBI Capital   184.74   103.0    84.55\\n(118.50%)   \n",
      "\n",
      "          upside%                      type  \\\n",
      "0           10.74  Consensus Recommendation   \n",
      "1      Target met                   Neutral   \n",
      "2      Target met                   Neutral   \n",
      "3           41.49                       Buy   \n",
      "4           71.31                       Buy   \n",
      "...           ...                       ...   \n",
      "46072  Target met                       Buy   \n",
      "46073  Target met                       Buy   \n",
      "46074  Target met                       Buy   \n",
      "46075  Target met                       Buy   \n",
      "46076  Target met                       Buy   \n",
      "\n",
      "                                                 pdf_url  \\\n",
      "0                                                    NaN   \n",
      "1      https://trendlyne.com/get-document/report/pdf/...   \n",
      "2      https://trendlyne.com/get-document/report/pdf/...   \n",
      "3      https://trendlyne.com/get-document/report/pdf/...   \n",
      "4      https://trendlyne.com/get-document/report/pdf/...   \n",
      "...                                                  ...   \n",
      "46072  https://trendlyne.com/get-document/report/pdf/...   \n",
      "46073  https://trendlyne.com/get-document/report/pdf/...   \n",
      "46074  https://trendlyne.com/get-document/report/pdf/...   \n",
      "46075  https://trendlyne.com/get-document/report/pdf/...   \n",
      "46076  https://trendlyne.com/get-document/report/pdf/...   \n",
      "\n",
      "       cleaned_price_at_reco percentage  expected_return  \\\n",
      "0                        NaN        NaN              NaN   \n",
      "1                    2158.80   (13.57%)         8.903094   \n",
      "2                    2688.10   (-8.79%)         3.976787   \n",
      "3                    2688.10   (-8.79%)        29.050259   \n",
      "4                    2792.80  (-12.21%)        50.386709   \n",
      "...                      ...        ...              ...   \n",
      "46072                 349.00  (-47.07%)        17.478510   \n",
      "46073                 261.95  (-29.48%)        38.194312   \n",
      "46074                 120.15   (53.76%)        19.850187   \n",
      "46075                 108.80   (69.80%)        27.757353   \n",
      "46076                  84.55  (118.50%)        21.821407   \n",
      "\n",
      "          matched_company_name             Company Name Symbol  \n",
      "0                         None                      NaN    NaN  \n",
      "1                         None                      NaN    NaN  \n",
      "2                         None                      NaN    NaN  \n",
      "3                         None                      NaN    NaN  \n",
      "4                         None                      NaN    NaN  \n",
      "...                        ...                      ...    ...  \n",
      "46072  rain industries limited  rain industries limited   RAIN  \n",
      "46073  rain industries limited  rain industries limited   RAIN  \n",
      "46074  rain industries limited  rain industries limited   RAIN  \n",
      "46075  rain industries limited  rain industries limited   RAIN  \n",
      "46076  rain industries limited  rain industries limited   RAIN  \n",
      "\n",
      "[46077 rows x 16 columns]\n"
     ]
    }
   ],
   "source": [
    "print(analyst_ratings)"
   ]
  },
  {
   "cell_type": "markdown",
   "id": "6110e527-a5e5-4d0b-9f5d-4b9478fc59bc",
   "metadata": {},
   "source": [
    "## Import *predict_n_day_return* Function"
   ]
  },
  {
   "cell_type": "code",
   "execution_count": 22,
   "id": "a1af3be1-e817-4c8b-82cb-6ed835698fcb",
   "metadata": {},
   "outputs": [],
   "source": [
    "import sys\n",
    "import os\n",
    "\n",
    "# Get the current directory of the notebook\n",
    "current_dir = os.path.dirname(os.path.abspath(\"__file__\"))\n",
    "\n",
    "# Append the directory of script\n",
    "sys.path.append(os.path.join(current_dir, 'Project-1'))\n",
    "\n",
    "# call predict_n_day_return function\n",
    "from nday_stockprediction import predict_n_day_return"
   ]
  },
  {
   "cell_type": "code",
   "execution_count": null,
   "id": "1d786c32-8221-4a58-852e-2d71ee516a0b",
   "metadata": {
    "scrolled": true
   },
   "outputs": [
    {
     "name": "stderr",
     "output_type": "stream",
     "text": [
      "Processing:   0%|                                                                 | 34/46077 [00:12<6:34:34,  1.94it/s]"
     ]
    },
    {
     "name": "stdout",
     "output_type": "stream",
     "text": [
      "Error for EICHERMOT on 2024-09-14 00:00:00: Insufficient data to determine d+1.\n",
      "Reference date 2024-09-14 00:00:00 not found. Using nearest date: 2024-07-30 00:00:00\n"
     ]
    },
    {
     "name": "stderr",
     "output_type": "stream",
     "text": [
      "Processing:   0%|                                                                | 35/46077 [00:16<10:09:03,  1.26it/s]"
     ]
    },
    {
     "name": "stdout",
     "output_type": "stream",
     "text": [
      "Error for EICHERMOT on 2024-08-09 00:00:00: Insufficient data to determine d+1.\n",
      "Reference date 2024-08-09 00:00:00 not found. Using nearest date: 2024-07-30 00:00:00\n"
     ]
    },
    {
     "name": "stderr",
     "output_type": "stream",
     "text": [
      "Processing:   0%|                                                                | 36/46077 [00:20<14:30:43,  1.13s/it]"
     ]
    },
    {
     "name": "stdout",
     "output_type": "stream",
     "text": [
      "Error for EICHERMOT on 2024-08-09 00:00:00: Insufficient data to determine d+1.\n",
      "Reference date 2024-08-09 00:00:00 not found. Using nearest date: 2024-07-30 00:00:00\n"
     ]
    },
    {
     "name": "stderr",
     "output_type": "stream",
     "text": [
      "Processing:   0%|                                                                | 37/46077 [00:24<18:59:27,  1.48s/it]"
     ]
    },
    {
     "name": "stdout",
     "output_type": "stream",
     "text": [
      "Error for EICHERMOT on 2024-08-09 00:00:00: Insufficient data to determine d+1.\n",
      "Reference date 2024-08-09 00:00:00 not found. Using nearest date: 2024-07-30 00:00:00\n"
     ]
    },
    {
     "name": "stderr",
     "output_type": "stream",
     "text": [
      "Processing:   0%|                                                                | 38/46077 [00:28<23:37:51,  1.85s/it]"
     ]
    },
    {
     "name": "stdout",
     "output_type": "stream",
     "text": [
      "Error for EICHERMOT on 2024-08-09 00:00:00: Insufficient data to determine d+1.\n",
      "Reference date 2024-08-09 00:00:00 not found. Using nearest date: 2024-07-30 00:00:00\n"
     ]
    },
    {
     "name": "stderr",
     "output_type": "stream",
     "text": [
      "Processing:   0%|                                                                | 39/46077 [00:32<28:43:46,  2.25s/it]"
     ]
    },
    {
     "name": "stdout",
     "output_type": "stream",
     "text": [
      "Error for EICHERMOT on 2024-08-08 00:00:00: Insufficient data to determine d+1.\n",
      "Reference date 2024-08-08 00:00:00 not found. Using nearest date: 2024-07-30 00:00:00\n"
     ]
    },
    {
     "name": "stderr",
     "output_type": "stream",
     "text": [
      "Processing:   0%|                                                                | 44/46077 [00:52<43:57:01,  3.44s/it]"
     ]
    },
    {
     "name": "stdout",
     "output_type": "stream",
     "text": [
      "Reference date 2024-05-12 00:00:00 not found. Using nearest date: 2024-05-13 00:00:00\n"
     ]
    },
    {
     "name": "stderr",
     "output_type": "stream",
     "text": [
      "Processing:   0%|                                                                | 53/46077 [01:27<49:04:13,  3.84s/it]"
     ]
    },
    {
     "name": "stdout",
     "output_type": "stream",
     "text": [
      "Reference date 2023-11-11 00:00:00 not found. Using nearest date: 2023-11-10 00:00:00\n"
     ]
    },
    {
     "name": "stderr",
     "output_type": "stream",
     "text": [
      "Processing:   0%|                                                                | 76/46077 [02:55<49:03:51,  3.84s/it]"
     ]
    },
    {
     "name": "stdout",
     "output_type": "stream",
     "text": [
      "Reference date 2022-09-24 00:00:00 not found. Using nearest date: 2022-09-23 00:00:00\n"
     ]
    },
    {
     "name": "stderr",
     "output_type": "stream",
     "text": [
      "Processing:   0%|                                                                | 89/46077 [03:45<49:03:39,  3.84s/it]"
     ]
    },
    {
     "name": "stdout",
     "output_type": "stream",
     "text": [
      "Reference date 2022-05-15 00:00:00 not found. Using nearest date: 2022-05-16 00:00:00\n"
     ]
    },
    {
     "name": "stderr",
     "output_type": "stream",
     "text": [
      "Processing:   0%|▏                                                               | 90/46077 [03:49<49:06:11,  3.84s/it]"
     ]
    },
    {
     "name": "stdout",
     "output_type": "stream",
     "text": [
      "Reference date 2022-05-15 00:00:00 not found. Using nearest date: 2022-05-16 00:00:00\n"
     ]
    },
    {
     "name": "stderr",
     "output_type": "stream",
     "text": [
      "Processing:   0%|▏                                                               | 91/46077 [03:53<49:00:01,  3.84s/it]"
     ]
    },
    {
     "name": "stdout",
     "output_type": "stream",
     "text": [
      "Reference date 2022-05-15 00:00:00 not found. Using nearest date: 2022-05-16 00:00:00\n"
     ]
    },
    {
     "name": "stderr",
     "output_type": "stream",
     "text": [
      "Processing:   0%|▏                                                              | 126/46077 [06:20<49:04:49,  3.85s/it]"
     ]
    },
    {
     "name": "stdout",
     "output_type": "stream",
     "text": [
      "Reference date 2020-11-15 00:00:00 not found. Using nearest date: 2020-11-14 00:00:00\n"
     ]
    },
    {
     "name": "stderr",
     "output_type": "stream",
     "text": [
      "Processing:   0%|▏                                                              | 127/46077 [06:24<49:50:30,  3.90s/it]"
     ]
    },
    {
     "name": "stdout",
     "output_type": "stream",
     "text": [
      "Reference date 2020-11-15 00:00:00 not found. Using nearest date: 2020-11-14 00:00:00\n"
     ]
    },
    {
     "name": "stderr",
     "output_type": "stream",
     "text": [
      "Processing:   0%|▏                                                              | 146/46077 [07:37<48:53:37,  3.83s/it]"
     ]
    },
    {
     "name": "stdout",
     "output_type": "stream",
     "text": [
      "Reference date 2020-06-14 00:00:00 not found. Using nearest date: 2020-06-15 00:00:00\n"
     ]
    },
    {
     "name": "stderr",
     "output_type": "stream",
     "text": [
      "Processing:   0%|▏                                                              | 147/46077 [07:41<49:14:55,  3.86s/it]"
     ]
    },
    {
     "name": "stdout",
     "output_type": "stream",
     "text": [
      "Reference date 2020-06-14 00:00:00 not found. Using nearest date: 2020-06-15 00:00:00\n"
     ]
    },
    {
     "name": "stderr",
     "output_type": "stream",
     "text": [
      "Processing:   0%|▏                                                              | 148/46077 [07:45<49:11:06,  3.86s/it]"
     ]
    },
    {
     "name": "stdout",
     "output_type": "stream",
     "text": [
      "Reference date 2020-06-13 00:00:00 not found. Using nearest date: 2020-06-12 00:00:00\n"
     ]
    },
    {
     "name": "stderr",
     "output_type": "stream",
     "text": [
      "Processing:   0%|▏                                                              | 161/46077 [08:35<49:08:46,  3.85s/it]"
     ]
    },
    {
     "name": "stdout",
     "output_type": "stream",
     "text": [
      "Reference date 2019-11-12 00:00:00 not found. Using nearest date: 2019-11-13 00:00:00\n"
     ]
    },
    {
     "name": "stderr",
     "output_type": "stream",
     "text": [
      "Processing:   0%|▏                                                              | 164/46077 [08:46<49:01:52,  3.84s/it]"
     ]
    },
    {
     "name": "stdout",
     "output_type": "stream",
     "text": [
      "Reference date 2019-11-10 00:00:00 not found. Using nearest date: 2019-11-11 00:00:00\n"
     ]
    },
    {
     "name": "stderr",
     "output_type": "stream",
     "text": [
      "Processing:   0%|▏                                                              | 165/46077 [08:50<48:56:17,  3.84s/it]"
     ]
    },
    {
     "name": "stdout",
     "output_type": "stream",
     "text": [
      "Reference date 2019-11-09 00:00:00 not found. Using nearest date: 2019-11-08 00:00:00\n"
     ]
    },
    {
     "name": "stderr",
     "output_type": "stream",
     "text": [
      "Processing:   0%|▏                                                              | 179/46077 [09:44<49:08:33,  3.85s/it]"
     ]
    },
    {
     "name": "stdout",
     "output_type": "stream",
     "text": [
      "Reference date 2019-05-11 00:00:00 not found. Using nearest date: 2019-05-10 00:00:00\n"
     ]
    },
    {
     "name": "stderr",
     "output_type": "stream",
     "text": [
      "Processing:   0%|▎                                                              | 185/46077 [10:07<49:26:05,  3.88s/it]"
     ]
    },
    {
     "name": "stdout",
     "output_type": "stream",
     "text": [
      "Reference date 2019-02-13 00:00:00 not found. Using nearest date: 2019-02-14 00:00:00\n"
     ]
    },
    {
     "name": "stderr",
     "output_type": "stream",
     "text": [
      "Processing:   0%|▎                                                              | 197/46077 [10:54<48:43:16,  3.82s/it]"
     ]
    },
    {
     "name": "stdout",
     "output_type": "stream",
     "text": [
      "Reference date 2018-09-20 00:00:00 not found. Using nearest date: 2018-09-21 00:00:00\n"
     ]
    },
    {
     "name": "stderr",
     "output_type": "stream",
     "text": [
      "Processing:   0%|▎                                                              | 201/46077 [11:09<48:58:48,  3.84s/it]"
     ]
    },
    {
     "name": "stdout",
     "output_type": "stream",
     "text": [
      "Reference date 2018-08-11 00:00:00 not found. Using nearest date: 2018-08-10 00:00:00\n"
     ]
    },
    {
     "name": "stderr",
     "output_type": "stream",
     "text": [
      "Processing:   0%|▎                                                              | 213/46077 [11:55<48:22:48,  3.80s/it]"
     ]
    },
    {
     "name": "stdout",
     "output_type": "stream",
     "text": [
      "Reference date 2018-02-13 00:00:00 not found. Using nearest date: 2018-02-14 00:00:00\n"
     ]
    },
    {
     "name": "stderr",
     "output_type": "stream",
     "text": [
      "Processing:   0%|▎                                                              | 228/46077 [12:52<48:25:19,  3.80s/it]"
     ]
    },
    {
     "name": "stdout",
     "output_type": "stream",
     "text": [
      "Reference date 2017-05-06 00:00:00 not found. Using nearest date: 2017-05-05 00:00:00\n"
     ]
    },
    {
     "name": "stderr",
     "output_type": "stream",
     "text": [
      "Processing:   1%|▎                                                              | 234/46077 [13:15<48:30:47,  3.81s/it]"
     ]
    },
    {
     "name": "stdout",
     "output_type": "stream",
     "text": [
      "Reference date 2016-10-31 00:00:00 not found. Using nearest date: 2016-11-01 00:00:00\n"
     ]
    },
    {
     "name": "stderr",
     "output_type": "stream",
     "text": [
      "Processing:   1%|▎                                                              | 242/46077 [13:46<48:41:53,  3.82s/it]"
     ]
    },
    {
     "name": "stdout",
     "output_type": "stream",
     "text": [
      "Reference date 2016-02-06 00:00:00 not found. Using nearest date: 2016-02-05 00:00:00\n"
     ]
    },
    {
     "name": "stderr",
     "output_type": "stream",
     "text": [
      "Processing:   1%|▎                                                              | 250/46077 [14:17<48:15:25,  3.79s/it]"
     ]
    },
    {
     "name": "stdout",
     "output_type": "stream",
     "text": [
      "Error for ZEEL on 2024-09-14 00:00:00: Insufficient data to determine d+1.\n",
      "Reference date 2024-09-14 00:00:00 not found. Using nearest date: 2024-07-30 00:00:00\n"
     ]
    },
    {
     "name": "stderr",
     "output_type": "stream",
     "text": [
      "Processing:   1%|▎                                                              | 251/46077 [14:21<48:09:05,  3.78s/it]"
     ]
    },
    {
     "name": "stdout",
     "output_type": "stream",
     "text": [
      "Error for ZEEL on 2024-08-05 00:00:00: Insufficient data to determine d+1.\n",
      "Reference date 2024-08-05 00:00:00 not found. Using nearest date: 2024-07-30 00:00:00\n"
     ]
    },
    {
     "name": "stderr",
     "output_type": "stream",
     "text": [
      "Processing:   1%|▎                                                              | 252/46077 [14:25<49:03:54,  3.85s/it]"
     ]
    },
    {
     "name": "stdout",
     "output_type": "stream",
     "text": [
      "Error for ZEEL on 2024-08-01 00:00:00: Insufficient data to determine d+1.\n",
      "Reference date 2024-08-01 00:00:00 not found. Using nearest date: 2024-07-30 00:00:00\n"
     ]
    },
    {
     "name": "stderr",
     "output_type": "stream",
     "text": [
      "Processing:   1%|▎                                                              | 259/46077 [14:52<48:45:23,  3.83s/it]"
     ]
    },
    {
     "name": "stdout",
     "output_type": "stream",
     "text": [
      "Reference date 2024-01-22 00:00:00 not found. Using nearest date: 2024-01-23 00:00:00\n"
     ]
    },
    {
     "name": "stderr",
     "output_type": "stream",
     "text": [
      "Processing:   1%|▎                                                              | 269/46077 [15:30<48:25:04,  3.81s/it]"
     ]
    },
    {
     "name": "stdout",
     "output_type": "stream",
     "text": [
      "Reference date 2023-05-28 00:00:00 not found. Using nearest date: 2023-05-29 00:00:00\n"
     ]
    },
    {
     "name": "stderr",
     "output_type": "stream",
     "text": [
      "Processing:   1%|▍                                                              | 281/46077 [16:16<48:50:05,  3.84s/it]"
     ]
    },
    {
     "name": "stdout",
     "output_type": "stream",
     "text": [
      "Reference date 2022-11-13 00:00:00 not found. Using nearest date: 2022-11-14 00:00:00\n"
     ]
    },
    {
     "name": "stderr",
     "output_type": "stream",
     "text": [
      "Processing:   1%|▍                                                              | 282/46077 [16:20<48:33:16,  3.82s/it]"
     ]
    },
    {
     "name": "stdout",
     "output_type": "stream",
     "text": [
      "Reference date 2022-11-12 00:00:00 not found. Using nearest date: 2022-11-11 00:00:00\n"
     ]
    },
    {
     "name": "stderr",
     "output_type": "stream",
     "text": [
      "Processing:   1%|▍                                                              | 283/46077 [16:23<48:35:08,  3.82s/it]"
     ]
    },
    {
     "name": "stdout",
     "output_type": "stream",
     "text": [
      "Reference date 2022-11-12 00:00:00 not found. Using nearest date: 2022-11-11 00:00:00\n"
     ]
    },
    {
     "name": "stderr",
     "output_type": "stream",
     "text": [
      "Processing:   1%|▍                                                              | 285/46077 [16:31<48:28:47,  3.81s/it]"
     ]
    },
    {
     "name": "stdout",
     "output_type": "stream",
     "text": [
      "Reference date 2022-08-15 00:00:00 not found. Using nearest date: 2022-08-16 00:00:00\n"
     ]
    },
    {
     "name": "stderr",
     "output_type": "stream",
     "text": [
      "Processing:   1%|▍                                                              | 286/46077 [16:35<48:41:30,  3.83s/it]"
     ]
    },
    {
     "name": "stdout",
     "output_type": "stream",
     "text": [
      "Reference date 2022-08-13 00:00:00 not found. Using nearest date: 2022-08-12 00:00:00\n"
     ]
    },
    {
     "name": "stderr",
     "output_type": "stream",
     "text": [
      "Processing:   1%|▍                                                              | 287/46077 [16:39<48:31:14,  3.81s/it]"
     ]
    },
    {
     "name": "stdout",
     "output_type": "stream",
     "text": [
      "Reference date 2022-08-13 00:00:00 not found. Using nearest date: 2022-08-12 00:00:00\n"
     ]
    },
    {
     "name": "stderr",
     "output_type": "stream",
     "text": [
      "Processing:   1%|▍                                                              | 289/46077 [16:46<48:18:21,  3.80s/it]"
     ]
    },
    {
     "name": "stdout",
     "output_type": "stream",
     "text": [
      "Reference date 2022-05-28 00:00:00 not found. Using nearest date: 2022-05-27 00:00:00\n"
     ]
    },
    {
     "name": "stderr",
     "output_type": "stream",
     "text": [
      "Processing:   1%|▍                                                              | 298/46077 [17:21<48:06:19,  3.78s/it]"
     ]
    },
    {
     "name": "stdout",
     "output_type": "stream",
     "text": [
      "Reference date 2022-01-01 00:00:00 not found. Using nearest date: 2021-12-31 00:00:00\n"
     ]
    },
    {
     "name": "stderr",
     "output_type": "stream",
     "text": [
      "Processing:   1%|▍                                                              | 299/46077 [17:25<51:08:19,  4.02s/it]"
     ]
    },
    {
     "name": "stdout",
     "output_type": "stream",
     "text": [
      "Reference date 2022-01-01 00:00:00 not found. Using nearest date: 2021-12-31 00:00:00\n"
     ]
    },
    {
     "name": "stderr",
     "output_type": "stream",
     "text": [
      "Processing:   1%|▍                                                              | 309/46077 [18:03<48:11:14,  3.79s/it]"
     ]
    },
    {
     "name": "stdout",
     "output_type": "stream",
     "text": [
      "Reference date 2021-08-08 00:00:00 not found. Using nearest date: 2021-08-09 00:00:00\n"
     ]
    },
    {
     "name": "stderr",
     "output_type": "stream",
     "text": [
      "Processing:   1%|▍                                                              | 310/46077 [18:07<48:52:09,  3.84s/it]"
     ]
    },
    {
     "name": "stdout",
     "output_type": "stream",
     "text": [
      "Reference date 2021-08-07 00:00:00 not found. Using nearest date: 2021-08-06 00:00:00\n"
     ]
    },
    {
     "name": "stderr",
     "output_type": "stream",
     "text": [
      "Processing:   1%|▍                                                              | 311/46077 [18:11<49:06:21,  3.86s/it]"
     ]
    },
    {
     "name": "stdout",
     "output_type": "stream",
     "text": [
      "Reference date 2021-08-07 00:00:00 not found. Using nearest date: 2021-08-06 00:00:00\n"
     ]
    },
    {
     "name": "stderr",
     "output_type": "stream",
     "text": [
      "Processing:   1%|▍                                                              | 330/46077 [19:23<48:25:38,  3.81s/it]"
     ]
    },
    {
     "name": "stdout",
     "output_type": "stream",
     "text": [
      "Reference date 2020-07-26 00:00:00 not found. Using nearest date: 2020-07-27 00:00:00\n"
     ]
    },
    {
     "name": "stderr",
     "output_type": "stream",
     "text": [
      "Processing:   1%|▍                                                              | 331/46077 [19:27<48:31:11,  3.82s/it]"
     ]
    },
    {
     "name": "stdout",
     "output_type": "stream",
     "text": [
      "Reference date 2020-07-26 00:00:00 not found. Using nearest date: 2020-07-27 00:00:00\n"
     ]
    },
    {
     "name": "stderr",
     "output_type": "stream",
     "text": [
      "Processing:   1%|▌                                                              | 389/46077 [23:12<48:06:59,  3.79s/it]"
     ]
    },
    {
     "name": "stdout",
     "output_type": "stream",
     "text": [
      "Reference date 2018-03-10 00:00:00 not found. Using nearest date: 2018-03-09 00:00:00\n"
     ]
    },
    {
     "name": "stderr",
     "output_type": "stream",
     "text": [
      "Processing:   1%|▌                                                              | 439/46077 [26:22<48:18:05,  3.81s/it]"
     ]
    },
    {
     "name": "stdout",
     "output_type": "stream",
     "text": [
      "Reference date 2016-01-16 00:00:00 not found. Using nearest date: 2016-01-15 00:00:00\n"
     ]
    },
    {
     "name": "stderr",
     "output_type": "stream",
     "text": [
      "Processing:   1%|▌                                                              | 448/46077 [26:56<47:43:25,  3.77s/it]"
     ]
    },
    {
     "name": "stdout",
     "output_type": "stream",
     "text": [
      "Error for GNA on 2024-09-14 00:00:00: Insufficient data to determine d+1.\n",
      "Reference date 2024-09-14 00:00:00 not found. Using nearest date: 2024-07-23 00:00:00\n"
     ]
    },
    {
     "name": "stderr",
     "output_type": "stream",
     "text": [
      "Processing:   1%|▋                                                              | 460/46077 [27:41<47:40:56,  3.76s/it]"
     ]
    },
    {
     "name": "stdout",
     "output_type": "stream",
     "text": [
      "Reference date 2020-08-29 00:00:00 not found. Using nearest date: 2020-08-28 00:00:00\n"
     ]
    },
    {
     "name": "stderr",
     "output_type": "stream",
     "text": [
      "Processing:   1%|▋                                                              | 472/46077 [28:27<47:53:37,  3.78s/it]"
     ]
    },
    {
     "name": "stdout",
     "output_type": "stream",
     "text": [
      "Reference date 2016-09-13 00:00:00 not found. Using nearest date: 2016-09-26 00:00:00\n"
     ]
    },
    {
     "name": "stderr",
     "output_type": "stream",
     "text": [
      "Processing:   1%|▋                                                              | 473/46077 [28:30<47:51:54,  3.78s/it]"
     ]
    },
    {
     "name": "stdout",
     "output_type": "stream",
     "text": [
      "Reference date 2016-09-09 00:00:00 not found. Using nearest date: 2016-09-26 00:00:00\n"
     ]
    },
    {
     "name": "stderr",
     "output_type": "stream",
     "text": [
      "Processing:   1%|▋                                                              | 474/46077 [28:34<47:58:54,  3.79s/it]"
     ]
    },
    {
     "name": "stdout",
     "output_type": "stream",
     "text": [
      "Error for INFIBEAM on 2024-09-14 00:00:00: Insufficient data to determine d+1.\n",
      "Reference date 2024-09-14 00:00:00 not found. Using nearest date: 2024-07-30 00:00:00\n"
     ]
    },
    {
     "name": "stderr",
     "output_type": "stream",
     "text": [
      "Processing:   1%|▋                                                              | 475/46077 [28:38<47:52:21,  3.78s/it]"
     ]
    },
    {
     "name": "stdout",
     "output_type": "stream",
     "text": [
      "Error for INFIBEAM on 2024-08-07 00:00:00: Insufficient data to determine d+1.\n",
      "Reference date 2024-08-07 00:00:00 not found. Using nearest date: 2024-07-30 00:00:00\n"
     ]
    },
    {
     "name": "stderr",
     "output_type": "stream",
     "text": [
      "Processing:   1%|▋                                                              | 487/46077 [29:23<47:38:30,  3.76s/it]"
     ]
    },
    {
     "name": "stdout",
     "output_type": "stream",
     "text": [
      "Reference date 2016-03-23 00:00:00 not found. Using nearest date: 2016-04-04 00:00:00\n"
     ]
    },
    {
     "name": "stderr",
     "output_type": "stream",
     "text": [
      "Processing:   1%|▋                                                              | 488/46077 [29:27<48:47:37,  3.85s/it]"
     ]
    },
    {
     "name": "stdout",
     "output_type": "stream",
     "text": [
      "Reference date 2016-03-19 00:00:00 not found. Using nearest date: 2016-04-04 00:00:00\n"
     ]
    },
    {
     "name": "stderr",
     "output_type": "stream",
     "text": [
      "Processing:   1%|▋                                                              | 489/46077 [29:31<48:24:27,  3.82s/it]"
     ]
    },
    {
     "name": "stdout",
     "output_type": "stream",
     "text": [
      "Error for FLAIR on 2024-09-14 00:00:00: Insufficient data to determine d+1.\n",
      "Reference date 2024-09-14 00:00:00 not found. Using nearest date: 2024-07-30 00:00:00\n"
     ]
    },
    {
     "name": "stderr",
     "output_type": "stream",
     "text": [
      "Processing:   1%|▋                                                              | 490/46077 [29:35<49:37:52,  3.92s/it]"
     ]
    },
    {
     "name": "stdout",
     "output_type": "stream",
     "text": [
      "Reference date 2023-11-22 00:00:00 not found. Using nearest date: 2023-12-01 00:00:00\n"
     ]
    },
    {
     "name": "stderr",
     "output_type": "stream",
     "text": [
      "Processing:   1%|▋                                                              | 491/46077 [29:39<49:41:19,  3.92s/it]"
     ]
    },
    {
     "name": "stdout",
     "output_type": "stream",
     "text": [
      "Reference date 2023-11-22 00:00:00 not found. Using nearest date: 2023-12-01 00:00:00\n"
     ]
    },
    {
     "name": "stderr",
     "output_type": "stream",
     "text": [
      "Processing:   1%|▋                                                              | 492/46077 [29:43<48:57:35,  3.87s/it]"
     ]
    },
    {
     "name": "stdout",
     "output_type": "stream",
     "text": [
      "Reference date 2023-11-21 00:00:00 not found. Using nearest date: 2023-12-01 00:00:00\n"
     ]
    },
    {
     "name": "stderr",
     "output_type": "stream",
     "text": [
      "Processing:   1%|▋                                                               | 529/46077 [29:47<4:07:08,  3.07it/s]"
     ]
    },
    {
     "name": "stdout",
     "output_type": "stream",
     "text": [
      "Error for YATHARTH on 2024-09-14 00:00:00: Insufficient data to determine d+1.\n",
      "Reference date 2024-09-14 00:00:00 not found. Using nearest date: 2024-07-30 00:00:00\n"
     ]
    },
    {
     "name": "stderr",
     "output_type": "stream",
     "text": [
      "Processing:   1%|▋                                                               | 530/46077 [29:50<5:38:16,  2.24it/s]"
     ]
    },
    {
     "name": "stdout",
     "output_type": "stream",
     "text": [
      "Reference date 2023-07-26 00:00:00 not found. Using nearest date: 2023-08-07 00:00:00\n"
     ]
    },
    {
     "name": "stderr",
     "output_type": "stream",
     "text": [
      "Processing:   1%|▋                                                               | 531/46077 [29:54<7:39:12,  1.65it/s]"
     ]
    },
    {
     "name": "stdout",
     "output_type": "stream",
     "text": [
      "Reference date 2023-07-26 00:00:00 not found. Using nearest date: 2023-08-07 00:00:00\n"
     ]
    },
    {
     "name": "stderr",
     "output_type": "stream",
     "text": [
      "Processing:   1%|▋                                                              | 532/46077 [29:58<10:15:33,  1.23it/s]"
     ]
    },
    {
     "name": "stdout",
     "output_type": "stream",
     "text": [
      "Reference date 2023-07-26 00:00:00 not found. Using nearest date: 2023-08-07 00:00:00\n"
     ]
    },
    {
     "name": "stderr",
     "output_type": "stream",
     "text": [
      "Processing:   1%|▋                                                              | 533/46077 [30:02<13:21:49,  1.06s/it]"
     ]
    },
    {
     "name": "stdout",
     "output_type": "stream",
     "text": [
      "Reference date 2023-07-26 00:00:00 not found. Using nearest date: 2023-08-07 00:00:00\n"
     ]
    },
    {
     "name": "stderr",
     "output_type": "stream",
     "text": [
      "Processing:   1%|▋                                                              | 534/46077 [30:06<17:03:07,  1.35s/it]"
     ]
    },
    {
     "name": "stdout",
     "output_type": "stream",
     "text": [
      "Reference date 2023-07-26 00:00:00 not found. Using nearest date: 2023-08-07 00:00:00\n"
     ]
    },
    {
     "name": "stderr",
     "output_type": "stream",
     "text": [
      "Processing:   1%|▋                                                              | 535/46077 [30:09<21:06:02,  1.67s/it]"
     ]
    },
    {
     "name": "stdout",
     "output_type": "stream",
     "text": [
      "Reference date 2023-07-25 00:00:00 not found. Using nearest date: 2023-08-07 00:00:00\n"
     ]
    },
    {
     "name": "stderr",
     "output_type": "stream",
     "text": [
      "Processing:   1%|▋                                                              | 536/46077 [30:13<25:18:41,  2.00s/it]"
     ]
    },
    {
     "name": "stdout",
     "output_type": "stream",
     "text": [
      "Reference date 2023-07-25 00:00:00 not found. Using nearest date: 2023-08-07 00:00:00\n"
     ]
    },
    {
     "name": "stderr",
     "output_type": "stream",
     "text": [
      "Processing:   1%|▋                                                              | 537/46077 [30:17<29:39:39,  2.34s/it]"
     ]
    },
    {
     "name": "stdout",
     "output_type": "stream",
     "text": [
      "Reference date 2023-07-25 00:00:00 not found. Using nearest date: 2023-08-07 00:00:00\n"
     ]
    },
    {
     "name": "stderr",
     "output_type": "stream",
     "text": [
      "Processing:   1%|▋                                                              | 538/46077 [30:21<33:19:48,  2.63s/it]"
     ]
    },
    {
     "name": "stdout",
     "output_type": "stream",
     "text": [
      "Reference date 2023-07-25 00:00:00 not found. Using nearest date: 2023-08-07 00:00:00\n"
     ]
    },
    {
     "name": "stderr",
     "output_type": "stream",
     "text": [
      "Processing:   1%|▋                                                              | 539/46077 [30:25<36:49:25,  2.91s/it]"
     ]
    },
    {
     "name": "stdout",
     "output_type": "stream",
     "text": [
      "Reference date 2023-07-25 00:00:00 not found. Using nearest date: 2023-08-07 00:00:00\n"
     ]
    },
    {
     "name": "stderr",
     "output_type": "stream",
     "text": [
      "Processing:   1%|▋                                                              | 540/46077 [30:28<39:22:28,  3.11s/it]"
     ]
    },
    {
     "name": "stdout",
     "output_type": "stream",
     "text": [
      "Reference date 2023-07-25 00:00:00 not found. Using nearest date: 2023-08-07 00:00:00\n"
     ]
    },
    {
     "name": "stderr",
     "output_type": "stream",
     "text": [
      "Processing:   1%|▋                                                              | 541/46077 [30:32<41:31:58,  3.28s/it]"
     ]
    },
    {
     "name": "stdout",
     "output_type": "stream",
     "text": [
      "Reference date 2023-07-25 00:00:00 not found. Using nearest date: 2023-08-07 00:00:00\n"
     ]
    },
    {
     "name": "stderr",
     "output_type": "stream",
     "text": [
      "Processing:   1%|▊                                                              | 574/46077 [31:10<37:42:06,  2.98s/it]"
     ]
    },
    {
     "name": "stdout",
     "output_type": "stream",
     "text": [
      "Reference date 2018-09-29 00:00:00 not found. Using nearest date: 2018-09-28 00:00:00\n"
     ]
    },
    {
     "name": "stderr",
     "output_type": "stream",
     "text": [
      "Processing:   1%|▉                                                               | 645/46077 [31:40<2:24:27,  5.24it/s]"
     ]
    },
    {
     "name": "stdout",
     "output_type": "stream",
     "text": [
      "Error for KAJARIACER on 2024-09-14 00:00:00: Insufficient data to determine d+1.\n",
      "Reference date 2024-09-14 00:00:00 not found. Using nearest date: 2024-07-30 00:00:00\n"
     ]
    },
    {
     "name": "stderr",
     "output_type": "stream",
     "text": [
      "Processing:   1%|▉                                                               | 646/46077 [31:44<3:23:56,  3.71it/s]"
     ]
    },
    {
     "name": "stdout",
     "output_type": "stream",
     "text": [
      "Error for KAJARIACER on 2024-08-07 00:00:00: Insufficient data to determine d+1.\n",
      "Reference date 2024-08-07 00:00:00 not found. Using nearest date: 2024-07-30 00:00:00\n"
     ]
    },
    {
     "name": "stderr",
     "output_type": "stream",
     "text": [
      "Processing:   1%|▉                                                              | 661/46077 [32:44<49:30:49,  3.92s/it]"
     ]
    },
    {
     "name": "stdout",
     "output_type": "stream",
     "text": [
      "Reference date 2023-10-22 00:00:00 not found. Using nearest date: 2023-10-23 00:00:00\n"
     ]
    },
    {
     "name": "stderr",
     "output_type": "stream",
     "text": [
      "Processing:   1%|▉                                                              | 662/46077 [32:48<49:56:53,  3.96s/it]"
     ]
    },
    {
     "name": "stdout",
     "output_type": "stream",
     "text": [
      "Reference date 2023-10-22 00:00:00 not found. Using nearest date: 2023-10-23 00:00:00\n"
     ]
    },
    {
     "name": "stderr",
     "output_type": "stream",
     "text": [
      "Processing:   1%|▉                                                              | 663/46077 [32:52<49:55:56,  3.96s/it]"
     ]
    },
    {
     "name": "stdout",
     "output_type": "stream",
     "text": [
      "Reference date 2023-10-21 00:00:00 not found. Using nearest date: 2023-10-20 00:00:00\n"
     ]
    },
    {
     "name": "stderr",
     "output_type": "stream",
     "text": [
      "Processing:   1%|▉                                                              | 673/46077 [33:31<48:52:24,  3.88s/it]"
     ]
    },
    {
     "name": "stdout",
     "output_type": "stream",
     "text": [
      "Reference date 2023-06-29 00:00:00 not found. Using nearest date: 2023-06-30 00:00:00\n"
     ]
    },
    {
     "name": "stderr",
     "output_type": "stream",
     "text": [
      "Processing:   1%|▉                                                              | 680/46077 [33:58<48:07:37,  3.82s/it]"
     ]
    },
    {
     "name": "stdout",
     "output_type": "stream",
     "text": [
      "Reference date 2023-01-29 00:00:00 not found. Using nearest date: 2023-01-30 00:00:00\n"
     ]
    },
    {
     "name": "stderr",
     "output_type": "stream",
     "text": [
      "Processing:   1%|▉                                                              | 682/46077 [34:05<48:17:16,  3.83s/it]"
     ]
    },
    {
     "name": "stdout",
     "output_type": "stream",
     "text": [
      "Reference date 2022-11-08 00:00:00 not found. Using nearest date: 2022-11-09 00:00:00\n"
     ]
    },
    {
     "name": "stderr",
     "output_type": "stream",
     "text": [
      "Processing:   2%|▉                                                              | 726/46077 [36:56<48:20:54,  3.84s/it]"
     ]
    },
    {
     "name": "stdout",
     "output_type": "stream",
     "text": [
      "Reference date 2020-08-08 00:00:00 not found. Using nearest date: 2020-08-07 00:00:00\n"
     ]
    },
    {
     "name": "stderr",
     "output_type": "stream",
     "text": [
      "Processing:   2%|▉                                                              | 730/46077 [37:11<48:08:21,  3.82s/it]"
     ]
    },
    {
     "name": "stdout",
     "output_type": "stream",
     "text": [
      "Reference date 2020-06-27 00:00:00 not found. Using nearest date: 2020-06-26 00:00:00\n"
     ]
    },
    {
     "name": "stderr",
     "output_type": "stream",
     "text": [
      "Processing:   2%|█                                                              | 788/46077 [40:54<48:15:43,  3.84s/it]"
     ]
    },
    {
     "name": "stdout",
     "output_type": "stream",
     "text": [
      "Reference date 2016-10-29 00:00:00 not found. Using nearest date: 2016-10-28 00:00:00\n"
     ]
    },
    {
     "name": "stderr",
     "output_type": "stream",
     "text": [
      "Processing:   2%|█▏                                                             | 841/46077 [43:19<45:28:27,  3.62s/it]"
     ]
    },
    {
     "name": "stdout",
     "output_type": "stream",
     "text": [
      "Reference date 2015-11-28 00:00:00 not found. Using nearest date: 2015-11-27 00:00:00\n"
     ]
    },
    {
     "name": "stderr",
     "output_type": "stream",
     "text": [
      "Processing:   2%|█▏                                                             | 851/46077 [43:38<20:30:55,  1.63s/it]"
     ]
    },
    {
     "name": "stdout",
     "output_type": "stream",
     "text": [
      "Error for USHAMART on 2024-09-14 00:00:00: Insufficient data to determine d+1.\n",
      "Reference date 2024-09-14 00:00:00 not found. Using nearest date: 2024-07-30 00:00:00\n"
     ]
    },
    {
     "name": "stderr",
     "output_type": "stream",
     "text": [
      "Processing:   2%|█▏                                                             | 855/46077 [43:53<36:20:26,  2.89s/it]"
     ]
    },
    {
     "name": "stdout",
     "output_type": "stream",
     "text": [
      "Error for VOLTAMP on 2024-09-14 00:00:00: Insufficient data to determine d+1.\n",
      "Reference date 2024-09-14 00:00:00 not found. Using nearest date: 2024-07-30 00:00:00\n"
     ]
    },
    {
     "name": "stderr",
     "output_type": "stream",
     "text": [
      "Processing:   2%|█▏                                                             | 856/46077 [43:57<38:59:37,  3.10s/it]"
     ]
    },
    {
     "name": "stdout",
     "output_type": "stream",
     "text": [
      "Error for VOLTAMP on 2024-07-30 00:00:00: Insufficient data to determine d+1.\n"
     ]
    },
    {
     "name": "stderr",
     "output_type": "stream",
     "text": [
      "Processing:   2%|█▏                                                             | 860/46077 [44:12<45:16:46,  3.60s/it]"
     ]
    },
    {
     "name": "stdout",
     "output_type": "stream",
     "text": [
      "Reference date 2023-05-28 00:00:00 not found. Using nearest date: 2023-05-29 00:00:00\n"
     ]
    },
    {
     "name": "stderr",
     "output_type": "stream",
     "text": [
      "Processing:   2%|█▏                                                             | 861/46077 [44:16<46:32:38,  3.71s/it]"
     ]
    },
    {
     "name": "stdout",
     "output_type": "stream",
     "text": [
      "Reference date 2023-05-27 00:00:00 not found. Using nearest date: 2023-05-26 00:00:00\n"
     ]
    },
    {
     "name": "stderr",
     "output_type": "stream",
     "text": [
      "Processing:   2%|█▏                                                             | 867/46077 [44:39<47:57:29,  3.82s/it]"
     ]
    },
    {
     "name": "stdout",
     "output_type": "stream",
     "text": [
      "Reference date 2021-08-15 00:00:00 not found. Using nearest date: 2021-08-16 00:00:00\n"
     ]
    },
    {
     "name": "stderr",
     "output_type": "stream",
     "text": [
      "Processing:   2%|█▏                                                             | 877/46077 [45:17<47:29:05,  3.78s/it]"
     ]
    },
    {
     "name": "stdout",
     "output_type": "stream",
     "text": [
      "Reference date 2019-11-12 00:00:00 not found. Using nearest date: 2019-11-13 00:00:00\n"
     ]
    },
    {
     "name": "stderr",
     "output_type": "stream",
     "text": [
      "Processing:   2%|█▏                                                             | 893/46077 [46:18<47:25:13,  3.78s/it]"
     ]
    },
    {
     "name": "stdout",
     "output_type": "stream",
     "text": [
      "Error for PVRINOX on 2024-09-14 00:00:00: Insufficient data to determine d+1.\n",
      "Reference date 2024-09-14 00:00:00 not found. Using nearest date: 2024-07-30 00:00:00\n"
     ]
    },
    {
     "name": "stderr",
     "output_type": "stream",
     "text": [
      "Processing:   2%|█▏                                                             | 894/46077 [46:22<47:21:30,  3.77s/it]"
     ]
    },
    {
     "name": "stdout",
     "output_type": "stream",
     "text": [
      "Error for PVRINOX on 2024-08-09 00:00:00: Insufficient data to determine d+1.\n",
      "Reference date 2024-08-09 00:00:00 not found. Using nearest date: 2024-07-30 00:00:00\n"
     ]
    },
    {
     "name": "stderr",
     "output_type": "stream",
     "text": [
      "Processing:   2%|█▏                                                             | 900/46077 [46:44<47:15:05,  3.77s/it]"
     ]
    },
    {
     "name": "stdout",
     "output_type": "stream",
     "text": [
      "Reference date 2024-07-21 00:00:00 not found. Using nearest date: 2024-07-22 00:00:00\n"
     ]
    },
    {
     "name": "stderr",
     "output_type": "stream",
     "text": [
      "Processing:   2%|█▎                                                             | 915/46077 [47:41<47:25:38,  3.78s/it]"
     ]
    },
    {
     "name": "stdout",
     "output_type": "stream",
     "text": [
      "Reference date 2023-08-15 00:00:00 not found. Using nearest date: 2023-08-16 00:00:00\n"
     ]
    },
    {
     "name": "stderr",
     "output_type": "stream",
     "text": [
      "Processing:   2%|█▎                                                             | 916/46077 [47:45<47:21:05,  3.77s/it]"
     ]
    },
    {
     "name": "stdout",
     "output_type": "stream",
     "text": [
      "Reference date 2023-08-02 00:00:00 not found. Using nearest date: 2023-08-03 00:00:00\n"
     ]
    },
    {
     "name": "stderr",
     "output_type": "stream",
     "text": [
      "Processing:   2%|█▎                                                             | 917/46077 [47:49<47:13:12,  3.76s/it]"
     ]
    },
    {
     "name": "stdout",
     "output_type": "stream",
     "text": [
      "Reference date 2023-08-02 00:00:00 not found. Using nearest date: 2023-08-03 00:00:00\n"
     ]
    },
    {
     "name": "stderr",
     "output_type": "stream",
     "text": [
      "Processing:   2%|█▎                                                             | 918/46077 [47:52<47:07:18,  3.76s/it]"
     ]
    },
    {
     "name": "stdout",
     "output_type": "stream",
     "text": [
      "Reference date 2023-08-01 00:00:00 not found. Using nearest date: 2023-08-03 00:00:00\n"
     ]
    },
    {
     "name": "stderr",
     "output_type": "stream",
     "text": [
      "Processing:   2%|█▎                                                             | 920/46077 [48:00<48:10:22,  3.84s/it]"
     ]
    },
    {
     "name": "stdout",
     "output_type": "stream",
     "text": [
      "Reference date 2023-06-29 00:00:00 not found. Using nearest date: 2023-06-30 00:00:00\n"
     ]
    },
    {
     "name": "stderr",
     "output_type": "stream",
     "text": [
      "Processing:   2%|█▎                                                             | 930/46077 [48:38<47:35:00,  3.79s/it]"
     ]
    },
    {
     "name": "stdout",
     "output_type": "stream",
     "text": [
      "Reference date 2022-11-03 00:00:00 not found. Using nearest date: 2022-11-10 00:00:00\n"
     ]
    },
    {
     "name": "stderr",
     "output_type": "stream",
     "text": [
      "Processing:   2%|█▎                                                             | 931/46077 [48:42<47:17:31,  3.77s/it]"
     ]
    },
    {
     "name": "stdout",
     "output_type": "stream",
     "text": [
      "Reference date 2022-10-18 00:00:00 not found. Using nearest date: 2022-11-10 00:00:00\n"
     ]
    },
    {
     "name": "stderr",
     "output_type": "stream",
     "text": [
      "Processing:   2%|█▎                                                             | 932/46077 [48:45<47:25:53,  3.78s/it]"
     ]
    },
    {
     "name": "stdout",
     "output_type": "stream",
     "text": [
      "Reference date 2022-10-18 00:00:00 not found. Using nearest date: 2022-11-10 00:00:00\n"
     ]
    },
    {
     "name": "stderr",
     "output_type": "stream",
     "text": [
      "Processing:   2%|█▎                                                             | 933/46077 [48:49<47:16:11,  3.77s/it]"
     ]
    },
    {
     "name": "stdout",
     "output_type": "stream",
     "text": [
      "Reference date 2022-10-17 00:00:00 not found. Using nearest date: 2022-11-10 00:00:00\n"
     ]
    },
    {
     "name": "stderr",
     "output_type": "stream",
     "text": [
      "Processing:   2%|█▎                                                             | 934/46077 [48:53<47:03:42,  3.75s/it]"
     ]
    },
    {
     "name": "stdout",
     "output_type": "stream",
     "text": [
      "Reference date 2022-10-17 00:00:00 not found. Using nearest date: 2022-11-10 00:00:00\n"
     ]
    },
    {
     "name": "stderr",
     "output_type": "stream",
     "text": [
      "Processing:   2%|█▎                                                             | 935/46077 [48:57<47:25:07,  3.78s/it]"
     ]
    },
    {
     "name": "stdout",
     "output_type": "stream",
     "text": [
      "Reference date 2022-09-22 00:00:00 not found. Using nearest date: 2022-11-10 00:00:00\n"
     ]
    },
    {
     "name": "stderr",
     "output_type": "stream",
     "text": [
      "Processing:   2%|█▎                                                             | 936/46077 [49:01<47:24:45,  3.78s/it]"
     ]
    },
    {
     "name": "stdout",
     "output_type": "stream",
     "text": [
      "Reference date 2022-08-01 00:00:00 not found. Using nearest date: 2022-11-10 00:00:00\n"
     ]
    },
    {
     "name": "stderr",
     "output_type": "stream",
     "text": [
      "Processing:   2%|█▎                                                             | 937/46077 [49:04<47:24:45,  3.78s/it]"
     ]
    },
    {
     "name": "stdout",
     "output_type": "stream",
     "text": [
      "Reference date 2022-07-22 00:00:00 not found. Using nearest date: 2022-11-10 00:00:00\n"
     ]
    },
    {
     "name": "stderr",
     "output_type": "stream",
     "text": [
      "Processing:   2%|█▎                                                             | 938/46077 [49:08<47:14:08,  3.77s/it]"
     ]
    },
    {
     "name": "stdout",
     "output_type": "stream",
     "text": [
      "Reference date 2022-07-22 00:00:00 not found. Using nearest date: 2022-11-10 00:00:00\n"
     ]
    },
    {
     "name": "stderr",
     "output_type": "stream",
     "text": [
      "Processing:   2%|█▎                                                             | 939/46077 [49:12<47:24:01,  3.78s/it]"
     ]
    },
    {
     "name": "stdout",
     "output_type": "stream",
     "text": [
      "Reference date 2022-07-22 00:00:00 not found. Using nearest date: 2022-11-10 00:00:00\n"
     ]
    },
    {
     "name": "stderr",
     "output_type": "stream",
     "text": [
      "Processing:   2%|█▎                                                             | 940/46077 [49:16<47:12:36,  3.77s/it]"
     ]
    },
    {
     "name": "stdout",
     "output_type": "stream",
     "text": [
      "Reference date 2022-05-12 00:00:00 not found. Using nearest date: 2022-11-10 00:00:00\n"
     ]
    },
    {
     "name": "stderr",
     "output_type": "stream",
     "text": [
      "Processing:   2%|█▎                                                             | 941/46077 [49:19<47:28:01,  3.79s/it]"
     ]
    },
    {
     "name": "stdout",
     "output_type": "stream",
     "text": [
      "Reference date 2022-05-10 00:00:00 not found. Using nearest date: 2022-11-10 00:00:00\n"
     ]
    },
    {
     "name": "stderr",
     "output_type": "stream",
     "text": [
      "Processing:   2%|█▎                                                             | 942/46077 [49:23<47:12:57,  3.77s/it]"
     ]
    },
    {
     "name": "stdout",
     "output_type": "stream",
     "text": [
      "Reference date 2022-05-10 00:00:00 not found. Using nearest date: 2022-11-10 00:00:00\n"
     ]
    },
    {
     "name": "stderr",
     "output_type": "stream",
     "text": [
      "Processing:   2%|█▎                                                             | 943/46077 [49:27<47:32:01,  3.79s/it]"
     ]
    },
    {
     "name": "stdout",
     "output_type": "stream",
     "text": [
      "Reference date 2022-05-10 00:00:00 not found. Using nearest date: 2022-11-10 00:00:00\n"
     ]
    },
    {
     "name": "stderr",
     "output_type": "stream",
     "text": [
      "Processing:   2%|█▎                                                             | 944/46077 [49:31<47:20:57,  3.78s/it]"
     ]
    },
    {
     "name": "stdout",
     "output_type": "stream",
     "text": [
      "Reference date 2022-05-09 00:00:00 not found. Using nearest date: 2022-11-10 00:00:00\n"
     ]
    },
    {
     "name": "stderr",
     "output_type": "stream",
     "text": [
      "Processing:   2%|█▎                                                             | 945/46077 [49:35<48:40:40,  3.88s/it]"
     ]
    },
    {
     "name": "stdout",
     "output_type": "stream",
     "text": [
      "Reference date 2022-03-28 00:00:00 not found. Using nearest date: 2022-11-10 00:00:00\n"
     ]
    },
    {
     "name": "stderr",
     "output_type": "stream",
     "text": [
      "Processing:   2%|█▎                                                             | 946/46077 [49:39<48:38:36,  3.88s/it]"
     ]
    },
    {
     "name": "stdout",
     "output_type": "stream",
     "text": [
      "Reference date 2022-03-05 00:00:00 not found. Using nearest date: 2022-11-10 00:00:00\n"
     ]
    },
    {
     "name": "stderr",
     "output_type": "stream",
     "text": [
      "Processing:   2%|█▎                                                             | 947/46077 [49:42<48:04:58,  3.84s/it]"
     ]
    },
    {
     "name": "stdout",
     "output_type": "stream",
     "text": [
      "Reference date 2022-01-24 00:00:00 not found. Using nearest date: 2022-11-10 00:00:00\n"
     ]
    },
    {
     "name": "stderr",
     "output_type": "stream",
     "text": [
      "Processing:   2%|█▎                                                             | 948/46077 [49:46<48:10:47,  3.84s/it]"
     ]
    },
    {
     "name": "stdout",
     "output_type": "stream",
     "text": [
      "Reference date 2022-01-23 00:00:00 not found. Using nearest date: 2022-11-10 00:00:00\n"
     ]
    },
    {
     "name": "stderr",
     "output_type": "stream",
     "text": [
      "Processing:   2%|█▎                                                             | 949/46077 [49:50<47:53:27,  3.82s/it]"
     ]
    },
    {
     "name": "stdout",
     "output_type": "stream",
     "text": [
      "Reference date 2022-01-22 00:00:00 not found. Using nearest date: 2022-11-10 00:00:00\n"
     ]
    },
    {
     "name": "stderr",
     "output_type": "stream",
     "text": [
      "Processing:   2%|█▎                                                             | 950/46077 [49:54<47:36:34,  3.80s/it]"
     ]
    },
    {
     "name": "stdout",
     "output_type": "stream",
     "text": [
      "Reference date 2021-11-15 00:00:00 not found. Using nearest date: 2022-11-10 00:00:00\n"
     ]
    },
    {
     "name": "stderr",
     "output_type": "stream",
     "text": [
      "Processing:   2%|█▎                                                             | 951/46077 [49:58<47:53:54,  3.82s/it]"
     ]
    },
    {
     "name": "stdout",
     "output_type": "stream",
     "text": [
      "Reference date 2021-10-25 00:00:00 not found. Using nearest date: 2022-11-10 00:00:00\n"
     ]
    },
    {
     "name": "stderr",
     "output_type": "stream",
     "text": [
      "Processing:   2%|█▎                                                             | 952/46077 [50:02<47:55:25,  3.82s/it]"
     ]
    },
    {
     "name": "stdout",
     "output_type": "stream",
     "text": [
      "Reference date 2021-10-25 00:00:00 not found. Using nearest date: 2022-11-10 00:00:00\n"
     ]
    },
    {
     "name": "stderr",
     "output_type": "stream",
     "text": [
      "Processing:   2%|█▎                                                             | 953/46077 [50:05<47:42:37,  3.81s/it]"
     ]
    },
    {
     "name": "stdout",
     "output_type": "stream",
     "text": [
      "Reference date 2021-10-25 00:00:00 not found. Using nearest date: 2022-11-10 00:00:00\n"
     ]
    },
    {
     "name": "stderr",
     "output_type": "stream",
     "text": [
      "Processing:   2%|█▎                                                             | 954/46077 [50:09<47:28:37,  3.79s/it]"
     ]
    },
    {
     "name": "stdout",
     "output_type": "stream",
     "text": [
      "Reference date 2021-10-23 00:00:00 not found. Using nearest date: 2022-11-10 00:00:00\n"
     ]
    },
    {
     "name": "stderr",
     "output_type": "stream",
     "text": [
      "Processing:   2%|█▎                                                             | 955/46077 [50:13<47:10:30,  3.76s/it]"
     ]
    },
    {
     "name": "stdout",
     "output_type": "stream",
     "text": [
      "Reference date 2021-08-20 00:00:00 not found. Using nearest date: 2022-11-10 00:00:00\n"
     ]
    },
    {
     "name": "stderr",
     "output_type": "stream",
     "text": [
      "Processing:   2%|█▎                                                             | 956/46077 [50:17<47:24:57,  3.78s/it]"
     ]
    },
    {
     "name": "stdout",
     "output_type": "stream",
     "text": [
      "Reference date 2021-08-01 00:00:00 not found. Using nearest date: 2022-11-10 00:00:00\n"
     ]
    },
    {
     "name": "stderr",
     "output_type": "stream",
     "text": [
      "Processing:   2%|█▎                                                             | 957/46077 [50:20<47:49:25,  3.82s/it]"
     ]
    },
    {
     "name": "stdout",
     "output_type": "stream",
     "text": [
      "Reference date 2021-07-31 00:00:00 not found. Using nearest date: 2022-11-10 00:00:00\n"
     ]
    },
    {
     "name": "stderr",
     "output_type": "stream",
     "text": [
      "Processing:   2%|█▎                                                             | 958/46077 [50:24<47:46:46,  3.81s/it]"
     ]
    },
    {
     "name": "stdout",
     "output_type": "stream",
     "text": [
      "Reference date 2021-06-12 00:00:00 not found. Using nearest date: 2022-11-10 00:00:00\n"
     ]
    },
    {
     "name": "stderr",
     "output_type": "stream",
     "text": [
      "Processing:   2%|█▎                                                             | 959/46077 [50:28<47:27:29,  3.79s/it]"
     ]
    },
    {
     "name": "stdout",
     "output_type": "stream",
     "text": [
      "Reference date 2021-06-03 00:00:00 not found. Using nearest date: 2022-11-10 00:00:00\n"
     ]
    },
    {
     "name": "stderr",
     "output_type": "stream",
     "text": [
      "Processing:   2%|█▎                                                             | 960/46077 [50:32<47:18:56,  3.78s/it]"
     ]
    },
    {
     "name": "stdout",
     "output_type": "stream",
     "text": [
      "Reference date 2021-06-03 00:00:00 not found. Using nearest date: 2022-11-10 00:00:00\n"
     ]
    },
    {
     "name": "stderr",
     "output_type": "stream",
     "text": [
      "Processing:   2%|█▎                                                             | 961/46077 [50:36<47:14:10,  3.77s/it]"
     ]
    },
    {
     "name": "stdout",
     "output_type": "stream",
     "text": [
      "Reference date 2021-06-03 00:00:00 not found. Using nearest date: 2022-11-10 00:00:00\n"
     ]
    },
    {
     "name": "stderr",
     "output_type": "stream",
     "text": [
      "Processing:   2%|█▎                                                             | 962/46077 [50:39<47:01:44,  3.75s/it]"
     ]
    },
    {
     "name": "stdout",
     "output_type": "stream",
     "text": [
      "Reference date 2021-06-03 00:00:00 not found. Using nearest date: 2022-11-10 00:00:00\n"
     ]
    },
    {
     "name": "stderr",
     "output_type": "stream",
     "text": [
      "Processing:   2%|█▎                                                             | 963/46077 [50:43<47:36:19,  3.80s/it]"
     ]
    },
    {
     "name": "stdout",
     "output_type": "stream",
     "text": [
      "Reference date 2021-04-05 00:00:00 not found. Using nearest date: 2022-11-10 00:00:00\n"
     ]
    },
    {
     "name": "stderr",
     "output_type": "stream",
     "text": [
      "Processing:   2%|█▎                                                             | 964/46077 [50:47<49:28:37,  3.95s/it]"
     ]
    },
    {
     "name": "stdout",
     "output_type": "stream",
     "text": [
      "Reference date 2021-02-18 00:00:00 not found. Using nearest date: 2022-11-10 00:00:00\n"
     ]
    },
    {
     "name": "stderr",
     "output_type": "stream",
     "text": [
      "Processing:   2%|█▎                                                             | 965/46077 [50:51<48:43:53,  3.89s/it]"
     ]
    },
    {
     "name": "stdout",
     "output_type": "stream",
     "text": [
      "Reference date 2021-01-21 00:00:00 not found. Using nearest date: 2022-11-10 00:00:00\n"
     ]
    },
    {
     "name": "stderr",
     "output_type": "stream",
     "text": [
      "Processing:   2%|█▎                                                             | 966/46077 [50:55<48:30:08,  3.87s/it]"
     ]
    },
    {
     "name": "stdout",
     "output_type": "stream",
     "text": [
      "Reference date 2021-01-16 00:00:00 not found. Using nearest date: 2022-11-10 00:00:00\n"
     ]
    },
    {
     "name": "stderr",
     "output_type": "stream",
     "text": [
      "Processing:   2%|█▎                                                             | 967/46077 [50:59<48:06:25,  3.84s/it]"
     ]
    },
    {
     "name": "stdout",
     "output_type": "stream",
     "text": [
      "Reference date 2021-01-16 00:00:00 not found. Using nearest date: 2022-11-10 00:00:00\n"
     ]
    },
    {
     "name": "stderr",
     "output_type": "stream",
     "text": [
      "Processing:   2%|█▎                                                             | 968/46077 [51:03<48:00:37,  3.83s/it]"
     ]
    },
    {
     "name": "stdout",
     "output_type": "stream",
     "text": [
      "Reference date 2021-01-16 00:00:00 not found. Using nearest date: 2022-11-10 00:00:00\n"
     ]
    },
    {
     "name": "stderr",
     "output_type": "stream",
     "text": [
      "Processing:   2%|█▎                                                             | 969/46077 [51:06<47:45:27,  3.81s/it]"
     ]
    },
    {
     "name": "stdout",
     "output_type": "stream",
     "text": [
      "Reference date 2021-01-16 00:00:00 not found. Using nearest date: 2022-11-10 00:00:00\n"
     ]
    },
    {
     "name": "stderr",
     "output_type": "stream",
     "text": [
      "Processing:   2%|█▎                                                             | 970/46077 [51:10<47:39:33,  3.80s/it]"
     ]
    },
    {
     "name": "stdout",
     "output_type": "stream",
     "text": [
      "Reference date 2020-11-05 00:00:00 not found. Using nearest date: 2022-11-10 00:00:00\n"
     ]
    },
    {
     "name": "stderr",
     "output_type": "stream",
     "text": [
      "Processing:   2%|█▎                                                             | 971/46077 [51:14<47:29:58,  3.79s/it]"
     ]
    },
    {
     "name": "stdout",
     "output_type": "stream",
     "text": [
      "Reference date 2020-11-04 00:00:00 not found. Using nearest date: 2022-11-10 00:00:00\n"
     ]
    },
    {
     "name": "stderr",
     "output_type": "stream",
     "text": [
      "Processing:   2%|█▎                                                             | 972/46077 [51:18<47:13:38,  3.77s/it]"
     ]
    },
    {
     "name": "stdout",
     "output_type": "stream",
     "text": [
      "Reference date 2020-09-16 00:00:00 not found. Using nearest date: 2022-11-10 00:00:00\n"
     ]
    },
    {
     "name": "stderr",
     "output_type": "stream",
     "text": [
      "Processing:   2%|█▎                                                             | 973/46077 [51:21<47:11:20,  3.77s/it]"
     ]
    },
    {
     "name": "stdout",
     "output_type": "stream",
     "text": [
      "Reference date 2020-09-16 00:00:00 not found. Using nearest date: 2022-11-10 00:00:00\n"
     ]
    },
    {
     "name": "stderr",
     "output_type": "stream",
     "text": [
      "Processing:   2%|█▎                                                             | 974/46077 [51:25<47:52:24,  3.82s/it]"
     ]
    },
    {
     "name": "stdout",
     "output_type": "stream",
     "text": [
      "Reference date 2020-09-15 00:00:00 not found. Using nearest date: 2022-11-10 00:00:00\n"
     ]
    },
    {
     "name": "stderr",
     "output_type": "stream",
     "text": [
      "Processing:   2%|█▎                                                             | 975/46077 [51:29<47:37:54,  3.80s/it]"
     ]
    },
    {
     "name": "stdout",
     "output_type": "stream",
     "text": [
      "Reference date 2020-09-15 00:00:00 not found. Using nearest date: 2022-11-10 00:00:00\n"
     ]
    },
    {
     "name": "stderr",
     "output_type": "stream",
     "text": [
      "Processing:   2%|█▎                                                             | 976/46077 [51:33<48:20:18,  3.86s/it]"
     ]
    },
    {
     "name": "stdout",
     "output_type": "stream",
     "text": [
      "Reference date 2020-09-15 00:00:00 not found. Using nearest date: 2022-11-10 00:00:00\n"
     ]
    },
    {
     "name": "stderr",
     "output_type": "stream",
     "text": [
      "Processing:   2%|█▎                                                             | 977/46077 [51:37<47:55:21,  3.83s/it]"
     ]
    },
    {
     "name": "stdout",
     "output_type": "stream",
     "text": [
      "Reference date 2020-07-15 00:00:00 not found. Using nearest date: 2022-11-10 00:00:00\n"
     ]
    },
    {
     "name": "stderr",
     "output_type": "stream",
     "text": [
      "Processing:   2%|█▎                                                             | 978/46077 [51:41<47:37:32,  3.80s/it]"
     ]
    },
    {
     "name": "stdout",
     "output_type": "stream",
     "text": [
      "Reference date 2020-06-10 00:00:00 not found. Using nearest date: 2022-11-10 00:00:00\n"
     ]
    },
    {
     "name": "stderr",
     "output_type": "stream",
     "text": [
      "Processing:   2%|█▎                                                             | 979/46077 [51:44<47:37:12,  3.80s/it]"
     ]
    },
    {
     "name": "stdout",
     "output_type": "stream",
     "text": [
      "Reference date 2020-06-10 00:00:00 not found. Using nearest date: 2022-11-10 00:00:00\n"
     ]
    },
    {
     "name": "stderr",
     "output_type": "stream",
     "text": [
      "Processing:   2%|█▎                                                             | 980/46077 [51:48<47:22:03,  3.78s/it]"
     ]
    },
    {
     "name": "stdout",
     "output_type": "stream",
     "text": [
      "Reference date 2020-06-09 00:00:00 not found. Using nearest date: 2022-11-10 00:00:00\n"
     ]
    },
    {
     "name": "stderr",
     "output_type": "stream",
     "text": [
      "Processing:   2%|█▎                                                             | 981/46077 [51:52<47:25:33,  3.79s/it]"
     ]
    },
    {
     "name": "stdout",
     "output_type": "stream",
     "text": [
      "Reference date 2020-06-04 00:00:00 not found. Using nearest date: 2022-11-10 00:00:00\n"
     ]
    },
    {
     "name": "stderr",
     "output_type": "stream",
     "text": [
      "Processing:   2%|█▎                                                             | 982/46077 [51:56<47:17:25,  3.78s/it]"
     ]
    },
    {
     "name": "stdout",
     "output_type": "stream",
     "text": [
      "Reference date 2020-04-28 00:00:00 not found. Using nearest date: 2022-11-10 00:00:00\n"
     ]
    },
    {
     "name": "stderr",
     "output_type": "stream",
     "text": [
      "Processing:   2%|█▎                                                             | 983/46077 [51:59<47:11:54,  3.77s/it]"
     ]
    },
    {
     "name": "stdout",
     "output_type": "stream",
     "text": [
      "Reference date 2020-04-23 00:00:00 not found. Using nearest date: 2022-11-10 00:00:00\n"
     ]
    },
    {
     "name": "stderr",
     "output_type": "stream",
     "text": [
      "Processing:   2%|█▎                                                             | 984/46077 [52:03<47:57:36,  3.83s/it]"
     ]
    },
    {
     "name": "stdout",
     "output_type": "stream",
     "text": [
      "Reference date 2020-03-17 00:00:00 not found. Using nearest date: 2022-11-10 00:00:00\n"
     ]
    },
    {
     "name": "stderr",
     "output_type": "stream",
     "text": [
      "Processing:   2%|█▎                                                             | 985/46077 [52:07<48:22:31,  3.86s/it]"
     ]
    },
    {
     "name": "stdout",
     "output_type": "stream",
     "text": [
      "Reference date 2020-01-24 00:00:00 not found. Using nearest date: 2022-11-10 00:00:00\n"
     ]
    },
    {
     "name": "stderr",
     "output_type": "stream",
     "text": [
      "Processing:   2%|█▎                                                             | 986/46077 [52:11<47:52:29,  3.82s/it]"
     ]
    },
    {
     "name": "stdout",
     "output_type": "stream",
     "text": [
      "Reference date 2020-01-24 00:00:00 not found. Using nearest date: 2022-11-10 00:00:00\n"
     ]
    },
    {
     "name": "stderr",
     "output_type": "stream",
     "text": [
      "Processing:   2%|█▎                                                             | 987/46077 [52:15<47:43:12,  3.81s/it]"
     ]
    },
    {
     "name": "stdout",
     "output_type": "stream",
     "text": [
      "Reference date 2019-12-30 00:00:00 not found. Using nearest date: 2022-11-10 00:00:00\n"
     ]
    },
    {
     "name": "stderr",
     "output_type": "stream",
     "text": [
      "Processing:   2%|█▎                                                             | 988/46077 [52:19<48:08:24,  3.84s/it]"
     ]
    },
    {
     "name": "stdout",
     "output_type": "stream",
     "text": [
      "Reference date 2019-11-26 00:00:00 not found. Using nearest date: 2022-11-10 00:00:00\n"
     ]
    },
    {
     "name": "stderr",
     "output_type": "stream",
     "text": [
      "Processing:   2%|█▎                                                             | 989/46077 [52:23<47:47:14,  3.82s/it]"
     ]
    },
    {
     "name": "stdout",
     "output_type": "stream",
     "text": [
      "Reference date 2019-10-22 00:00:00 not found. Using nearest date: 2022-11-10 00:00:00\n"
     ]
    },
    {
     "name": "stderr",
     "output_type": "stream",
     "text": [
      "Processing:   2%|█▎                                                             | 990/46077 [52:26<48:18:13,  3.86s/it]"
     ]
    },
    {
     "name": "stdout",
     "output_type": "stream",
     "text": [
      "Reference date 2019-10-18 00:00:00 not found. Using nearest date: 2022-11-10 00:00:00\n"
     ]
    },
    {
     "name": "stderr",
     "output_type": "stream",
     "text": [
      "Processing:   2%|█▎                                                             | 991/46077 [52:30<47:57:37,  3.83s/it]"
     ]
    },
    {
     "name": "stdout",
     "output_type": "stream",
     "text": [
      "Reference date 2019-10-17 00:00:00 not found. Using nearest date: 2022-11-10 00:00:00\n"
     ]
    },
    {
     "name": "stderr",
     "output_type": "stream",
     "text": [
      "Processing:   2%|█▎                                                             | 992/46077 [52:34<47:43:11,  3.81s/it]"
     ]
    },
    {
     "name": "stdout",
     "output_type": "stream",
     "text": [
      "Reference date 2019-10-17 00:00:00 not found. Using nearest date: 2022-11-10 00:00:00\n"
     ]
    },
    {
     "name": "stderr",
     "output_type": "stream",
     "text": [
      "Processing:   2%|█▎                                                             | 993/46077 [52:38<47:33:03,  3.80s/it]"
     ]
    },
    {
     "name": "stdout",
     "output_type": "stream",
     "text": [
      "Reference date 2019-08-20 00:00:00 not found. Using nearest date: 2022-11-10 00:00:00\n"
     ]
    },
    {
     "name": "stderr",
     "output_type": "stream",
     "text": [
      "Processing:   2%|█▎                                                             | 994/46077 [52:42<47:24:33,  3.79s/it]"
     ]
    },
    {
     "name": "stdout",
     "output_type": "stream",
     "text": [
      "Reference date 2019-07-26 00:00:00 not found. Using nearest date: 2022-11-10 00:00:00\n"
     ]
    },
    {
     "name": "stderr",
     "output_type": "stream",
     "text": [
      "Processing:   2%|█▎                                                             | 995/46077 [52:45<47:14:18,  3.77s/it]"
     ]
    },
    {
     "name": "stdout",
     "output_type": "stream",
     "text": [
      "Reference date 2019-07-26 00:00:00 not found. Using nearest date: 2022-11-10 00:00:00\n"
     ]
    },
    {
     "name": "stderr",
     "output_type": "stream",
     "text": [
      "Processing:   2%|█▎                                                             | 996/46077 [52:49<47:30:24,  3.79s/it]"
     ]
    },
    {
     "name": "stdout",
     "output_type": "stream",
     "text": [
      "Reference date 2019-07-25 00:00:00 not found. Using nearest date: 2022-11-10 00:00:00\n"
     ]
    },
    {
     "name": "stderr",
     "output_type": "stream",
     "text": [
      "Processing:   2%|█▎                                                             | 997/46077 [52:53<47:16:59,  3.78s/it]"
     ]
    },
    {
     "name": "stdout",
     "output_type": "stream",
     "text": [
      "Reference date 2019-05-20 00:00:00 not found. Using nearest date: 2022-11-10 00:00:00\n"
     ]
    },
    {
     "name": "stderr",
     "output_type": "stream",
     "text": [
      "Processing:   2%|█▎                                                             | 998/46077 [52:57<47:21:41,  3.78s/it]"
     ]
    },
    {
     "name": "stdout",
     "output_type": "stream",
     "text": [
      "Reference date 2019-05-14 00:00:00 not found. Using nearest date: 2022-11-10 00:00:00\n"
     ]
    },
    {
     "name": "stderr",
     "output_type": "stream",
     "text": [
      "Processing:   2%|█▎                                                             | 999/46077 [53:00<47:11:47,  3.77s/it]"
     ]
    },
    {
     "name": "stdout",
     "output_type": "stream",
     "text": [
      "Reference date 2019-05-13 00:00:00 not found. Using nearest date: 2022-11-10 00:00:00\n"
     ]
    },
    {
     "name": "stderr",
     "output_type": "stream",
     "text": [
      "Processing:   2%|█▎                                                            | 1000/46077 [53:04<47:04:36,  3.76s/it]"
     ]
    },
    {
     "name": "stdout",
     "output_type": "stream",
     "text": [
      "Reference date 2019-01-29 00:00:00 not found. Using nearest date: 2022-11-10 00:00:00\n"
     ]
    },
    {
     "name": "stderr",
     "output_type": "stream",
     "text": [
      "Processing:   2%|█▎                                                            | 1001/46077 [53:08<47:20:52,  3.78s/it]"
     ]
    },
    {
     "name": "stdout",
     "output_type": "stream",
     "text": [
      "Reference date 2019-01-28 00:00:00 not found. Using nearest date: 2022-11-10 00:00:00\n"
     ]
    },
    {
     "name": "stderr",
     "output_type": "stream",
     "text": [
      "Processing:   2%|█▎                                                            | 1002/46077 [53:12<47:21:47,  3.78s/it]"
     ]
    },
    {
     "name": "stdout",
     "output_type": "stream",
     "text": [
      "Reference date 2019-01-25 00:00:00 not found. Using nearest date: 2022-11-10 00:00:00\n"
     ]
    },
    {
     "name": "stderr",
     "output_type": "stream",
     "text": [
      "Processing:   2%|█▎                                                            | 1003/46077 [53:16<47:27:52,  3.79s/it]"
     ]
    },
    {
     "name": "stdout",
     "output_type": "stream",
     "text": [
      "Reference date 2018-10-30 00:00:00 not found. Using nearest date: 2022-11-10 00:00:00\n"
     ]
    },
    {
     "name": "stderr",
     "output_type": "stream",
     "text": [
      "Processing:   2%|█▎                                                            | 1004/46077 [53:19<47:22:41,  3.78s/it]"
     ]
    },
    {
     "name": "stdout",
     "output_type": "stream",
     "text": [
      "Reference date 2018-10-29 00:00:00 not found. Using nearest date: 2022-11-10 00:00:00\n"
     ]
    },
    {
     "name": "stderr",
     "output_type": "stream",
     "text": [
      "Processing:   2%|█▎                                                            | 1005/46077 [53:23<47:04:24,  3.76s/it]"
     ]
    },
    {
     "name": "stdout",
     "output_type": "stream",
     "text": [
      "Reference date 2018-10-26 00:00:00 not found. Using nearest date: 2022-11-10 00:00:00\n"
     ]
    },
    {
     "name": "stderr",
     "output_type": "stream",
     "text": [
      "Processing:   2%|█▎                                                            | 1006/46077 [53:27<47:58:29,  3.83s/it]"
     ]
    },
    {
     "name": "stdout",
     "output_type": "stream",
     "text": [
      "Reference date 2018-08-16 00:00:00 not found. Using nearest date: 2022-11-10 00:00:00\n"
     ]
    },
    {
     "name": "stderr",
     "output_type": "stream",
     "text": [
      "Processing:   2%|█▎                                                            | 1007/46077 [53:31<49:08:00,  3.92s/it]"
     ]
    },
    {
     "name": "stdout",
     "output_type": "stream",
     "text": [
      "Reference date 2018-08-14 00:00:00 not found. Using nearest date: 2022-11-10 00:00:00\n"
     ]
    },
    {
     "name": "stderr",
     "output_type": "stream",
     "text": [
      "Processing:   2%|█▎                                                            | 1008/46077 [53:35<48:28:37,  3.87s/it]"
     ]
    },
    {
     "name": "stdout",
     "output_type": "stream",
     "text": [
      "Reference date 2018-07-30 00:00:00 not found. Using nearest date: 2022-11-10 00:00:00\n"
     ]
    },
    {
     "name": "stderr",
     "output_type": "stream",
     "text": [
      "Processing:   2%|█▎                                                            | 1009/46077 [53:39<47:57:32,  3.83s/it]"
     ]
    },
    {
     "name": "stdout",
     "output_type": "stream",
     "text": [
      "Reference date 2018-07-27 00:00:00 not found. Using nearest date: 2022-11-10 00:00:00\n"
     ]
    },
    {
     "name": "stderr",
     "output_type": "stream",
     "text": [
      "Processing:   2%|█▎                                                            | 1010/46077 [53:42<47:42:18,  3.81s/it]"
     ]
    },
    {
     "name": "stdout",
     "output_type": "stream",
     "text": [
      "Reference date 2018-07-26 00:00:00 not found. Using nearest date: 2022-11-10 00:00:00\n"
     ]
    },
    {
     "name": "stderr",
     "output_type": "stream",
     "text": [
      "Processing:   2%|█▎                                                            | 1011/46077 [53:46<47:36:05,  3.80s/it]"
     ]
    },
    {
     "name": "stdout",
     "output_type": "stream",
     "text": [
      "Reference date 2018-07-26 00:00:00 not found. Using nearest date: 2022-11-10 00:00:00\n"
     ]
    },
    {
     "name": "stderr",
     "output_type": "stream",
     "text": [
      "Processing:   2%|█▎                                                            | 1012/46077 [53:50<47:41:48,  3.81s/it]"
     ]
    },
    {
     "name": "stdout",
     "output_type": "stream",
     "text": [
      "Reference date 2018-07-17 00:00:00 not found. Using nearest date: 2022-11-10 00:00:00\n"
     ]
    },
    {
     "name": "stderr",
     "output_type": "stream",
     "text": [
      "Processing:   2%|█▎                                                            | 1013/46077 [53:54<47:30:46,  3.80s/it]"
     ]
    },
    {
     "name": "stdout",
     "output_type": "stream",
     "text": [
      "Reference date 2018-05-08 00:00:00 not found. Using nearest date: 2022-11-10 00:00:00\n"
     ]
    },
    {
     "name": "stderr",
     "output_type": "stream",
     "text": [
      "Processing:   2%|█▎                                                            | 1014/46077 [53:57<47:14:21,  3.77s/it]"
     ]
    },
    {
     "name": "stdout",
     "output_type": "stream",
     "text": [
      "Reference date 2018-05-07 00:00:00 not found. Using nearest date: 2022-11-10 00:00:00\n"
     ]
    },
    {
     "name": "stderr",
     "output_type": "stream",
     "text": [
      "Processing:   2%|█▎                                                            | 1015/46077 [54:01<47:15:58,  3.78s/it]"
     ]
    },
    {
     "name": "stdout",
     "output_type": "stream",
     "text": [
      "Reference date 2018-05-04 00:00:00 not found. Using nearest date: 2022-11-10 00:00:00\n"
     ]
    },
    {
     "name": "stderr",
     "output_type": "stream",
     "text": [
      "Processing:   2%|█▎                                                            | 1016/46077 [54:05<47:06:18,  3.76s/it]"
     ]
    },
    {
     "name": "stdout",
     "output_type": "stream",
     "text": [
      "Reference date 2018-05-04 00:00:00 not found. Using nearest date: 2022-11-10 00:00:00\n"
     ]
    },
    {
     "name": "stderr",
     "output_type": "stream",
     "text": [
      "Processing:   2%|█▎                                                            | 1017/46077 [54:09<47:44:57,  3.81s/it]"
     ]
    },
    {
     "name": "stdout",
     "output_type": "stream",
     "text": [
      "Reference date 2018-02-06 00:00:00 not found. Using nearest date: 2022-11-10 00:00:00\n"
     ]
    },
    {
     "name": "stderr",
     "output_type": "stream",
     "text": [
      "Processing:   2%|█▎                                                            | 1018/46077 [54:13<47:41:39,  3.81s/it]"
     ]
    },
    {
     "name": "stdout",
     "output_type": "stream",
     "text": [
      "Reference date 2018-02-01 00:00:00 not found. Using nearest date: 2022-11-10 00:00:00\n"
     ]
    },
    {
     "name": "stderr",
     "output_type": "stream",
     "text": [
      "Processing:   2%|█▎                                                            | 1019/46077 [54:16<47:24:41,  3.79s/it]"
     ]
    },
    {
     "name": "stdout",
     "output_type": "stream",
     "text": [
      "Reference date 2018-01-31 00:00:00 not found. Using nearest date: 2022-11-10 00:00:00\n"
     ]
    },
    {
     "name": "stderr",
     "output_type": "stream",
     "text": [
      "Processing:   2%|█▎                                                            | 1020/46077 [54:20<47:15:31,  3.78s/it]"
     ]
    },
    {
     "name": "stdout",
     "output_type": "stream",
     "text": [
      "Reference date 2017-11-02 00:00:00 not found. Using nearest date: 2022-11-10 00:00:00\n"
     ]
    },
    {
     "name": "stderr",
     "output_type": "stream",
     "text": [
      "Processing:   2%|█▎                                                            | 1021/46077 [54:24<47:09:58,  3.77s/it]"
     ]
    },
    {
     "name": "stdout",
     "output_type": "stream",
     "text": [
      "Reference date 2017-10-30 00:00:00 not found. Using nearest date: 2022-11-10 00:00:00\n"
     ]
    },
    {
     "name": "stderr",
     "output_type": "stream",
     "text": [
      "Processing:   2%|█▍                                                            | 1022/46077 [54:28<47:29:10,  3.79s/it]"
     ]
    },
    {
     "name": "stdout",
     "output_type": "stream",
     "text": [
      "Reference date 2017-10-29 00:00:00 not found. Using nearest date: 2022-11-10 00:00:00\n"
     ]
    },
    {
     "name": "stderr",
     "output_type": "stream",
     "text": [
      "Processing:   2%|█▍                                                            | 1023/46077 [54:32<47:41:29,  3.81s/it]"
     ]
    },
    {
     "name": "stdout",
     "output_type": "stream",
     "text": [
      "Reference date 2017-08-02 00:00:00 not found. Using nearest date: 2022-11-10 00:00:00\n"
     ]
    },
    {
     "name": "stderr",
     "output_type": "stream",
     "text": [
      "Processing:   2%|█▍                                                            | 1024/46077 [54:36<48:02:44,  3.84s/it]"
     ]
    },
    {
     "name": "stdout",
     "output_type": "stream",
     "text": [
      "Reference date 2017-07-27 00:00:00 not found. Using nearest date: 2022-11-10 00:00:00\n"
     ]
    },
    {
     "name": "stderr",
     "output_type": "stream",
     "text": [
      "Processing:   2%|█▍                                                            | 1025/46077 [54:39<47:42:51,  3.81s/it]"
     ]
    },
    {
     "name": "stdout",
     "output_type": "stream",
     "text": [
      "Reference date 2017-07-26 00:00:00 not found. Using nearest date: 2022-11-10 00:00:00\n"
     ]
    },
    {
     "name": "stderr",
     "output_type": "stream",
     "text": [
      "Processing:   2%|█▍                                                            | 1026/46077 [54:43<47:25:03,  3.79s/it]"
     ]
    },
    {
     "name": "stdout",
     "output_type": "stream",
     "text": [
      "Reference date 2017-06-07 00:00:00 not found. Using nearest date: 2022-11-10 00:00:00\n"
     ]
    },
    {
     "name": "stderr",
     "output_type": "stream",
     "text": [
      "Processing:   2%|█▍                                                            | 1027/46077 [54:47<47:20:32,  3.78s/it]"
     ]
    },
    {
     "name": "stdout",
     "output_type": "stream",
     "text": [
      "Reference date 2017-05-31 00:00:00 not found. Using nearest date: 2022-11-10 00:00:00\n"
     ]
    },
    {
     "name": "stderr",
     "output_type": "stream",
     "text": [
      "Processing:   2%|█▍                                                            | 1028/46077 [54:51<47:12:47,  3.77s/it]"
     ]
    },
    {
     "name": "stdout",
     "output_type": "stream",
     "text": [
      "Reference date 2017-02-06 00:00:00 not found. Using nearest date: 2022-11-10 00:00:00\n"
     ]
    },
    {
     "name": "stderr",
     "output_type": "stream",
     "text": [
      "Processing:   2%|█▍                                                            | 1029/46077 [54:54<47:21:11,  3.78s/it]"
     ]
    },
    {
     "name": "stdout",
     "output_type": "stream",
     "text": [
      "Reference date 2016-10-28 00:00:00 not found. Using nearest date: 2022-11-10 00:00:00\n"
     ]
    },
    {
     "name": "stderr",
     "output_type": "stream",
     "text": [
      "Processing:   2%|█▍                                                            | 1030/46077 [54:58<47:13:35,  3.77s/it]"
     ]
    },
    {
     "name": "stdout",
     "output_type": "stream",
     "text": [
      "Reference date 2016-08-01 00:00:00 not found. Using nearest date: 2022-11-10 00:00:00\n"
     ]
    },
    {
     "name": "stderr",
     "output_type": "stream",
     "text": [
      "Processing:   2%|█▍                                                            | 1031/46077 [55:02<47:08:03,  3.77s/it]"
     ]
    },
    {
     "name": "stdout",
     "output_type": "stream",
     "text": [
      "Reference date 2016-06-22 00:00:00 not found. Using nearest date: 2022-11-10 00:00:00\n"
     ]
    },
    {
     "name": "stderr",
     "output_type": "stream",
     "text": [
      "Processing:   2%|█▍                                                            | 1032/46077 [55:06<47:07:38,  3.77s/it]"
     ]
    },
    {
     "name": "stdout",
     "output_type": "stream",
     "text": [
      "Reference date 2016-05-31 00:00:00 not found. Using nearest date: 2022-11-10 00:00:00\n"
     ]
    },
    {
     "name": "stderr",
     "output_type": "stream",
     "text": [
      "Processing:   2%|█▍                                                            | 1033/46077 [55:09<46:57:05,  3.75s/it]"
     ]
    },
    {
     "name": "stdout",
     "output_type": "stream",
     "text": [
      "Reference date 2016-05-30 00:00:00 not found. Using nearest date: 2022-11-10 00:00:00\n"
     ]
    },
    {
     "name": "stderr",
     "output_type": "stream",
     "text": [
      "Processing:   2%|█▍                                                            | 1034/46077 [55:13<47:26:44,  3.79s/it]"
     ]
    },
    {
     "name": "stdout",
     "output_type": "stream",
     "text": [
      "Reference date 2016-02-02 00:00:00 not found. Using nearest date: 2022-11-10 00:00:00\n"
     ]
    },
    {
     "name": "stderr",
     "output_type": "stream",
     "text": [
      "Processing:   2%|█▍                                                            | 1035/46077 [55:17<47:08:49,  3.77s/it]"
     ]
    },
    {
     "name": "stdout",
     "output_type": "stream",
     "text": [
      "Reference date 2015-10-15 00:00:00 not found. Using nearest date: 2022-11-10 00:00:00\n"
     ]
    },
    {
     "name": "stderr",
     "output_type": "stream",
     "text": [
      "Processing:   2%|█▍                                                            | 1036/46077 [55:21<47:00:13,  3.76s/it]"
     ]
    },
    {
     "name": "stdout",
     "output_type": "stream",
     "text": [
      "Reference date 2015-07-24 00:00:00 not found. Using nearest date: 2022-11-10 00:00:00\n"
     ]
    },
    {
     "name": "stderr",
     "output_type": "stream",
     "text": [
      "Processing:   2%|█▍                                                            | 1037/46077 [55:25<47:12:27,  3.77s/it]"
     ]
    },
    {
     "name": "stdout",
     "output_type": "stream",
     "text": [
      "Reference date 2015-06-15 00:00:00 not found. Using nearest date: 2022-11-10 00:00:00\n"
     ]
    },
    {
     "name": "stderr",
     "output_type": "stream",
     "text": [
      "Processing:   2%|█▍                                                            | 1042/46077 [55:44<47:27:01,  3.79s/it]"
     ]
    },
    {
     "name": "stdout",
     "output_type": "stream",
     "text": [
      "Error for TECHNOE on 2024-09-14 00:00:00: Insufficient data to determine d+1.\n",
      "Reference date 2024-09-14 00:00:00 not found. Using nearest date: 2024-07-30 00:00:00\n"
     ]
    },
    {
     "name": "stderr",
     "output_type": "stream",
     "text": [
      "Processing:   2%|█▍                                                            | 1043/46077 [55:47<47:46:52,  3.82s/it]"
     ]
    },
    {
     "name": "stdout",
     "output_type": "stream",
     "text": [
      "Error for TECHNOE on 2024-08-15 00:00:00: Insufficient data to determine d+1.\n",
      "Reference date 2024-08-15 00:00:00 not found. Using nearest date: 2024-07-30 00:00:00\n"
     ]
    },
    {
     "name": "stderr",
     "output_type": "stream",
     "text": [
      "Processing:   2%|█▍                                                            | 1052/46077 [56:22<47:45:00,  3.82s/it]"
     ]
    },
    {
     "name": "stdout",
     "output_type": "stream",
     "text": [
      "Error for PFIZER on 2024-09-14 00:00:00: Insufficient data to determine d+1.\n",
      "Reference date 2024-09-14 00:00:00 not found. Using nearest date: 2024-07-30 00:00:00\n"
     ]
    },
    {
     "name": "stderr",
     "output_type": "stream",
     "text": [
      "Processing:   2%|█▍                                                            | 1060/46077 [56:52<47:10:06,  3.77s/it]"
     ]
    },
    {
     "name": "stdout",
     "output_type": "stream",
     "text": [
      "Reference date 2022-08-06 00:00:00 not found. Using nearest date: 2022-08-05 00:00:00\n"
     ]
    },
    {
     "name": "stderr",
     "output_type": "stream",
     "text": [
      "Processing:   2%|█▍                                                            | 1083/46077 [58:19<46:42:24,  3.74s/it]"
     ]
    },
    {
     "name": "stdout",
     "output_type": "stream",
     "text": [
      "Reference date 2019-04-17 00:00:00 not found. Using nearest date: 2019-04-18 00:00:00\n"
     ]
    },
    {
     "name": "stderr",
     "output_type": "stream",
     "text": [
      "Processing:   2%|█▍                                                            | 1084/46077 [58:22<46:59:57,  3.76s/it]"
     ]
    },
    {
     "name": "stdout",
     "output_type": "stream",
     "text": [
      "Reference date 2019-02-13 00:00:00 not found. Using nearest date: 2019-02-14 00:00:00\n"
     ]
    },
    {
     "name": "stderr",
     "output_type": "stream",
     "text": [
      "Processing:   2%|█▍                                                            | 1088/46077 [58:37<46:47:00,  3.74s/it]"
     ]
    },
    {
     "name": "stdout",
     "output_type": "stream",
     "text": [
      "Reference date 2018-05-26 00:00:00 not found. Using nearest date: 2018-05-25 00:00:00\n"
     ]
    },
    {
     "name": "stderr",
     "output_type": "stream",
     "text": [
      "Processing:   2%|█▍                                                            | 1089/46077 [58:41<46:44:46,  3.74s/it]"
     ]
    },
    {
     "name": "stdout",
     "output_type": "stream",
     "text": [
      "Reference date 2018-05-26 00:00:00 not found. Using nearest date: 2018-05-25 00:00:00\n"
     ]
    },
    {
     "name": "stderr",
     "output_type": "stream",
     "text": [
      "Processing:   2%|█▍                                                            | 1101/46077 [59:26<48:07:23,  3.85s/it]"
     ]
    },
    {
     "name": "stdout",
     "output_type": "stream",
     "text": [
      "Reference date 2015-10-27 00:00:00 not found. Using nearest date: 2015-11-16 00:00:00\n"
     ]
    },
    {
     "name": "stderr",
     "output_type": "stream",
     "text": [
      "Processing:   2%|█▍                                                            | 1102/46077 [59:30<47:38:19,  3.81s/it]"
     ]
    },
    {
     "name": "stdout",
     "output_type": "stream",
     "text": [
      "Reference date 2015-10-26 00:00:00 not found. Using nearest date: 2015-11-16 00:00:00\n"
     ]
    },
    {
     "name": "stderr",
     "output_type": "stream",
     "text": [
      "Processing:   2%|█▍                                                            | 1104/46077 [59:38<48:01:57,  3.84s/it]"
     ]
    },
    {
     "name": "stdout",
     "output_type": "stream",
     "text": [
      "Error for INOXINDIA on 2024-09-14 00:00:00: Insufficient data to determine d+1.\n",
      "Reference date 2024-09-14 00:00:00 not found. Using nearest date: 2024-07-30 00:00:00\n"
     ]
    },
    {
     "name": "stderr",
     "output_type": "stream",
     "text": [
      "Processing:   2%|█▍                                                            | 1105/46077 [59:42<47:34:50,  3.81s/it]"
     ]
    },
    {
     "name": "stdout",
     "output_type": "stream",
     "text": [
      "Reference date 2023-12-14 00:00:00 not found. Using nearest date: 2023-12-21 00:00:00\n"
     ]
    },
    {
     "name": "stderr",
     "output_type": "stream",
     "text": [
      "Processing:   2%|█▍                                                            | 1106/46077 [59:45<47:27:00,  3.80s/it]"
     ]
    },
    {
     "name": "stdout",
     "output_type": "stream",
     "text": [
      "Reference date 2023-12-14 00:00:00 not found. Using nearest date: 2023-12-21 00:00:00\n"
     ]
    },
    {
     "name": "stderr",
     "output_type": "stream",
     "text": [
      "Processing:   2%|█▍                                                            | 1107/46077 [59:49<47:44:37,  3.82s/it]"
     ]
    },
    {
     "name": "stdout",
     "output_type": "stream",
     "text": [
      "Reference date 2023-12-13 00:00:00 not found. Using nearest date: 2023-12-21 00:00:00\n"
     ]
    },
    {
     "name": "stderr",
     "output_type": "stream",
     "text": [
      "Processing:   2%|█▍                                                            | 1108/46077 [59:53<47:26:15,  3.80s/it]"
     ]
    },
    {
     "name": "stdout",
     "output_type": "stream",
     "text": [
      "Reference date 2023-12-13 00:00:00 not found. Using nearest date: 2023-12-21 00:00:00\n"
     ]
    },
    {
     "name": "stderr",
     "output_type": "stream",
     "text": [
      "Processing:   2%|█▍                                                          | 1110/46077 [1:00:01<47:04:44,  3.77s/it]"
     ]
    },
    {
     "name": "stdout",
     "output_type": "stream",
     "text": [
      "Error for PIIND on 2024-09-14 00:00:00: Insufficient data to determine d+1.\n",
      "Reference date 2024-09-14 00:00:00 not found. Using nearest date: 2024-07-30 00:00:00\n"
     ]
    },
    {
     "name": "stderr",
     "output_type": "stream",
     "text": [
      "Processing:   2%|█▍                                                          | 1111/46077 [1:00:04<46:49:43,  3.75s/it]"
     ]
    },
    {
     "name": "stdout",
     "output_type": "stream",
     "text": [
      "Error for PIIND on 2024-08-12 00:00:00: Insufficient data to determine d+1.\n",
      "Reference date 2024-08-12 00:00:00 not found. Using nearest date: 2024-07-30 00:00:00\n"
     ]
    },
    {
     "name": "stderr",
     "output_type": "stream",
     "text": [
      "Processing:   2%|█▍                                                          | 1112/46077 [1:00:08<47:09:52,  3.78s/it]"
     ]
    },
    {
     "name": "stdout",
     "output_type": "stream",
     "text": [
      "Error for PIIND on 2024-08-09 00:00:00: Insufficient data to determine d+1.\n",
      "Reference date 2024-08-09 00:00:00 not found. Using nearest date: 2024-07-30 00:00:00\n"
     ]
    },
    {
     "name": "stderr",
     "output_type": "stream",
     "text": [
      "Processing:   2%|█▍                                                          | 1113/46077 [1:00:12<46:53:25,  3.75s/it]"
     ]
    },
    {
     "name": "stdout",
     "output_type": "stream",
     "text": [
      "Error for PIIND on 2024-08-08 00:00:00: Insufficient data to determine d+1.\n",
      "Reference date 2024-08-08 00:00:00 not found. Using nearest date: 2024-07-30 00:00:00\n"
     ]
    },
    {
     "name": "stderr",
     "output_type": "stream",
     "text": [
      "Processing:   2%|█▍                                                          | 1140/46077 [1:01:54<48:32:35,  3.89s/it]"
     ]
    },
    {
     "name": "stdout",
     "output_type": "stream",
     "text": [
      "Reference date 2022-08-09 00:00:00 not found. Using nearest date: 2022-08-10 00:00:00\n"
     ]
    },
    {
     "name": "stderr",
     "output_type": "stream",
     "text": [
      "Processing:   3%|█▌                                                          | 1156/46077 [1:02:55<46:37:18,  3.74s/it]"
     ]
    },
    {
     "name": "stdout",
     "output_type": "stream",
     "text": [
      "Reference date 2021-11-13 00:00:00 not found. Using nearest date: 2021-11-12 00:00:00\n"
     ]
    },
    {
     "name": "stderr",
     "output_type": "stream",
     "text": [
      "Processing:   3%|█▌                                                          | 1203/46077 [1:05:53<48:56:12,  3.93s/it]"
     ]
    },
    {
     "name": "stdout",
     "output_type": "stream",
     "text": [
      "Reference date 2019-07-27 00:00:00 not found. Using nearest date: 2019-07-26 00:00:00\n"
     ]
    },
    {
     "name": "stderr",
     "output_type": "stream",
     "text": [
      "Processing:   3%|█▌                                                          | 1227/46077 [1:07:24<47:01:38,  3.77s/it]"
     ]
    },
    {
     "name": "stdout",
     "output_type": "stream",
     "text": [
      "Reference date 2017-10-28 00:00:00 not found. Using nearest date: 2017-10-27 00:00:00\n"
     ]
    },
    {
     "name": "stderr",
     "output_type": "stream",
     "text": [
      "Processing:   3%|█▌                                                          | 1239/46077 [1:08:09<47:04:47,  3.78s/it]"
     ]
    },
    {
     "name": "stdout",
     "output_type": "stream",
     "text": [
      "Reference date 2017-04-29 00:00:00 not found. Using nearest date: 2017-04-28 00:00:00\n"
     ]
    },
    {
     "name": "stderr",
     "output_type": "stream",
     "text": [
      "Processing:   3%|█▋                                                          | 1255/46077 [1:09:10<46:51:22,  3.76s/it]"
     ]
    },
    {
     "name": "stdout",
     "output_type": "stream",
     "text": [
      "Reference date 2015-10-31 00:00:00 not found. Using nearest date: 2015-10-30 00:00:00\n"
     ]
    },
    {
     "name": "stderr",
     "output_type": "stream",
     "text": [
      "Processing:   3%|█▋                                                          | 1286/46077 [1:11:08<47:15:39,  3.80s/it]"
     ]
    },
    {
     "name": "stdout",
     "output_type": "stream",
     "text": [
      "Error for GRSE on 2024-09-14 00:00:00: Insufficient data to determine d+1.\n",
      "Reference date 2024-09-14 00:00:00 not found. Using nearest date: 2024-07-30 00:00:00\n"
     ]
    },
    {
     "name": "stderr",
     "output_type": "stream",
     "text": [
      "Processing:   3%|█▋                                                          | 1287/46077 [1:11:11<46:58:31,  3.78s/it]"
     ]
    },
    {
     "name": "stdout",
     "output_type": "stream",
     "text": [
      "Error for GRSE on 2024-08-15 00:00:00: Insufficient data to determine d+1.\n",
      "Reference date 2024-08-15 00:00:00 not found. Using nearest date: 2024-07-30 00:00:00\n"
     ]
    },
    {
     "name": "stderr",
     "output_type": "stream",
     "text": [
      "Processing:   3%|█▋                                                          | 1294/46077 [1:11:38<47:02:50,  3.78s/it]"
     ]
    },
    {
     "name": "stdout",
     "output_type": "stream",
     "text": [
      "Reference date 2023-02-12 00:00:00 not found. Using nearest date: 2023-02-13 00:00:00\n"
     ]
    },
    {
     "name": "stderr",
     "output_type": "stream",
     "text": [
      "Processing:   3%|█▋                                                          | 1301/46077 [1:12:04<47:14:08,  3.80s/it]"
     ]
    },
    {
     "name": "stdout",
     "output_type": "stream",
     "text": [
      "Reference date 2018-09-24 00:00:00 not found. Using nearest date: 2018-10-24 00:00:00\n"
     ]
    },
    {
     "name": "stderr",
     "output_type": "stream",
     "text": [
      "Processing:   3%|█▋                                                          | 1302/46077 [1:12:08<47:06:53,  3.79s/it]"
     ]
    },
    {
     "name": "stdout",
     "output_type": "stream",
     "text": [
      "Reference date 2018-09-24 00:00:00 not found. Using nearest date: 2018-10-24 00:00:00\n"
     ]
    },
    {
     "name": "stderr",
     "output_type": "stream",
     "text": [
      "Processing:   3%|█▋                                                          | 1303/46077 [1:12:12<46:53:04,  3.77s/it]"
     ]
    },
    {
     "name": "stdout",
     "output_type": "stream",
     "text": [
      "Error for CAMS on 2024-09-14 00:00:00: Insufficient data to determine d+1.\n",
      "Reference date 2024-09-14 00:00:00 not found. Using nearest date: 2024-07-30 00:00:00\n"
     ]
    },
    {
     "name": "stderr",
     "output_type": "stream",
     "text": [
      "Processing:   3%|█▋                                                          | 1304/46077 [1:12:16<46:52:06,  3.77s/it]"
     ]
    },
    {
     "name": "stdout",
     "output_type": "stream",
     "text": [
      "Error for CAMS on 2024-08-05 00:00:00: Insufficient data to determine d+1.\n",
      "Reference date 2024-08-05 00:00:00 not found. Using nearest date: 2024-07-30 00:00:00\n"
     ]
    },
    {
     "name": "stderr",
     "output_type": "stream",
     "text": [
      "Processing:   3%|█▋                                                          | 1324/46077 [1:13:31<47:23:04,  3.81s/it]"
     ]
    },
    {
     "name": "stdout",
     "output_type": "stream",
     "text": [
      "Reference date 2022-05-08 00:00:00 not found. Using nearest date: 2022-05-09 00:00:00\n"
     ]
    },
    {
     "name": "stderr",
     "output_type": "stream",
     "text": [
      "Processing:   3%|█▋                                                          | 1327/46077 [1:13:42<47:05:13,  3.79s/it]"
     ]
    },
    {
     "name": "stdout",
     "output_type": "stream",
     "text": [
      "Reference date 2020-09-22 00:00:00 not found. Using nearest date: 2020-10-05 00:00:00\n"
     ]
    },
    {
     "name": "stderr",
     "output_type": "stream",
     "text": [
      "Processing:   3%|█▋                                                          | 1328/46077 [1:13:46<46:53:10,  3.77s/it]"
     ]
    },
    {
     "name": "stdout",
     "output_type": "stream",
     "text": [
      "Reference date 2020-09-21 00:00:00 not found. Using nearest date: 2020-10-05 00:00:00\n"
     ]
    },
    {
     "name": "stderr",
     "output_type": "stream",
     "text": [
      "Processing:   3%|█▋                                                          | 1329/46077 [1:13:50<46:48:42,  3.77s/it]"
     ]
    },
    {
     "name": "stdout",
     "output_type": "stream",
     "text": [
      "Reference date 2020-09-19 00:00:00 not found. Using nearest date: 2020-10-05 00:00:00\n"
     ]
    },
    {
     "name": "stderr",
     "output_type": "stream",
     "text": [
      "Processing:   3%|█▋                                                          | 1330/46077 [1:13:54<46:49:02,  3.77s/it]"
     ]
    },
    {
     "name": "stdout",
     "output_type": "stream",
     "text": [
      "Reference date 2020-09-18 00:00:00 not found. Using nearest date: 2020-10-05 00:00:00\n"
     ]
    },
    {
     "name": "stderr",
     "output_type": "stream",
     "text": [
      "Processing:   3%|█▋                                                          | 1332/46077 [1:13:57<35:53:53,  2.89s/it]"
     ]
    },
    {
     "name": "stdout",
     "output_type": "stream",
     "text": [
      "Error for ROHLTD on 2024-08-21 00:00:00: Insufficient data to determine d+1.\n",
      "Reference date 2024-08-21 00:00:00 not found. Using nearest date: 2024-07-23 00:00:00\n"
     ]
    },
    {
     "name": "stderr",
     "output_type": "stream",
     "text": [
      "Processing:   3%|█▋                                                          | 1335/46077 [1:14:09<42:26:00,  3.41s/it]"
     ]
    },
    {
     "name": "stdout",
     "output_type": "stream",
     "text": [
      "Reference date 2023-11-14 00:00:00 not found. Using nearest date: 2023-11-15 00:00:00\n"
     ]
    },
    {
     "name": "stderr",
     "output_type": "stream",
     "text": [
      "Processing:   3%|█▋                                                          | 1341/46077 [1:14:32<46:32:22,  3.75s/it]"
     ]
    },
    {
     "name": "stdout",
     "output_type": "stream",
     "text": [
      "Error for GALAXYSURF on 2024-09-14 00:00:00: Insufficient data to determine d+1.\n",
      "Reference date 2024-09-14 00:00:00 not found. Using nearest date: 2024-07-30 00:00:00\n"
     ]
    },
    {
     "name": "stderr",
     "output_type": "stream",
     "text": [
      "Processing:   3%|█▊                                                          | 1345/46077 [1:14:47<47:47:54,  3.85s/it]"
     ]
    },
    {
     "name": "stdout",
     "output_type": "stream",
     "text": [
      "Reference date 2023-11-12 00:00:00 not found. Using nearest date: 2023-11-13 00:00:00\n"
     ]
    },
    {
     "name": "stderr",
     "output_type": "stream",
     "text": [
      "Processing:   3%|█▊                                                          | 1346/46077 [1:14:51<47:28:38,  3.82s/it]"
     ]
    },
    {
     "name": "stdout",
     "output_type": "stream",
     "text": [
      "Reference date 2023-08-15 00:00:00 not found. Using nearest date: 2023-08-16 00:00:00\n"
     ]
    },
    {
     "name": "stderr",
     "output_type": "stream",
     "text": [
      "Processing:   3%|█▊                                                          | 1366/46077 [1:16:07<47:27:24,  3.82s/it]"
     ]
    },
    {
     "name": "stdout",
     "output_type": "stream",
     "text": [
      "Reference date 2018-01-29 00:00:00 not found. Using nearest date: 2018-02-08 00:00:00\n"
     ]
    },
    {
     "name": "stderr",
     "output_type": "stream",
     "text": [
      "Processing:   3%|█▊                                                          | 1367/46077 [1:16:11<47:50:22,  3.85s/it]"
     ]
    },
    {
     "name": "stdout",
     "output_type": "stream",
     "text": [
      "Reference date 2018-01-29 00:00:00 not found. Using nearest date: 2018-02-08 00:00:00\n"
     ]
    },
    {
     "name": "stderr",
     "output_type": "stream",
     "text": [
      "Processing:   3%|█▊                                                          | 1368/46077 [1:16:15<48:53:42,  3.94s/it]"
     ]
    },
    {
     "name": "stdout",
     "output_type": "stream",
     "text": [
      "Reference date 2018-01-24 00:00:00 not found. Using nearest date: 2018-02-08 00:00:00\n"
     ]
    },
    {
     "name": "stderr",
     "output_type": "stream",
     "text": [
      "Processing:   3%|█▊                                                          | 1369/46077 [1:16:19<48:10:25,  3.88s/it]"
     ]
    },
    {
     "name": "stdout",
     "output_type": "stream",
     "text": [
      "Reference date 2018-01-24 00:00:00 not found. Using nearest date: 2018-02-08 00:00:00\n"
     ]
    },
    {
     "name": "stderr",
     "output_type": "stream",
     "text": [
      "Processing:   3%|█▊                                                          | 1370/46077 [1:16:23<48:02:29,  3.87s/it]"
     ]
    },
    {
     "name": "stdout",
     "output_type": "stream",
     "text": [
      "Reference date 2018-01-24 00:00:00 not found. Using nearest date: 2018-02-08 00:00:00\n"
     ]
    },
    {
     "name": "stderr",
     "output_type": "stream",
     "text": [
      "Processing:   3%|█▊                                                          | 1371/46077 [1:16:27<47:42:21,  3.84s/it]"
     ]
    },
    {
     "name": "stdout",
     "output_type": "stream",
     "text": [
      "Error for INDIGO on 2024-09-14 00:00:00: Insufficient data to determine d+1.\n",
      "Reference date 2024-09-14 00:00:00 not found. Using nearest date: 2024-07-30 00:00:00\n"
     ]
    },
    {
     "name": "stderr",
     "output_type": "stream",
     "text": [
      "Processing:   3%|█▊                                                          | 1372/46077 [1:16:30<47:16:31,  3.81s/it]"
     ]
    },
    {
     "name": "stdout",
     "output_type": "stream",
     "text": [
      "Error for INDIGO on 2024-08-07 00:00:00: Insufficient data to determine d+1.\n",
      "Reference date 2024-08-07 00:00:00 not found. Using nearest date: 2024-07-30 00:00:00\n"
     ]
    },
    {
     "name": "stderr",
     "output_type": "stream",
     "text": [
      "Processing:   3%|█▊                                                          | 1374/46077 [1:16:38<46:41:19,  3.76s/it]"
     ]
    },
    {
     "name": "stdout",
     "output_type": "stream",
     "text": [
      "Reference date 2024-07-28 00:00:00 not found. Using nearest date: 2024-07-29 00:00:00\n"
     ]
    },
    {
     "name": "stderr",
     "output_type": "stream",
     "text": [
      "Processing:   3%|█▊                                                          | 1375/46077 [1:16:42<46:47:27,  3.77s/it]"
     ]
    },
    {
     "name": "stdout",
     "output_type": "stream",
     "text": [
      "Reference date 2024-07-28 00:00:00 not found. Using nearest date: 2024-07-29 00:00:00\n"
     ]
    },
    {
     "name": "stderr",
     "output_type": "stream",
     "text": [
      "Processing:   3%|█▊                                                          | 1383/46077 [1:17:12<46:38:14,  3.76s/it]"
     ]
    },
    {
     "name": "stdout",
     "output_type": "stream",
     "text": [
      "Reference date 2023-11-05 00:00:00 not found. Using nearest date: 2023-11-06 00:00:00\n"
     ]
    },
    {
     "name": "stderr",
     "output_type": "stream",
     "text": [
      "Processing:   3%|█▊                                                          | 1384/46077 [1:17:15<46:43:45,  3.76s/it]"
     ]
    },
    {
     "name": "stdout",
     "output_type": "stream",
     "text": [
      "Reference date 2023-11-05 00:00:00 not found. Using nearest date: 2023-11-06 00:00:00\n"
     ]
    },
    {
     "name": "stderr",
     "output_type": "stream",
     "text": [
      "Processing:   3%|█▊                                                          | 1400/46077 [1:18:16<46:32:45,  3.75s/it]"
     ]
    },
    {
     "name": "stdout",
     "output_type": "stream",
     "text": [
      "Reference date 2023-02-05 00:00:00 not found. Using nearest date: 2023-02-06 00:00:00\n"
     ]
    },
    {
     "name": "stderr",
     "output_type": "stream",
     "text": [
      "Processing:   3%|█▊                                                          | 1403/46077 [1:18:27<46:48:18,  3.77s/it]"
     ]
    },
    {
     "name": "stdout",
     "output_type": "stream",
     "text": [
      "Reference date 2022-11-06 00:00:00 not found. Using nearest date: 2022-11-07 00:00:00\n"
     ]
    },
    {
     "name": "stderr",
     "output_type": "stream",
     "text": [
      "Processing:   3%|█▊                                                          | 1404/46077 [1:18:31<46:36:57,  3.76s/it]"
     ]
    },
    {
     "name": "stdout",
     "output_type": "stream",
     "text": [
      "Reference date 2022-10-08 00:00:00 not found. Using nearest date: 2022-10-07 00:00:00\n"
     ]
    },
    {
     "name": "stderr",
     "output_type": "stream",
     "text": [
      "Processing:   3%|█▊                                                          | 1411/46077 [1:18:57<46:29:16,  3.75s/it]"
     ]
    },
    {
     "name": "stdout",
     "output_type": "stream",
     "text": [
      "Reference date 2022-02-06 00:00:00 not found. Using nearest date: 2022-02-07 00:00:00\n"
     ]
    },
    {
     "name": "stderr",
     "output_type": "stream",
     "text": [
      "Processing:   3%|█▊                                                          | 1435/46077 [1:20:28<47:15:53,  3.81s/it]"
     ]
    },
    {
     "name": "stdout",
     "output_type": "stream",
     "text": [
      "Reference date 2019-10-28 00:00:00 not found. Using nearest date: 2019-10-29 00:00:00\n"
     ]
    },
    {
     "name": "stderr",
     "output_type": "stream",
     "text": [
      "Processing:   3%|█▊                                                          | 1438/46077 [1:20:40<46:27:40,  3.75s/it]"
     ]
    },
    {
     "name": "stdout",
     "output_type": "stream",
     "text": [
      "Reference date 2019-07-20 00:00:00 not found. Using nearest date: 2019-07-19 00:00:00\n"
     ]
    },
    {
     "name": "stderr",
     "output_type": "stream",
     "text": [
      "Processing:   3%|█▉                                                          | 1472/46077 [1:22:48<46:23:14,  3.74s/it]"
     ]
    },
    {
     "name": "stdout",
     "output_type": "stream",
     "text": [
      "Reference date 2015-10-21 00:00:00 not found. Using nearest date: 2015-11-10 00:00:00\n"
     ]
    },
    {
     "name": "stderr",
     "output_type": "stream",
     "text": [
      "Processing:   3%|█▉                                                          | 1473/46077 [1:22:52<46:20:57,  3.74s/it]"
     ]
    },
    {
     "name": "stdout",
     "output_type": "stream",
     "text": [
      "Error for HAPPYFORGE on 2024-09-14 00:00:00: Insufficient data to determine d+1.\n",
      "Reference date 2024-09-14 00:00:00 not found. Using nearest date: 2024-07-30 00:00:00\n"
     ]
    },
    {
     "name": "stderr",
     "output_type": "stream",
     "text": [
      "Processing:   3%|█▉                                                          | 1476/46077 [1:23:04<46:33:29,  3.76s/it]"
     ]
    },
    {
     "name": "stdout",
     "output_type": "stream",
     "text": [
      "Reference date 2023-12-19 00:00:00 not found. Using nearest date: 2023-12-27 00:00:00\n"
     ]
    },
    {
     "name": "stderr",
     "output_type": "stream",
     "text": [
      "Processing:   3%|█▉                                                          | 1477/46077 [1:23:07<46:27:50,  3.75s/it]"
     ]
    },
    {
     "name": "stdout",
     "output_type": "stream",
     "text": [
      "Reference date 2023-12-18 00:00:00 not found. Using nearest date: 2023-12-27 00:00:00\n"
     ]
    },
    {
     "name": "stderr",
     "output_type": "stream",
     "text": [
      "Processing:   3%|█▉                                                          | 1478/46077 [1:23:11<46:24:13,  3.75s/it]"
     ]
    },
    {
     "name": "stdout",
     "output_type": "stream",
     "text": [
      "Reference date 2023-12-18 00:00:00 not found. Using nearest date: 2023-12-27 00:00:00\n"
     ]
    },
    {
     "name": "stderr",
     "output_type": "stream",
     "text": [
      "Processing:   3%|█▉                                                          | 1479/46077 [1:23:15<47:03:28,  3.80s/it]"
     ]
    },
    {
     "name": "stdout",
     "output_type": "stream",
     "text": [
      "Reference date 2023-12-18 00:00:00 not found. Using nearest date: 2023-12-27 00:00:00\n"
     ]
    },
    {
     "name": "stderr",
     "output_type": "stream",
     "text": [
      "Processing:   3%|█▉                                                          | 1480/46077 [1:23:19<46:41:24,  3.77s/it]"
     ]
    },
    {
     "name": "stdout",
     "output_type": "stream",
     "text": [
      "Error for GRINFRA on 2024-09-14 00:00:00: Insufficient data to determine d+1.\n",
      "Reference date 2024-09-14 00:00:00 not found. Using nearest date: 2024-07-30 00:00:00\n"
     ]
    },
    {
     "name": "stderr",
     "output_type": "stream",
     "text": [
      "Processing:   3%|█▉                                                          | 1481/46077 [1:23:22<46:30:12,  3.75s/it]"
     ]
    },
    {
     "name": "stdout",
     "output_type": "stream",
     "text": [
      "Error for GRINFRA on 2024-08-06 00:00:00: Insufficient data to determine d+1.\n",
      "Reference date 2024-08-06 00:00:00 not found. Using nearest date: 2024-07-30 00:00:00\n"
     ]
    },
    {
     "name": "stderr",
     "output_type": "stream",
     "text": [
      "Processing:   3%|█▉                                                          | 1482/46077 [1:23:26<46:36:52,  3.76s/it]"
     ]
    },
    {
     "name": "stdout",
     "output_type": "stream",
     "text": [
      "Error for GRINFRA on 2024-08-06 00:00:00: Insufficient data to determine d+1.\n",
      "Reference date 2024-08-06 00:00:00 not found. Using nearest date: 2024-07-30 00:00:00\n"
     ]
    },
    {
     "name": "stderr",
     "output_type": "stream",
     "text": [
      "Processing:   3%|█▉                                                          | 1483/46077 [1:23:30<46:31:38,  3.76s/it]"
     ]
    },
    {
     "name": "stdout",
     "output_type": "stream",
     "text": [
      "Error for GRINFRA on 2024-08-05 00:00:00: Insufficient data to determine d+1.\n",
      "Reference date 2024-08-05 00:00:00 not found. Using nearest date: 2024-07-30 00:00:00\n"
     ]
    },
    {
     "name": "stderr",
     "output_type": "stream",
     "text": [
      "Processing:   3%|█▉                                                          | 1494/46077 [1:24:11<46:25:54,  3.75s/it]"
     ]
    },
    {
     "name": "stdout",
     "output_type": "stream",
     "text": [
      "Reference date 2023-08-13 00:00:00 not found. Using nearest date: 2023-08-14 00:00:00\n"
     ]
    },
    {
     "name": "stderr",
     "output_type": "stream",
     "text": [
      "Processing:   3%|█▉                                                          | 1504/46077 [1:24:49<46:26:00,  3.75s/it]"
     ]
    },
    {
     "name": "stdout",
     "output_type": "stream",
     "text": [
      "Reference date 2022-11-13 00:00:00 not found. Using nearest date: 2022-11-14 00:00:00\n"
     ]
    },
    {
     "name": "stderr",
     "output_type": "stream",
     "text": [
      "Processing:   3%|█▉                                                          | 1505/46077 [1:24:53<46:16:25,  3.74s/it]"
     ]
    },
    {
     "name": "stdout",
     "output_type": "stream",
     "text": [
      "Reference date 2022-11-12 00:00:00 not found. Using nearest date: 2022-11-11 00:00:00\n"
     ]
    },
    {
     "name": "stderr",
     "output_type": "stream",
     "text": [
      "Processing:   3%|█▉                                                          | 1517/46077 [1:25:38<47:49:01,  3.86s/it]"
     ]
    },
    {
     "name": "stdout",
     "output_type": "stream",
     "text": [
      "Reference date 2021-07-06 00:00:00 not found. Using nearest date: 2021-07-19 00:00:00\n"
     ]
    },
    {
     "name": "stderr",
     "output_type": "stream",
     "text": [
      "Processing:   3%|█▉                                                          | 1518/46077 [1:25:42<47:48:55,  3.86s/it]"
     ]
    },
    {
     "name": "stdout",
     "output_type": "stream",
     "text": [
      "Reference date 2021-07-06 00:00:00 not found. Using nearest date: 2021-07-19 00:00:00\n"
     ]
    },
    {
     "name": "stderr",
     "output_type": "stream",
     "text": [
      "Processing:   3%|█▉                                                          | 1519/46077 [1:25:46<47:13:15,  3.82s/it]"
     ]
    },
    {
     "name": "stdout",
     "output_type": "stream",
     "text": [
      "Reference date 2021-07-05 00:00:00 not found. Using nearest date: 2021-07-19 00:00:00\n"
     ]
    },
    {
     "name": "stderr",
     "output_type": "stream",
     "text": [
      "Processing:   3%|█▉                                                          | 1520/46077 [1:25:49<47:01:15,  3.80s/it]"
     ]
    },
    {
     "name": "stdout",
     "output_type": "stream",
     "text": [
      "Reference date 2021-07-05 00:00:00 not found. Using nearest date: 2021-07-19 00:00:00\n"
     ]
    },
    {
     "name": "stderr",
     "output_type": "stream",
     "text": [
      "Processing:   3%|█▉                                                          | 1521/46077 [1:25:53<46:55:01,  3.79s/it]"
     ]
    },
    {
     "name": "stdout",
     "output_type": "stream",
     "text": [
      "Reference date 2021-07-05 00:00:00 not found. Using nearest date: 2021-07-19 00:00:00\n"
     ]
    },
    {
     "name": "stderr",
     "output_type": "stream",
     "text": [
      "Processing:   3%|█▉                                                          | 1522/46077 [1:25:57<46:35:39,  3.76s/it]"
     ]
    },
    {
     "name": "stdout",
     "output_type": "stream",
     "text": [
      "Error for ZAGGLE on 2024-09-14 00:00:00: Insufficient data to determine d+1.\n",
      "Reference date 2024-09-14 00:00:00 not found. Using nearest date: 2024-07-30 00:00:00\n"
     ]
    },
    {
     "name": "stderr",
     "output_type": "stream",
     "text": [
      "Processing:   3%|█▉                                                          | 1523/46077 [1:26:01<46:49:25,  3.78s/it]"
     ]
    },
    {
     "name": "stdout",
     "output_type": "stream",
     "text": [
      "Reference date 2023-09-15 00:00:00 not found. Using nearest date: 2023-09-22 00:00:00\n"
     ]
    },
    {
     "name": "stderr",
     "output_type": "stream",
     "text": [
      "Processing:   3%|█▉                                                          | 1524/46077 [1:26:04<46:41:42,  3.77s/it]"
     ]
    },
    {
     "name": "stdout",
     "output_type": "stream",
     "text": [
      "Reference date 2023-09-13 00:00:00 not found. Using nearest date: 2023-09-22 00:00:00\n"
     ]
    },
    {
     "name": "stderr",
     "output_type": "stream",
     "text": [
      "Processing:   3%|█▉                                                          | 1525/46077 [1:26:08<46:47:43,  3.78s/it]"
     ]
    },
    {
     "name": "stdout",
     "output_type": "stream",
     "text": [
      "Error for OBEROIRLTY on 2024-09-14 00:00:00: Insufficient data to determine d+1.\n",
      "Reference date 2024-09-14 00:00:00 not found. Using nearest date: 2024-07-30 00:00:00\n"
     ]
    },
    {
     "name": "stderr",
     "output_type": "stream",
     "text": [
      "Processing:   3%|██                                                          | 1554/46077 [1:27:58<46:56:15,  3.80s/it]"
     ]
    },
    {
     "name": "stdout",
     "output_type": "stream",
     "text": [
      "Reference date 2021-08-01 00:00:00 not found. Using nearest date: 2021-08-02 00:00:00\n"
     ]
    },
    {
     "name": "stderr",
     "output_type": "stream",
     "text": [
      "Processing:   4%|██                                                         | 1620/46077 [1:36:38<113:30:35,  9.19s/it]"
     ]
    },
    {
     "name": "stdout",
     "output_type": "stream",
     "text": [
      "Error for SOBHA on 2024-09-14 00:00:00: Insufficient data to determine d+1.\n",
      "Reference date 2024-09-14 00:00:00 not found. Using nearest date: 2024-07-30 00:00:00\n"
     ]
    },
    {
     "name": "stderr",
     "output_type": "stream",
     "text": [
      "Processing:   4%|██                                                         | 1622/46077 [1:36:56<112:12:22,  9.09s/it]"
     ]
    },
    {
     "name": "stdout",
     "output_type": "stream",
     "text": [
      "Reference date 2024-05-19 00:00:00 not found. Using nearest date: 2024-05-21 00:00:00\n"
     ]
    },
    {
     "name": "stderr",
     "output_type": "stream",
     "text": [
      "Processing:   4%|██                                                         | 1652/46077 [1:41:28<113:04:33,  9.16s/it]"
     ]
    },
    {
     "name": "stdout",
     "output_type": "stream",
     "text": [
      "Reference date 2019-11-12 00:00:00 not found. Using nearest date: 2019-11-13 00:00:00\n"
     ]
    },
    {
     "name": "stderr",
     "output_type": "stream",
     "text": [
      "Processing:   4%|██▏                                                        | 1671/46077 [1:44:19<114:04:35,  9.25s/it]"
     ]
    },
    {
     "name": "stdout",
     "output_type": "stream",
     "text": [
      "Reference date 2018-02-13 00:00:00 not found. Using nearest date: 2018-02-14 00:00:00\n"
     ]
    },
    {
     "name": "stderr",
     "output_type": "stream",
     "text": [
      "Processing:   4%|██▏                                                        | 1693/46077 [1:47:46<112:11:57,  9.10s/it]"
     ]
    },
    {
     "name": "stdout",
     "output_type": "stream",
     "text": [
      "Error for BIRLACORPN on 2024-09-14 00:00:00: Insufficient data to determine d+1.\n",
      "Reference date 2024-09-14 00:00:00 not found. Using nearest date: 2024-07-30 00:00:00\n"
     ]
    },
    {
     "name": "stderr",
     "output_type": "stream",
     "text": [
      "Processing:   4%|██▏                                                        | 1694/46077 [1:47:55<111:29:43,  9.04s/it]"
     ]
    },
    {
     "name": "stdout",
     "output_type": "stream",
     "text": [
      "Error for BIRLACORPN on 2024-08-12 00:00:00: Insufficient data to determine d+1.\n",
      "Reference date 2024-08-12 00:00:00 not found. Using nearest date: 2024-07-30 00:00:00\n"
     ]
    },
    {
     "name": "stderr",
     "output_type": "stream",
     "text": [
      "Processing:   4%|██▏                                                        | 1700/46077 [1:48:49<110:46:55,  8.99s/it]"
     ]
    },
    {
     "name": "stdout",
     "output_type": "stream",
     "text": [
      "Reference date 2024-04-06 00:00:00 not found. Using nearest date: 2024-04-05 00:00:00\n"
     ]
    },
    {
     "name": "stderr",
     "output_type": "stream",
     "text": [
      "Processing:   4%|██▏                                                        | 1710/46077 [1:50:48<140:24:10, 11.39s/it]"
     ]
    },
    {
     "name": "stdout",
     "output_type": "stream",
     "text": [
      "Reference date 2023-05-27 00:00:00 not found. Using nearest date: 2023-05-26 00:00:00\n"
     ]
    },
    {
     "name": "stderr",
     "output_type": "stream",
     "text": [
      "Processing:   4%|██▏                                                        | 1713/46077 [1:51:29<150:48:59, 12.24s/it]"
     ]
    },
    {
     "name": "stdout",
     "output_type": "stream",
     "text": [
      "Reference date 2023-02-05 00:00:00 not found. Using nearest date: 2023-02-06 00:00:00\n"
     ]
    },
    {
     "name": "stderr",
     "output_type": "stream",
     "text": [
      "Processing:   4%|██▏                                                        | 1717/46077 [1:52:09<131:38:02, 10.68s/it]"
     ]
    },
    {
     "name": "stdout",
     "output_type": "stream",
     "text": [
      "Reference date 2022-08-07 00:00:00 not found. Using nearest date: 2022-08-08 00:00:00\n"
     ]
    },
    {
     "name": "stderr",
     "output_type": "stream",
     "text": [
      "Processing:   4%|██▏                                                        | 1721/46077 [1:52:50<126:25:23, 10.26s/it]"
     ]
    },
    {
     "name": "stdout",
     "output_type": "stream",
     "text": [
      "Reference date 2022-02-06 00:00:00 not found. Using nearest date: 2022-02-07 00:00:00\n"
     ]
    },
    {
     "name": "stderr",
     "output_type": "stream",
     "text": [
      "Processing:   4%|██▏                                                        | 1730/46077 [1:54:26<131:37:52, 10.69s/it]"
     ]
    },
    {
     "name": "stdout",
     "output_type": "stream",
     "text": [
      "Reference date 2021-05-13 00:00:00 not found. Using nearest date: 2021-05-14 00:00:00\n"
     ]
    },
    {
     "name": "stderr",
     "output_type": "stream",
     "text": [
      "Processing:   4%|██▏                                                        | 1731/46077 [1:54:38<136:41:46, 11.10s/it]"
     ]
    },
    {
     "name": "stdout",
     "output_type": "stream",
     "text": [
      "Reference date 2021-02-20 00:00:00 not found. Using nearest date: 2021-02-19 00:00:00\n"
     ]
    },
    {
     "name": "stderr",
     "output_type": "stream",
     "text": [
      "Processing:   4%|██▏                                                        | 1742/46077 [1:56:37<129:44:02, 10.53s/it]"
     ]
    },
    {
     "name": "stdout",
     "output_type": "stream",
     "text": [
      "Reference date 2020-05-23 00:00:00 not found. Using nearest date: 2020-05-22 00:00:00\n"
     ]
    },
    {
     "name": "stderr",
     "output_type": "stream",
     "text": [
      "Processing:   4%|██▏                                                        | 1746/46077 [1:57:18<127:33:42, 10.36s/it]"
     ]
    },
    {
     "name": "stdout",
     "output_type": "stream",
     "text": [
      "Reference date 2019-05-05 00:00:00 not found. Using nearest date: 2019-05-06 00:00:00\n"
     ]
    },
    {
     "name": "stderr",
     "output_type": "stream",
     "text": [
      "Processing:   4%|██▏                                                        | 1749/46077 [1:57:56<147:00:51, 11.94s/it]"
     ]
    },
    {
     "name": "stdout",
     "output_type": "stream",
     "text": [
      "Reference date 2018-02-11 00:00:00 not found. Using nearest date: 2018-02-12 00:00:00\n"
     ]
    },
    {
     "name": "stderr",
     "output_type": "stream",
     "text": [
      "Processing:   4%|██▏                                                        | 1752/46077 [1:58:38<170:47:19, 13.87s/it]"
     ]
    },
    {
     "name": "stdout",
     "output_type": "stream",
     "text": [
      "Reference date 2017-11-12 00:00:00 not found. Using nearest date: 2017-11-13 00:00:00\n"
     ]
    },
    {
     "name": "stderr",
     "output_type": "stream",
     "text": [
      "Processing:   4%|██▏                                                        | 1755/46077 [1:59:19<175:26:23, 14.25s/it]"
     ]
    },
    {
     "name": "stdout",
     "output_type": "stream",
     "text": [
      "Reference date 2017-08-13 00:00:00 not found. Using nearest date: 2017-08-14 00:00:00\n"
     ]
    },
    {
     "name": "stderr",
     "output_type": "stream",
     "text": [
      "Processing:   4%|██▎                                                        | 1766/46077 [2:01:47<152:03:09, 12.35s/it]"
     ]
    },
    {
     "name": "stdout",
     "output_type": "stream",
     "text": [
      "Error for VGUARD on 2024-09-14 00:00:00: Insufficient data to determine d+1.\n",
      "Reference date 2024-09-14 00:00:00 not found. Using nearest date: 2024-07-30 00:00:00\n"
     ]
    },
    {
     "name": "stderr",
     "output_type": "stream",
     "text": [
      "Processing:   4%|██▎                                                        | 1767/46077 [2:02:03<166:23:55, 13.52s/it]"
     ]
    },
    {
     "name": "stdout",
     "output_type": "stream",
     "text": [
      "Error for VGUARD on 2024-09-06 00:00:00: Insufficient data to determine d+1.\n",
      "Reference date 2024-09-06 00:00:00 not found. Using nearest date: 2024-07-30 00:00:00\n"
     ]
    },
    {
     "name": "stderr",
     "output_type": "stream",
     "text": [
      "Processing:   4%|██▎                                                        | 1768/46077 [2:02:18<170:15:27, 13.83s/it]"
     ]
    },
    {
     "name": "stdout",
     "output_type": "stream",
     "text": [
      "Error for VGUARD on 2024-08-06 00:00:00: Insufficient data to determine d+1.\n",
      "Reference date 2024-08-06 00:00:00 not found. Using nearest date: 2024-07-30 00:00:00\n"
     ]
    },
    {
     "name": "stderr",
     "output_type": "stream",
     "text": [
      "Processing:   4%|██▎                                                        | 1771/46077 [2:03:00<173:04:50, 14.06s/it]"
     ]
    },
    {
     "name": "stdout",
     "output_type": "stream",
     "text": [
      "Reference date 2024-05-18 00:00:00 not found. Using nearest date: 2024-05-17 00:00:00\n"
     ]
    },
    {
     "name": "stderr",
     "output_type": "stream",
     "text": [
      "Processing:   4%|██▎                                                        | 1791/46077 [2:08:02<135:25:10, 11.01s/it]"
     ]
    },
    {
     "name": "stdout",
     "output_type": "stream",
     "text": [
      "Reference date 2022-07-30 00:00:00 not found. Using nearest date: 2022-07-29 00:00:00\n"
     ]
    },
    {
     "name": "stderr",
     "output_type": "stream",
     "text": [
      "Processing:   4%|██▎                                                        | 1797/46077 [2:08:57<116:37:23,  9.48s/it]"
     ]
    },
    {
     "name": "stdout",
     "output_type": "stream",
     "text": [
      "Reference date 2022-05-21 00:00:00 not found. Using nearest date: 2022-05-20 00:00:00\n"
     ]
    },
    {
     "name": "stderr",
     "output_type": "stream",
     "text": [
      "Processing:   4%|██▎                                                        | 1802/46077 [2:09:45<116:57:54,  9.51s/it]"
     ]
    },
    {
     "name": "stdout",
     "output_type": "stream",
     "text": [
      "Reference date 2021-07-03 00:00:00 not found. Using nearest date: 2021-07-02 00:00:00\n"
     ]
    },
    {
     "name": "stderr",
     "output_type": "stream",
     "text": [
      "Processing:   4%|██▎                                                        | 1823/46077 [2:13:03<113:57:34,  9.27s/it]"
     ]
    },
    {
     "name": "stdout",
     "output_type": "stream",
     "text": [
      "Reference date 2019-03-29 00:00:00 not found. Using nearest date: 2019-03-28 00:00:00\n"
     ]
    },
    {
     "name": "stderr",
     "output_type": "stream",
     "text": [
      "Processing:   4%|██▎                                                        | 1826/46077 [2:13:32<116:11:54,  9.45s/it]"
     ]
    },
    {
     "name": "stdout",
     "output_type": "stream",
     "text": [
      "Reference date 2019-02-03 00:00:00 not found. Using nearest date: 2019-02-04 00:00:00\n"
     ]
    },
    {
     "name": "stderr",
     "output_type": "stream",
     "text": [
      "Processing:   4%|██▎                                                        | 1832/46077 [2:14:29<117:40:24,  9.57s/it]"
     ]
    },
    {
     "name": "stdout",
     "output_type": "stream",
     "text": [
      "Reference date 2018-10-27 00:00:00 not found. Using nearest date: 2018-10-26 00:00:00\n"
     ]
    },
    {
     "name": "stderr",
     "output_type": "stream",
     "text": [
      "Processing:   4%|██▍                                                        | 1867/46077 [2:20:13<116:46:23,  9.51s/it]"
     ]
    },
    {
     "name": "stdout",
     "output_type": "stream",
     "text": [
      "Error for ASTERDM on 2024-09-14 00:00:00: Insufficient data to determine d+1.\n",
      "Reference date 2024-09-14 00:00:00 not found. Using nearest date: 2024-07-30 00:00:00\n"
     ]
    },
    {
     "name": "stderr",
     "output_type": "stream",
     "text": [
      "Processing:   4%|██▍                                                        | 1880/46077 [2:22:21<116:03:41,  9.45s/it]"
     ]
    },
    {
     "name": "stdout",
     "output_type": "stream",
     "text": [
      "Reference date 2021-11-13 00:00:00 not found. Using nearest date: 2021-11-12 00:00:00\n"
     ]
    },
    {
     "name": "stderr",
     "output_type": "stream",
     "text": [
      "Processing:   4%|██▍                                                        | 1885/46077 [2:23:06<112:04:07,  9.13s/it]"
     ]
    },
    {
     "name": "stdout",
     "output_type": "stream",
     "text": [
      "Reference date 2018-02-12 00:00:00 not found. Using nearest date: 2018-02-26 00:00:00\n"
     ]
    },
    {
     "name": "stderr",
     "output_type": "stream",
     "text": [
      "Processing:   4%|██▍                                                        | 1886/46077 [2:23:17<118:04:57,  9.62s/it]"
     ]
    },
    {
     "name": "stdout",
     "output_type": "stream",
     "text": [
      "Reference date 2018-02-12 00:00:00 not found. Using nearest date: 2018-02-26 00:00:00\n"
     ]
    },
    {
     "name": "stderr",
     "output_type": "stream",
     "text": [
      "Processing:   4%|██▍                                                        | 1887/46077 [2:23:26<116:37:33,  9.50s/it]"
     ]
    },
    {
     "name": "stdout",
     "output_type": "stream",
     "text": [
      "Reference date 2018-02-12 00:00:00 not found. Using nearest date: 2018-02-26 00:00:00\n"
     ]
    },
    {
     "name": "stderr",
     "output_type": "stream",
     "text": [
      "Processing:   4%|██▍                                                        | 1888/46077 [2:23:35<115:06:04,  9.38s/it]"
     ]
    },
    {
     "name": "stdout",
     "output_type": "stream",
     "text": [
      "Reference date 2018-02-09 00:00:00 not found. Using nearest date: 2018-02-26 00:00:00\n"
     ]
    },
    {
     "name": "stderr",
     "output_type": "stream",
     "text": [
      "Processing:   4%|██▍                                                        | 1889/46077 [2:23:45<114:56:40,  9.36s/it]"
     ]
    },
    {
     "name": "stdout",
     "output_type": "stream",
     "text": [
      "Reference date 2018-02-08 00:00:00 not found. Using nearest date: 2018-02-26 00:00:00\n"
     ]
    },
    {
     "name": "stderr",
     "output_type": "stream",
     "text": [
      "Processing:   4%|██▍                                                         | 1893/46077 [2:23:54<59:58:41,  4.89s/it]"
     ]
    },
    {
     "name": "stdout",
     "output_type": "stream",
     "text": [
      "Error for SANOFI on 2024-09-14 00:00:00: Insufficient data to determine d+1.\n",
      "Reference date 2024-09-14 00:00:00 not found. Using nearest date: 2024-07-30 00:00:00\n"
     ]
    },
    {
     "name": "stderr",
     "output_type": "stream",
     "text": [
      "Processing:   4%|██▍                                                         | 1895/46077 [2:24:13<79:37:53,  6.49s/it]"
     ]
    },
    {
     "name": "stdout",
     "output_type": "stream",
     "text": [
      "Reference date 2023-05-20 00:00:00 not found. Using nearest date: 2023-05-19 00:00:00\n"
     ]
    },
    {
     "name": "stderr",
     "output_type": "stream",
     "text": [
      "Processing:   4%|██▍                                                        | 1933/46077 [2:30:08<116:41:47,  9.52s/it]"
     ]
    },
    {
     "name": "stdout",
     "output_type": "stream",
     "text": [
      "Reference date 2016-11-14 00:00:00 not found. Using nearest date: 2016-11-15 00:00:00\n"
     ]
    },
    {
     "name": "stderr",
     "output_type": "stream",
     "text": [
      "Processing:   4%|██▍                                                        | 1939/46077 [2:31:05<115:37:31,  9.43s/it]"
     ]
    },
    {
     "name": "stdout",
     "output_type": "stream",
     "text": [
      "Reference date 2019-02-13 00:00:00 not found. Using nearest date: 2019-02-14 00:00:00\n"
     ]
    },
    {
     "name": "stderr",
     "output_type": "stream",
     "text": [
      "Processing:   4%|██▍                                                        | 1952/46077 [2:33:07<114:05:49,  9.31s/it]"
     ]
    },
    {
     "name": "stdout",
     "output_type": "stream",
     "text": [
      "Error for SUNDARMFIN on 2024-09-14 00:00:00: Insufficient data to determine d+1.\n",
      "Reference date 2024-09-14 00:00:00 not found. Using nearest date: 2024-07-30 00:00:00\n"
     ]
    },
    {
     "name": "stderr",
     "output_type": "stream",
     "text": [
      "Processing:   4%|██▌                                                        | 1953/46077 [2:33:17<114:55:26,  9.38s/it]"
     ]
    },
    {
     "name": "stdout",
     "output_type": "stream",
     "text": [
      "Error for SUNDARMFIN on 2024-08-07 00:00:00: Insufficient data to determine d+1.\n",
      "Reference date 2024-08-07 00:00:00 not found. Using nearest date: 2024-07-30 00:00:00\n"
     ]
    },
    {
     "name": "stderr",
     "output_type": "stream",
     "text": [
      "Processing:   4%|██▌                                                        | 1959/46077 [2:34:13<115:38:14,  9.44s/it]"
     ]
    },
    {
     "name": "stdout",
     "output_type": "stream",
     "text": [
      "Reference date 2023-08-13 00:00:00 not found. Using nearest date: 2023-08-14 00:00:00\n"
     ]
    },
    {
     "name": "stderr",
     "output_type": "stream",
     "text": [
      "Processing:   4%|██▌                                                        | 1990/46077 [2:39:07<115:25:02,  9.42s/it]"
     ]
    },
    {
     "name": "stdout",
     "output_type": "stream",
     "text": [
      "Reference date 2024-02-26 00:00:00 not found. Using nearest date: 2024-03-05 00:00:00\n"
     ]
    },
    {
     "name": "stderr",
     "output_type": "stream",
     "text": [
      "Processing:   4%|██▌                                                        | 1991/46077 [2:39:16<113:45:57,  9.29s/it]"
     ]
    },
    {
     "name": "stdout",
     "output_type": "stream",
     "text": [
      "Error for TCS on 2024-09-14 00:00:00: Insufficient data to determine d+1.\n",
      "Reference date 2024-09-14 00:00:00 not found. Using nearest date: 2024-07-30 00:00:00\n"
     ]
    },
    {
     "name": "stderr",
     "output_type": "stream",
     "text": [
      "Processing:   4%|██▌                                                        | 1992/46077 [2:39:25<112:58:13,  9.23s/it]"
     ]
    },
    {
     "name": "stdout",
     "output_type": "stream",
     "text": [
      "Error for TCS on 2024-08-30 00:00:00: Insufficient data to determine d+1.\n",
      "Reference date 2024-08-30 00:00:00 not found. Using nearest date: 2024-07-30 00:00:00\n"
     ]
    },
    {
     "name": "stderr",
     "output_type": "stream",
     "text": [
      "Processing:   4%|██▌                                                        | 1993/46077 [2:39:34<112:56:23,  9.22s/it]"
     ]
    },
    {
     "name": "stdout",
     "output_type": "stream",
     "text": [
      "Reference date 2024-07-17 00:00:00 not found. Using nearest date: 2024-07-18 00:00:00\n"
     ]
    },
    {
     "name": "stderr",
     "output_type": "stream",
     "text": [
      "Processing:   4%|██▌                                                        | 2012/46077 [2:42:31<113:10:25,  9.25s/it]"
     ]
    },
    {
     "name": "stdout",
     "output_type": "stream",
     "text": [
      "Reference date 2024-04-14 00:00:00 not found. Using nearest date: 2024-04-15 00:00:00\n"
     ]
    },
    {
     "name": "stderr",
     "output_type": "stream",
     "text": [
      "Processing:   4%|██▌                                                        | 2013/46077 [2:42:40<112:05:05,  9.16s/it]"
     ]
    },
    {
     "name": "stdout",
     "output_type": "stream",
     "text": [
      "Reference date 2024-04-13 00:00:00 not found. Using nearest date: 2024-04-12 00:00:00\n"
     ]
    },
    {
     "name": "stderr",
     "output_type": "stream",
     "text": [
      "Processing:   4%|██▌                                                        | 2014/46077 [2:42:49<112:02:30,  9.15s/it]"
     ]
    },
    {
     "name": "stdout",
     "output_type": "stream",
     "text": [
      "Reference date 2024-04-13 00:00:00 not found. Using nearest date: 2024-04-12 00:00:00\n"
     ]
    },
    {
     "name": "stderr",
     "output_type": "stream",
     "text": [
      "Processing:   4%|██▌                                                        | 2043/46077 [2:47:21<113:32:19,  9.28s/it]"
     ]
    },
    {
     "name": "stdout",
     "output_type": "stream",
     "text": [
      "Reference date 2023-06-10 00:00:00 not found. Using nearest date: 2023-06-09 00:00:00\n"
     ]
    },
    {
     "name": "stderr",
     "output_type": "stream",
     "text": [
      "Processing:   4%|██▌                                                        | 2045/46077 [2:47:39<112:36:50,  9.21s/it]"
     ]
    },
    {
     "name": "stdout",
     "output_type": "stream",
     "text": [
      "Reference date 2023-04-14 00:00:00 not found. Using nearest date: 2023-04-13 00:00:00\n"
     ]
    },
    {
     "name": "stderr",
     "output_type": "stream",
     "text": [
      "Processing:   5%|██▋                                                        | 2079/46077 [2:52:54<116:48:37,  9.56s/it]"
     ]
    },
    {
     "name": "stdout",
     "output_type": "stream",
     "text": [
      "Reference date 2022-07-10 00:00:00 not found. Using nearest date: 2022-07-11 00:00:00\n"
     ]
    },
    {
     "name": "stderr",
     "output_type": "stream",
     "text": [
      "Processing:   5%|██▋                                                        | 2080/46077 [2:53:03<114:43:02,  9.39s/it]"
     ]
    },
    {
     "name": "stdout",
     "output_type": "stream",
     "text": [
      "Reference date 2022-07-09 00:00:00 not found. Using nearest date: 2022-07-08 00:00:00\n"
     ]
    },
    {
     "name": "stderr",
     "output_type": "stream",
     "text": [
      "Processing:   5%|██▋                                                        | 2085/46077 [2:53:49<110:58:38,  9.08s/it]"
     ]
    },
    {
     "name": "stdout",
     "output_type": "stream",
     "text": [
      "Reference date 2022-04-14 00:00:00 not found. Using nearest date: 2022-04-13 00:00:00\n"
     ]
    },
    {
     "name": "stderr",
     "output_type": "stream",
     "text": [
      "Processing:   5%|██▋                                                        | 2086/46077 [2:53:58<113:13:04,  9.27s/it]"
     ]
    },
    {
     "name": "stdout",
     "output_type": "stream",
     "text": [
      "Reference date 2022-04-14 00:00:00 not found. Using nearest date: 2022-04-13 00:00:00\n"
     ]
    },
    {
     "name": "stderr",
     "output_type": "stream",
     "text": [
      "Processing:   5%|██▋                                                        | 2108/46077 [2:57:23<111:28:02,  9.13s/it]"
     ]
    },
    {
     "name": "stdout",
     "output_type": "stream",
     "text": [
      "Reference date 2021-10-10 00:00:00 not found. Using nearest date: 2021-10-11 00:00:00\n"
     ]
    },
    {
     "name": "stderr",
     "output_type": "stream",
     "text": [
      "Processing:   5%|██▋                                                        | 2109/46077 [2:57:32<111:20:48,  9.12s/it]"
     ]
    },
    {
     "name": "stdout",
     "output_type": "stream",
     "text": [
      "Reference date 2021-10-09 00:00:00 not found. Using nearest date: 2021-10-08 00:00:00\n"
     ]
    },
    {
     "name": "stderr",
     "output_type": "stream",
     "text": [
      "Processing:   5%|██▋                                                        | 2110/46077 [2:57:43<117:21:21,  9.61s/it]"
     ]
    },
    {
     "name": "stdout",
     "output_type": "stream",
     "text": [
      "Reference date 2021-10-09 00:00:00 not found. Using nearest date: 2021-10-08 00:00:00\n"
     ]
    },
    {
     "name": "stderr",
     "output_type": "stream",
     "text": [
      "Processing:   5%|██▋                                                        | 2111/46077 [2:57:52<116:50:18,  9.57s/it]"
     ]
    },
    {
     "name": "stdout",
     "output_type": "stream",
     "text": [
      "Reference date 2021-10-09 00:00:00 not found. Using nearest date: 2021-10-08 00:00:00\n"
     ]
    },
    {
     "name": "stderr",
     "output_type": "stream",
     "text": [
      "Processing:   5%|██▋                                                        | 2112/46077 [2:58:02<116:22:07,  9.53s/it]"
     ]
    },
    {
     "name": "stdout",
     "output_type": "stream",
     "text": [
      "Reference date 2021-10-09 00:00:00 not found. Using nearest date: 2021-10-08 00:00:00\n"
     ]
    },
    {
     "name": "stderr",
     "output_type": "stream",
     "text": [
      "Processing:   5%|██▋                                                        | 2119/46077 [2:59:07<113:42:31,  9.31s/it]"
     ]
    },
    {
     "name": "stdout",
     "output_type": "stream",
     "text": [
      "Reference date 2021-05-15 00:00:00 not found. Using nearest date: 2021-05-14 00:00:00\n"
     ]
    },
    {
     "name": "stderr",
     "output_type": "stream",
     "text": [
      "Processing:   5%|██▋                                                        | 2136/46077 [3:01:52<118:00:31,  9.67s/it]"
     ]
    },
    {
     "name": "stdout",
     "output_type": "stream",
     "text": [
      "Reference date 2021-01-09 00:00:00 not found. Using nearest date: 2021-01-08 00:00:00\n"
     ]
    },
    {
     "name": "stderr",
     "output_type": "stream",
     "text": [
      "Processing:   5%|██▋                                                        | 2139/46077 [3:02:22<122:11:19, 10.01s/it]"
     ]
    },
    {
     "name": "stdout",
     "output_type": "stream",
     "text": [
      "Reference date 2020-10-31 00:00:00 not found. Using nearest date: 2020-10-30 00:00:00\n"
     ]
    },
    {
     "name": "stderr",
     "output_type": "stream",
     "text": [
      "Processing:   5%|██▊                                                        | 2159/46077 [3:05:39<110:10:48,  9.03s/it]"
     ]
    },
    {
     "name": "stdout",
     "output_type": "stream",
     "text": [
      "Reference date 2020-07-04 00:00:00 not found. Using nearest date: 2020-07-03 00:00:00\n"
     ]
    },
    {
     "name": "stderr",
     "output_type": "stream",
     "text": [
      "Processing:   5%|██▊                                                        | 2179/46077 [3:08:41<110:09:57,  9.03s/it]"
     ]
    },
    {
     "name": "stdout",
     "output_type": "stream",
     "text": [
      "Reference date 2020-01-18 00:00:00 not found. Using nearest date: 2020-01-17 00:00:00\n"
     ]
    },
    {
     "name": "stderr",
     "output_type": "stream",
     "text": [
      "Processing:   5%|██▊                                                        | 2180/46077 [3:08:50<109:24:18,  8.97s/it]"
     ]
    },
    {
     "name": "stdout",
     "output_type": "stream",
     "text": [
      "Reference date 2020-01-18 00:00:00 not found. Using nearest date: 2020-01-17 00:00:00\n"
     ]
    },
    {
     "name": "stderr",
     "output_type": "stream",
     "text": [
      "Processing:   5%|██▊                                                        | 2181/46077 [3:08:59<108:56:12,  8.93s/it]"
     ]
    },
    {
     "name": "stdout",
     "output_type": "stream",
     "text": [
      "Reference date 2020-01-18 00:00:00 not found. Using nearest date: 2020-01-17 00:00:00\n"
     ]
    },
    {
     "name": "stderr",
     "output_type": "stream",
     "text": [
      "Processing:   5%|██▊                                                        | 2214/46077 [3:14:00<116:05:47,  9.53s/it]"
     ]
    },
    {
     "name": "stdout",
     "output_type": "stream",
     "text": [
      "Reference date 2019-04-14 00:00:00 not found. Using nearest date: 2019-04-15 00:00:00\n"
     ]
    },
    {
     "name": "stderr",
     "output_type": "stream",
     "text": [
      "Processing:   5%|██▊                                                        | 2215/46077 [3:14:09<115:45:32,  9.50s/it]"
     ]
    },
    {
     "name": "stdout",
     "output_type": "stream",
     "text": [
      "Reference date 2019-04-13 00:00:00 not found. Using nearest date: 2019-04-12 00:00:00\n"
     ]
    },
    {
     "name": "stderr",
     "output_type": "stream",
     "text": [
      "Processing:   5%|██▊                                                        | 2216/46077 [3:14:18<114:30:25,  9.40s/it]"
     ]
    },
    {
     "name": "stdout",
     "output_type": "stream",
     "text": [
      "Reference date 2019-04-13 00:00:00 not found. Using nearest date: 2019-04-12 00:00:00\n"
     ]
    },
    {
     "name": "stderr",
     "output_type": "stream",
     "text": [
      "Processing:   5%|██▊                                                        | 2241/46077 [3:18:06<110:28:29,  9.07s/it]"
     ]
    },
    {
     "name": "stdout",
     "output_type": "stream",
     "text": [
      "Reference date 2018-09-20 00:00:00 not found. Using nearest date: 2018-09-21 00:00:00\n"
     ]
    },
    {
     "name": "stderr",
     "output_type": "stream",
     "text": [
      "Processing:   5%|██▉                                                        | 2337/46077 [3:35:03<114:43:48,  9.44s/it]"
     ]
    },
    {
     "name": "stdout",
     "output_type": "stream",
     "text": [
      "Reference date 2016-04-19 00:00:00 not found. Using nearest date: 2016-04-20 00:00:00\n"
     ]
    },
    {
     "name": "stderr",
     "output_type": "stream",
     "text": [
      "Processing:   5%|██▉                                                        | 2338/46077 [3:35:13<118:45:55,  9.78s/it]"
     ]
    },
    {
     "name": "stdout",
     "output_type": "stream",
     "text": [
      "Reference date 2016-04-19 00:00:00 not found. Using nearest date: 2016-04-20 00:00:00\n"
     ]
    },
    {
     "name": "stderr",
     "output_type": "stream",
     "text": [
      "Processing:   5%|███                                                        | 2364/46077 [3:39:25<117:31:52,  9.68s/it]"
     ]
    },
    {
     "name": "stdout",
     "output_type": "stream",
     "text": [
      "Reference date 2014-04-18 00:00:00 not found. Using nearest date: 2014-04-17 00:00:00\n"
     ]
    },
    {
     "name": "stderr",
     "output_type": "stream",
     "text": [
      "Processing:   5%|███▎                                                         | 2523/46077 [3:40:53<2:29:48,  4.85it/s]"
     ]
    },
    {
     "name": "stdout",
     "output_type": "stream",
     "text": [
      "Error for LICHSGFIN on 2024-09-14 00:00:00: Insufficient data to determine d+1.\n",
      "Reference date 2024-09-14 00:00:00 not found. Using nearest date: 2024-07-30 00:00:00\n"
     ]
    },
    {
     "name": "stderr",
     "output_type": "stream",
     "text": [
      "Processing:   5%|███▎                                                         | 2523/46077 [3:41:03<2:29:48,  4.85it/s]"
     ]
    },
    {
     "name": "stdout",
     "output_type": "stream",
     "text": [
      "Error for LICHSGFIN on 2024-08-05 00:00:00: Insufficient data to determine d+1.\n",
      "Reference date 2024-08-05 00:00:00 not found. Using nearest date: 2024-07-30 00:00:00\n"
     ]
    },
    {
     "name": "stderr",
     "output_type": "stream",
     "text": [
      "Processing:   5%|███▎                                                        | 2529/46077 [3:42:00<14:35:39,  1.21s/it]"
     ]
    },
    {
     "name": "stdout",
     "output_type": "stream",
     "text": [
      "Reference date 2023-11-05 00:00:00 not found. Using nearest date: 2023-11-06 00:00:00\n"
     ]
    },
    {
     "name": "stderr",
     "output_type": "stream",
     "text": [
      "Processing:   5%|███▎                                                        | 2532/46077 [3:42:19<27:09:45,  2.25s/it]"
     ]
    },
    {
     "name": "stdout",
     "output_type": "stream",
     "text": [
      "Reference date 2023-06-03 00:00:00 not found. Using nearest date: 2023-06-02 00:00:00\n"
     ]
    },
    {
     "name": "stderr",
     "output_type": "stream",
     "text": [
      "Processing:   6%|███▎                                                        | 2536/46077 [3:43:22<56:05:39,  4.64s/it]"
     ]
    },
    {
     "name": "stdout",
     "output_type": "stream",
     "text": [
      "Reference date 2022-11-08 00:00:00 not found. Using nearest date: 2022-11-09 00:00:00\n"
     ]
    },
    {
     "name": "stderr",
     "output_type": "stream",
     "text": [
      "Processing:   6%|███▎                                                       | 2543/46077 [3:44:17<108:26:56,  8.97s/it]"
     ]
    },
    {
     "name": "stdout",
     "output_type": "stream",
     "text": [
      "Reference date 2022-05-22 00:00:00 not found. Using nearest date: 2022-05-23 00:00:00\n"
     ]
    },
    {
     "name": "stderr",
     "output_type": "stream",
     "text": [
      "Processing:   6%|███▎                                                       | 2544/46077 [3:44:27<110:19:57,  9.12s/it]"
     ]
    },
    {
     "name": "stdout",
     "output_type": "stream",
     "text": [
      "Reference date 2022-05-21 00:00:00 not found. Using nearest date: 2022-05-20 00:00:00\n"
     ]
    },
    {
     "name": "stderr",
     "output_type": "stream",
     "text": [
      "Processing:   6%|███▎                                                       | 2544/46077 [3:44:37<110:19:57,  9.12s/it]"
     ]
    },
    {
     "name": "stdout",
     "output_type": "stream",
     "text": [
      "Reference date 2022-01-29 00:00:00 not found. Using nearest date: 2022-01-28 00:00:00\n"
     ]
    },
    {
     "name": "stderr",
     "output_type": "stream",
     "text": [
      "Processing:   6%|███▎                                                       | 2549/46077 [3:45:15<115:43:49,  9.57s/it]"
     ]
    },
    {
     "name": "stdout",
     "output_type": "stream",
     "text": [
      "Reference date 2021-08-01 00:00:00 not found. Using nearest date: 2021-08-02 00:00:00\n"
     ]
    },
    {
     "name": "stderr",
     "output_type": "stream",
     "text": [
      "Processing:   6%|███▎                                                       | 2555/46077 [3:46:12<114:28:52,  9.47s/it]"
     ]
    },
    {
     "name": "stdout",
     "output_type": "stream",
     "text": [
      "Reference date 2021-01-31 00:00:00 not found. Using nearest date: 2021-02-01 00:00:00\n"
     ]
    },
    {
     "name": "stderr",
     "output_type": "stream",
     "text": [
      "Processing:   6%|███▎                                                       | 2572/46077 [3:48:57<112:45:56,  9.33s/it]"
     ]
    },
    {
     "name": "stdout",
     "output_type": "stream",
     "text": [
      "Reference date 2019-11-12 00:00:00 not found. Using nearest date: 2019-11-13 00:00:00\n"
     ]
    },
    {
     "name": "stderr",
     "output_type": "stream",
     "text": [
      "Processing:   6%|███▍                                                       | 2640/46077 [3:59:56<117:35:30,  9.75s/it]"
     ]
    },
    {
     "name": "stdout",
     "output_type": "stream",
     "text": [
      "Reference date 2016-11-05 00:00:00 not found. Using nearest date: 2016-11-04 00:00:00\n"
     ]
    },
    {
     "name": "stderr",
     "output_type": "stream",
     "text": [
      "Processing:   6%|███▍                                                       | 2693/46077 [4:08:19<113:27:08,  9.41s/it]"
     ]
    },
    {
     "name": "stdout",
     "output_type": "stream",
     "text": [
      "Error for SPANDANA on 2024-09-14 00:00:00: Insufficient data to determine d+1.\n",
      "Reference date 2024-09-14 00:00:00 not found. Using nearest date: 2024-07-30 00:00:00\n"
     ]
    },
    {
     "name": "stderr",
     "output_type": "stream",
     "text": [
      "Processing:   6%|███▍                                                       | 2698/46077 [4:09:08<116:27:09,  9.66s/it]"
     ]
    },
    {
     "name": "stdout",
     "output_type": "stream",
     "text": [
      "Reference date 2024-01-22 00:00:00 not found. Using nearest date: 2024-01-23 00:00:00\n"
     ]
    },
    {
     "name": "stderr",
     "output_type": "stream",
     "text": [
      "Processing:   6%|███▍                                                       | 2715/46077 [4:11:49<114:47:01,  9.53s/it]"
     ]
    },
    {
     "name": "stdout",
     "output_type": "stream",
     "text": [
      "Reference date 2019-08-06 00:00:00 not found. Using nearest date: 2019-08-19 00:00:00\n"
     ]
    },
    {
     "name": "stderr",
     "output_type": "stream",
     "text": [
      "Processing:   6%|███▍                                                       | 2716/46077 [4:11:59<113:59:36,  9.46s/it]"
     ]
    },
    {
     "name": "stdout",
     "output_type": "stream",
     "text": [
      "Reference date 2019-08-06 00:00:00 not found. Using nearest date: 2019-08-19 00:00:00\n"
     ]
    },
    {
     "name": "stderr",
     "output_type": "stream",
     "text": [
      "Processing:   6%|███▍                                                       | 2717/46077 [4:12:09<115:39:42,  9.60s/it]"
     ]
    },
    {
     "name": "stdout",
     "output_type": "stream",
     "text": [
      "Reference date 2019-08-05 00:00:00 not found. Using nearest date: 2019-08-19 00:00:00\n"
     ]
    },
    {
     "name": "stderr",
     "output_type": "stream",
     "text": [
      "Processing:   6%|███▍                                                       | 2718/46077 [4:12:18<114:51:34,  9.54s/it]"
     ]
    },
    {
     "name": "stdout",
     "output_type": "stream",
     "text": [
      "Reference date 2019-08-03 00:00:00 not found. Using nearest date: 2019-08-19 00:00:00\n"
     ]
    },
    {
     "name": "stderr",
     "output_type": "stream",
     "text": [
      "Processing:   6%|███▌                                                        | 2723/46077 [4:12:28<53:38:03,  4.45s/it]"
     ]
    },
    {
     "name": "stdout",
     "output_type": "stream",
     "text": [
      "Reference date 2023-06-20 00:00:00 not found. Using nearest date: 2023-06-30 00:00:00\n"
     ]
    },
    {
     "name": "stderr",
     "output_type": "stream",
     "text": [
      "Processing:   6%|███▌                                                        | 2724/46077 [4:12:38<63:10:09,  5.25s/it]"
     ]
    },
    {
     "name": "stdout",
     "output_type": "stream",
     "text": [
      "Error for IMAGICAA on 2024-09-14 00:00:00: Insufficient data to determine d+1.\n",
      "Reference date 2024-09-14 00:00:00 not found. Using nearest date: 2024-07-30 00:00:00\n"
     ]
    },
    {
     "name": "stderr",
     "output_type": "stream",
     "text": [
      "Processing:   6%|███▌                                                        | 2725/46077 [4:12:47<72:21:24,  6.01s/it]"
     ]
    },
    {
     "name": "stdout",
     "output_type": "stream",
     "text": [
      "Error for BKMINDST on 2024-09-14 00:00:00: Insufficient data to determine d+1.\n",
      "Reference date 2024-09-14 00:00:00 not found. Using nearest date: 2024-07-30 00:00:00\n"
     ]
    },
    {
     "name": "stderr",
     "output_type": "stream",
     "text": [
      "Processing:   6%|███▌                                                        | 2726/46077 [4:12:56<81:01:47,  6.73s/it]"
     ]
    },
    {
     "name": "stdout",
     "output_type": "stream",
     "text": [
      "Error for JAMNAAUTO on 2024-09-14 00:00:00: Insufficient data to determine d+1.\n",
      "Reference date 2024-09-14 00:00:00 not found. Using nearest date: 2024-07-30 00:00:00\n"
     ]
    },
    {
     "name": "stderr",
     "output_type": "stream",
     "text": [
      "Processing:   6%|███▌                                                       | 2743/46077 [4:15:38<114:41:38,  9.53s/it]"
     ]
    },
    {
     "name": "stdout",
     "output_type": "stream",
     "text": [
      "Reference date 2018-08-11 00:00:00 not found. Using nearest date: 2018-08-10 00:00:00\n"
     ]
    },
    {
     "name": "stderr",
     "output_type": "stream",
     "text": [
      "Processing:   6%|███▌                                                       | 2744/46077 [4:15:47<113:17:11,  9.41s/it]"
     ]
    },
    {
     "name": "stdout",
     "output_type": "stream",
     "text": [
      "Reference date 2018-08-11 00:00:00 not found. Using nearest date: 2018-08-10 00:00:00\n"
     ]
    },
    {
     "name": "stderr",
     "output_type": "stream",
     "text": [
      "Processing:   6%|███▌                                                       | 2774/46077 [4:20:36<116:31:08,  9.69s/it]"
     ]
    },
    {
     "name": "stdout",
     "output_type": "stream",
     "text": [
      "Error for TATAPOWER on 2024-09-14 00:00:00: Insufficient data to determine d+1.\n",
      "Reference date 2024-09-14 00:00:00 not found. Using nearest date: 2024-07-30 00:00:00\n"
     ]
    },
    {
     "name": "stderr",
     "output_type": "stream",
     "text": [
      "Processing:   6%|███▌                                                       | 2775/46077 [4:20:47<121:31:57, 10.10s/it]"
     ]
    },
    {
     "name": "stdout",
     "output_type": "stream",
     "text": [
      "Error for TATAPOWER on 2024-08-07 00:00:00: Insufficient data to determine d+1.\n",
      "Reference date 2024-08-07 00:00:00 not found. Using nearest date: 2024-07-30 00:00:00\n"
     ]
    },
    {
     "name": "stderr",
     "output_type": "stream",
     "text": [
      "Processing:   6%|███▌                                                       | 2776/46077 [4:20:57<122:23:46, 10.18s/it]"
     ]
    },
    {
     "name": "stdout",
     "output_type": "stream",
     "text": [
      "Error for TATAPOWER on 2024-08-07 00:00:00: Insufficient data to determine d+1.\n",
      "Reference date 2024-08-07 00:00:00 not found. Using nearest date: 2024-07-30 00:00:00\n"
     ]
    },
    {
     "name": "stderr",
     "output_type": "stream",
     "text": [
      "Processing:   6%|███▌                                                       | 2786/46077 [4:22:33<115:48:06,  9.63s/it]"
     ]
    },
    {
     "name": "stdout",
     "output_type": "stream",
     "text": [
      "Reference date 2023-02-04 00:00:00 not found. Using nearest date: 2023-02-03 00:00:00\n"
     ]
    },
    {
     "name": "stderr",
     "output_type": "stream",
     "text": [
      "Processing:   6%|███▌                                                       | 2796/46077 [4:24:10<119:17:57,  9.92s/it]"
     ]
    },
    {
     "name": "stdout",
     "output_type": "stream",
     "text": [
      "Reference date 2021-08-07 00:00:00 not found. Using nearest date: 2021-08-06 00:00:00\n"
     ]
    },
    {
     "name": "stderr",
     "output_type": "stream",
     "text": [
      "Processing:   6%|███▌                                                       | 2798/46077 [4:24:29<116:06:10,  9.66s/it]"
     ]
    },
    {
     "name": "stdout",
     "output_type": "stream",
     "text": [
      "Reference date 2021-05-13 00:00:00 not found. Using nearest date: 2021-05-14 00:00:00\n"
     ]
    },
    {
     "name": "stderr",
     "output_type": "stream",
     "text": [
      "Processing:   6%|███▌                                                       | 2809/46077 [4:26:15<113:53:04,  9.48s/it]"
     ]
    },
    {
     "name": "stdout",
     "output_type": "stream",
     "text": [
      "Reference date 2019-11-10 00:00:00 not found. Using nearest date: 2019-11-11 00:00:00\n"
     ]
    },
    {
     "name": "stderr",
     "output_type": "stream",
     "text": [
      "Processing:   6%|███▋                                                       | 2837/46077 [4:31:01<114:53:40,  9.57s/it]"
     ]
    },
    {
     "name": "stdout",
     "output_type": "stream",
     "text": [
      "Reference date 2017-02-18 00:00:00 not found. Using nearest date: 2017-02-17 00:00:00\n"
     ]
    },
    {
     "name": "stderr",
     "output_type": "stream",
     "text": [
      "Processing:   6%|███▋                                                       | 2857/46077 [4:34:09<112:14:18,  9.35s/it]"
     ]
    },
    {
     "name": "stdout",
     "output_type": "stream",
     "text": [
      "Error for POWERINDIA on 2024-09-14 00:00:00: Insufficient data to determine d+1.\n",
      "Reference date 2024-09-14 00:00:00 not found. Using nearest date: 2024-07-30 00:00:00\n"
     ]
    },
    {
     "name": "stderr",
     "output_type": "stream",
     "text": [
      "Processing:   6%|███▋                                                       | 2858/46077 [4:34:19<111:58:59,  9.33s/it]"
     ]
    },
    {
     "name": "stdout",
     "output_type": "stream",
     "text": [
      "Error for POWERINDIA on 2024-08-05 00:00:00: Insufficient data to determine d+1.\n",
      "Reference date 2024-08-05 00:00:00 not found. Using nearest date: 2024-07-30 00:00:00\n"
     ]
    },
    {
     "name": "stderr",
     "output_type": "stream",
     "text": [
      "Processing:   6%|███▋                                                       | 2862/46077 [4:34:58<115:53:56,  9.65s/it]"
     ]
    },
    {
     "name": "stdout",
     "output_type": "stream",
     "text": [
      "Reference date 2023-11-19 00:00:00 not found. Using nearest date: 2023-11-20 00:00:00\n"
     ]
    },
    {
     "name": "stderr",
     "output_type": "stream",
     "text": [
      "Processing:   6%|███▋                                                       | 2870/46077 [4:36:16<122:15:39, 10.19s/it]"
     ]
    },
    {
     "name": "stdout",
     "output_type": "stream",
     "text": [
      "Error for KIRLOSIND on 2024-09-14 00:00:00: Insufficient data to determine d+1.\n",
      "Reference date 2024-09-14 00:00:00 not found. Using nearest date: 2024-07-30 00:00:00\n"
     ]
    },
    {
     "name": "stderr",
     "output_type": "stream",
     "text": [
      "Processing:   6%|███▋                                                       | 2874/46077 [4:36:54<114:52:26,  9.57s/it]"
     ]
    },
    {
     "name": "stdout",
     "output_type": "stream",
     "text": [
      "Reference date 2022-03-19 00:00:00 not found. Using nearest date: 2022-03-21 00:00:00\n"
     ]
    },
    {
     "name": "stderr",
     "output_type": "stream",
     "text": [
      "Processing:   6%|███▋                                                       | 2886/46077 [4:38:53<117:18:00,  9.78s/it]"
     ]
    },
    {
     "name": "stdout",
     "output_type": "stream",
     "text": [
      "Error for JKCEMENT on 2024-09-14 00:00:00: Insufficient data to determine d+1.\n",
      "Reference date 2024-09-14 00:00:00 not found. Using nearest date: 2024-07-30 00:00:00\n"
     ]
    },
    {
     "name": "stderr",
     "output_type": "stream",
     "text": [
      "Processing:   6%|███▋                                                       | 2921/46077 [4:44:30<118:07:23,  9.85s/it]"
     ]
    },
    {
     "name": "stdout",
     "output_type": "stream",
     "text": [
      "Reference date 2022-10-22 00:00:00 not found. Using nearest date: 2022-10-21 00:00:00\n"
     ]
    },
    {
     "name": "stderr",
     "output_type": "stream",
     "text": [
      "Processing:   6%|███▋                                                       | 2925/46077 [4:45:09<115:09:13,  9.61s/it]"
     ]
    },
    {
     "name": "stdout",
     "output_type": "stream",
     "text": [
      "Reference date 2022-08-15 00:00:00 not found. Using nearest date: 2022-08-16 00:00:00\n"
     ]
    },
    {
     "name": "stderr",
     "output_type": "stream",
     "text": [
      "Processing:   6%|███▊                                                       | 2936/46077 [4:46:54<114:29:44,  9.55s/it]"
     ]
    },
    {
     "name": "stdout",
     "output_type": "stream",
     "text": [
      "Reference date 2021-08-15 00:00:00 not found. Using nearest date: 2021-08-16 00:00:00\n"
     ]
    },
    {
     "name": "stderr",
     "output_type": "stream",
     "text": [
      "Processing:   6%|███▊                                                       | 2971/46077 [4:52:27<114:51:47,  9.59s/it]"
     ]
    },
    {
     "name": "stdout",
     "output_type": "stream",
     "text": [
      "Reference date 2019-11-12 00:00:00 not found. Using nearest date: 2019-11-13 00:00:00\n"
     ]
    },
    {
     "name": "stderr",
     "output_type": "stream",
     "text": [
      "Processing:   7%|███▉                                                       | 3049/46077 [5:04:49<112:22:47,  9.40s/it]"
     ]
    },
    {
     "name": "stdout",
     "output_type": "stream",
     "text": [
      "Error for TATATECH on 2024-09-14 00:00:00: Insufficient data to determine d+1.\n",
      "Reference date 2024-09-14 00:00:00 not found. Using nearest date: 2024-07-30 00:00:00\n"
     ]
    },
    {
     "name": "stderr",
     "output_type": "stream",
     "text": [
      "Processing:   7%|███▉                                                       | 3050/46077 [5:04:59<112:08:07,  9.38s/it]"
     ]
    },
    {
     "name": "stdout",
     "output_type": "stream",
     "text": [
      "Error for TATATECH on 2024-09-02 00:00:00: Insufficient data to determine d+1.\n",
      "Reference date 2024-09-02 00:00:00 not found. Using nearest date: 2024-07-30 00:00:00\n"
     ]
    },
    {
     "name": "stderr",
     "output_type": "stream",
     "text": [
      "Processing:   7%|███▉                                                       | 3053/46077 [5:05:29<115:43:03,  9.68s/it]"
     ]
    },
    {
     "name": "stdout",
     "output_type": "stream",
     "text": [
      "Reference date 2023-11-27 00:00:00 not found. Using nearest date: 2023-11-30 00:00:00\n"
     ]
    },
    {
     "name": "stderr",
     "output_type": "stream",
     "text": [
      "Processing:   7%|███▉                                                       | 3054/46077 [5:05:38<115:09:04,  9.64s/it]"
     ]
    },
    {
     "name": "stdout",
     "output_type": "stream",
     "text": [
      "Reference date 2023-11-24 00:00:00 not found. Using nearest date: 2023-11-30 00:00:00\n"
     ]
    },
    {
     "name": "stderr",
     "output_type": "stream",
     "text": [
      "Processing:   7%|███▉                                                       | 3055/46077 [5:05:48<116:03:52,  9.71s/it]"
     ]
    },
    {
     "name": "stdout",
     "output_type": "stream",
     "text": [
      "Reference date 2023-11-24 00:00:00 not found. Using nearest date: 2023-11-30 00:00:00\n"
     ]
    },
    {
     "name": "stderr",
     "output_type": "stream",
     "text": [
      "Processing:   7%|███▉                                                       | 3056/46077 [5:05:57<114:40:35,  9.60s/it]"
     ]
    },
    {
     "name": "stdout",
     "output_type": "stream",
     "text": [
      "Reference date 2023-11-22 00:00:00 not found. Using nearest date: 2023-11-30 00:00:00\n"
     ]
    },
    {
     "name": "stderr",
     "output_type": "stream",
     "text": [
      "Processing:   7%|███▉                                                       | 3057/46077 [5:06:06<113:08:01,  9.47s/it]"
     ]
    },
    {
     "name": "stdout",
     "output_type": "stream",
     "text": [
      "Reference date 2023-11-21 00:00:00 not found. Using nearest date: 2023-11-30 00:00:00\n"
     ]
    },
    {
     "name": "stderr",
     "output_type": "stream",
     "text": [
      "Processing:   7%|███▉                                                       | 3058/46077 [5:06:17<115:22:37,  9.66s/it]"
     ]
    },
    {
     "name": "stdout",
     "output_type": "stream",
     "text": [
      "Reference date 2023-11-21 00:00:00 not found. Using nearest date: 2023-11-30 00:00:00\n"
     ]
    },
    {
     "name": "stderr",
     "output_type": "stream",
     "text": [
      "Processing:   7%|███▉                                                       | 3059/46077 [5:06:26<116:05:10,  9.71s/it]"
     ]
    },
    {
     "name": "stdout",
     "output_type": "stream",
     "text": [
      "Reference date 2023-11-21 00:00:00 not found. Using nearest date: 2023-11-30 00:00:00\n"
     ]
    },
    {
     "name": "stderr",
     "output_type": "stream",
     "text": [
      "Processing:   7%|███▉                                                       | 3060/46077 [5:06:36<114:48:59,  9.61s/it]"
     ]
    },
    {
     "name": "stdout",
     "output_type": "stream",
     "text": [
      "Reference date 2023-11-21 00:00:00 not found. Using nearest date: 2023-11-30 00:00:00\n"
     ]
    },
    {
     "name": "stderr",
     "output_type": "stream",
     "text": [
      "Processing:   7%|███▉                                                       | 3061/46077 [5:06:45<113:20:15,  9.49s/it]"
     ]
    },
    {
     "name": "stdout",
     "output_type": "stream",
     "text": [
      "Reference date 2023-11-20 00:00:00 not found. Using nearest date: 2023-11-30 00:00:00\n"
     ]
    },
    {
     "name": "stderr",
     "output_type": "stream",
     "text": [
      "Processing:   7%|███▉                                                       | 3062/46077 [5:06:55<114:06:08,  9.55s/it]"
     ]
    },
    {
     "name": "stdout",
     "output_type": "stream",
     "text": [
      "Reference date 2023-11-20 00:00:00 not found. Using nearest date: 2023-11-30 00:00:00\n"
     ]
    },
    {
     "name": "stderr",
     "output_type": "stream",
     "text": [
      "Processing:   7%|███▉                                                       | 3063/46077 [5:07:04<113:11:28,  9.47s/it]"
     ]
    },
    {
     "name": "stdout",
     "output_type": "stream",
     "text": [
      "Reference date 2023-11-17 00:00:00 not found. Using nearest date: 2023-11-30 00:00:00\n"
     ]
    },
    {
     "name": "stderr",
     "output_type": "stream",
     "text": [
      "Processing:   7%|███▉                                                       | 3069/46077 [5:08:01<112:53:30,  9.45s/it]"
     ]
    },
    {
     "name": "stdout",
     "output_type": "stream",
     "text": [
      "Error for BALAMINES on 2024-09-14 00:00:00: Insufficient data to determine d+1.\n",
      "Reference date 2024-09-14 00:00:00 not found. Using nearest date: 2024-07-30 00:00:00\n"
     ]
    },
    {
     "name": "stderr",
     "output_type": "stream",
     "text": [
      "Processing:   7%|███▉                                                       | 3070/46077 [5:08:11<112:08:26,  9.39s/it]"
     ]
    },
    {
     "name": "stdout",
     "output_type": "stream",
     "text": [
      "Error for BALAMINES on 2024-08-09 00:00:00: Insufficient data to determine d+1.\n",
      "Reference date 2024-08-09 00:00:00 not found. Using nearest date: 2024-07-30 00:00:00\n"
     ]
    },
    {
     "name": "stderr",
     "output_type": "stream",
     "text": [
      "Processing:   7%|███▉                                                       | 3083/46077 [5:10:17<115:32:12,  9.67s/it]"
     ]
    },
    {
     "name": "stdout",
     "output_type": "stream",
     "text": [
      "Reference date 2022-05-14 00:00:00 not found. Using nearest date: 2022-05-13 00:00:00\n"
     ]
    },
    {
     "name": "stderr",
     "output_type": "stream",
     "text": [
      "Processing:   7%|███▉                                                       | 3093/46077 [5:11:52<112:21:40,  9.41s/it]"
     ]
    },
    {
     "name": "stdout",
     "output_type": "stream",
     "text": [
      "Reference date 2020-08-16 00:00:00 not found. Using nearest date: 2020-08-17 00:00:00\n"
     ]
    },
    {
     "name": "stderr",
     "output_type": "stream",
     "text": [
      "Processing:   7%|███▉                                                       | 3098/46077 [5:12:42<118:39:50,  9.94s/it]"
     ]
    },
    {
     "name": "stdout",
     "output_type": "stream",
     "text": [
      "Reference date 2019-11-02 00:00:00 not found. Using nearest date: 2019-11-01 00:00:00\n"
     ]
    },
    {
     "name": "stderr",
     "output_type": "stream",
     "text": [
      "Processing:   7%|███▉                                                       | 3106/46077 [5:13:58<114:30:28,  9.59s/it]"
     ]
    },
    {
     "name": "stdout",
     "output_type": "stream",
     "text": [
      "Reference date 2018-11-03 00:00:00 not found. Using nearest date: 2018-11-02 00:00:00\n"
     ]
    },
    {
     "name": "stderr",
     "output_type": "stream",
     "text": [
      "Processing:   7%|████                                                        | 3115/46077 [5:15:05<89:02:25,  7.46s/it]"
     ]
    },
    {
     "name": "stdout",
     "output_type": "stream",
     "text": [
      "Error for SULA on 2024-09-14 00:00:00: Insufficient data to determine d+1.\n",
      "Reference date 2024-09-14 00:00:00 not found. Using nearest date: 2024-07-30 00:00:00\n"
     ]
    },
    {
     "name": "stderr",
     "output_type": "stream",
     "text": [
      "Processing:   7%|███▉                                                       | 3121/46077 [5:16:05<116:54:04,  9.80s/it]"
     ]
    },
    {
     "name": "stdout",
     "output_type": "stream",
     "text": [
      "Reference date 2022-12-12 00:00:00 not found. Using nearest date: 2022-12-22 00:00:00\n"
     ]
    },
    {
     "name": "stderr",
     "output_type": "stream",
     "text": [
      "Processing:   7%|███▉                                                       | 3122/46077 [5:16:15<116:25:47,  9.76s/it]"
     ]
    },
    {
     "name": "stdout",
     "output_type": "stream",
     "text": [
      "Reference date 2022-12-12 00:00:00 not found. Using nearest date: 2022-12-22 00:00:00\n"
     ]
    },
    {
     "name": "stderr",
     "output_type": "stream",
     "text": [
      "Processing:   7%|███▉                                                       | 3123/46077 [5:16:24<114:21:49,  9.58s/it]"
     ]
    },
    {
     "name": "stdout",
     "output_type": "stream",
     "text": [
      "Reference date 2022-12-12 00:00:00 not found. Using nearest date: 2022-12-22 00:00:00\n"
     ]
    },
    {
     "name": "stderr",
     "output_type": "stream",
     "text": [
      "Processing:   7%|████                                                       | 3124/46077 [5:16:33<114:00:04,  9.55s/it]"
     ]
    },
    {
     "name": "stdout",
     "output_type": "stream",
     "text": [
      "Reference date 2022-12-12 00:00:00 not found. Using nearest date: 2022-12-22 00:00:00\n"
     ]
    },
    {
     "name": "stderr",
     "output_type": "stream",
     "text": [
      "Processing:   7%|████                                                       | 3125/46077 [5:16:43<112:44:37,  9.45s/it]"
     ]
    },
    {
     "name": "stdout",
     "output_type": "stream",
     "text": [
      "Reference date 2022-12-11 00:00:00 not found. Using nearest date: 2022-12-22 00:00:00\n"
     ]
    },
    {
     "name": "stderr",
     "output_type": "stream",
     "text": [
      "Processing:   7%|████                                                       | 3126/46077 [5:16:52<111:35:28,  9.35s/it]"
     ]
    },
    {
     "name": "stdout",
     "output_type": "stream",
     "text": [
      "Reference date 2022-12-11 00:00:00 not found. Using nearest date: 2022-12-22 00:00:00\n"
     ]
    },
    {
     "name": "stderr",
     "output_type": "stream",
     "text": [
      "Processing:   7%|████                                                       | 3127/46077 [5:17:01<110:46:29,  9.28s/it]"
     ]
    },
    {
     "name": "stdout",
     "output_type": "stream",
     "text": [
      "Reference date 2022-12-09 00:00:00 not found. Using nearest date: 2022-12-22 00:00:00\n"
     ]
    },
    {
     "name": "stderr",
     "output_type": "stream",
     "text": [
      "Processing:   7%|████                                                       | 3128/46077 [5:17:10<111:03:54,  9.31s/it]"
     ]
    },
    {
     "name": "stdout",
     "output_type": "stream",
     "text": [
      "Reference date 2022-12-09 00:00:00 not found. Using nearest date: 2022-12-22 00:00:00\n"
     ]
    },
    {
     "name": "stderr",
     "output_type": "stream",
     "text": [
      "Processing:   7%|████                                                       | 3129/46077 [5:17:20<111:44:25,  9.37s/it]"
     ]
    },
    {
     "name": "stdout",
     "output_type": "stream",
     "text": [
      "Reference date 2024-02-20 00:00:00 not found. Using nearest date: 2024-02-28 00:00:00\n"
     ]
    },
    {
     "name": "stderr",
     "output_type": "stream",
     "text": [
      "Processing:   7%|████                                                       | 3130/46077 [5:17:30<116:22:24,  9.75s/it]"
     ]
    },
    {
     "name": "stdout",
     "output_type": "stream",
     "text": [
      "Reference date 2024-02-20 00:00:00 not found. Using nearest date: 2024-02-28 00:00:00\n"
     ]
    },
    {
     "name": "stderr",
     "output_type": "stream",
     "text": [
      "Processing:   7%|████                                                       | 3131/46077 [5:17:40<114:22:12,  9.59s/it]"
     ]
    },
    {
     "name": "stdout",
     "output_type": "stream",
     "text": [
      "Reference date 2024-02-20 00:00:00 not found. Using nearest date: 2024-02-28 00:00:00\n"
     ]
    },
    {
     "name": "stderr",
     "output_type": "stream",
     "text": [
      "Processing:   7%|████                                                       | 3132/46077 [5:17:49<113:04:27,  9.48s/it]"
     ]
    },
    {
     "name": "stdout",
     "output_type": "stream",
     "text": [
      "Reference date 2024-02-20 00:00:00 not found. Using nearest date: 2024-02-28 00:00:00\n"
     ]
    },
    {
     "name": "stderr",
     "output_type": "stream",
     "text": [
      "Processing:   7%|████                                                       | 3133/46077 [5:17:58<112:02:04,  9.39s/it]"
     ]
    },
    {
     "name": "stdout",
     "output_type": "stream",
     "text": [
      "Error for SHRIRAMPPS on 2024-09-14 00:00:00: Insufficient data to determine d+1.\n",
      "Reference date 2024-09-14 00:00:00 not found. Using nearest date: 2024-07-30 00:00:00\n"
     ]
    },
    {
     "name": "stderr",
     "output_type": "stream",
     "text": [
      "Processing:   7%|████                                                       | 3134/46077 [5:18:07<111:09:46,  9.32s/it]"
     ]
    },
    {
     "name": "stdout",
     "output_type": "stream",
     "text": [
      "Reference date 2023-11-25 00:00:00 not found. Using nearest date: 2023-11-24 00:00:00\n"
     ]
    },
    {
     "name": "stderr",
     "output_type": "stream",
     "text": [
      "Processing:   7%|████                                                       | 3135/46077 [5:18:17<111:15:04,  9.33s/it]"
     ]
    },
    {
     "name": "stdout",
     "output_type": "stream",
     "text": [
      "Reference date 2021-12-08 00:00:00 not found. Using nearest date: 2021-12-20 00:00:00\n"
     ]
    },
    {
     "name": "stderr",
     "output_type": "stream",
     "text": [
      "Processing:   7%|████                                                       | 3136/46077 [5:18:27<114:01:27,  9.56s/it]"
     ]
    },
    {
     "name": "stdout",
     "output_type": "stream",
     "text": [
      "Reference date 2021-12-08 00:00:00 not found. Using nearest date: 2021-12-20 00:00:00\n"
     ]
    },
    {
     "name": "stderr",
     "output_type": "stream",
     "text": [
      "Processing:   7%|████                                                       | 3137/46077 [5:18:39<123:22:47, 10.34s/it]"
     ]
    },
    {
     "name": "stdout",
     "output_type": "stream",
     "text": [
      "Reference date 2021-12-08 00:00:00 not found. Using nearest date: 2021-12-20 00:00:00\n"
     ]
    },
    {
     "name": "stderr",
     "output_type": "stream",
     "text": [
      "Processing:   7%|████                                                       | 3138/46077 [5:18:48<119:56:10, 10.06s/it]"
     ]
    },
    {
     "name": "stdout",
     "output_type": "stream",
     "text": [
      "Reference date 2021-12-08 00:00:00 not found. Using nearest date: 2021-12-20 00:00:00\n"
     ]
    },
    {
     "name": "stderr",
     "output_type": "stream",
     "text": [
      "Processing:   7%|████                                                       | 3139/46077 [5:18:57<116:46:30,  9.79s/it]"
     ]
    },
    {
     "name": "stdout",
     "output_type": "stream",
     "text": [
      "Reference date 2021-12-07 00:00:00 not found. Using nearest date: 2021-12-20 00:00:00\n"
     ]
    },
    {
     "name": "stderr",
     "output_type": "stream",
     "text": [
      "Processing:   7%|████                                                       | 3140/46077 [5:19:07<115:17:37,  9.67s/it]"
     ]
    },
    {
     "name": "stdout",
     "output_type": "stream",
     "text": [
      "Error for CAPLIPOINT on 2024-09-14 00:00:00: Insufficient data to determine d+1.\n",
      "Reference date 2024-09-14 00:00:00 not found. Using nearest date: 2024-07-30 00:00:00\n"
     ]
    },
    {
     "name": "stderr",
     "output_type": "stream",
     "text": [
      "Processing:   7%|████                                                       | 3141/46077 [5:19:16<114:35:58,  9.61s/it]"
     ]
    },
    {
     "name": "stdout",
     "output_type": "stream",
     "text": [
      "Error for CAPLIPOINT on 2024-08-08 00:00:00: Insufficient data to determine d+1.\n",
      "Reference date 2024-08-08 00:00:00 not found. Using nearest date: 2024-07-30 00:00:00\n"
     ]
    },
    {
     "name": "stderr",
     "output_type": "stream",
     "text": [
      "Processing:   7%|████                                                       | 3144/46077 [5:19:47<120:25:51, 10.10s/it]"
     ]
    },
    {
     "name": "stdout",
     "output_type": "stream",
     "text": [
      "Reference date 2023-05-28 00:00:00 not found. Using nearest date: 2023-05-29 00:00:00\n"
     ]
    },
    {
     "name": "stderr",
     "output_type": "stream",
     "text": [
      "Processing:   7%|████                                                       | 3146/46077 [5:20:06<115:04:55,  9.65s/it]"
     ]
    },
    {
     "name": "stdout",
     "output_type": "stream",
     "text": [
      "Reference date 2022-11-13 00:00:00 not found. Using nearest date: 2022-11-14 00:00:00\n"
     ]
    },
    {
     "name": "stderr",
     "output_type": "stream",
     "text": [
      "Processing:   7%|████                                                       | 3147/46077 [5:20:15<113:26:20,  9.51s/it]"
     ]
    },
    {
     "name": "stdout",
     "output_type": "stream",
     "text": [
      "Reference date 2022-08-06 00:00:00 not found. Using nearest date: 2022-08-05 00:00:00\n"
     ]
    },
    {
     "name": "stderr",
     "output_type": "stream",
     "text": [
      "Processing:   7%|████                                                       | 3153/46077 [5:21:19<129:00:58, 10.82s/it]"
     ]
    },
    {
     "name": "stdout",
     "output_type": "stream",
     "text": [
      "Reference date 2021-01-30 00:00:00 not found. Using nearest date: 2021-01-29 00:00:00\n"
     ]
    },
    {
     "name": "stderr",
     "output_type": "stream",
     "text": [
      "Processing:   7%|████                                                       | 3163/46077 [5:22:54<112:13:24,  9.41s/it]"
     ]
    },
    {
     "name": "stdout",
     "output_type": "stream",
     "text": [
      "Reference date 2016-01-27 00:00:00 not found. Using nearest date: 2016-02-08 00:00:00\n"
     ]
    },
    {
     "name": "stderr",
     "output_type": "stream",
     "text": [
      "Processing:   7%|████                                                       | 3164/46077 [5:23:03<112:26:44,  9.43s/it]"
     ]
    },
    {
     "name": "stdout",
     "output_type": "stream",
     "text": [
      "Reference date 2016-01-22 00:00:00 not found. Using nearest date: 2016-02-08 00:00:00\n"
     ]
    },
    {
     "name": "stderr",
     "output_type": "stream",
     "text": [
      "Processing:   7%|████                                                       | 3165/46077 [5:23:13<111:46:48,  9.38s/it]"
     ]
    },
    {
     "name": "stdout",
     "output_type": "stream",
     "text": [
      "Error for KARURVYSYA on 2024-09-14 00:00:00: Insufficient data to determine d+1.\n",
      "Reference date 2024-09-14 00:00:00 not found. Using nearest date: 2024-07-30 00:00:00\n"
     ]
    },
    {
     "name": "stderr",
     "output_type": "stream",
     "text": [
      "Processing:   7%|████                                                       | 3166/46077 [5:23:22<112:12:20,  9.41s/it]"
     ]
    },
    {
     "name": "stdout",
     "output_type": "stream",
     "text": [
      "Error for KARURVYSYA on 2024-09-08 00:00:00: Insufficient data to determine d+1.\n",
      "Reference date 2024-09-08 00:00:00 not found. Using nearest date: 2024-07-30 00:00:00\n"
     ]
    },
    {
     "name": "stderr",
     "output_type": "stream",
     "text": [
      "Processing:   7%|████                                                       | 3167/46077 [5:23:33<116:17:01,  9.76s/it]"
     ]
    },
    {
     "name": "stdout",
     "output_type": "stream",
     "text": [
      "Error for KARURVYSYA on 2024-08-22 00:00:00: Insufficient data to determine d+1.\n",
      "Reference date 2024-08-22 00:00:00 not found. Using nearest date: 2024-07-30 00:00:00\n"
     ]
    },
    {
     "name": "stderr",
     "output_type": "stream",
     "text": [
      "Processing:   7%|████                                                       | 3181/46077 [5:25:47<117:18:47,  9.85s/it]"
     ]
    },
    {
     "name": "stdout",
     "output_type": "stream",
     "text": [
      "Reference date 2019-11-03 00:00:00 not found. Using nearest date: 2019-11-04 00:00:00\n"
     ]
    },
    {
     "name": "stderr",
     "output_type": "stream",
     "text": [
      "Processing:   7%|████▎                                                        | 3253/46077 [5:31:34<9:15:46,  1.28it/s]"
     ]
    },
    {
     "name": "stdout",
     "output_type": "stream",
     "text": [
      "Error for TEGA on 2024-09-14 00:00:00: Insufficient data to determine d+1.\n",
      "Reference date 2024-09-14 00:00:00 not found. Using nearest date: 2024-07-30 00:00:00\n"
     ]
    },
    {
     "name": "stderr",
     "output_type": "stream",
     "text": [
      "Processing:   7%|████▏                                                       | 3258/46077 [5:32:22<38:43:24,  3.26s/it]"
     ]
    },
    {
     "name": "stdout",
     "output_type": "stream",
     "text": [
      "Reference date 2021-12-01 00:00:00 not found. Using nearest date: 2021-12-13 00:00:00\n"
     ]
    },
    {
     "name": "stderr",
     "output_type": "stream",
     "text": [
      "Processing:   7%|████▏                                                       | 3259/46077 [5:32:31<48:08:30,  4.05s/it]"
     ]
    },
    {
     "name": "stdout",
     "output_type": "stream",
     "text": [
      "Reference date 2021-12-01 00:00:00 not found. Using nearest date: 2021-12-13 00:00:00\n"
     ]
    },
    {
     "name": "stderr",
     "output_type": "stream",
     "text": [
      "Processing:   7%|████▏                                                       | 3260/46077 [5:32:41<59:49:46,  5.03s/it]"
     ]
    },
    {
     "name": "stdout",
     "output_type": "stream",
     "text": [
      "Reference date 2021-12-01 00:00:00 not found. Using nearest date: 2021-12-13 00:00:00\n"
     ]
    },
    {
     "name": "stderr",
     "output_type": "stream",
     "text": [
      "Processing:   7%|████▏                                                       | 3261/46077 [5:32:50<68:39:35,  5.77s/it]"
     ]
    },
    {
     "name": "stdout",
     "output_type": "stream",
     "text": [
      "Reference date 2021-11-30 00:00:00 not found. Using nearest date: 2021-12-13 00:00:00\n"
     ]
    },
    {
     "name": "stderr",
     "output_type": "stream",
     "text": [
      "Processing:   7%|████▏                                                       | 3262/46077 [5:33:00<76:41:05,  6.45s/it]"
     ]
    },
    {
     "name": "stdout",
     "output_type": "stream",
     "text": [
      "Reference date 2021-11-30 00:00:00 not found. Using nearest date: 2021-12-13 00:00:00\n"
     ]
    },
    {
     "name": "stderr",
     "output_type": "stream",
     "text": [
      "Processing:   7%|████▏                                                       | 3263/46077 [5:33:09<83:56:45,  7.06s/it]"
     ]
    },
    {
     "name": "stdout",
     "output_type": "stream",
     "text": [
      "Error for GRAPHITE on 2024-09-14 00:00:00: Insufficient data to determine d+1.\n",
      "Reference date 2024-09-14 00:00:00 not found. Using nearest date: 2024-07-30 00:00:00\n"
     ]
    },
    {
     "name": "stderr",
     "output_type": "stream",
     "text": [
      "Processing:   7%|████▎                                                       | 3265/46077 [5:33:27<96:07:28,  8.08s/it]"
     ]
    },
    {
     "name": "stdout",
     "output_type": "stream",
     "text": [
      "Reference date 2023-02-11 00:00:00 not found. Using nearest date: 2023-02-10 00:00:00\n"
     ]
    },
    {
     "name": "stderr",
     "output_type": "stream",
     "text": [
      "Processing:   7%|████▏                                                      | 3267/46077 [5:33:46<103:09:18,  8.67s/it]"
     ]
    },
    {
     "name": "stdout",
     "output_type": "stream",
     "text": [
      "Reference date 2022-08-07 00:00:00 not found. Using nearest date: 2022-08-08 00:00:00\n"
     ]
    },
    {
     "name": "stderr",
     "output_type": "stream",
     "text": [
      "Processing:   7%|████▏                                                      | 3269/46077 [5:34:04<105:54:25,  8.91s/it]"
     ]
    },
    {
     "name": "stdout",
     "output_type": "stream",
     "text": [
      "Reference date 2021-11-07 00:00:00 not found. Using nearest date: 2021-11-08 00:00:00\n"
     ]
    },
    {
     "name": "stderr",
     "output_type": "stream",
     "text": [
      "Processing:   7%|████▏                                                      | 3280/46077 [5:35:50<111:45:58,  9.40s/it]"
     ]
    },
    {
     "name": "stdout",
     "output_type": "stream",
     "text": [
      "Reference date 2019-02-09 00:00:00 not found. Using nearest date: 2019-02-08 00:00:00\n"
     ]
    },
    {
     "name": "stderr",
     "output_type": "stream",
     "text": [
      "Processing:   7%|████▏                                                      | 3302/46077 [5:39:25<122:18:30, 10.29s/it]"
     ]
    },
    {
     "name": "stdout",
     "output_type": "stream",
     "text": [
      "Error for TIMKEN on 2024-09-14 00:00:00: Insufficient data to determine d+1.\n",
      "Reference date 2024-09-14 00:00:00 not found. Using nearest date: 2024-07-30 00:00:00\n"
     ]
    },
    {
     "name": "stderr",
     "output_type": "stream",
     "text": [
      "Processing:   7%|████▎                                                      | 3330/46077 [5:43:56<118:59:12, 10.02s/it]"
     ]
    },
    {
     "name": "stdout",
     "output_type": "stream",
     "text": [
      "Reference date 2016-12-17 00:00:00 not found. Using nearest date: 2016-12-16 00:00:00\n"
     ]
    },
    {
     "name": "stderr",
     "output_type": "stream",
     "text": [
      "Processing:   7%|████▎                                                      | 3333/46077 [5:44:26<117:37:32,  9.91s/it]"
     ]
    },
    {
     "name": "stdout",
     "output_type": "stream",
     "text": [
      "Reference date 2016-09-13 00:00:00 not found. Using nearest date: 2016-09-14 00:00:00\n"
     ]
    },
    {
     "name": "stderr",
     "output_type": "stream",
     "text": [
      "Processing:   7%|████▎                                                      | 3339/46077 [5:45:21<110:50:36,  9.34s/it]"
     ]
    },
    {
     "name": "stdout",
     "output_type": "stream",
     "text": [
      "Error for CONCOR on 2024-09-14 00:00:00: Insufficient data to determine d+1.\n",
      "Reference date 2024-09-14 00:00:00 not found. Using nearest date: 2024-07-30 00:00:00\n"
     ]
    },
    {
     "name": "stderr",
     "output_type": "stream",
     "text": [
      "Processing:   7%|████▎                                                      | 3341/46077 [5:45:42<114:21:10,  9.63s/it]"
     ]
    },
    {
     "name": "stdout",
     "output_type": "stream",
     "text": [
      "Reference date 2023-11-04 00:00:00 not found. Using nearest date: 2023-11-03 00:00:00\n"
     ]
    },
    {
     "name": "stderr",
     "output_type": "stream",
     "text": [
      "Processing:   7%|████▎                                                      | 3342/46077 [5:45:51<113:30:46,  9.56s/it]"
     ]
    },
    {
     "name": "stdout",
     "output_type": "stream",
     "text": [
      "Reference date 2023-08-12 00:00:00 not found. Using nearest date: 2023-08-11 00:00:00\n"
     ]
    },
    {
     "name": "stderr",
     "output_type": "stream",
     "text": [
      "Processing:   7%|████▎                                                      | 3343/46077 [5:46:00<112:09:48,  9.45s/it]"
     ]
    },
    {
     "name": "stdout",
     "output_type": "stream",
     "text": [
      "Reference date 2023-05-21 00:00:00 not found. Using nearest date: 2023-05-22 00:00:00\n"
     ]
    },
    {
     "name": "stderr",
     "output_type": "stream",
     "text": [
      "Processing:   7%|████▎                                                      | 3344/46077 [5:46:10<113:06:40,  9.53s/it]"
     ]
    },
    {
     "name": "stdout",
     "output_type": "stream",
     "text": [
      "Reference date 2023-05-20 00:00:00 not found. Using nearest date: 2023-05-19 00:00:00\n"
     ]
    },
    {
     "name": "stderr",
     "output_type": "stream",
     "text": [
      "Processing:   7%|████▎                                                      | 3345/46077 [5:46:19<112:00:30,  9.44s/it]"
     ]
    },
    {
     "name": "stdout",
     "output_type": "stream",
     "text": [
      "Reference date 2023-01-29 00:00:00 not found. Using nearest date: 2023-01-30 00:00:00\n"
     ]
    },
    {
     "name": "stderr",
     "output_type": "stream",
     "text": [
      "Processing:   7%|████▎                                                      | 3351/46077 [5:47:17<112:45:32,  9.50s/it]"
     ]
    },
    {
     "name": "stdout",
     "output_type": "stream",
     "text": [
      "Reference date 2022-08-06 00:00:00 not found. Using nearest date: 2022-08-05 00:00:00\n"
     ]
    },
    {
     "name": "stderr",
     "output_type": "stream",
     "text": [
      "Processing:   7%|████▎                                                      | 3353/46077 [5:47:36<111:57:47,  9.43s/it]"
     ]
    },
    {
     "name": "stdout",
     "output_type": "stream",
     "text": [
      "Reference date 2022-05-21 00:00:00 not found. Using nearest date: 2022-05-20 00:00:00\n"
     ]
    },
    {
     "name": "stderr",
     "output_type": "stream",
     "text": [
      "Processing:   7%|████▎                                                      | 3357/46077 [5:48:13<112:18:01,  9.46s/it]"
     ]
    },
    {
     "name": "stdout",
     "output_type": "stream",
     "text": [
      "Reference date 2022-01-22 00:00:00 not found. Using nearest date: 2022-01-21 00:00:00\n"
     ]
    },
    {
     "name": "stderr",
     "output_type": "stream",
     "text": [
      "Processing:   7%|████▎                                                      | 3358/46077 [5:48:22<110:53:54,  9.35s/it]"
     ]
    },
    {
     "name": "stdout",
     "output_type": "stream",
     "text": [
      "Reference date 2021-10-24 00:00:00 not found. Using nearest date: 2021-10-25 00:00:00\n"
     ]
    },
    {
     "name": "stderr",
     "output_type": "stream",
     "text": [
      "Processing:   7%|████▎                                                      | 3359/46077 [5:48:32<110:39:30,  9.33s/it]"
     ]
    },
    {
     "name": "stdout",
     "output_type": "stream",
     "text": [
      "Reference date 2021-10-23 00:00:00 not found. Using nearest date: 2021-10-22 00:00:00\n"
     ]
    },
    {
     "name": "stderr",
     "output_type": "stream",
     "text": [
      "Processing:   7%|████▎                                                      | 3364/46077 [5:49:19<110:44:36,  9.33s/it]"
     ]
    },
    {
     "name": "stdout",
     "output_type": "stream",
     "text": [
      "Reference date 2021-02-06 00:00:00 not found. Using nearest date: 2021-02-05 00:00:00\n"
     ]
    },
    {
     "name": "stderr",
     "output_type": "stream",
     "text": [
      "Processing:   7%|████▎                                                      | 3365/46077 [5:49:29<115:09:29,  9.71s/it]"
     ]
    },
    {
     "name": "stdout",
     "output_type": "stream",
     "text": [
      "Reference date 2021-02-06 00:00:00 not found. Using nearest date: 2021-02-05 00:00:00\n"
     ]
    },
    {
     "name": "stderr",
     "output_type": "stream",
     "text": [
      "Processing:   7%|████▎                                                      | 3368/46077 [5:49:59<115:45:31,  9.76s/it]"
     ]
    },
    {
     "name": "stdout",
     "output_type": "stream",
     "text": [
      "Reference date 2020-11-08 00:00:00 not found. Using nearest date: 2020-11-09 00:00:00\n"
     ]
    },
    {
     "name": "stderr",
     "output_type": "stream",
     "text": [
      "Processing:   7%|████▎                                                      | 3382/46077 [5:52:11<113:12:39,  9.55s/it]"
     ]
    },
    {
     "name": "stdout",
     "output_type": "stream",
     "text": [
      "Reference date 2020-06-27 00:00:00 not found. Using nearest date: 2020-06-26 00:00:00\n"
     ]
    },
    {
     "name": "stderr",
     "output_type": "stream",
     "text": [
      "Processing:   7%|████▎                                                      | 3383/46077 [5:52:21<113:38:40,  9.58s/it]"
     ]
    },
    {
     "name": "stdout",
     "output_type": "stream",
     "text": [
      "Reference date 2020-06-27 00:00:00 not found. Using nearest date: 2020-06-26 00:00:00\n"
     ]
    },
    {
     "name": "stderr",
     "output_type": "stream",
     "text": [
      "Processing:   7%|████▎                                                      | 3408/46077 [5:56:17<112:38:12,  9.50s/it]"
     ]
    },
    {
     "name": "stdout",
     "output_type": "stream",
     "text": [
      "Reference date 2019-05-01 00:00:00 not found. Using nearest date: 2019-05-02 00:00:00\n"
     ]
    },
    {
     "name": "stderr",
     "output_type": "stream",
     "text": [
      "Processing:   7%|████▎                                                      | 3409/46077 [5:56:27<116:39:32,  9.84s/it]"
     ]
    },
    {
     "name": "stdout",
     "output_type": "stream",
     "text": [
      "Reference date 2019-05-01 00:00:00 not found. Using nearest date: 2019-05-02 00:00:00\n"
     ]
    },
    {
     "name": "stderr",
     "output_type": "stream",
     "text": [
      "Processing:   7%|████▎                                                      | 3412/46077 [5:56:54<110:36:57,  9.33s/it]"
     ]
    },
    {
     "name": "stdout",
     "output_type": "stream",
     "text": [
      "Reference date 2019-02-13 00:00:00 not found. Using nearest date: 2019-02-14 00:00:00\n"
     ]
    },
    {
     "name": "stderr",
     "output_type": "stream",
     "text": [
      "Processing:   7%|████▍                                                      | 3425/46077 [5:58:57<110:03:42,  9.29s/it]"
     ]
    },
    {
     "name": "stdout",
     "output_type": "stream",
     "text": [
      "Reference date 2018-05-01 00:00:00 not found. Using nearest date: 2018-05-02 00:00:00\n"
     ]
    },
    {
     "name": "stderr",
     "output_type": "stream",
     "text": [
      "Processing:   7%|████▍                                                      | 3447/46077 [6:02:26<112:10:14,  9.47s/it]"
     ]
    },
    {
     "name": "stdout",
     "output_type": "stream",
     "text": [
      "Reference date 2015-11-14 00:00:00 not found. Using nearest date: 2015-11-13 00:00:00\n"
     ]
    },
    {
     "name": "stderr",
     "output_type": "stream",
     "text": [
      "Processing:   8%|████▌                                                       | 3501/46077 [6:06:20<11:49:25,  1.00it/s]"
     ]
    },
    {
     "name": "stdout",
     "output_type": "stream",
     "text": [
      "Error for BRITANNIA on 2024-09-14 00:00:00: Insufficient data to determine d+1.\n",
      "Reference date 2024-09-14 00:00:00 not found. Using nearest date: 2024-07-30 00:00:00\n"
     ]
    },
    {
     "name": "stderr",
     "output_type": "stream",
     "text": [
      "Processing:   8%|████▌                                                       | 3502/46077 [6:06:29<15:44:07,  1.33s/it]"
     ]
    },
    {
     "name": "stdout",
     "output_type": "stream",
     "text": [
      "Error for BRITANNIA on 2024-08-14 00:00:00: Insufficient data to determine d+1.\n",
      "Reference date 2024-08-14 00:00:00 not found. Using nearest date: 2024-07-30 00:00:00\n"
     ]
    },
    {
     "name": "stderr",
     "output_type": "stream",
     "text": [
      "Processing:   8%|████▌                                                       | 3503/46077 [6:06:39<21:09:21,  1.79s/it]"
     ]
    },
    {
     "name": "stdout",
     "output_type": "stream",
     "text": [
      "Error for BRITANNIA on 2024-08-07 00:00:00: Insufficient data to determine d+1.\n",
      "Reference date 2024-08-07 00:00:00 not found. Using nearest date: 2024-07-30 00:00:00\n"
     ]
    },
    {
     "name": "stderr",
     "output_type": "stream",
     "text": [
      "Processing:   8%|████▌                                                       | 3504/46077 [6:06:48<27:30:47,  2.33s/it]"
     ]
    },
    {
     "name": "stdout",
     "output_type": "stream",
     "text": [
      "Error for BRITANNIA on 2024-08-06 00:00:00: Insufficient data to determine d+1.\n",
      "Reference date 2024-08-06 00:00:00 not found. Using nearest date: 2024-07-30 00:00:00\n"
     ]
    },
    {
     "name": "stderr",
     "output_type": "stream",
     "text": [
      "Processing:   8%|████▌                                                       | 3505/46077 [6:06:58<35:17:30,  2.98s/it]"
     ]
    },
    {
     "name": "stdout",
     "output_type": "stream",
     "text": [
      "Error for BRITANNIA on 2024-08-06 00:00:00: Insufficient data to determine d+1.\n",
      "Reference date 2024-08-06 00:00:00 not found. Using nearest date: 2024-07-30 00:00:00\n"
     ]
    },
    {
     "name": "stderr",
     "output_type": "stream",
     "text": [
      "Processing:   8%|████▌                                                       | 3506/46077 [6:07:07<43:56:29,  3.72s/it]"
     ]
    },
    {
     "name": "stdout",
     "output_type": "stream",
     "text": [
      "Error for BRITANNIA on 2024-08-05 00:00:00: Insufficient data to determine d+1.\n",
      "Reference date 2024-08-05 00:00:00 not found. Using nearest date: 2024-07-30 00:00:00\n"
     ]
    },
    {
     "name": "stderr",
     "output_type": "stream",
     "text": [
      "Processing:   8%|████▌                                                      | 3527/46077 [6:10:33<116:19:22,  9.84s/it]"
     ]
    },
    {
     "name": "stdout",
     "output_type": "stream",
     "text": [
      "Reference date 2023-08-06 00:00:00 not found. Using nearest date: 2023-08-07 00:00:00\n"
     ]
    },
    {
     "name": "stderr",
     "output_type": "stream",
     "text": [
      "Processing:   8%|████▌                                                      | 3531/46077 [6:11:11<111:19:56,  9.42s/it]"
     ]
    },
    {
     "name": "stdout",
     "output_type": "stream",
     "text": [
      "Reference date 2023-05-06 00:00:00 not found. Using nearest date: 2023-05-05 00:00:00\n"
     ]
    },
    {
     "name": "stderr",
     "output_type": "stream",
     "text": [
      "Processing:   8%|████▌                                                      | 3532/46077 [6:11:20<110:41:58,  9.37s/it]"
     ]
    },
    {
     "name": "stdout",
     "output_type": "stream",
     "text": [
      "Reference date 2023-05-06 00:00:00 not found. Using nearest date: 2023-05-05 00:00:00\n"
     ]
    },
    {
     "name": "stderr",
     "output_type": "stream",
     "text": [
      "Processing:   8%|████▌                                                      | 3533/46077 [6:11:33<123:28:36, 10.45s/it]"
     ]
    },
    {
     "name": "stdout",
     "output_type": "stream",
     "text": [
      "Reference date 2023-05-06 00:00:00 not found. Using nearest date: 2023-05-05 00:00:00\n"
     ]
    },
    {
     "name": "stderr",
     "output_type": "stream",
     "text": [
      "Processing:   8%|████▌                                                      | 3554/46077 [6:15:00<114:13:57,  9.67s/it]"
     ]
    },
    {
     "name": "stdout",
     "output_type": "stream",
     "text": [
      "Reference date 2022-05-07 00:00:00 not found. Using nearest date: 2022-05-06 00:00:00\n"
     ]
    },
    {
     "name": "stderr",
     "output_type": "stream",
     "text": [
      "Processing:   8%|████▌                                                      | 3600/46077 [6:22:39<120:04:06, 10.18s/it]"
     ]
    },
    {
     "name": "stdout",
     "output_type": "stream",
     "text": [
      "Reference date 2020-07-18 00:00:00 not found. Using nearest date: 2020-07-17 00:00:00\n"
     ]
    },
    {
     "name": "stderr",
     "output_type": "stream",
     "text": [
      "Processing:   8%|████▋                                                      | 3624/46077 [6:26:34<118:21:48, 10.04s/it]"
     ]
    },
    {
     "name": "stdout",
     "output_type": "stream",
     "text": [
      "Reference date 2019-11-16 00:00:00 not found. Using nearest date: 2019-11-15 00:00:00\n"
     ]
    },
    {
     "name": "stderr",
     "output_type": "stream",
     "text": [
      "Processing:   8%|████▋                                                      | 3633/46077 [6:28:17<134:10:46, 11.38s/it]"
     ]
    },
    {
     "name": "stdout",
     "output_type": "stream",
     "text": [
      "Reference date 2019-08-11 00:00:00 not found. Using nearest date: 2019-08-13 00:00:00\n"
     ]
    },
    {
     "name": "stderr",
     "output_type": "stream",
     "text": [
      "Processing:   8%|████▋                                                      | 3640/46077 [6:29:58<154:18:56, 13.09s/it]"
     ]
    },
    {
     "name": "stdout",
     "output_type": "stream",
     "text": [
      "Reference date 2019-02-13 00:00:00 not found. Using nearest date: 2019-02-14 00:00:00\n"
     ]
    },
    {
     "name": "stderr",
     "output_type": "stream",
     "text": [
      "Processing:   8%|████▊                                                      | 3711/46077 [6:41:54<120:12:30, 10.21s/it]"
     ]
    },
    {
     "name": "stdout",
     "output_type": "stream",
     "text": [
      "Error for NESTLEIND on 2024-09-14 00:00:00: Insufficient data to determine d+1.\n",
      "Reference date 2024-09-14 00:00:00 not found. Using nearest date: 2024-07-30 00:00:00\n"
     ]
    },
    {
     "name": "stderr",
     "output_type": "stream",
     "text": [
      "Processing:   8%|████▊                                                      | 3712/46077 [6:42:03<117:39:21, 10.00s/it]"
     ]
    },
    {
     "name": "stdout",
     "output_type": "stream",
     "text": [
      "Error for NESTLEIND on 2024-08-09 00:00:00: Insufficient data to determine d+1.\n",
      "Reference date 2024-08-09 00:00:00 not found. Using nearest date: 2024-07-30 00:00:00\n"
     ]
    },
    {
     "name": "stderr",
     "output_type": "stream",
     "text": [
      "Processing:   8%|████▊                                                      | 3740/46077 [6:46:43<113:29:01,  9.65s/it]"
     ]
    },
    {
     "name": "stdout",
     "output_type": "stream",
     "text": [
      "Reference date 2023-09-02 00:00:00 not found. Using nearest date: 2023-09-01 00:00:00\n"
     ]
    },
    {
     "name": "stderr",
     "output_type": "stream",
     "text": [
      "Processing:   8%|████▊                                                      | 3806/46077 [6:57:39<113:56:36,  9.70s/it]"
     ]
    },
    {
     "name": "stdout",
     "output_type": "stream",
     "text": [
      "Reference date 2021-04-21 00:00:00 not found. Using nearest date: 2021-04-22 00:00:00\n"
     ]
    },
    {
     "name": "stderr",
     "output_type": "stream",
     "text": [
      "Processing:   8%|████▊                                                      | 3807/46077 [6:57:48<112:38:19,  9.59s/it]"
     ]
    },
    {
     "name": "stdout",
     "output_type": "stream",
     "text": [
      "Reference date 2021-04-21 00:00:00 not found. Using nearest date: 2021-04-22 00:00:00\n"
     ]
    },
    {
     "name": "stderr",
     "output_type": "stream",
     "text": [
      "Processing:   8%|████▉                                                      | 3809/46077 [6:58:09<121:03:46, 10.31s/it]"
     ]
    },
    {
     "name": "stdout",
     "output_type": "stream",
     "text": [
      "Reference date 2021-02-27 00:00:00 not found. Using nearest date: 2021-02-26 00:00:00\n"
     ]
    },
    {
     "name": "stderr",
     "output_type": "stream",
     "text": [
      "Processing:   8%|████▉                                                      | 3820/46077 [7:00:02<123:15:17, 10.50s/it]"
     ]
    },
    {
     "name": "stdout",
     "output_type": "stream",
     "text": [
      "Reference date 2020-10-25 00:00:00 not found. Using nearest date: 2020-10-26 00:00:00\n"
     ]
    },
    {
     "name": "stderr",
     "output_type": "stream",
     "text": [
      "Processing:   8%|████▉                                                      | 3821/46077 [7:00:11<119:33:53, 10.19s/it]"
     ]
    },
    {
     "name": "stdout",
     "output_type": "stream",
     "text": [
      "Reference date 2020-10-24 00:00:00 not found. Using nearest date: 2020-10-23 00:00:00\n"
     ]
    },
    {
     "name": "stderr",
     "output_type": "stream",
     "text": [
      "Processing:   8%|████▉                                                      | 3822/46077 [7:00:21<116:56:06,  9.96s/it]"
     ]
    },
    {
     "name": "stdout",
     "output_type": "stream",
     "text": [
      "Reference date 2020-10-24 00:00:00 not found. Using nearest date: 2020-10-23 00:00:00\n"
     ]
    },
    {
     "name": "stderr",
     "output_type": "stream",
     "text": [
      "Processing:   8%|████▉                                                      | 3831/46077 [7:01:47<111:25:48,  9.50s/it]"
     ]
    },
    {
     "name": "stdout",
     "output_type": "stream",
     "text": [
      "Reference date 2020-05-30 00:00:00 not found. Using nearest date: 2020-05-29 00:00:00\n"
     ]
    },
    {
     "name": "stderr",
     "output_type": "stream",
     "text": [
      "Processing:   8%|████▉                                                      | 3847/46077 [7:04:27<115:45:03,  9.87s/it]"
     ]
    },
    {
     "name": "stdout",
     "output_type": "stream",
     "text": [
      "Reference date 2019-08-12 00:00:00 not found. Using nearest date: 2019-08-13 00:00:00\n"
     ]
    },
    {
     "name": "stderr",
     "output_type": "stream",
     "text": [
      "Processing:   8%|████▉                                                      | 3848/46077 [7:04:38<117:12:01,  9.99s/it]"
     ]
    },
    {
     "name": "stdout",
     "output_type": "stream",
     "text": [
      "Reference date 2019-08-10 00:00:00 not found. Using nearest date: 2019-08-09 00:00:00\n"
     ]
    },
    {
     "name": "stderr",
     "output_type": "stream",
     "text": [
      "Processing:   8%|████▉                                                      | 3862/46077 [7:06:57<115:04:52,  9.81s/it]"
     ]
    },
    {
     "name": "stdout",
     "output_type": "stream",
     "text": [
      "Reference date 2018-08-22 00:00:00 not found. Using nearest date: 2018-08-23 00:00:00\n"
     ]
    },
    {
     "name": "stderr",
     "output_type": "stream",
     "text": [
      "Processing:   8%|████▉                                                      | 3882/46077 [7:10:19<120:19:22, 10.27s/it]"
     ]
    },
    {
     "name": "stdout",
     "output_type": "stream",
     "text": [
      "Reference date 2017-11-11 00:00:00 not found. Using nearest date: 2017-11-10 00:00:00\n"
     ]
    },
    {
     "name": "stderr",
     "output_type": "stream",
     "text": [
      "Processing:   8%|████▉                                                      | 3900/46077 [7:13:19<116:30:36,  9.94s/it]"
     ]
    },
    {
     "name": "stdout",
     "output_type": "stream",
     "text": [
      "Reference date 2016-07-30 00:00:00 not found. Using nearest date: 2016-07-29 00:00:00\n"
     ]
    },
    {
     "name": "stderr",
     "output_type": "stream",
     "text": [
      "Processing:   8%|█████                                                      | 3914/46077 [7:15:39<114:52:53,  9.81s/it]"
     ]
    },
    {
     "name": "stdout",
     "output_type": "stream",
     "text": [
      "Error for NLCINDIA on 2024-09-14 00:00:00: Insufficient data to determine d+1.\n",
      "Reference date 2024-09-14 00:00:00 not found. Using nearest date: 2024-07-30 00:00:00\n"
     ]
    },
    {
     "name": "stderr",
     "output_type": "stream",
     "text": [
      "Processing:   8%|█████                                                      | 3915/46077 [7:15:49<114:58:18,  9.82s/it]"
     ]
    },
    {
     "name": "stdout",
     "output_type": "stream",
     "text": [
      "Error for NLCINDIA on 2024-08-08 00:00:00: Insufficient data to determine d+1.\n",
      "Reference date 2024-08-08 00:00:00 not found. Using nearest date: 2024-07-30 00:00:00\n"
     ]
    },
    {
     "name": "stderr",
     "output_type": "stream",
     "text": [
      "Processing:   8%|█████                                                      | 3916/46077 [7:16:01<121:58:58, 10.42s/it]"
     ]
    },
    {
     "name": "stdout",
     "output_type": "stream",
     "text": [
      "Error for NLCINDIA on 2024-07-30 00:00:00: Insufficient data to determine d+1.\n"
     ]
    },
    {
     "name": "stderr",
     "output_type": "stream",
     "text": [
      "Processing:   9%|█████                                                      | 3917/46077 [7:16:11<120:03:21, 10.25s/it]"
     ]
    },
    {
     "name": "stdout",
     "output_type": "stream",
     "text": [
      "Reference date 2024-05-20 00:00:00 not found. Using nearest date: 2024-05-21 00:00:00\n"
     ]
    },
    {
     "name": "stderr",
     "output_type": "stream",
     "text": [
      "Processing:   9%|█████                                                      | 3920/46077 [7:16:39<114:06:32,  9.74s/it]"
     ]
    },
    {
     "name": "stdout",
     "output_type": "stream",
     "text": [
      "Error for LTFOODS on 2024-09-14 00:00:00: Insufficient data to determine d+1.\n",
      "Reference date 2024-09-14 00:00:00 not found. Using nearest date: 2024-07-30 00:00:00\n"
     ]
    },
    {
     "name": "stderr",
     "output_type": "stream",
     "text": [
      "Processing:   9%|█████                                                      | 3928/46077 [7:17:59<118:40:08, 10.14s/it]"
     ]
    },
    {
     "name": "stdout",
     "output_type": "stream",
     "text": [
      "Reference date 2023-08-22 00:00:00 not found. Using nearest date: 2023-10-30 00:00:00\n"
     ]
    },
    {
     "name": "stderr",
     "output_type": "stream",
     "text": [
      "Processing:   9%|█████                                                      | 3929/46077 [7:18:08<116:03:29,  9.91s/it]"
     ]
    },
    {
     "name": "stdout",
     "output_type": "stream",
     "text": [
      "Reference date 2023-08-10 00:00:00 not found. Using nearest date: 2023-10-30 00:00:00\n"
     ]
    },
    {
     "name": "stderr",
     "output_type": "stream",
     "text": [
      "Processing:   9%|█████                                                      | 3930/46077 [7:18:18<113:45:50,  9.72s/it]"
     ]
    },
    {
     "name": "stdout",
     "output_type": "stream",
     "text": [
      "Reference date 2023-06-13 00:00:00 not found. Using nearest date: 2023-10-30 00:00:00\n"
     ]
    },
    {
     "name": "stderr",
     "output_type": "stream",
     "text": [
      "Processing:   9%|█████                                                      | 3931/46077 [7:18:27<114:20:18,  9.77s/it]"
     ]
    },
    {
     "name": "stdout",
     "output_type": "stream",
     "text": [
      "Reference date 2023-03-21 00:00:00 not found. Using nearest date: 2023-10-30 00:00:00\n"
     ]
    },
    {
     "name": "stderr",
     "output_type": "stream",
     "text": [
      "Processing:   9%|█████                                                      | 3932/46077 [7:18:37<113:31:51,  9.70s/it]"
     ]
    },
    {
     "name": "stdout",
     "output_type": "stream",
     "text": [
      "Reference date 2022-11-07 00:00:00 not found. Using nearest date: 2023-10-30 00:00:00\n"
     ]
    },
    {
     "name": "stderr",
     "output_type": "stream",
     "text": [
      "Processing:   9%|█████                                                      | 3933/46077 [7:18:46<112:24:15,  9.60s/it]"
     ]
    },
    {
     "name": "stdout",
     "output_type": "stream",
     "text": [
      "Reference date 2022-06-21 00:00:00 not found. Using nearest date: 2023-10-30 00:00:00\n"
     ]
    },
    {
     "name": "stderr",
     "output_type": "stream",
     "text": [
      "Processing:   9%|█████                                                      | 3934/46077 [7:18:56<111:47:20,  9.55s/it]"
     ]
    },
    {
     "name": "stdout",
     "output_type": "stream",
     "text": [
      "Reference date 2022-02-17 00:00:00 not found. Using nearest date: 2023-10-30 00:00:00\n"
     ]
    },
    {
     "name": "stderr",
     "output_type": "stream",
     "text": [
      "Processing:   9%|█████                                                      | 3935/46077 [7:19:07<116:49:49,  9.98s/it]"
     ]
    },
    {
     "name": "stdout",
     "output_type": "stream",
     "text": [
      "Reference date 2022-01-31 00:00:00 not found. Using nearest date: 2023-10-30 00:00:00\n"
     ]
    },
    {
     "name": "stderr",
     "output_type": "stream",
     "text": [
      "Processing:   9%|█████                                                      | 3936/46077 [7:19:16<114:29:21,  9.78s/it]"
     ]
    },
    {
     "name": "stdout",
     "output_type": "stream",
     "text": [
      "Reference date 2021-10-12 00:00:00 not found. Using nearest date: 2023-10-30 00:00:00\n"
     ]
    },
    {
     "name": "stderr",
     "output_type": "stream",
     "text": [
      "Processing:   9%|█████                                                      | 3937/46077 [7:19:26<113:36:59,  9.71s/it]"
     ]
    },
    {
     "name": "stdout",
     "output_type": "stream",
     "text": [
      "Reference date 2021-05-28 00:00:00 not found. Using nearest date: 2023-10-30 00:00:00\n"
     ]
    },
    {
     "name": "stderr",
     "output_type": "stream",
     "text": [
      "Processing:   9%|█████                                                      | 3938/46077 [7:19:36<115:42:44,  9.89s/it]"
     ]
    },
    {
     "name": "stdout",
     "output_type": "stream",
     "text": [
      "Reference date 2021-03-27 00:00:00 not found. Using nearest date: 2023-10-30 00:00:00\n"
     ]
    },
    {
     "name": "stderr",
     "output_type": "stream",
     "text": [
      "Processing:   9%|█████                                                      | 3939/46077 [7:19:46<115:59:26,  9.91s/it]"
     ]
    },
    {
     "name": "stdout",
     "output_type": "stream",
     "text": [
      "Reference date 2019-08-14 00:00:00 not found. Using nearest date: 2023-10-30 00:00:00\n"
     ]
    },
    {
     "name": "stderr",
     "output_type": "stream",
     "text": [
      "Processing:   9%|█████                                                      | 3940/46077 [7:19:55<114:10:28,  9.75s/it]"
     ]
    },
    {
     "name": "stdout",
     "output_type": "stream",
     "text": [
      "Reference date 2019-06-07 00:00:00 not found. Using nearest date: 2023-10-30 00:00:00\n"
     ]
    },
    {
     "name": "stderr",
     "output_type": "stream",
     "text": [
      "Processing:   9%|█████                                                      | 3941/46077 [7:20:07<120:23:26, 10.29s/it]"
     ]
    },
    {
     "name": "stdout",
     "output_type": "stream",
     "text": [
      "Reference date 2019-05-27 00:00:00 not found. Using nearest date: 2023-10-30 00:00:00\n"
     ]
    },
    {
     "name": "stderr",
     "output_type": "stream",
     "text": [
      "Processing:   9%|█████                                                      | 3942/46077 [7:20:17<121:24:58, 10.37s/it]"
     ]
    },
    {
     "name": "stdout",
     "output_type": "stream",
     "text": [
      "Reference date 2019-02-12 00:00:00 not found. Using nearest date: 2023-10-30 00:00:00\n"
     ]
    },
    {
     "name": "stderr",
     "output_type": "stream",
     "text": [
      "Processing:   9%|█████                                                      | 3943/46077 [7:20:27<117:43:27, 10.06s/it]"
     ]
    },
    {
     "name": "stdout",
     "output_type": "stream",
     "text": [
      "Reference date 2019-02-08 00:00:00 not found. Using nearest date: 2023-10-30 00:00:00\n"
     ]
    },
    {
     "name": "stderr",
     "output_type": "stream",
     "text": [
      "Processing:   9%|█████                                                      | 3944/46077 [7:20:36<116:05:40,  9.92s/it]"
     ]
    },
    {
     "name": "stdout",
     "output_type": "stream",
     "text": [
      "Reference date 2018-11-22 00:00:00 not found. Using nearest date: 2023-10-30 00:00:00\n"
     ]
    },
    {
     "name": "stderr",
     "output_type": "stream",
     "text": [
      "Processing:   9%|█████                                                      | 3945/46077 [7:20:47<118:29:40, 10.12s/it]"
     ]
    },
    {
     "name": "stdout",
     "output_type": "stream",
     "text": [
      "Reference date 2018-11-16 00:00:00 not found. Using nearest date: 2023-10-30 00:00:00\n"
     ]
    },
    {
     "name": "stderr",
     "output_type": "stream",
     "text": [
      "Processing:   9%|█████                                                      | 3946/46077 [7:20:57<117:44:19, 10.06s/it]"
     ]
    },
    {
     "name": "stdout",
     "output_type": "stream",
     "text": [
      "Reference date 2018-08-24 00:00:00 not found. Using nearest date: 2023-10-30 00:00:00\n"
     ]
    },
    {
     "name": "stderr",
     "output_type": "stream",
     "text": [
      "Processing:   9%|█████                                                      | 3947/46077 [7:21:08<122:09:09, 10.44s/it]"
     ]
    },
    {
     "name": "stdout",
     "output_type": "stream",
     "text": [
      "Reference date 2018-08-16 00:00:00 not found. Using nearest date: 2023-10-30 00:00:00\n"
     ]
    },
    {
     "name": "stderr",
     "output_type": "stream",
     "text": [
      "Processing:   9%|█████                                                      | 3948/46077 [7:21:18<119:04:10, 10.17s/it]"
     ]
    },
    {
     "name": "stdout",
     "output_type": "stream",
     "text": [
      "Reference date 2018-06-06 00:00:00 not found. Using nearest date: 2023-10-30 00:00:00\n"
     ]
    },
    {
     "name": "stderr",
     "output_type": "stream",
     "text": [
      "Processing:   9%|█████                                                      | 3949/46077 [7:21:27<116:27:28,  9.95s/it]"
     ]
    },
    {
     "name": "stdout",
     "output_type": "stream",
     "text": [
      "Reference date 2018-06-05 00:00:00 not found. Using nearest date: 2023-10-30 00:00:00\n"
     ]
    },
    {
     "name": "stderr",
     "output_type": "stream",
     "text": [
      "Processing:   9%|█████                                                      | 3950/46077 [7:21:37<116:44:30,  9.98s/it]"
     ]
    },
    {
     "name": "stdout",
     "output_type": "stream",
     "text": [
      "Reference date 2018-04-04 00:00:00 not found. Using nearest date: 2023-10-30 00:00:00\n"
     ]
    },
    {
     "name": "stderr",
     "output_type": "stream",
     "text": [
      "Processing:   9%|█████                                                      | 3951/46077 [7:21:47<115:07:49,  9.84s/it]"
     ]
    },
    {
     "name": "stdout",
     "output_type": "stream",
     "text": [
      "Reference date 2018-02-14 00:00:00 not found. Using nearest date: 2023-10-30 00:00:00\n"
     ]
    },
    {
     "name": "stderr",
     "output_type": "stream",
     "text": [
      "Processing:   9%|█████                                                      | 3952/46077 [7:21:57<115:37:52,  9.88s/it]"
     ]
    },
    {
     "name": "stdout",
     "output_type": "stream",
     "text": [
      "Reference date 2018-02-12 00:00:00 not found. Using nearest date: 2023-10-30 00:00:00\n"
     ]
    },
    {
     "name": "stderr",
     "output_type": "stream",
     "text": [
      "Processing:   9%|█████                                                      | 3953/46077 [7:22:08<121:45:36, 10.41s/it]"
     ]
    },
    {
     "name": "stdout",
     "output_type": "stream",
     "text": [
      "Reference date 2017-11-29 00:00:00 not found. Using nearest date: 2023-10-30 00:00:00\n"
     ]
    },
    {
     "name": "stderr",
     "output_type": "stream",
     "text": [
      "Processing:   9%|█████                                                      | 3954/46077 [7:22:18<118:25:21, 10.12s/it]"
     ]
    },
    {
     "name": "stdout",
     "output_type": "stream",
     "text": [
      "Reference date 2017-11-07 00:00:00 not found. Using nearest date: 2023-10-30 00:00:00\n"
     ]
    },
    {
     "name": "stderr",
     "output_type": "stream",
     "text": [
      "Processing:   9%|█████                                                      | 3955/46077 [7:22:27<115:42:03,  9.89s/it]"
     ]
    },
    {
     "name": "stdout",
     "output_type": "stream",
     "text": [
      "Reference date 2017-08-17 00:00:00 not found. Using nearest date: 2023-10-30 00:00:00\n"
     ]
    },
    {
     "name": "stderr",
     "output_type": "stream",
     "text": [
      "Processing:   9%|█████                                                      | 3956/46077 [7:22:37<115:07:57,  9.84s/it]"
     ]
    },
    {
     "name": "stdout",
     "output_type": "stream",
     "text": [
      "Reference date 2016-11-28 00:00:00 not found. Using nearest date: 2023-10-30 00:00:00\n"
     ]
    },
    {
     "name": "stderr",
     "output_type": "stream",
     "text": [
      "Processing:   9%|█████                                                      | 3957/46077 [7:22:46<113:03:27,  9.66s/it]"
     ]
    },
    {
     "name": "stdout",
     "output_type": "stream",
     "text": [
      "Error for FINPIPE on 2024-09-14 00:00:00: Insufficient data to determine d+1.\n",
      "Reference date 2024-09-14 00:00:00 not found. Using nearest date: 2024-07-30 00:00:00\n"
     ]
    },
    {
     "name": "stderr",
     "output_type": "stream",
     "text": [
      "Processing:   9%|█████                                                      | 3958/46077 [7:22:56<113:41:40,  9.72s/it]"
     ]
    },
    {
     "name": "stdout",
     "output_type": "stream",
     "text": [
      "Error for FINPIPE on 2024-07-30 00:00:00: Insufficient data to determine d+1.\n"
     ]
    },
    {
     "name": "stderr",
     "output_type": "stream",
     "text": [
      "Processing:   9%|█████                                                      | 3965/46077 [7:24:08<119:45:43, 10.24s/it]"
     ]
    },
    {
     "name": "stdout",
     "output_type": "stream",
     "text": [
      "Reference date 2023-10-24 00:00:00 not found. Using nearest date: 2023-10-25 00:00:00\n"
     ]
    },
    {
     "name": "stderr",
     "output_type": "stream",
     "text": [
      "Processing:   9%|█████                                                      | 3966/46077 [7:24:17<116:55:36, 10.00s/it]"
     ]
    },
    {
     "name": "stdout",
     "output_type": "stream",
     "text": [
      "Reference date 2023-10-24 00:00:00 not found. Using nearest date: 2023-10-25 00:00:00\n"
     ]
    },
    {
     "name": "stderr",
     "output_type": "stream",
     "text": [
      "Processing:   9%|█████▏                                                     | 4011/46077 [7:33:20<135:02:43, 11.56s/it]"
     ]
    },
    {
     "name": "stdout",
     "output_type": "stream",
     "text": [
      "Reference date 2020-02-16 00:00:00 not found. Using nearest date: 2020-02-17 00:00:00\n"
     ]
    },
    {
     "name": "stderr",
     "output_type": "stream",
     "text": [
      "Processing:   9%|█████▏                                                     | 4052/46077 [7:41:07<121:58:05, 10.45s/it]"
     ]
    },
    {
     "name": "stdout",
     "output_type": "stream",
     "text": [
      "Reference date 2015-05-30 00:00:00 not found. Using nearest date: 2015-05-29 00:00:00\n"
     ]
    },
    {
     "name": "stderr",
     "output_type": "stream",
     "text": [
      "Processing:   9%|█████▏                                                     | 4054/46077 [7:41:29<126:57:36, 10.88s/it]"
     ]
    },
    {
     "name": "stdout",
     "output_type": "stream",
     "text": [
      "Error for TIPSINDLTD on 2024-09-14 00:00:00: Insufficient data to determine d+1.\n",
      "Reference date 2024-09-14 00:00:00 not found. Using nearest date: 2024-07-30 00:00:00\n"
     ]
    },
    {
     "name": "stderr",
     "output_type": "stream",
     "text": [
      "Processing:   9%|█████▏                                                     | 4056/46077 [7:41:42<102:42:17,  8.80s/it]"
     ]
    },
    {
     "name": "stdout",
     "output_type": "stream",
     "text": [
      "Error for VTL on 2024-09-14 00:00:00: Insufficient data to determine d+1.\n",
      "Reference date 2024-09-14 00:00:00 not found. Using nearest date: 2024-07-30 00:00:00\n"
     ]
    },
    {
     "name": "stderr",
     "output_type": "stream",
     "text": [
      "Processing:   9%|█████▏                                                     | 4092/46077 [7:48:18<121:18:59, 10.40s/it]"
     ]
    },
    {
     "name": "stdout",
     "output_type": "stream",
     "text": [
      "Reference date 2021-02-23 00:00:00 not found. Using nearest date: 2021-03-05 00:00:00\n"
     ]
    },
    {
     "name": "stderr",
     "output_type": "stream",
     "text": [
      "Processing:   9%|█████▏                                                     | 4093/46077 [7:48:29<122:07:30, 10.47s/it]"
     ]
    },
    {
     "name": "stdout",
     "output_type": "stream",
     "text": [
      "Reference date 2021-02-22 00:00:00 not found. Using nearest date: 2021-03-05 00:00:00\n"
     ]
    },
    {
     "name": "stderr",
     "output_type": "stream",
     "text": [
      "Processing:   9%|█████▏                                                     | 4094/46077 [7:48:38<119:05:28, 10.21s/it]"
     ]
    },
    {
     "name": "stdout",
     "output_type": "stream",
     "text": [
      "Reference date 2021-02-22 00:00:00 not found. Using nearest date: 2021-03-05 00:00:00\n"
     ]
    },
    {
     "name": "stderr",
     "output_type": "stream",
     "text": [
      "Processing:   9%|█████▏                                                     | 4095/46077 [7:48:50<124:42:02, 10.69s/it]"
     ]
    },
    {
     "name": "stdout",
     "output_type": "stream",
     "text": [
      "Reference date 2021-02-22 00:00:00 not found. Using nearest date: 2021-03-05 00:00:00\n"
     ]
    },
    {
     "name": "stderr",
     "output_type": "stream",
     "text": [
      "Processing:   9%|█████▏                                                     | 4096/46077 [7:49:00<121:20:10, 10.40s/it]"
     ]
    },
    {
     "name": "stdout",
     "output_type": "stream",
     "text": [
      "Error for JUBLFOOD on 2024-09-14 00:00:00: Insufficient data to determine d+1.\n",
      "Reference date 2024-09-14 00:00:00 not found. Using nearest date: 2024-07-30 00:00:00\n"
     ]
    },
    {
     "name": "stderr",
     "output_type": "stream",
     "text": [
      "Processing:   9%|█████▏                                                     | 4097/46077 [7:49:09<117:43:56, 10.10s/it]"
     ]
    },
    {
     "name": "stdout",
     "output_type": "stream",
     "text": [
      "Error for JUBLFOOD on 2024-09-04 00:00:00: Insufficient data to determine d+1.\n",
      "Reference date 2024-09-04 00:00:00 not found. Using nearest date: 2024-07-30 00:00:00\n"
     ]
    },
    {
     "name": "stderr",
     "output_type": "stream",
     "text": [
      "Processing:   9%|█████▏                                                     | 4098/46077 [7:49:19<116:44:23, 10.01s/it]"
     ]
    },
    {
     "name": "stdout",
     "output_type": "stream",
     "text": [
      "Error for JUBLFOOD on 2024-08-09 00:00:00: Insufficient data to determine d+1.\n",
      "Reference date 2024-08-09 00:00:00 not found. Using nearest date: 2024-07-30 00:00:00\n"
     ]
    },
    {
     "name": "stderr",
     "output_type": "stream",
     "text": [
      "Processing:   9%|█████▎                                                     | 4109/46077 [7:51:25<135:44:22, 11.64s/it]"
     ]
    },
    {
     "name": "stdout",
     "output_type": "stream",
     "text": [
      "Reference date 2023-05-20 00:00:00 not found. Using nearest date: 2023-05-19 00:00:00\n"
     ]
    },
    {
     "name": "stderr",
     "output_type": "stream",
     "text": [
      "Processing:   9%|█████▎                                                     | 4114/46077 [7:52:19<130:59:18, 11.24s/it]"
     ]
    },
    {
     "name": "stdout",
     "output_type": "stream",
     "text": [
      "Reference date 2023-03-07 00:00:00 not found. Using nearest date: 2023-03-08 00:00:00\n"
     ]
    },
    {
     "name": "stderr",
     "output_type": "stream",
     "text": [
      "Processing:   9%|█████▎                                                     | 4115/46077 [7:52:31<131:10:49, 11.25s/it]"
     ]
    },
    {
     "name": "stdout",
     "output_type": "stream",
     "text": [
      "Reference date 2023-02-12 00:00:00 not found. Using nearest date: 2023-02-13 00:00:00\n"
     ]
    },
    {
     "name": "stderr",
     "output_type": "stream",
     "text": [
      "Processing:   9%|█████▎                                                     | 4126/46077 [7:55:02<184:56:28, 15.87s/it]"
     ]
    },
    {
     "name": "stdout",
     "output_type": "stream",
     "text": [
      "Reference date 2022-11-08 00:00:00 not found. Using nearest date: 2022-11-09 00:00:00\n"
     ]
    },
    {
     "name": "stderr",
     "output_type": "stream",
     "text": [
      "Processing:   9%|█████▎                                                     | 4127/46077 [7:55:15<173:12:33, 14.86s/it]"
     ]
    },
    {
     "name": "stdout",
     "output_type": "stream",
     "text": [
      "Reference date 2022-11-08 00:00:00 not found. Using nearest date: 2022-11-09 00:00:00\n"
     ]
    },
    {
     "name": "stderr",
     "output_type": "stream",
     "text": [
      "Processing:   9%|█████▎                                                     | 4174/46077 [8:05:29<237:39:10, 20.42s/it]"
     ]
    },
    {
     "name": "stdout",
     "output_type": "stream",
     "text": [
      "Reference date 2020-04-12 00:00:00 not found. Using nearest date: 2020-04-13 00:00:00\n"
     ]
    },
    {
     "name": "stderr",
     "output_type": "stream",
     "text": [
      "Processing:   9%|█████▎                                                     | 4195/46077 [8:09:06<112:51:06,  9.70s/it]"
     ]
    },
    {
     "name": "stdout",
     "output_type": "stream",
     "text": [
      "Reference date 2019-02-13 00:00:00 not found. Using nearest date: 2019-02-14 00:00:00\n"
     ]
    },
    {
     "name": "stderr",
     "output_type": "stream",
     "text": [
      "Processing:   9%|█████▍                                                     | 4212/46077 [8:11:51<113:42:19,  9.78s/it]"
     ]
    },
    {
     "name": "stdout",
     "output_type": "stream",
     "text": [
      "Reference date 2018-01-20 00:00:00 not found. Using nearest date: 2018-01-19 00:00:00\n"
     ]
    },
    {
     "name": "stderr",
     "output_type": "stream",
     "text": [
      "Processing:   9%|█████▍                                                     | 4213/46077 [8:12:00<111:25:31,  9.58s/it]"
     ]
    },
    {
     "name": "stdout",
     "output_type": "stream",
     "text": [
      "Reference date 2018-01-20 00:00:00 not found. Using nearest date: 2018-01-19 00:00:00\n"
     ]
    },
    {
     "name": "stderr",
     "output_type": "stream",
     "text": [
      "Processing:   9%|█████▍                                                     | 4214/46077 [8:12:09<109:42:26,  9.43s/it]"
     ]
    },
    {
     "name": "stdout",
     "output_type": "stream",
     "text": [
      "Reference date 2018-01-20 00:00:00 not found. Using nearest date: 2018-01-19 00:00:00\n"
     ]
    },
    {
     "name": "stderr",
     "output_type": "stream",
     "text": [
      "Processing:   9%|█████▍                                                     | 4238/46077 [8:16:43<112:28:37,  9.68s/it]"
     ]
    },
    {
     "name": "stdout",
     "output_type": "stream",
     "text": [
      "Reference date 2016-06-18 00:00:00 not found. Using nearest date: 2016-06-17 00:00:00\n"
     ]
    },
    {
     "name": "stderr",
     "output_type": "stream",
     "text": [
      "Processing:   9%|█████▍                                                     | 4250/46077 [8:18:40<114:47:18,  9.88s/it]"
     ]
    },
    {
     "name": "stdout",
     "output_type": "stream",
     "text": [
      "Error for KANSAINER on 2024-09-14 00:00:00: Insufficient data to determine d+1.\n",
      "Reference date 2024-09-14 00:00:00 not found. Using nearest date: 2024-07-30 00:00:00\n"
     ]
    },
    {
     "name": "stderr",
     "output_type": "stream",
     "text": [
      "Processing:   9%|█████▍                                                     | 4251/46077 [8:18:50<115:35:08,  9.95s/it]"
     ]
    },
    {
     "name": "stdout",
     "output_type": "stream",
     "text": [
      "Error for KANSAINER on 2024-08-02 00:00:00: Insufficient data to determine d+1.\n",
      "Reference date 2024-08-02 00:00:00 not found. Using nearest date: 2024-07-30 00:00:00\n"
     ]
    },
    {
     "name": "stderr",
     "output_type": "stream",
     "text": [
      "Processing:   9%|█████▍                                                     | 4253/46077 [8:19:11<122:45:50, 10.57s/it]"
     ]
    },
    {
     "name": "stdout",
     "output_type": "stream",
     "text": [
      "Reference date 2023-12-10 00:00:00 not found. Using nearest date: 2023-12-11 00:00:00\n"
     ]
    },
    {
     "name": "stderr",
     "output_type": "stream",
     "text": [
      "Processing:   9%|█████▍                                                     | 4293/46077 [8:25:48<109:37:34,  9.45s/it]"
     ]
    },
    {
     "name": "stdout",
     "output_type": "stream",
     "text": [
      "Reference date 2020-05-09 00:00:00 not found. Using nearest date: 2020-05-08 00:00:00\n"
     ]
    },
    {
     "name": "stderr",
     "output_type": "stream",
     "text": [
      "Processing:   9%|█████▌                                                     | 4314/46077 [8:29:08<110:19:00,  9.51s/it]"
     ]
    },
    {
     "name": "stdout",
     "output_type": "stream",
     "text": [
      "Reference date 2018-01-20 00:00:00 not found. Using nearest date: 2018-01-19 00:00:00\n"
     ]
    },
    {
     "name": "stderr",
     "output_type": "stream",
     "text": [
      "Processing:   9%|█████▌                                                     | 4322/46077 [8:30:25<110:05:32,  9.49s/it]"
     ]
    },
    {
     "name": "stdout",
     "output_type": "stream",
     "text": [
      "Reference date 2017-02-04 00:00:00 not found. Using nearest date: 2017-02-03 00:00:00\n"
     ]
    },
    {
     "name": "stderr",
     "output_type": "stream",
     "text": [
      "Processing:   9%|█████▌                                                     | 4334/46077 [8:35:00<269:05:43, 23.21s/it]"
     ]
    },
    {
     "name": "stdout",
     "output_type": "stream",
     "text": [
      "Error for NIITLTD on 2024-09-14 00:00:00: Insufficient data to determine d+1.\n",
      "Reference date 2024-09-14 00:00:00 not found. Using nearest date: 2024-07-23 00:00:00\n"
     ]
    },
    {
     "name": "stderr",
     "output_type": "stream",
     "text": [
      "Processing:   9%|█████▌                                                     | 4355/46077 [8:40:32<108:26:49,  9.36s/it]"
     ]
    },
    {
     "name": "stdout",
     "output_type": "stream",
     "text": [
      "Error for KSCL on 2024-09-14 00:00:00: Insufficient data to determine d+1.\n",
      "Reference date 2024-09-14 00:00:00 not found. Using nearest date: 2024-07-30 00:00:00\n"
     ]
    },
    {
     "name": "stderr",
     "output_type": "stream",
     "text": [
      "Processing:   9%|█████▌                                                     | 4374/46077 [8:43:23<102:49:48,  8.88s/it]"
     ]
    },
    {
     "name": "stdout",
     "output_type": "stream",
     "text": [
      "Reference date 2020-08-15 00:00:00 not found. Using nearest date: 2020-08-14 00:00:00\n"
     ]
    },
    {
     "name": "stderr",
     "output_type": "stream",
     "text": [
      "Processing:  10%|█████▌                                                     | 4381/46077 [8:44:27<105:39:35,  9.12s/it]"
     ]
    },
    {
     "name": "stdout",
     "output_type": "stream",
     "text": [
      "Reference date 2019-08-15 00:00:00 not found. Using nearest date: 2019-08-16 00:00:00\n"
     ]
    },
    {
     "name": "stderr",
     "output_type": "stream",
     "text": [
      "Processing:  10%|█████▌                                                     | 4387/46077 [8:45:21<103:30:08,  8.94s/it]"
     ]
    },
    {
     "name": "stdout",
     "output_type": "stream",
     "text": [
      "Reference date 2018-05-26 00:00:00 not found. Using nearest date: 2018-05-25 00:00:00\n"
     ]
    },
    {
     "name": "stderr",
     "output_type": "stream",
     "text": [
      "Processing:  10%|█████▋                                                     | 4417/46077 [8:49:57<112:40:11,  9.74s/it]"
     ]
    },
    {
     "name": "stdout",
     "output_type": "stream",
     "text": [
      "Error for ICIL on 2024-09-14 00:00:00: Insufficient data to determine d+1.\n",
      "Reference date 2024-09-14 00:00:00 not found. Using nearest date: 2024-07-30 00:00:00\n"
     ]
    },
    {
     "name": "stderr",
     "output_type": "stream",
     "text": [
      "Processing:  10%|█████▋                                                     | 4458/46077 [9:02:30<208:38:29, 18.05s/it]"
     ]
    },
    {
     "name": "stdout",
     "output_type": "stream",
     "text": [
      "Reference date 2017-02-24 00:00:00 not found. Using nearest date: 2017-02-23 00:00:00\n"
     ]
    },
    {
     "name": "stderr",
     "output_type": "stream",
     "text": [
      "Processing:  10%|█████▋                                                     | 4470/46077 [9:05:22<128:14:43, 11.10s/it]"
     ]
    },
    {
     "name": "stdout",
     "output_type": "stream",
     "text": [
      "Error for NILKAMAL on 2024-09-14 00:00:00: Insufficient data to determine d+1.\n",
      "Reference date 2024-09-14 00:00:00 not found. Using nearest date: 2024-07-30 00:00:00\n"
     ]
    },
    {
     "name": "stderr",
     "output_type": "stream",
     "text": [
      "Processing:  10%|█████▋                                                     | 4471/46077 [9:05:32<123:37:49, 10.70s/it]"
     ]
    },
    {
     "name": "stdout",
     "output_type": "stream",
     "text": [
      "Error for NILKAMAL on 2024-08-07 00:00:00: Insufficient data to determine d+1.\n",
      "Reference date 2024-08-07 00:00:00 not found. Using nearest date: 2024-07-30 00:00:00\n"
     ]
    },
    {
     "name": "stderr",
     "output_type": "stream",
     "text": [
      "Processing:  10%|█████▋                                                     | 4475/46077 [9:06:09<113:16:24,  9.80s/it]"
     ]
    },
    {
     "name": "stdout",
     "output_type": "stream",
     "text": [
      "Reference date 2020-11-08 00:00:00 not found. Using nearest date: 2020-11-09 00:00:00\n"
     ]
    },
    {
     "name": "stderr",
     "output_type": "stream",
     "text": [
      "Processing:  10%|█████▋                                                     | 4488/46077 [9:08:07<105:57:04,  9.17s/it]"
     ]
    },
    {
     "name": "stdout",
     "output_type": "stream",
     "text": [
      "Reference date 2018-03-24 00:00:00 not found. Using nearest date: 2018-03-23 00:00:00\n"
     ]
    },
    {
     "name": "stderr",
     "output_type": "stream",
     "text": [
      "Processing:  10%|██████                                                       | 4606/46077 [9:11:09<3:23:18,  3.40it/s]"
     ]
    },
    {
     "name": "stdout",
     "output_type": "stream",
     "text": [
      "Error for INDHOTEL on 2024-09-14 00:00:00: Insufficient data to determine d+1.\n",
      "Reference date 2024-09-14 00:00:00 not found. Using nearest date: 2024-07-30 00:00:00\n"
     ]
    },
    {
     "name": "stderr",
     "output_type": "stream",
     "text": [
      "Processing:  10%|██████                                                       | 4607/46077 [9:11:18<4:50:00,  2.38it/s]"
     ]
    },
    {
     "name": "stdout",
     "output_type": "stream",
     "text": [
      "Error for INDHOTEL on 2024-08-06 00:00:00: Insufficient data to determine d+1.\n",
      "Reference date 2024-08-06 00:00:00 not found. Using nearest date: 2024-07-30 00:00:00\n"
     ]
    },
    {
     "name": "stderr",
     "output_type": "stream",
     "text": [
      "Processing:  10%|██████                                                      | 4609/46077 [9:11:39<10:02:05,  1.15it/s]"
     ]
    },
    {
     "name": "stdout",
     "output_type": "stream",
     "text": [
      "Reference date 2024-07-21 00:00:00 not found. Using nearest date: 2024-07-22 00:00:00\n"
     ]
    },
    {
     "name": "stderr",
     "output_type": "stream",
     "text": [
      "Processing:  10%|██████                                                      | 4623/46077 [9:13:47<99:31:40,  8.64s/it]"
     ]
    },
    {
     "name": "stdout",
     "output_type": "stream",
     "text": [
      "Reference date 2023-10-29 00:00:00 not found. Using nearest date: 2023-10-30 00:00:00\n"
     ]
    },
    {
     "name": "stderr",
     "output_type": "stream",
     "text": [
      "Processing:  10%|█████▉                                                     | 4624/46077 [9:13:56<100:07:34,  8.70s/it]"
     ]
    },
    {
     "name": "stdout",
     "output_type": "stream",
     "text": [
      "Reference date 2023-10-28 00:00:00 not found. Using nearest date: 2023-10-27 00:00:00\n"
     ]
    },
    {
     "name": "stderr",
     "output_type": "stream",
     "text": [
      "Processing:  10%|█████▉                                                     | 4644/46077 [9:17:01<107:08:42,  9.31s/it]"
     ]
    },
    {
     "name": "stdout",
     "output_type": "stream",
     "text": [
      "Reference date 2023-05-01 00:00:00 not found. Using nearest date: 2023-05-02 00:00:00\n"
     ]
    },
    {
     "name": "stderr",
     "output_type": "stream",
     "text": [
      "Processing:  10%|█████▉                                                     | 4660/46077 [9:19:32<107:25:14,  9.34s/it]"
     ]
    },
    {
     "name": "stdout",
     "output_type": "stream",
     "text": [
      "Reference date 2022-08-09 00:00:00 not found. Using nearest date: 2022-08-10 00:00:00\n"
     ]
    },
    {
     "name": "stderr",
     "output_type": "stream",
     "text": [
      "Processing:  10%|█████▉                                                     | 4665/46077 [9:20:18<104:42:14,  9.10s/it]"
     ]
    },
    {
     "name": "stdout",
     "output_type": "stream",
     "text": [
      "Reference date 2022-02-13 00:00:00 not found. Using nearest date: 2022-02-14 00:00:00\n"
     ]
    },
    {
     "name": "stderr",
     "output_type": "stream",
     "text": [
      "Processing:  10%|█████▉                                                     | 4666/46077 [9:20:27<104:54:34,  9.12s/it]"
     ]
    },
    {
     "name": "stdout",
     "output_type": "stream",
     "text": [
      "Reference date 2022-02-13 00:00:00 not found. Using nearest date: 2022-02-14 00:00:00\n"
     ]
    },
    {
     "name": "stderr",
     "output_type": "stream",
     "text": [
      "Processing:  10%|█████▉                                                     | 4667/46077 [9:20:37<107:29:29,  9.34s/it]"
     ]
    },
    {
     "name": "stdout",
     "output_type": "stream",
     "text": [
      "Reference date 2022-02-13 00:00:00 not found. Using nearest date: 2022-02-14 00:00:00\n"
     ]
    },
    {
     "name": "stderr",
     "output_type": "stream",
     "text": [
      "Processing:  10%|██████                                                      | 4675/46077 [9:21:31<61:49:41,  5.38s/it]"
     ]
    },
    {
     "name": "stdout",
     "output_type": "stream",
     "text": [
      "Reference date 2021-05-02 00:00:00 not found. Using nearest date: 2021-05-03 00:00:00\n"
     ]
    },
    {
     "name": "stderr",
     "output_type": "stream",
     "text": [
      "Processing:  10%|██████                                                      | 4692/46077 [9:22:35<42:58:21,  3.74s/it]"
     ]
    },
    {
     "name": "stdout",
     "output_type": "stream",
     "text": [
      "Reference date 2019-11-12 00:00:00 not found. Using nearest date: 2019-11-13 00:00:00\n"
     ]
    },
    {
     "name": "stderr",
     "output_type": "stream",
     "text": [
      "Processing:  10%|██████                                                      | 4701/46077 [9:23:08<42:51:45,  3.73s/it]"
     ]
    },
    {
     "name": "stdout",
     "output_type": "stream",
     "text": [
      "Reference date 2019-05-01 00:00:00 not found. Using nearest date: 2019-05-02 00:00:00\n"
     ]
    },
    {
     "name": "stderr",
     "output_type": "stream",
     "text": [
      "Processing:  10%|██████▏                                                     | 4705/46077 [9:23:24<44:00:55,  3.83s/it]"
     ]
    },
    {
     "name": "stdout",
     "output_type": "stream",
     "text": [
      "Reference date 2019-02-13 00:00:00 not found. Using nearest date: 2019-02-14 00:00:00\n"
     ]
    },
    {
     "name": "stderr",
     "output_type": "stream",
     "text": [
      "Processing:  10%|██████▏                                                     | 4718/46077 [9:24:12<43:04:06,  3.75s/it]"
     ]
    },
    {
     "name": "stdout",
     "output_type": "stream",
     "text": [
      "Reference date 2017-08-05 00:00:00 not found. Using nearest date: 2017-08-04 00:00:00\n"
     ]
    },
    {
     "name": "stderr",
     "output_type": "stream",
     "text": [
      "Processing:  10%|██████▏                                                     | 4729/46077 [9:24:51<33:19:36,  2.90s/it]"
     ]
    },
    {
     "name": "stdout",
     "output_type": "stream",
     "text": [
      "Error for CUMMINSIND on 2024-09-14 00:00:00: Insufficient data to determine d+1.\n",
      "Reference date 2024-09-14 00:00:00 not found. Using nearest date: 2024-07-30 00:00:00\n"
     ]
    },
    {
     "name": "stderr",
     "output_type": "stream",
     "text": [
      "Processing:  10%|██████▏                                                     | 4730/46077 [9:24:54<35:35:03,  3.10s/it]"
     ]
    },
    {
     "name": "stdout",
     "output_type": "stream",
     "text": [
      "Error for CUMMINSIND on 2024-08-30 00:00:00: Insufficient data to determine d+1.\n",
      "Reference date 2024-08-30 00:00:00 not found. Using nearest date: 2024-07-30 00:00:00\n"
     ]
    },
    {
     "name": "stderr",
     "output_type": "stream",
     "text": [
      "Processing:  10%|██████▏                                                     | 4731/46077 [9:24:58<37:40:38,  3.28s/it]"
     ]
    },
    {
     "name": "stdout",
     "output_type": "stream",
     "text": [
      "Error for CUMMINSIND on 2024-08-08 00:00:00: Insufficient data to determine d+1.\n",
      "Reference date 2024-08-08 00:00:00 not found. Using nearest date: 2024-07-30 00:00:00\n"
     ]
    },
    {
     "name": "stderr",
     "output_type": "stream",
     "text": [
      "Processing:  10%|██████▏                                                     | 4732/46077 [9:25:02<38:59:23,  3.39s/it]"
     ]
    },
    {
     "name": "stdout",
     "output_type": "stream",
     "text": [
      "Error for CUMMINSIND on 2024-08-07 00:00:00: Insufficient data to determine d+1.\n",
      "Reference date 2024-08-07 00:00:00 not found. Using nearest date: 2024-07-30 00:00:00\n"
     ]
    },
    {
     "name": "stderr",
     "output_type": "stream",
     "text": [
      "Processing:  10%|██████▏                                                     | 4733/46077 [9:25:06<40:20:59,  3.51s/it]"
     ]
    },
    {
     "name": "stdout",
     "output_type": "stream",
     "text": [
      "Error for CUMMINSIND on 2024-08-07 00:00:00: Insufficient data to determine d+1.\n",
      "Reference date 2024-08-07 00:00:00 not found. Using nearest date: 2024-07-30 00:00:00\n"
     ]
    },
    {
     "name": "stderr",
     "output_type": "stream",
     "text": [
      "Processing:  10%|██████▏                                                     | 4742/46077 [9:25:40<43:51:20,  3.82s/it]"
     ]
    },
    {
     "name": "stdout",
     "output_type": "stream",
     "text": [
      "Reference date 2023-05-28 00:00:00 not found. Using nearest date: 2023-05-29 00:00:00\n"
     ]
    },
    {
     "name": "stderr",
     "output_type": "stream",
     "text": [
      "Processing:  10%|██████▏                                                     | 4748/46077 [9:26:02<42:49:46,  3.73s/it]"
     ]
    },
    {
     "name": "stdout",
     "output_type": "stream",
     "text": [
      "Reference date 2022-11-08 00:00:00 not found. Using nearest date: 2022-11-09 00:00:00\n"
     ]
    },
    {
     "name": "stderr",
     "output_type": "stream",
     "text": [
      "Processing:  10%|██████▏                                                     | 4751/46077 [9:26:14<43:04:40,  3.75s/it]"
     ]
    },
    {
     "name": "stdout",
     "output_type": "stream",
     "text": [
      "Reference date 2022-05-28 00:00:00 not found. Using nearest date: 2022-05-27 00:00:00\n"
     ]
    },
    {
     "name": "stderr",
     "output_type": "stream",
     "text": [
      "Processing:  10%|██████▏                                                     | 4753/46077 [9:26:21<44:02:52,  3.84s/it]"
     ]
    },
    {
     "name": "stdout",
     "output_type": "stream",
     "text": [
      "Reference date 2022-02-13 00:00:00 not found. Using nearest date: 2022-02-14 00:00:00\n"
     ]
    },
    {
     "name": "stderr",
     "output_type": "stream",
     "text": [
      "Processing:  10%|██████▏                                                     | 4754/46077 [9:26:26<45:48:46,  3.99s/it]"
     ]
    },
    {
     "name": "stdout",
     "output_type": "stream",
     "text": [
      "Reference date 2022-02-12 00:00:00 not found. Using nearest date: 2022-02-11 00:00:00\n"
     ]
    },
    {
     "name": "stderr",
     "output_type": "stream",
     "text": [
      "Processing:  10%|██████▏                                                     | 4755/46077 [9:26:29<44:54:28,  3.91s/it]"
     ]
    },
    {
     "name": "stdout",
     "output_type": "stream",
     "text": [
      "Reference date 2021-10-02 00:00:00 not found. Using nearest date: 2021-10-01 00:00:00\n"
     ]
    },
    {
     "name": "stderr",
     "output_type": "stream",
     "text": [
      "Processing:  10%|██████▏                                                     | 4756/46077 [9:26:33<44:58:46,  3.92s/it]"
     ]
    },
    {
     "name": "stdout",
     "output_type": "stream",
     "text": [
      "Reference date 2021-08-15 00:00:00 not found. Using nearest date: 2021-08-16 00:00:00\n"
     ]
    },
    {
     "name": "stderr",
     "output_type": "stream",
     "text": [
      "Processing:  10%|██████▏                                                     | 4760/46077 [9:26:48<43:07:06,  3.76s/it]"
     ]
    },
    {
     "name": "stdout",
     "output_type": "stream",
     "text": [
      "Reference date 2021-01-31 00:00:00 not found. Using nearest date: 2021-02-01 00:00:00\n"
     ]
    },
    {
     "name": "stderr",
     "output_type": "stream",
     "text": [
      "Processing:  10%|██████▏                                                     | 4762/46077 [9:26:56<43:39:08,  3.80s/it]"
     ]
    },
    {
     "name": "stdout",
     "output_type": "stream",
     "text": [
      "Reference date 2020-10-31 00:00:00 not found. Using nearest date: 2020-10-30 00:00:00\n"
     ]
    },
    {
     "name": "stderr",
     "output_type": "stream",
     "text": [
      "Processing:  10%|██████▏                                                     | 4772/46077 [9:27:34<44:14:41,  3.86s/it]"
     ]
    },
    {
     "name": "stdout",
     "output_type": "stream",
     "text": [
      "Reference date 2020-04-25 00:00:00 not found. Using nearest date: 2020-04-24 00:00:00\n"
     ]
    },
    {
     "name": "stderr",
     "output_type": "stream",
     "text": [
      "Processing:  10%|██████▏                                                     | 4777/46077 [9:27:53<43:04:52,  3.76s/it]"
     ]
    },
    {
     "name": "stdout",
     "output_type": "stream",
     "text": [
      "Reference date 2019-08-12 00:00:00 not found. Using nearest date: 2019-08-13 00:00:00\n"
     ]
    },
    {
     "name": "stderr",
     "output_type": "stream",
     "text": [
      "Processing:  10%|██████▏                                                     | 4781/46077 [9:28:08<43:16:00,  3.77s/it]"
     ]
    },
    {
     "name": "stdout",
     "output_type": "stream",
     "text": [
      "Reference date 2019-05-26 00:00:00 not found. Using nearest date: 2019-05-27 00:00:00\n"
     ]
    },
    {
     "name": "stderr",
     "output_type": "stream",
     "text": [
      "Processing:  10%|██████▏                                                     | 4789/46077 [9:28:41<47:22:20,  4.13s/it]"
     ]
    },
    {
     "name": "stdout",
     "output_type": "stream",
     "text": [
      "Reference date 2018-11-03 00:00:00 not found. Using nearest date: 2018-11-02 00:00:00\n"
     ]
    },
    {
     "name": "stderr",
     "output_type": "stream",
     "text": [
      "Processing:  10%|██████▎                                                     | 4803/46077 [9:29:34<43:28:24,  3.79s/it]"
     ]
    },
    {
     "name": "stdout",
     "output_type": "stream",
     "text": [
      "Reference date 2018-02-03 00:00:00 not found. Using nearest date: 2018-02-02 00:00:00\n"
     ]
    },
    {
     "name": "stderr",
     "output_type": "stream",
     "text": [
      "Processing:  10%|██████▎                                                     | 4810/46077 [9:30:00<43:01:28,  3.75s/it]"
     ]
    },
    {
     "name": "stdout",
     "output_type": "stream",
     "text": [
      "Reference date 2017-08-05 00:00:00 not found. Using nearest date: 2017-08-04 00:00:00\n"
     ]
    },
    {
     "name": "stderr",
     "output_type": "stream",
     "text": [
      "Processing:  10%|██████▎                                                     | 4815/46077 [9:30:19<42:51:13,  3.74s/it]"
     ]
    },
    {
     "name": "stdout",
     "output_type": "stream",
     "text": [
      "Reference date 2017-05-20 00:00:00 not found. Using nearest date: 2017-05-19 00:00:00\n"
     ]
    },
    {
     "name": "stderr",
     "output_type": "stream",
     "text": [
      "Processing:  10%|██████▎                                                     | 4819/46077 [9:30:34<42:59:11,  3.75s/it]"
     ]
    },
    {
     "name": "stdout",
     "output_type": "stream",
     "text": [
      "Reference date 2017-02-04 00:00:00 not found. Using nearest date: 2017-02-03 00:00:00\n"
     ]
    },
    {
     "name": "stderr",
     "output_type": "stream",
     "text": [
      "Processing:  10%|██████▎                                                     | 4827/46077 [9:31:04<43:35:23,  3.80s/it]"
     ]
    },
    {
     "name": "stdout",
     "output_type": "stream",
     "text": [
      "Reference date 2016-08-06 00:00:00 not found. Using nearest date: 2016-08-05 00:00:00\n"
     ]
    },
    {
     "name": "stderr",
     "output_type": "stream",
     "text": [
      "Processing:  10%|██████▎                                                     | 4828/46077 [9:31:08<43:52:37,  3.83s/it]"
     ]
    },
    {
     "name": "stdout",
     "output_type": "stream",
     "text": [
      "Reference date 2016-08-06 00:00:00 not found. Using nearest date: 2016-08-05 00:00:00\n"
     ]
    },
    {
     "name": "stderr",
     "output_type": "stream",
     "text": [
      "Processing:  10%|██████▎                                                     | 4836/46077 [9:31:38<44:01:32,  3.84s/it]"
     ]
    },
    {
     "name": "stdout",
     "output_type": "stream",
     "text": [
      "Reference date 2015-11-07 00:00:00 not found. Using nearest date: 2015-11-06 00:00:00\n"
     ]
    },
    {
     "name": "stderr",
     "output_type": "stream",
     "text": [
      "Processing:  11%|██████▎                                                     | 4840/46077 [9:31:53<42:39:22,  3.72s/it]"
     ]
    },
    {
     "name": "stdout",
     "output_type": "stream",
     "text": [
      "Reference date 2015-05-30 00:00:00 not found. Using nearest date: 2015-05-29 00:00:00\n"
     ]
    },
    {
     "name": "stderr",
     "output_type": "stream",
     "text": [
      "Processing:  11%|██████▎                                                     | 4841/46077 [9:31:57<42:34:33,  3.72s/it]"
     ]
    },
    {
     "name": "stdout",
     "output_type": "stream",
     "text": [
      "Reference date 2015-05-30 00:00:00 not found. Using nearest date: 2015-05-29 00:00:00\n"
     ]
    },
    {
     "name": "stderr",
     "output_type": "stream",
     "text": [
      "Processing:  11%|██████▎                                                     | 4845/46077 [9:32:12<42:46:40,  3.73s/it]"
     ]
    },
    {
     "name": "stdout",
     "output_type": "stream",
     "text": [
      "Error for APARINDS on 2024-09-14 00:00:00: Insufficient data to determine d+1.\n",
      "Reference date 2024-09-14 00:00:00 not found. Using nearest date: 2024-07-30 00:00:00\n"
     ]
    },
    {
     "name": "stderr",
     "output_type": "stream",
     "text": [
      "Processing:  11%|██████▎                                                     | 4852/46077 [9:32:38<42:21:01,  3.70s/it]"
     ]
    },
    {
     "name": "stdout",
     "output_type": "stream",
     "text": [
      "Reference date 2022-07-30 00:00:00 not found. Using nearest date: 2022-07-29 00:00:00\n"
     ]
    },
    {
     "name": "stderr",
     "output_type": "stream",
     "text": [
      "Processing:  11%|██████▎                                                     | 4855/46077 [9:32:49<42:45:53,  3.73s/it]"
     ]
    },
    {
     "name": "stdout",
     "output_type": "stream",
     "text": [
      "Reference date 2021-02-06 00:00:00 not found. Using nearest date: 2021-02-05 00:00:00\n"
     ]
    },
    {
     "name": "stderr",
     "output_type": "stream",
     "text": [
      "Processing:  11%|██████▎                                                     | 4856/46077 [9:32:53<42:35:51,  3.72s/it]"
     ]
    },
    {
     "name": "stdout",
     "output_type": "stream",
     "text": [
      "Reference date 2020-08-09 00:00:00 not found. Using nearest date: 2020-08-10 00:00:00\n"
     ]
    },
    {
     "name": "stderr",
     "output_type": "stream",
     "text": [
      "Processing:  11%|██████▎                                                     | 4857/46077 [9:32:57<42:44:09,  3.73s/it]"
     ]
    },
    {
     "name": "stdout",
     "output_type": "stream",
     "text": [
      "Reference date 2020-06-28 00:00:00 not found. Using nearest date: 2020-06-29 00:00:00\n"
     ]
    },
    {
     "name": "stderr",
     "output_type": "stream",
     "text": [
      "Processing:  11%|██████▎                                                     | 4869/46077 [9:33:42<42:32:40,  3.72s/it]"
     ]
    },
    {
     "name": "stdout",
     "output_type": "stream",
     "text": [
      "Reference date 2018-06-02 00:00:00 not found. Using nearest date: 2018-06-01 00:00:00\n"
     ]
    },
    {
     "name": "stderr",
     "output_type": "stream",
     "text": [
      "Processing:  11%|██████▎                                                     | 4879/46077 [9:34:19<43:03:27,  3.76s/it]"
     ]
    },
    {
     "name": "stdout",
     "output_type": "stream",
     "text": [
      "Reference date 2017-02-04 00:00:00 not found. Using nearest date: 2017-02-03 00:00:00\n"
     ]
    },
    {
     "name": "stderr",
     "output_type": "stream",
     "text": [
      "Processing:  11%|██████▎                                                     | 4883/46077 [9:34:34<43:03:49,  3.76s/it]"
     ]
    },
    {
     "name": "stdout",
     "output_type": "stream",
     "text": [
      "Error for SUVENPHAR on 2024-09-14 00:00:00: Insufficient data to determine d+1.\n",
      "Reference date 2024-09-14 00:00:00 not found. Using nearest date: 2024-07-30 00:00:00\n"
     ]
    },
    {
     "name": "stderr",
     "output_type": "stream",
     "text": [
      "Processing:  11%|██████▎                                                     | 4886/46077 [9:34:45<42:55:20,  3.75s/it]"
     ]
    },
    {
     "name": "stdout",
     "output_type": "stream",
     "text": [
      "Reference date 2022-08-09 00:00:00 not found. Using nearest date: 2022-08-10 00:00:00\n"
     ]
    },
    {
     "name": "stderr",
     "output_type": "stream",
     "text": [
      "Processing:  11%|██████▍                                                     | 4896/46077 [9:35:23<43:28:47,  3.80s/it]"
     ]
    },
    {
     "name": "stdout",
     "output_type": "stream",
     "text": [
      "Reference date 2020-10-31 00:00:00 not found. Using nearest date: 2020-10-30 00:00:00\n"
     ]
    },
    {
     "name": "stderr",
     "output_type": "stream",
     "text": [
      "Processing:  11%|██████▍                                                     | 4897/46077 [9:35:27<43:28:07,  3.80s/it]"
     ]
    },
    {
     "name": "stdout",
     "output_type": "stream",
     "text": [
      "Reference date 2020-10-31 00:00:00 not found. Using nearest date: 2020-10-30 00:00:00\n"
     ]
    },
    {
     "name": "stderr",
     "output_type": "stream",
     "text": [
      "Processing:  11%|██████▍                                                     | 4904/46077 [9:35:53<42:33:31,  3.72s/it]"
     ]
    },
    {
     "name": "stdout",
     "output_type": "stream",
     "text": [
      "Reference date 2018-11-03 00:00:00 not found. Using nearest date: 2018-11-02 00:00:00\n"
     ]
    },
    {
     "name": "stderr",
     "output_type": "stream",
     "text": [
      "Processing:  11%|██████▍                                                     | 4925/46077 [9:37:13<43:34:35,  3.81s/it]"
     ]
    },
    {
     "name": "stdout",
     "output_type": "stream",
     "text": [
      "Reference date 2024-02-12 00:00:00 not found. Using nearest date: 2024-02-20 00:00:00\n"
     ]
    },
    {
     "name": "stderr",
     "output_type": "stream",
     "text": [
      "Processing:  11%|██████▍                                                     | 4930/46077 [9:37:24<27:39:32,  2.42s/it]"
     ]
    },
    {
     "name": "stdout",
     "output_type": "stream",
     "text": [
      "Error for LTTS on 2024-09-14 00:00:00: Insufficient data to determine d+1.\n",
      "Reference date 2024-09-14 00:00:00 not found. Using nearest date: 2024-07-30 00:00:00\n"
     ]
    },
    {
     "name": "stderr",
     "output_type": "stream",
     "text": [
      "Processing:  11%|██████▍                                                     | 4931/46077 [9:37:28<30:41:31,  2.69s/it]"
     ]
    },
    {
     "name": "stdout",
     "output_type": "stream",
     "text": [
      "Error for LTTS on 2024-08-28 00:00:00: Insufficient data to determine d+1.\n",
      "Reference date 2024-08-28 00:00:00 not found. Using nearest date: 2024-07-30 00:00:00\n"
     ]
    },
    {
     "name": "stderr",
     "output_type": "stream",
     "text": [
      "Processing:  11%|██████▍                                                     | 4932/46077 [9:37:32<33:20:44,  2.92s/it]"
     ]
    },
    {
     "name": "stdout",
     "output_type": "stream",
     "text": [
      "Error for LTTS on 2024-08-27 00:00:00: Insufficient data to determine d+1.\n",
      "Reference date 2024-08-27 00:00:00 not found. Using nearest date: 2024-07-30 00:00:00\n"
     ]
    },
    {
     "name": "stderr",
     "output_type": "stream",
     "text": [
      "Processing:  11%|██████▍                                                     | 4942/46077 [9:38:09<41:45:14,  3.65s/it]"
     ]
    },
    {
     "name": "stdout",
     "output_type": "stream",
     "text": [
      "Reference date 2022-07-16 00:00:00 not found. Using nearest date: 2022-07-15 00:00:00\n"
     ]
    },
    {
     "name": "stderr",
     "output_type": "stream",
     "text": [
      "Processing:  11%|██████▍                                                     | 4943/46077 [9:38:12<42:06:52,  3.69s/it]"
     ]
    },
    {
     "name": "stdout",
     "output_type": "stream",
     "text": [
      "Reference date 2022-07-16 00:00:00 not found. Using nearest date: 2022-07-15 00:00:00\n"
     ]
    },
    {
     "name": "stderr",
     "output_type": "stream",
     "text": [
      "Processing:  11%|██████▍                                                     | 4960/46077 [9:39:16<42:22:11,  3.71s/it]"
     ]
    },
    {
     "name": "stdout",
     "output_type": "stream",
     "text": [
      "Reference date 2020-05-17 00:00:00 not found. Using nearest date: 2020-05-18 00:00:00\n"
     ]
    },
    {
     "name": "stderr",
     "output_type": "stream",
     "text": [
      "Processing:  11%|██████▍                                                     | 4961/46077 [9:39:20<42:12:53,  3.70s/it]"
     ]
    },
    {
     "name": "stdout",
     "output_type": "stream",
     "text": [
      "Reference date 2020-05-17 00:00:00 not found. Using nearest date: 2020-05-18 00:00:00\n"
     ]
    },
    {
     "name": "stderr",
     "output_type": "stream",
     "text": [
      "Processing:  11%|██████▍                                                     | 4962/46077 [9:39:23<42:44:36,  3.74s/it]"
     ]
    },
    {
     "name": "stdout",
     "output_type": "stream",
     "text": [
      "Reference date 2020-01-19 00:00:00 not found. Using nearest date: 2020-01-20 00:00:00\n"
     ]
    },
    {
     "name": "stderr",
     "output_type": "stream",
     "text": [
      "Processing:  11%|██████▍                                                     | 4963/46077 [9:39:27<43:07:44,  3.78s/it]"
     ]
    },
    {
     "name": "stdout",
     "output_type": "stream",
     "text": [
      "Reference date 2019-10-19 00:00:00 not found. Using nearest date: 2019-10-18 00:00:00\n"
     ]
    },
    {
     "name": "stderr",
     "output_type": "stream",
     "text": [
      "Processing:  11%|██████▍                                                     | 4965/46077 [9:39:35<42:57:46,  3.76s/it]"
     ]
    },
    {
     "name": "stdout",
     "output_type": "stream",
     "text": [
      "Reference date 2019-07-20 00:00:00 not found. Using nearest date: 2019-07-19 00:00:00\n"
     ]
    },
    {
     "name": "stderr",
     "output_type": "stream",
     "text": [
      "Processing:  11%|██████▍                                                     | 4966/46077 [9:39:39<42:52:47,  3.75s/it]"
     ]
    },
    {
     "name": "stdout",
     "output_type": "stream",
     "text": [
      "Reference date 2019-05-04 00:00:00 not found. Using nearest date: 2019-05-03 00:00:00\n"
     ]
    },
    {
     "name": "stderr",
     "output_type": "stream",
     "text": [
      "Processing:  11%|██████▍                                                     | 4982/46077 [9:40:38<42:42:38,  3.74s/it]"
     ]
    },
    {
     "name": "stdout",
     "output_type": "stream",
     "text": [
      "Reference date 2016-09-12 00:00:00 not found. Using nearest date: 2016-09-23 00:00:00\n"
     ]
    },
    {
     "name": "stderr",
     "output_type": "stream",
     "text": [
      "Processing:  11%|██████▍                                                     | 4983/46077 [9:40:42<42:39:34,  3.74s/it]"
     ]
    },
    {
     "name": "stdout",
     "output_type": "stream",
     "text": [
      "Reference date 2016-09-12 00:00:00 not found. Using nearest date: 2016-09-23 00:00:00\n"
     ]
    },
    {
     "name": "stderr",
     "output_type": "stream",
     "text": [
      "Processing:  11%|██████▍                                                     | 4984/46077 [9:40:45<42:22:42,  3.71s/it]"
     ]
    },
    {
     "name": "stdout",
     "output_type": "stream",
     "text": [
      "Reference date 2016-09-09 00:00:00 not found. Using nearest date: 2016-09-23 00:00:00\n"
     ]
    },
    {
     "name": "stderr",
     "output_type": "stream",
     "text": [
      "Processing:  11%|██████▍                                                     | 4985/46077 [9:40:49<42:30:14,  3.72s/it]"
     ]
    },
    {
     "name": "stdout",
     "output_type": "stream",
     "text": [
      "Reference date 2016-09-09 00:00:00 not found. Using nearest date: 2016-09-23 00:00:00\n"
     ]
    },
    {
     "name": "stderr",
     "output_type": "stream",
     "text": [
      "Processing:  11%|██████▍                                                     | 4986/46077 [9:40:53<42:20:40,  3.71s/it]"
     ]
    },
    {
     "name": "stdout",
     "output_type": "stream",
     "text": [
      "Reference date 2016-09-08 00:00:00 not found. Using nearest date: 2016-09-23 00:00:00\n"
     ]
    },
    {
     "name": "stderr",
     "output_type": "stream",
     "text": [
      "Processing:  11%|██████▍                                                     | 4987/46077 [9:40:56<42:10:55,  3.70s/it]"
     ]
    },
    {
     "name": "stdout",
     "output_type": "stream",
     "text": [
      "Reference date 2016-09-08 00:00:00 not found. Using nearest date: 2016-09-23 00:00:00\n"
     ]
    },
    {
     "name": "stderr",
     "output_type": "stream",
     "text": [
      "Processing:  11%|██████▍                                                     | 4988/46077 [9:41:00<43:05:16,  3.78s/it]"
     ]
    },
    {
     "name": "stdout",
     "output_type": "stream",
     "text": [
      "Reference date 2016-09-08 00:00:00 not found. Using nearest date: 2016-09-23 00:00:00\n"
     ]
    },
    {
     "name": "stderr",
     "output_type": "stream",
     "text": [
      "Processing:  11%|██████▍                                                     | 4989/46077 [9:41:04<42:39:13,  3.74s/it]"
     ]
    },
    {
     "name": "stdout",
     "output_type": "stream",
     "text": [
      "Reference date 2016-09-08 00:00:00 not found. Using nearest date: 2016-09-23 00:00:00\n"
     ]
    },
    {
     "name": "stderr",
     "output_type": "stream",
     "text": [
      "Processing:  11%|██████▌                                                     | 4996/46077 [9:41:31<44:43:26,  3.92s/it]"
     ]
    },
    {
     "name": "stdout",
     "output_type": "stream",
     "text": [
      "Reference date 2024-02-07 00:00:00 not found. Using nearest date: 2024-02-14 00:00:00\n"
     ]
    },
    {
     "name": "stderr",
     "output_type": "stream",
     "text": [
      "Processing:  11%|██████▌                                                     | 4997/46077 [9:41:35<43:49:09,  3.84s/it]"
     ]
    },
    {
     "name": "stdout",
     "output_type": "stream",
     "text": [
      "Reference date 2024-02-06 00:00:00 not found. Using nearest date: 2024-02-14 00:00:00\n"
     ]
    },
    {
     "name": "stderr",
     "output_type": "stream",
     "text": [
      "Processing:  11%|██████▌                                                     | 4998/46077 [9:41:38<43:05:43,  3.78s/it]"
     ]
    },
    {
     "name": "stdout",
     "output_type": "stream",
     "text": [
      "Error for ELECON on 2024-09-14 00:00:00: Insufficient data to determine d+1.\n",
      "Reference date 2024-09-14 00:00:00 not found. Using nearest date: 2024-07-30 00:00:00\n"
     ]
    },
    {
     "name": "stderr",
     "output_type": "stream",
     "text": [
      "Processing:  11%|██████▌                                                     | 5010/46077 [9:42:23<42:25:50,  3.72s/it]"
     ]
    },
    {
     "name": "stdout",
     "output_type": "stream",
     "text": [
      "Reference date 2016-12-17 00:00:00 not found. Using nearest date: 2016-12-16 00:00:00\n"
     ]
    },
    {
     "name": "stderr",
     "output_type": "stream",
     "text": [
      "Processing:  11%|██████▌                                                     | 5013/46077 [9:42:34<42:51:04,  3.76s/it]"
     ]
    },
    {
     "name": "stdout",
     "output_type": "stream",
     "text": [
      "Error for CHEMPLASTS on 2024-09-14 00:00:00: Insufficient data to determine d+1.\n",
      "Reference date 2024-09-14 00:00:00 not found. Using nearest date: 2024-07-30 00:00:00\n"
     ]
    },
    {
     "name": "stderr",
     "output_type": "stream",
     "text": [
      "Processing:  11%|██████▌                                                     | 5015/46077 [9:42:41<42:21:39,  3.71s/it]"
     ]
    },
    {
     "name": "stdout",
     "output_type": "stream",
     "text": [
      "Reference date 2023-11-04 00:00:00 not found. Using nearest date: 2023-11-03 00:00:00\n"
     ]
    },
    {
     "name": "stderr",
     "output_type": "stream",
     "text": [
      "Processing:  11%|██████▌                                                     | 5016/46077 [9:42:45<42:37:30,  3.74s/it]"
     ]
    },
    {
     "name": "stdout",
     "output_type": "stream",
     "text": [
      "Reference date 2023-08-13 00:00:00 not found. Using nearest date: 2023-08-14 00:00:00\n"
     ]
    },
    {
     "name": "stderr",
     "output_type": "stream",
     "text": [
      "Processing:  11%|██████▌                                                     | 5020/46077 [9:43:00<43:15:25,  3.79s/it]"
     ]
    },
    {
     "name": "stdout",
     "output_type": "stream",
     "text": [
      "Reference date 2022-11-08 00:00:00 not found. Using nearest date: 2022-11-09 00:00:00\n"
     ]
    },
    {
     "name": "stderr",
     "output_type": "stream",
     "text": [
      "Processing:  11%|██████▌                                                     | 5022/46077 [9:43:08<42:56:13,  3.77s/it]"
     ]
    },
    {
     "name": "stdout",
     "output_type": "stream",
     "text": [
      "Reference date 2021-08-10 00:00:00 not found. Using nearest date: 2021-08-24 00:00:00\n"
     ]
    },
    {
     "name": "stderr",
     "output_type": "stream",
     "text": [
      "Processing:  11%|██████▌                                                     | 5023/46077 [9:43:12<42:36:14,  3.74s/it]"
     ]
    },
    {
     "name": "stdout",
     "output_type": "stream",
     "text": [
      "Reference date 2021-08-10 00:00:00 not found. Using nearest date: 2021-08-24 00:00:00\n"
     ]
    },
    {
     "name": "stderr",
     "output_type": "stream",
     "text": [
      "Processing:  11%|██████▌                                                     | 5024/46077 [9:43:15<42:27:55,  3.72s/it]"
     ]
    },
    {
     "name": "stdout",
     "output_type": "stream",
     "text": [
      "Reference date 2021-08-10 00:00:00 not found. Using nearest date: 2021-08-24 00:00:00\n"
     ]
    },
    {
     "name": "stderr",
     "output_type": "stream",
     "text": [
      "Processing:  11%|██████▌                                                     | 5025/46077 [9:43:19<42:16:17,  3.71s/it]"
     ]
    },
    {
     "name": "stdout",
     "output_type": "stream",
     "text": [
      "Reference date 2021-08-09 00:00:00 not found. Using nearest date: 2021-08-24 00:00:00\n"
     ]
    },
    {
     "name": "stderr",
     "output_type": "stream",
     "text": [
      "Processing:  11%|██████▌                                                     | 5026/46077 [9:43:23<42:08:54,  3.70s/it]"
     ]
    },
    {
     "name": "stdout",
     "output_type": "stream",
     "text": [
      "Error for RELAXO on 2024-09-14 00:00:00: Insufficient data to determine d+1.\n",
      "Reference date 2024-09-14 00:00:00 not found. Using nearest date: 2024-07-30 00:00:00\n"
     ]
    },
    {
     "name": "stderr",
     "output_type": "stream",
     "text": [
      "Processing:  11%|██████▌                                                     | 5027/46077 [9:43:27<43:42:39,  3.83s/it]"
     ]
    },
    {
     "name": "stdout",
     "output_type": "stream",
     "text": [
      "Error for RELAXO on 2024-08-05 00:00:00: Insufficient data to determine d+1.\n",
      "Reference date 2024-08-05 00:00:00 not found. Using nearest date: 2024-07-30 00:00:00\n"
     ]
    },
    {
     "name": "stderr",
     "output_type": "stream",
     "text": [
      "Processing:  11%|██████▌                                                     | 5028/46077 [9:43:31<43:49:56,  3.84s/it]"
     ]
    },
    {
     "name": "stdout",
     "output_type": "stream",
     "text": [
      "Error for RELAXO on 2024-08-01 00:00:00: Insufficient data to determine d+1.\n",
      "Reference date 2024-08-01 00:00:00 not found. Using nearest date: 2024-07-30 00:00:00\n"
     ]
    },
    {
     "name": "stderr",
     "output_type": "stream",
     "text": [
      "Processing:  11%|██████▌                                                     | 5044/46077 [9:44:30<43:13:26,  3.79s/it]"
     ]
    },
    {
     "name": "stdout",
     "output_type": "stream",
     "text": [
      "Reference date 2023-02-05 00:00:00 not found. Using nearest date: 2023-02-06 00:00:00\n"
     ]
    },
    {
     "name": "stderr",
     "output_type": "stream",
     "text": [
      "Processing:  11%|██████▌                                                     | 5063/46077 [9:45:41<42:22:11,  3.72s/it]"
     ]
    },
    {
     "name": "stdout",
     "output_type": "stream",
     "text": [
      "Reference date 2021-01-31 00:00:00 not found. Using nearest date: 2021-02-01 00:00:00\n"
     ]
    },
    {
     "name": "stderr",
     "output_type": "stream",
     "text": [
      "Processing:  11%|██████▌                                                     | 5071/46077 [9:46:11<42:02:46,  3.69s/it]"
     ]
    },
    {
     "name": "stdout",
     "output_type": "stream",
     "text": [
      "Reference date 2020-08-08 00:00:00 not found. Using nearest date: 2020-08-07 00:00:00\n"
     ]
    },
    {
     "name": "stderr",
     "output_type": "stream",
     "text": [
      "Processing:  11%|██████▌                                                     | 5073/46077 [9:46:18<42:12:59,  3.71s/it]"
     ]
    },
    {
     "name": "stdout",
     "output_type": "stream",
     "text": [
      "Reference date 2020-08-02 00:00:00 not found. Using nearest date: 2020-08-03 00:00:00\n"
     ]
    },
    {
     "name": "stderr",
     "output_type": "stream",
     "text": [
      "Processing:  11%|██████▋                                                     | 5099/46077 [9:47:55<41:53:46,  3.68s/it]"
     ]
    },
    {
     "name": "stdout",
     "output_type": "stream",
     "text": [
      "Error for DOMS on 2024-09-14 00:00:00: Insufficient data to determine d+1.\n",
      "Reference date 2024-09-14 00:00:00 not found. Using nearest date: 2024-07-30 00:00:00\n"
     ]
    },
    {
     "name": "stderr",
     "output_type": "stream",
     "text": [
      "Processing:  11%|██████▋                                                     | 5100/46077 [9:47:59<41:50:58,  3.68s/it]"
     ]
    },
    {
     "name": "stdout",
     "output_type": "stream",
     "text": [
      "Error for DOMS on 2024-08-14 00:00:00: Insufficient data to determine d+1.\n",
      "Reference date 2024-08-14 00:00:00 not found. Using nearest date: 2024-07-30 00:00:00\n"
     ]
    },
    {
     "name": "stderr",
     "output_type": "stream",
     "text": [
      "Processing:  11%|██████▋                                                     | 5101/46077 [9:48:02<41:45:46,  3.67s/it]"
     ]
    },
    {
     "name": "stdout",
     "output_type": "stream",
     "text": [
      "Error for DOMS on 2024-08-14 00:00:00: Insufficient data to determine d+1.\n",
      "Reference date 2024-08-14 00:00:00 not found. Using nearest date: 2024-07-30 00:00:00\n"
     ]
    },
    {
     "name": "stderr",
     "output_type": "stream",
     "text": [
      "Processing:  11%|██████▋                                                     | 5103/46077 [9:48:10<41:43:53,  3.67s/it]"
     ]
    },
    {
     "name": "stdout",
     "output_type": "stream",
     "text": [
      "Reference date 2023-12-13 00:00:00 not found. Using nearest date: 2023-12-20 00:00:00\n"
     ]
    },
    {
     "name": "stderr",
     "output_type": "stream",
     "text": [
      "Processing:  11%|██████▋                                                     | 5104/46077 [9:48:13<41:57:41,  3.69s/it]"
     ]
    },
    {
     "name": "stdout",
     "output_type": "stream",
     "text": [
      "Reference date 2023-12-12 00:00:00 not found. Using nearest date: 2023-12-20 00:00:00\n"
     ]
    },
    {
     "name": "stderr",
     "output_type": "stream",
     "text": [
      "Processing:  11%|██████▋                                                     | 5105/46077 [9:48:17<41:45:34,  3.67s/it]"
     ]
    },
    {
     "name": "stdout",
     "output_type": "stream",
     "text": [
      "Reference date 2023-12-12 00:00:00 not found. Using nearest date: 2023-12-20 00:00:00\n"
     ]
    },
    {
     "name": "stderr",
     "output_type": "stream",
     "text": [
      "Processing:  11%|██████▋                                                     | 5106/46077 [9:48:21<41:42:16,  3.66s/it]"
     ]
    },
    {
     "name": "stdout",
     "output_type": "stream",
     "text": [
      "Reference date 2023-12-12 00:00:00 not found. Using nearest date: 2023-12-20 00:00:00\n"
     ]
    },
    {
     "name": "stderr",
     "output_type": "stream",
     "text": [
      "Processing:  11%|██████▋                                                     | 5107/46077 [9:48:24<42:31:12,  3.74s/it]"
     ]
    },
    {
     "name": "stdout",
     "output_type": "stream",
     "text": [
      "Reference date 2023-12-11 00:00:00 not found. Using nearest date: 2023-12-20 00:00:00\n"
     ]
    },
    {
     "name": "stderr",
     "output_type": "stream",
     "text": [
      "Processing:  11%|██████▋                                                     | 5108/46077 [9:48:28<42:32:17,  3.74s/it]"
     ]
    },
    {
     "name": "stdout",
     "output_type": "stream",
     "text": [
      "Error for DODLA on 2024-09-14 00:00:00: Insufficient data to determine d+1.\n",
      "Reference date 2024-09-14 00:00:00 not found. Using nearest date: 2024-07-30 00:00:00\n"
     ]
    },
    {
     "name": "stderr",
     "output_type": "stream",
     "text": [
      "Processing:  11%|██████▋                                                     | 5117/46077 [9:49:02<42:20:59,  3.72s/it]"
     ]
    },
    {
     "name": "stdout",
     "output_type": "stream",
     "text": [
      "Reference date 2021-06-16 00:00:00 not found. Using nearest date: 2021-06-28 00:00:00\n"
     ]
    },
    {
     "name": "stderr",
     "output_type": "stream",
     "text": [
      "Processing:  11%|██████▋                                                     | 5118/46077 [9:49:05<42:10:32,  3.71s/it]"
     ]
    },
    {
     "name": "stdout",
     "output_type": "stream",
     "text": [
      "Reference date 2021-06-15 00:00:00 not found. Using nearest date: 2021-06-28 00:00:00\n"
     ]
    },
    {
     "name": "stderr",
     "output_type": "stream",
     "text": [
      "Processing:  11%|██████▋                                                     | 5119/46077 [9:49:09<41:59:07,  3.69s/it]"
     ]
    },
    {
     "name": "stdout",
     "output_type": "stream",
     "text": [
      "Reference date 2021-06-15 00:00:00 not found. Using nearest date: 2021-06-28 00:00:00\n"
     ]
    },
    {
     "name": "stderr",
     "output_type": "stream",
     "text": [
      "Processing:  11%|██████▋                                                     | 5120/46077 [9:49:13<42:20:11,  3.72s/it]"
     ]
    },
    {
     "name": "stdout",
     "output_type": "stream",
     "text": [
      "Reference date 2021-06-14 00:00:00 not found. Using nearest date: 2021-06-28 00:00:00\n"
     ]
    },
    {
     "name": "stderr",
     "output_type": "stream",
     "text": [
      "Processing:  11%|██████▋                                                     | 5121/46077 [9:49:16<42:16:32,  3.72s/it]"
     ]
    },
    {
     "name": "stdout",
     "output_type": "stream",
     "text": [
      "Error for PAGEIND on 2024-09-14 00:00:00: Insufficient data to determine d+1.\n",
      "Reference date 2024-09-14 00:00:00 not found. Using nearest date: 2024-07-30 00:00:00\n"
     ]
    },
    {
     "name": "stderr",
     "output_type": "stream",
     "text": [
      "Processing:  11%|██████▊                                                     | 5246/46077 [9:57:05<42:23:28,  3.74s/it]"
     ]
    },
    {
     "name": "stdout",
     "output_type": "stream",
     "text": [
      "Reference date 2015-02-17 00:00:00 not found. Using nearest date: 2015-02-18 00:00:00\n"
     ]
    },
    {
     "name": "stderr",
     "output_type": "stream",
     "text": [
      "Processing:  11%|██████▊                                                     | 5247/46077 [9:57:08<42:20:16,  3.73s/it]"
     ]
    },
    {
     "name": "stdout",
     "output_type": "stream",
     "text": [
      "Reference date 2015-02-17 00:00:00 not found. Using nearest date: 2015-02-18 00:00:00\n"
     ]
    },
    {
     "name": "stderr",
     "output_type": "stream",
     "text": [
      "Processing:  11%|██████▊                                                     | 5267/46077 [9:58:23<43:07:43,  3.80s/it]"
     ]
    },
    {
     "name": "stdout",
     "output_type": "stream",
     "text": [
      "Error for ABFRL on 2024-09-14 00:00:00: Insufficient data to determine d+1.\n",
      "Reference date 2024-09-14 00:00:00 not found. Using nearest date: 2024-07-30 00:00:00\n"
     ]
    },
    {
     "name": "stderr",
     "output_type": "stream",
     "text": [
      "Processing:  11%|██████▊                                                     | 5268/46077 [9:58:27<43:01:43,  3.80s/it]"
     ]
    },
    {
     "name": "stdout",
     "output_type": "stream",
     "text": [
      "Error for ABFRL on 2024-08-08 00:00:00: Insufficient data to determine d+1.\n",
      "Reference date 2024-08-08 00:00:00 not found. Using nearest date: 2024-07-30 00:00:00\n"
     ]
    },
    {
     "name": "stderr",
     "output_type": "stream",
     "text": [
      "Processing:  11%|██████▊                                                     | 5269/46077 [9:58:31<42:52:49,  3.78s/it]"
     ]
    },
    {
     "name": "stdout",
     "output_type": "stream",
     "text": [
      "Error for ABFRL on 2024-08-07 00:00:00: Insufficient data to determine d+1.\n",
      "Reference date 2024-08-07 00:00:00 not found. Using nearest date: 2024-07-30 00:00:00\n"
     ]
    },
    {
     "name": "stderr",
     "output_type": "stream",
     "text": [
      "Processing:  11%|██████▊                                                     | 5270/46077 [9:58:35<43:05:06,  3.80s/it]"
     ]
    },
    {
     "name": "stdout",
     "output_type": "stream",
     "text": [
      "Error for ABFRL on 2024-08-07 00:00:00: Insufficient data to determine d+1.\n",
      "Reference date 2024-08-07 00:00:00 not found. Using nearest date: 2024-07-30 00:00:00\n"
     ]
    },
    {
     "name": "stderr",
     "output_type": "stream",
     "text": [
      "Processing:  11%|██████▊                                                     | 5278/46077 [9:59:05<42:39:51,  3.76s/it]"
     ]
    },
    {
     "name": "stdout",
     "output_type": "stream",
     "text": [
      "Reference date 2023-08-06 00:00:00 not found. Using nearest date: 2023-08-07 00:00:00\n"
     ]
    },
    {
     "name": "stderr",
     "output_type": "stream",
     "text": [
      "Processing:  11%|██████▊                                                     | 5279/46077 [9:59:09<42:25:50,  3.74s/it]"
     ]
    },
    {
     "name": "stdout",
     "output_type": "stream",
     "text": [
      "Reference date 2023-08-05 00:00:00 not found. Using nearest date: 2023-08-04 00:00:00\n"
     ]
    },
    {
     "name": "stderr",
     "output_type": "stream",
     "text": [
      "Processing:  11%|██████▉                                                     | 5284/46077 [9:59:28<43:05:24,  3.80s/it]"
     ]
    },
    {
     "name": "stdout",
     "output_type": "stream",
     "text": [
      "Reference date 2023-05-07 00:00:00 not found. Using nearest date: 2023-05-08 00:00:00\n"
     ]
    },
    {
     "name": "stderr",
     "output_type": "stream",
     "text": [
      "Processing:  11%|██████▉                                                     | 5289/46077 [9:59:46<43:07:44,  3.81s/it]"
     ]
    },
    {
     "name": "stdout",
     "output_type": "stream",
     "text": [
      "Reference date 2022-12-04 00:00:00 not found. Using nearest date: 2022-12-05 00:00:00\n"
     ]
    },
    {
     "name": "stderr",
     "output_type": "stream",
     "text": [
      "Processing:  11%|██████▊                                                    | 5294/46077 [10:00:05<42:52:32,  3.78s/it]"
     ]
    },
    {
     "name": "stdout",
     "output_type": "stream",
     "text": [
      "Reference date 2022-11-05 00:00:00 not found. Using nearest date: 2022-11-04 00:00:00\n"
     ]
    },
    {
     "name": "stderr",
     "output_type": "stream",
     "text": [
      "Processing:  11%|██████▊                                                    | 5296/46077 [10:00:13<42:50:21,  3.78s/it]"
     ]
    },
    {
     "name": "stdout",
     "output_type": "stream",
     "text": [
      "Reference date 2022-08-07 00:00:00 not found. Using nearest date: 2022-08-08 00:00:00\n"
     ]
    },
    {
     "name": "stderr",
     "output_type": "stream",
     "text": [
      "Processing:  11%|██████▊                                                    | 5297/46077 [10:00:17<43:01:08,  3.80s/it]"
     ]
    },
    {
     "name": "stdout",
     "output_type": "stream",
     "text": [
      "Reference date 2022-08-07 00:00:00 not found. Using nearest date: 2022-08-08 00:00:00\n"
     ]
    },
    {
     "name": "stderr",
     "output_type": "stream",
     "text": [
      "Processing:  12%|██████▊                                                    | 5308/46077 [10:00:58<42:11:25,  3.73s/it]"
     ]
    },
    {
     "name": "stdout",
     "output_type": "stream",
     "text": [
      "Reference date 2022-02-05 00:00:00 not found. Using nearest date: 2022-02-04 00:00:00\n"
     ]
    },
    {
     "name": "stderr",
     "output_type": "stream",
     "text": [
      "Processing:  12%|██████▊                                                    | 5320/46077 [10:01:44<43:15:45,  3.82s/it]"
     ]
    },
    {
     "name": "stdout",
     "output_type": "stream",
     "text": [
      "Reference date 2021-08-01 00:00:00 not found. Using nearest date: 2021-08-02 00:00:00\n"
     ]
    },
    {
     "name": "stderr",
     "output_type": "stream",
     "text": [
      "Processing:  12%|██████▊                                                    | 5323/46077 [10:01:56<43:12:52,  3.82s/it]"
     ]
    },
    {
     "name": "stdout",
     "output_type": "stream",
     "text": [
      "Reference date 2021-05-29 00:00:00 not found. Using nearest date: 2021-05-28 00:00:00\n"
     ]
    },
    {
     "name": "stderr",
     "output_type": "stream",
     "text": [
      "Processing:  12%|██████▊                                                    | 5327/46077 [10:02:10<41:57:09,  3.71s/it]"
     ]
    },
    {
     "name": "stdout",
     "output_type": "stream",
     "text": [
      "Reference date 2021-01-03 00:00:00 not found. Using nearest date: 2021-01-04 00:00:00\n"
     ]
    },
    {
     "name": "stderr",
     "output_type": "stream",
     "text": [
      "Processing:  12%|██████▊                                                    | 5329/46077 [10:02:18<43:13:48,  3.82s/it]"
     ]
    },
    {
     "name": "stdout",
     "output_type": "stream",
     "text": [
      "Reference date 2020-11-08 00:00:00 not found. Using nearest date: 2020-11-09 00:00:00\n"
     ]
    },
    {
     "name": "stderr",
     "output_type": "stream",
     "text": [
      "Processing:  12%|██████▊                                                    | 5330/46077 [10:02:22<42:52:46,  3.79s/it]"
     ]
    },
    {
     "name": "stdout",
     "output_type": "stream",
     "text": [
      "Reference date 2020-10-25 00:00:00 not found. Using nearest date: 2020-10-26 00:00:00\n"
     ]
    },
    {
     "name": "stderr",
     "output_type": "stream",
     "text": [
      "Processing:  12%|██████▊                                                    | 5331/46077 [10:02:26<43:03:36,  3.80s/it]"
     ]
    },
    {
     "name": "stdout",
     "output_type": "stream",
     "text": [
      "Reference date 2020-10-24 00:00:00 not found. Using nearest date: 2020-10-23 00:00:00\n"
     ]
    },
    {
     "name": "stderr",
     "output_type": "stream",
     "text": [
      "Processing:  12%|██████▊                                                    | 5332/46077 [10:02:30<42:50:46,  3.79s/it]"
     ]
    },
    {
     "name": "stdout",
     "output_type": "stream",
     "text": [
      "Reference date 2020-10-24 00:00:00 not found. Using nearest date: 2020-10-23 00:00:00\n"
     ]
    },
    {
     "name": "stderr",
     "output_type": "stream",
     "text": [
      "Processing:  12%|██████▊                                                    | 5339/46077 [10:02:56<42:30:33,  3.76s/it]"
     ]
    },
    {
     "name": "stdout",
     "output_type": "stream",
     "text": [
      "Reference date 2020-02-09 00:00:00 not found. Using nearest date: 2020-02-10 00:00:00\n"
     ]
    },
    {
     "name": "stderr",
     "output_type": "stream",
     "text": [
      "Processing:  12%|██████▊                                                    | 5357/46077 [10:04:05<43:11:47,  3.82s/it]"
     ]
    },
    {
     "name": "stdout",
     "output_type": "stream",
     "text": [
      "Reference date 2018-11-03 00:00:00 not found. Using nearest date: 2018-11-02 00:00:00\n"
     ]
    },
    {
     "name": "stderr",
     "output_type": "stream",
     "text": [
      "Processing:  12%|██████▊                                                    | 5368/46077 [10:04:47<43:05:38,  3.81s/it]"
     ]
    },
    {
     "name": "stdout",
     "output_type": "stream",
     "text": [
      "Reference date 2017-10-28 00:00:00 not found. Using nearest date: 2017-10-27 00:00:00\n"
     ]
    },
    {
     "name": "stderr",
     "output_type": "stream",
     "text": [
      "Processing:  12%|██████▊                                                    | 5369/46077 [10:04:51<43:34:36,  3.85s/it]"
     ]
    },
    {
     "name": "stdout",
     "output_type": "stream",
     "text": [
      "Reference date 2017-07-29 00:00:00 not found. Using nearest date: 2017-07-28 00:00:00\n"
     ]
    },
    {
     "name": "stderr",
     "output_type": "stream",
     "text": [
      "Processing:  12%|██████▉                                                    | 5379/46077 [10:05:29<43:05:15,  3.81s/it]"
     ]
    },
    {
     "name": "stdout",
     "output_type": "stream",
     "text": [
      "Error for ROLEXRINGS on 2024-09-14 00:00:00: Insufficient data to determine d+1.\n",
      "Reference date 2024-09-14 00:00:00 not found. Using nearest date: 2024-07-30 00:00:00\n"
     ]
    },
    {
     "name": "stderr",
     "output_type": "stream",
     "text": [
      "Processing:  12%|██████▉                                                    | 5383/46077 [10:05:44<43:54:00,  3.88s/it]"
     ]
    },
    {
     "name": "stdout",
     "output_type": "stream",
     "text": [
      "Reference date 2021-07-29 00:00:00 not found. Using nearest date: 2021-08-09 00:00:00\n"
     ]
    },
    {
     "name": "stderr",
     "output_type": "stream",
     "text": [
      "Processing:  12%|██████▉                                                    | 5384/46077 [10:05:48<43:25:44,  3.84s/it]"
     ]
    },
    {
     "name": "stdout",
     "output_type": "stream",
     "text": [
      "Reference date 2021-07-28 00:00:00 not found. Using nearest date: 2021-08-09 00:00:00\n"
     ]
    },
    {
     "name": "stderr",
     "output_type": "stream",
     "text": [
      "Processing:  12%|██████▉                                                    | 5385/46077 [10:05:52<42:52:17,  3.79s/it]"
     ]
    },
    {
     "name": "stdout",
     "output_type": "stream",
     "text": [
      "Reference date 2021-07-28 00:00:00 not found. Using nearest date: 2021-08-09 00:00:00\n"
     ]
    },
    {
     "name": "stderr",
     "output_type": "stream",
     "text": [
      "Processing:  12%|██████▉                                                    | 5386/46077 [10:05:56<43:17:00,  3.83s/it]"
     ]
    },
    {
     "name": "stdout",
     "output_type": "stream",
     "text": [
      "Reference date 2021-07-27 00:00:00 not found. Using nearest date: 2021-08-09 00:00:00\n"
     ]
    },
    {
     "name": "stderr",
     "output_type": "stream",
     "text": [
      "Processing:  12%|██████▉                                                    | 5387/46077 [10:05:59<43:07:08,  3.81s/it]"
     ]
    },
    {
     "name": "stdout",
     "output_type": "stream",
     "text": [
      "Reference date 2021-07-27 00:00:00 not found. Using nearest date: 2021-08-09 00:00:00\n"
     ]
    },
    {
     "name": "stderr",
     "output_type": "stream",
     "text": [
      "Processing:  12%|██████▉                                                    | 5388/46077 [10:06:03<42:49:32,  3.79s/it]"
     ]
    },
    {
     "name": "stdout",
     "output_type": "stream",
     "text": [
      "Reference date 2021-07-27 00:00:00 not found. Using nearest date: 2021-08-09 00:00:00\n"
     ]
    },
    {
     "name": "stderr",
     "output_type": "stream",
     "text": [
      "Processing:  12%|██████▉                                                    | 5389/46077 [10:06:07<43:13:35,  3.82s/it]"
     ]
    },
    {
     "name": "stdout",
     "output_type": "stream",
     "text": [
      "Error for IIFL on 2024-09-14 00:00:00: Insufficient data to determine d+1.\n",
      "Reference date 2024-09-14 00:00:00 not found. Using nearest date: 2024-07-30 00:00:00\n"
     ]
    },
    {
     "name": "stderr",
     "output_type": "stream",
     "text": [
      "Processing:  12%|██████▉                                                    | 5404/46077 [10:07:04<42:40:13,  3.78s/it]"
     ]
    },
    {
     "name": "stdout",
     "output_type": "stream",
     "text": [
      "Reference date 2015-05-30 00:00:00 not found. Using nearest date: 2015-05-29 00:00:00\n"
     ]
    },
    {
     "name": "stderr",
     "output_type": "stream",
     "text": [
      "Processing:  12%|██████▉                                                    | 5406/46077 [10:07:11<42:31:31,  3.76s/it]"
     ]
    },
    {
     "name": "stdout",
     "output_type": "stream",
     "text": [
      "Error for AAVAS on 2024-09-14 00:00:00: Insufficient data to determine d+1.\n",
      "Reference date 2024-09-14 00:00:00 not found. Using nearest date: 2024-07-30 00:00:00\n"
     ]
    },
    {
     "name": "stderr",
     "output_type": "stream",
     "text": [
      "Processing:  12%|██████▉                                                    | 5415/46077 [10:07:45<42:32:51,  3.77s/it]"
     ]
    },
    {
     "name": "stdout",
     "output_type": "stream",
     "text": [
      "Reference date 2023-10-29 00:00:00 not found. Using nearest date: 2023-10-30 00:00:00\n"
     ]
    },
    {
     "name": "stderr",
     "output_type": "stream",
     "text": [
      "Processing:  12%|██████▉                                                    | 5416/46077 [10:07:49<42:32:41,  3.77s/it]"
     ]
    },
    {
     "name": "stdout",
     "output_type": "stream",
     "text": [
      "Reference date 2023-10-28 00:00:00 not found. Using nearest date: 2023-10-27 00:00:00\n"
     ]
    },
    {
     "name": "stderr",
     "output_type": "stream",
     "text": [
      "Processing:  12%|██████▉                                                    | 5425/46077 [10:08:23<41:54:38,  3.71s/it]"
     ]
    },
    {
     "name": "stdout",
     "output_type": "stream",
     "text": [
      "Reference date 2023-02-05 00:00:00 not found. Using nearest date: 2023-02-06 00:00:00\n"
     ]
    },
    {
     "name": "stderr",
     "output_type": "stream",
     "text": [
      "Processing:  12%|██████▉                                                    | 5426/46077 [10:08:27<43:28:36,  3.85s/it]"
     ]
    },
    {
     "name": "stdout",
     "output_type": "stream",
     "text": [
      "Reference date 2023-02-04 00:00:00 not found. Using nearest date: 2023-02-03 00:00:00\n"
     ]
    },
    {
     "name": "stderr",
     "output_type": "stream",
     "text": [
      "Processing:  12%|██████▉                                                    | 5429/46077 [10:08:38<42:57:09,  3.80s/it]"
     ]
    },
    {
     "name": "stdout",
     "output_type": "stream",
     "text": [
      "Reference date 2022-10-23 00:00:00 not found. Using nearest date: 2022-10-24 00:00:00\n"
     ]
    },
    {
     "name": "stderr",
     "output_type": "stream",
     "text": [
      "Processing:  12%|██████▉                                                    | 5430/46077 [10:08:42<42:24:24,  3.76s/it]"
     ]
    },
    {
     "name": "stdout",
     "output_type": "stream",
     "text": [
      "Reference date 2022-10-22 00:00:00 not found. Using nearest date: 2022-10-21 00:00:00\n"
     ]
    },
    {
     "name": "stderr",
     "output_type": "stream",
     "text": [
      "Processing:  12%|██████▉                                                    | 5431/46077 [10:08:45<42:03:29,  3.73s/it]"
     ]
    },
    {
     "name": "stdout",
     "output_type": "stream",
     "text": [
      "Reference date 2022-07-31 00:00:00 not found. Using nearest date: 2022-08-01 00:00:00\n"
     ]
    },
    {
     "name": "stderr",
     "output_type": "stream",
     "text": [
      "Processing:  12%|██████▉                                                    | 5433/46077 [10:08:53<42:10:31,  3.74s/it]"
     ]
    },
    {
     "name": "stdout",
     "output_type": "stream",
     "text": [
      "Reference date 2022-05-08 00:00:00 not found. Using nearest date: 2022-05-09 00:00:00\n"
     ]
    },
    {
     "name": "stderr",
     "output_type": "stream",
     "text": [
      "Processing:  12%|██████▉                                                    | 5434/46077 [10:08:57<41:59:09,  3.72s/it]"
     ]
    },
    {
     "name": "stdout",
     "output_type": "stream",
     "text": [
      "Reference date 2022-05-07 00:00:00 not found. Using nearest date: 2022-05-06 00:00:00\n"
     ]
    },
    {
     "name": "stderr",
     "output_type": "stream",
     "text": [
      "Processing:  12%|██████▉                                                    | 5435/46077 [10:09:00<41:49:30,  3.70s/it]"
     ]
    },
    {
     "name": "stdout",
     "output_type": "stream",
     "text": [
      "Reference date 2022-02-06 00:00:00 not found. Using nearest date: 2022-02-07 00:00:00\n"
     ]
    },
    {
     "name": "stderr",
     "output_type": "stream",
     "text": [
      "Processing:  12%|██████▉                                                    | 5437/46077 [10:09:08<41:55:01,  3.71s/it]"
     ]
    },
    {
     "name": "stdout",
     "output_type": "stream",
     "text": [
      "Reference date 2018-09-25 00:00:00 not found. Using nearest date: 2018-10-08 00:00:00\n"
     ]
    },
    {
     "name": "stderr",
     "output_type": "stream",
     "text": [
      "Processing:  12%|██████▉                                                    | 5438/46077 [10:09:12<42:25:38,  3.76s/it]"
     ]
    },
    {
     "name": "stdout",
     "output_type": "stream",
     "text": [
      "Reference date 2018-09-24 00:00:00 not found. Using nearest date: 2018-10-08 00:00:00\n"
     ]
    },
    {
     "name": "stderr",
     "output_type": "stream",
     "text": [
      "Processing:  12%|██████▉                                                    | 5439/46077 [10:09:15<42:05:28,  3.73s/it]"
     ]
    },
    {
     "name": "stdout",
     "output_type": "stream",
     "text": [
      "Reference date 2018-09-24 00:00:00 not found. Using nearest date: 2018-10-08 00:00:00\n"
     ]
    },
    {
     "name": "stderr",
     "output_type": "stream",
     "text": [
      "Processing:  12%|██████▉                                                    | 5440/46077 [10:09:19<41:53:31,  3.71s/it]"
     ]
    },
    {
     "name": "stdout",
     "output_type": "stream",
     "text": [
      "Reference date 2018-09-24 00:00:00 not found. Using nearest date: 2018-10-08 00:00:00\n"
     ]
    },
    {
     "name": "stderr",
     "output_type": "stream",
     "text": [
      "Processing:  12%|██████▉                                                    | 5456/46077 [10:10:19<41:36:11,  3.69s/it]"
     ]
    },
    {
     "name": "stdout",
     "output_type": "stream",
     "text": [
      "Error for ETHOSLTD on 2024-09-14 00:00:00: Insufficient data to determine d+1.\n",
      "Reference date 2024-09-14 00:00:00 not found. Using nearest date: 2024-07-30 00:00:00\n"
     ]
    },
    {
     "name": "stderr",
     "output_type": "stream",
     "text": [
      "Processing:  12%|██████▉                                                    | 5457/46077 [10:10:23<43:27:48,  3.85s/it]"
     ]
    },
    {
     "name": "stdout",
     "output_type": "stream",
     "text": [
      "Error for ETHOSLTD on 2024-08-15 00:00:00: Insufficient data to determine d+1.\n",
      "Reference date 2024-08-15 00:00:00 not found. Using nearest date: 2024-07-30 00:00:00\n"
     ]
    },
    {
     "name": "stderr",
     "output_type": "stream",
     "text": [
      "Processing:  12%|██████▉                                                    | 5461/46077 [10:10:38<42:53:26,  3.80s/it]"
     ]
    },
    {
     "name": "stdout",
     "output_type": "stream",
     "text": [
      "Reference date 2024-05-04 00:00:00 not found. Using nearest date: 2024-05-03 00:00:00\n"
     ]
    },
    {
     "name": "stderr",
     "output_type": "stream",
     "text": [
      "Processing:  12%|███████                                                    | 5467/46077 [10:11:01<42:44:56,  3.79s/it]"
     ]
    },
    {
     "name": "stdout",
     "output_type": "stream",
     "text": [
      "Reference date 2022-05-17 00:00:00 not found. Using nearest date: 2022-05-30 00:00:00\n"
     ]
    },
    {
     "name": "stderr",
     "output_type": "stream",
     "text": [
      "Processing:  12%|███████                                                    | 5468/46077 [10:11:05<42:44:28,  3.79s/it]"
     ]
    },
    {
     "name": "stdout",
     "output_type": "stream",
     "text": [
      "Error for TCNSBRANDS on 2024-09-14 00:00:00: Insufficient data to determine d+1.\n",
      "Reference date 2024-09-14 00:00:00 not found. Using nearest date: 2024-07-30 00:00:00\n"
     ]
    },
    {
     "name": "stderr",
     "output_type": "stream",
     "text": [
      "Processing:  12%|███████                                                    | 5482/46077 [10:11:58<43:13:06,  3.83s/it]"
     ]
    },
    {
     "name": "stdout",
     "output_type": "stream",
     "text": [
      "Reference date 2020-02-09 00:00:00 not found. Using nearest date: 2020-02-10 00:00:00\n"
     ]
    },
    {
     "name": "stderr",
     "output_type": "stream",
     "text": [
      "Processing:  12%|███████                                                    | 5485/46077 [10:12:10<42:46:05,  3.79s/it]"
     ]
    },
    {
     "name": "stdout",
     "output_type": "stream",
     "text": [
      "Reference date 2018-07-18 00:00:00 not found. Using nearest date: 2018-07-30 00:00:00\n"
     ]
    },
    {
     "name": "stderr",
     "output_type": "stream",
     "text": [
      "Processing:  12%|███████                                                    | 5486/46077 [10:12:13<42:31:23,  3.77s/it]"
     ]
    },
    {
     "name": "stdout",
     "output_type": "stream",
     "text": [
      "Reference date 2018-07-18 00:00:00 not found. Using nearest date: 2018-07-30 00:00:00\n"
     ]
    },
    {
     "name": "stderr",
     "output_type": "stream",
     "text": [
      "Processing:  12%|███████                                                    | 5487/46077 [10:12:18<44:23:46,  3.94s/it]"
     ]
    },
    {
     "name": "stdout",
     "output_type": "stream",
     "text": [
      "Reference date 2018-07-17 00:00:00 not found. Using nearest date: 2018-07-30 00:00:00\n"
     ]
    },
    {
     "name": "stderr",
     "output_type": "stream",
     "text": [
      "Processing:  12%|███████                                                    | 5488/46077 [10:12:21<43:49:25,  3.89s/it]"
     ]
    },
    {
     "name": "stdout",
     "output_type": "stream",
     "text": [
      "Reference date 2018-07-17 00:00:00 not found. Using nearest date: 2018-07-30 00:00:00\n"
     ]
    },
    {
     "name": "stderr",
     "output_type": "stream",
     "text": [
      "Processing:  12%|███████                                                    | 5489/46077 [10:12:26<44:54:33,  3.98s/it]"
     ]
    },
    {
     "name": "stdout",
     "output_type": "stream",
     "text": [
      "Reference date 2018-07-17 00:00:00 not found. Using nearest date: 2018-07-30 00:00:00\n"
     ]
    },
    {
     "name": "stderr",
     "output_type": "stream",
     "text": [
      "Processing:  12%|███████                                                    | 5490/46077 [10:12:29<43:57:10,  3.90s/it]"
     ]
    },
    {
     "name": "stdout",
     "output_type": "stream",
     "text": [
      "Reference date 2018-07-16 00:00:00 not found. Using nearest date: 2018-07-30 00:00:00\n"
     ]
    },
    {
     "name": "stderr",
     "output_type": "stream",
     "text": [
      "Processing:  12%|███████                                                    | 5491/46077 [10:12:33<43:46:22,  3.88s/it]"
     ]
    },
    {
     "name": "stdout",
     "output_type": "stream",
     "text": [
      "Error for AXISBANK on 2024-09-14 00:00:00: Insufficient data to determine d+1.\n",
      "Reference date 2024-09-14 00:00:00 not found. Using nearest date: 2024-07-30 00:00:00\n"
     ]
    },
    {
     "name": "stderr",
     "output_type": "stream",
     "text": [
      "Processing:  12%|███████                                                    | 5492/46077 [10:12:37<43:24:50,  3.85s/it]"
     ]
    },
    {
     "name": "stdout",
     "output_type": "stream",
     "text": [
      "Error for AXISBANK on 2024-07-31 00:00:00: Insufficient data to determine d+1.\n",
      "Reference date 2024-07-31 00:00:00 not found. Using nearest date: 2024-07-30 00:00:00\n"
     ]
    },
    {
     "name": "stderr",
     "output_type": "stream",
     "text": [
      "Processing:  12%|███████                                                    | 5493/46077 [10:12:41<43:39:52,  3.87s/it]"
     ]
    },
    {
     "name": "stdout",
     "output_type": "stream",
     "text": [
      "Error for AXISBANK on 2024-07-30 00:00:00: Insufficient data to determine d+1.\n"
     ]
    },
    {
     "name": "stderr",
     "output_type": "stream",
     "text": [
      "Processing:  12%|███████                                                    | 5536/46077 [10:15:24<43:21:46,  3.85s/it]"
     ]
    },
    {
     "name": "stdout",
     "output_type": "stream",
     "text": [
      "Reference date 2023-04-29 00:00:00 not found. Using nearest date: 2023-04-28 00:00:00\n"
     ]
    },
    {
     "name": "stderr",
     "output_type": "stream",
     "text": [
      "Processing:  12%|███████▏                                                   | 5579/46077 [10:18:08<42:21:08,  3.76s/it]"
     ]
    },
    {
     "name": "stdout",
     "output_type": "stream",
     "text": [
      "Reference date 2022-05-03 00:00:00 not found. Using nearest date: 2022-05-04 00:00:00\n"
     ]
    },
    {
     "name": "stderr",
     "output_type": "stream",
     "text": [
      "Processing:  12%|███████▏                                                   | 5580/46077 [10:18:12<43:37:38,  3.88s/it]"
     ]
    },
    {
     "name": "stdout",
     "output_type": "stream",
     "text": [
      "Reference date 2022-04-30 00:00:00 not found. Using nearest date: 2022-04-29 00:00:00\n"
     ]
    },
    {
     "name": "stderr",
     "output_type": "stream",
     "text": [
      "Processing:  12%|███████▎                                                   | 5696/46077 [10:25:29<41:35:06,  3.71s/it]"
     ]
    },
    {
     "name": "stdout",
     "output_type": "stream",
     "text": [
      "Reference date 2019-04-29 00:00:00 not found. Using nearest date: 2019-04-30 00:00:00\n"
     ]
    },
    {
     "name": "stderr",
     "output_type": "stream",
     "text": [
      "Processing:  12%|███████▎                                                   | 5721/46077 [10:27:03<42:01:53,  3.75s/it]"
     ]
    },
    {
     "name": "stdout",
     "output_type": "stream",
     "text": [
      "Reference date 2018-11-10 00:00:00 not found. Using nearest date: 2018-11-09 00:00:00\n"
     ]
    },
    {
     "name": "stderr",
     "output_type": "stream",
     "text": [
      "Processing:  12%|███████▎                                                   | 5725/46077 [10:27:19<42:10:27,  3.76s/it]"
     ]
    },
    {
     "name": "stdout",
     "output_type": "stream",
     "text": [
      "Reference date 2018-11-03 00:00:00 not found. Using nearest date: 2018-11-02 00:00:00\n"
     ]
    },
    {
     "name": "stderr",
     "output_type": "stream",
     "text": [
      "Processing:  12%|███████▎                                                   | 5730/46077 [10:27:38<42:40:41,  3.81s/it]"
     ]
    },
    {
     "name": "stdout",
     "output_type": "stream",
     "text": [
      "Reference date 2018-09-09 00:00:00 not found. Using nearest date: 2018-09-10 00:00:00\n"
     ]
    },
    {
     "name": "stderr",
     "output_type": "stream",
     "text": [
      "Processing:  12%|███████▎                                                   | 5758/46077 [10:29:22<41:16:21,  3.69s/it]"
     ]
    },
    {
     "name": "stdout",
     "output_type": "stream",
     "text": [
      "Reference date 2017-11-18 00:00:00 not found. Using nearest date: 2017-11-17 00:00:00\n"
     ]
    },
    {
     "name": "stderr",
     "output_type": "stream",
     "text": [
      "Processing:  13%|███████▍                                                   | 5773/46077 [10:30:18<42:00:35,  3.75s/it]"
     ]
    },
    {
     "name": "stdout",
     "output_type": "stream",
     "text": [
      "Reference date 2017-04-29 00:00:00 not found. Using nearest date: 2017-04-28 00:00:00\n"
     ]
    },
    {
     "name": "stderr",
     "output_type": "stream",
     "text": [
      "Processing:  13%|███████▍                                                   | 5796/46077 [10:31:45<41:57:20,  3.75s/it]"
     ]
    },
    {
     "name": "stdout",
     "output_type": "stream",
     "text": [
      "Reference date 2016-07-23 00:00:00 not found. Using nearest date: 2016-07-22 00:00:00\n"
     ]
    },
    {
     "name": "stderr",
     "output_type": "stream",
     "text": [
      "Processing:  13%|███████▍                                                   | 5839/46077 [10:34:26<42:56:44,  3.84s/it]"
     ]
    },
    {
     "name": "stdout",
     "output_type": "stream",
     "text": [
      "Reference date 2011-07-30 00:00:00 not found. Using nearest date: 2011-07-29 00:00:00\n"
     ]
    },
    {
     "name": "stderr",
     "output_type": "stream",
     "text": [
      "Processing:  13%|███████▍                                                   | 5845/46077 [10:34:49<42:07:08,  3.77s/it]"
     ]
    },
    {
     "name": "stdout",
     "output_type": "stream",
     "text": [
      "Error for THYROCARE on 2024-09-14 00:00:00: Insufficient data to determine d+1.\n",
      "Reference date 2024-09-14 00:00:00 not found. Using nearest date: 2024-07-30 00:00:00\n"
     ]
    },
    {
     "name": "stderr",
     "output_type": "stream",
     "text": [
      "Processing:  13%|███████▌                                                   | 5860/46077 [10:35:46<42:59:16,  3.85s/it]"
     ]
    },
    {
     "name": "stdout",
     "output_type": "stream",
     "text": [
      "Reference date 2016-04-27 00:00:00 not found. Using nearest date: 2016-05-09 00:00:00\n"
     ]
    },
    {
     "name": "stderr",
     "output_type": "stream",
     "text": [
      "Processing:  13%|███████▌                                                   | 5861/46077 [10:35:49<42:26:44,  3.80s/it]"
     ]
    },
    {
     "name": "stdout",
     "output_type": "stream",
     "text": [
      "Reference date 2016-04-27 00:00:00 not found. Using nearest date: 2016-05-09 00:00:00\n"
     ]
    },
    {
     "name": "stderr",
     "output_type": "stream",
     "text": [
      "Processing:  13%|███████▌                                                   | 5862/46077 [10:35:53<42:03:46,  3.77s/it]"
     ]
    },
    {
     "name": "stdout",
     "output_type": "stream",
     "text": [
      "Reference date 2016-04-27 00:00:00 not found. Using nearest date: 2016-05-09 00:00:00\n"
     ]
    },
    {
     "name": "stderr",
     "output_type": "stream",
     "text": [
      "Processing:  13%|███████▌                                                   | 5863/46077 [10:35:57<41:51:00,  3.75s/it]"
     ]
    },
    {
     "name": "stdout",
     "output_type": "stream",
     "text": [
      "Reference date 2016-04-26 00:00:00 not found. Using nearest date: 2016-05-09 00:00:00\n"
     ]
    },
    {
     "name": "stderr",
     "output_type": "stream",
     "text": [
      "Processing:  13%|███████▌                                                   | 5864/46077 [10:36:00<41:38:26,  3.73s/it]"
     ]
    },
    {
     "name": "stdout",
     "output_type": "stream",
     "text": [
      "Reference date 2016-04-25 00:00:00 not found. Using nearest date: 2016-05-09 00:00:00\n"
     ]
    },
    {
     "name": "stderr",
     "output_type": "stream",
     "text": [
      "Processing:  13%|███████▌                                                   | 5865/46077 [10:36:04<41:26:06,  3.71s/it]"
     ]
    },
    {
     "name": "stdout",
     "output_type": "stream",
     "text": [
      "Reference date 2016-04-22 00:00:00 not found. Using nearest date: 2016-05-09 00:00:00\n"
     ]
    },
    {
     "name": "stderr",
     "output_type": "stream",
     "text": [
      "Processing:  13%|███████▌                                                   | 5880/46077 [10:37:00<41:20:50,  3.70s/it]"
     ]
    },
    {
     "name": "stdout",
     "output_type": "stream",
     "text": [
      "Reference date 2018-03-17 00:00:00 not found. Using nearest date: 2018-03-16 00:00:00\n"
     ]
    },
    {
     "name": "stderr",
     "output_type": "stream",
     "text": [
      "Processing:  13%|███████▌                                                   | 5909/46077 [10:38:48<41:42:18,  3.74s/it]"
     ]
    },
    {
     "name": "stdout",
     "output_type": "stream",
     "text": [
      "Reference date 2016-07-30 00:00:00 not found. Using nearest date: 2016-07-29 00:00:00\n"
     ]
    },
    {
     "name": "stderr",
     "output_type": "stream",
     "text": [
      "Processing:  13%|███████▋                                                    | 5950/46077 [10:38:52<3:13:24,  3.46it/s]"
     ]
    },
    {
     "name": "stdout",
     "output_type": "stream",
     "text": [
      "Error for VRLLOG on 2024-09-14 00:00:00: Insufficient data to determine d+1.\n",
      "Reference date 2024-09-14 00:00:00 not found. Using nearest date: 2024-07-30 00:00:00\n"
     ]
    },
    {
     "name": "stderr",
     "output_type": "stream",
     "text": [
      "Processing:  13%|███████▋                                                    | 5951/46077 [10:38:56<4:27:43,  2.50it/s]"
     ]
    },
    {
     "name": "stdout",
     "output_type": "stream",
     "text": [
      "Error for VRLLOG on 2024-09-02 00:00:00: Insufficient data to determine d+1.\n",
      "Reference date 2024-09-02 00:00:00 not found. Using nearest date: 2024-07-30 00:00:00\n"
     ]
    },
    {
     "name": "stderr",
     "output_type": "stream",
     "text": [
      "Processing:  13%|███████▊                                                    | 5952/46077 [10:38:59<6:03:19,  1.84it/s]"
     ]
    },
    {
     "name": "stdout",
     "output_type": "stream",
     "text": [
      "Error for VRLLOG on 2024-08-07 00:00:00: Insufficient data to determine d+1.\n",
      "Reference date 2024-08-07 00:00:00 not found. Using nearest date: 2024-07-30 00:00:00\n"
     ]
    },
    {
     "name": "stderr",
     "output_type": "stream",
     "text": [
      "Processing:  13%|███████▊                                                    | 5953/46077 [10:39:04<8:23:23,  1.33it/s]"
     ]
    },
    {
     "name": "stdout",
     "output_type": "stream",
     "text": [
      "Error for VRLLOG on 2024-08-06 00:00:00: Insufficient data to determine d+1.\n",
      "Reference date 2024-08-06 00:00:00 not found. Using nearest date: 2024-07-30 00:00:00\n"
     ]
    },
    {
     "name": "stderr",
     "output_type": "stream",
     "text": [
      "Processing:  13%|███████▌                                                   | 5954/46077 [10:39:07<10:56:06,  1.02it/s]"
     ]
    },
    {
     "name": "stdout",
     "output_type": "stream",
     "text": [
      "Error for VRLLOG on 2024-08-06 00:00:00: Insufficient data to determine d+1.\n",
      "Reference date 2024-08-06 00:00:00 not found. Using nearest date: 2024-07-30 00:00:00\n"
     ]
    },
    {
     "name": "stderr",
     "output_type": "stream",
     "text": [
      "Processing:  13%|███████▋                                                   | 5971/46077 [10:40:10<40:32:48,  3.64s/it]"
     ]
    },
    {
     "name": "stdout",
     "output_type": "stream",
     "text": [
      "Reference date 2022-05-29 00:00:00 not found. Using nearest date: 2022-05-30 00:00:00\n"
     ]
    },
    {
     "name": "stderr",
     "output_type": "stream",
     "text": [
      "Processing:  13%|███████▋                                                   | 5994/46077 [10:41:36<41:23:30,  3.72s/it]"
     ]
    },
    {
     "name": "stdout",
     "output_type": "stream",
     "text": [
      "Reference date 2015-11-25 00:00:00 not found. Using nearest date: 2015-11-26 00:00:00\n"
     ]
    },
    {
     "name": "stderr",
     "output_type": "stream",
     "text": [
      "Processing:  13%|███████▋                                                   | 6039/46077 [10:43:36<41:49:25,  3.76s/it]"
     ]
    },
    {
     "name": "stdout",
     "output_type": "stream",
     "text": [
      "Error for SOUTHBANK on 2024-09-14 00:00:00: Insufficient data to determine d+1.\n",
      "Reference date 2024-09-14 00:00:00 not found. Using nearest date: 2024-07-30 00:00:00\n"
     ]
    },
    {
     "name": "stderr",
     "output_type": "stream",
     "text": [
      "Processing:  13%|███████▋                                                   | 6041/46077 [10:43:44<41:18:50,  3.71s/it]"
     ]
    },
    {
     "name": "stdout",
     "output_type": "stream",
     "text": [
      "Reference date 2024-07-20 00:00:00 not found. Using nearest date: 2024-07-19 00:00:00\n"
     ]
    },
    {
     "name": "stderr",
     "output_type": "stream",
     "text": [
      "Processing:  13%|███████▋                                                   | 6046/46077 [10:44:02<40:52:28,  3.68s/it]"
     ]
    },
    {
     "name": "stdout",
     "output_type": "stream",
     "text": [
      "Reference date 2023-10-22 00:00:00 not found. Using nearest date: 2023-10-23 00:00:00\n"
     ]
    },
    {
     "name": "stderr",
     "output_type": "stream",
     "text": [
      "Processing:  13%|███████▋                                                   | 6048/46077 [10:44:10<42:00:14,  3.78s/it]"
     ]
    },
    {
     "name": "stdout",
     "output_type": "stream",
     "text": [
      "Reference date 2023-07-23 00:00:00 not found. Using nearest date: 2023-07-24 00:00:00\n"
     ]
    },
    {
     "name": "stderr",
     "output_type": "stream",
     "text": [
      "Processing:  13%|███████▋                                                   | 6051/46077 [10:44:21<41:38:02,  3.74s/it]"
     ]
    },
    {
     "name": "stdout",
     "output_type": "stream",
     "text": [
      "Reference date 2023-05-14 00:00:00 not found. Using nearest date: 2023-05-15 00:00:00\n"
     ]
    },
    {
     "name": "stderr",
     "output_type": "stream",
     "text": [
      "Processing:  13%|███████▊                                                   | 6058/46077 [10:44:47<41:40:07,  3.75s/it]"
     ]
    },
    {
     "name": "stdout",
     "output_type": "stream",
     "text": [
      "Reference date 2021-07-24 00:00:00 not found. Using nearest date: 2021-07-23 00:00:00\n"
     ]
    },
    {
     "name": "stderr",
     "output_type": "stream",
     "text": [
      "Processing:  13%|███████▊                                                   | 6064/46077 [10:45:10<41:46:09,  3.76s/it]"
     ]
    },
    {
     "name": "stdout",
     "output_type": "stream",
     "text": [
      "Reference date 2020-10-17 00:00:00 not found. Using nearest date: 2020-10-16 00:00:00\n"
     ]
    },
    {
     "name": "stderr",
     "output_type": "stream",
     "text": [
      "Processing:  13%|███████▊                                                   | 6101/46077 [10:47:28<41:27:31,  3.73s/it]"
     ]
    },
    {
     "name": "stdout",
     "output_type": "stream",
     "text": [
      "Reference date 2016-02-14 00:00:00 not found. Using nearest date: 2016-02-15 00:00:00\n"
     ]
    },
    {
     "name": "stderr",
     "output_type": "stream",
     "text": [
      "Processing:  13%|███████▊                                                   | 6106/46077 [10:47:47<41:05:29,  3.70s/it]"
     ]
    },
    {
     "name": "stdout",
     "output_type": "stream",
     "text": [
      "Error for LICI on 2024-09-14 00:00:00: Insufficient data to determine d+1.\n",
      "Reference date 2024-09-14 00:00:00 not found. Using nearest date: 2024-07-30 00:00:00\n"
     ]
    },
    {
     "name": "stderr",
     "output_type": "stream",
     "text": [
      "Processing:  13%|███████▊                                                   | 6112/46077 [10:48:09<40:41:59,  3.67s/it]"
     ]
    },
    {
     "name": "stdout",
     "output_type": "stream",
     "text": [
      "Reference date 2023-11-11 00:00:00 not found. Using nearest date: 2023-11-10 00:00:00\n"
     ]
    },
    {
     "name": "stderr",
     "output_type": "stream",
     "text": [
      "Processing:  13%|███████▊                                                   | 6113/46077 [10:48:12<40:50:57,  3.68s/it]"
     ]
    },
    {
     "name": "stdout",
     "output_type": "stream",
     "text": [
      "Reference date 2023-11-11 00:00:00 not found. Using nearest date: 2023-11-10 00:00:00\n"
     ]
    },
    {
     "name": "stderr",
     "output_type": "stream",
     "text": [
      "Processing:  13%|███████▊                                                   | 6114/46077 [10:48:16<40:39:24,  3.66s/it]"
     ]
    },
    {
     "name": "stdout",
     "output_type": "stream",
     "text": [
      "Reference date 2023-08-13 00:00:00 not found. Using nearest date: 2023-08-14 00:00:00\n"
     ]
    },
    {
     "name": "stderr",
     "output_type": "stream",
     "text": [
      "Processing:  13%|███████▊                                                   | 6127/46077 [10:49:04<41:09:05,  3.71s/it]"
     ]
    },
    {
     "name": "stdout",
     "output_type": "stream",
     "text": [
      "Reference date 2022-05-10 00:00:00 not found. Using nearest date: 2022-05-17 00:00:00\n"
     ]
    },
    {
     "name": "stderr",
     "output_type": "stream",
     "text": [
      "Processing:  13%|███████▊                                                   | 6128/46077 [10:49:08<40:56:14,  3.69s/it]"
     ]
    },
    {
     "name": "stdout",
     "output_type": "stream",
     "text": [
      "Reference date 2022-05-04 00:00:00 not found. Using nearest date: 2022-05-17 00:00:00\n"
     ]
    },
    {
     "name": "stderr",
     "output_type": "stream",
     "text": [
      "Processing:  13%|███████▊                                                   | 6129/46077 [10:49:12<40:48:54,  3.68s/it]"
     ]
    },
    {
     "name": "stdout",
     "output_type": "stream",
     "text": [
      "Reference date 2022-05-02 00:00:00 not found. Using nearest date: 2022-05-17 00:00:00\n"
     ]
    },
    {
     "name": "stderr",
     "output_type": "stream",
     "text": [
      "Processing:  13%|███████▊                                                   | 6130/46077 [10:49:15<40:43:40,  3.67s/it]"
     ]
    },
    {
     "name": "stdout",
     "output_type": "stream",
     "text": [
      "Reference date 2022-05-02 00:00:00 not found. Using nearest date: 2022-05-17 00:00:00\n"
     ]
    },
    {
     "name": "stderr",
     "output_type": "stream",
     "text": [
      "Processing:  13%|███████▊                                                   | 6131/46077 [10:49:19<40:53:28,  3.69s/it]"
     ]
    },
    {
     "name": "stdout",
     "output_type": "stream",
     "text": [
      "Reference date 2022-04-29 00:00:00 not found. Using nearest date: 2022-05-17 00:00:00\n"
     ]
    },
    {
     "name": "stderr",
     "output_type": "stream",
     "text": [
      "Processing:  13%|███████▊                                                   | 6132/46077 [10:49:23<40:54:38,  3.69s/it]"
     ]
    },
    {
     "name": "stdout",
     "output_type": "stream",
     "text": [
      "Reference date 2022-04-29 00:00:00 not found. Using nearest date: 2022-05-17 00:00:00\n"
     ]
    },
    {
     "name": "stderr",
     "output_type": "stream",
     "text": [
      "Processing:  13%|███████▊                                                   | 6134/46077 [10:49:30<40:52:17,  3.68s/it]"
     ]
    },
    {
     "name": "stdout",
     "output_type": "stream",
     "text": [
      "Error for FORTIS on 2024-09-14 00:00:00: Insufficient data to determine d+1.\n",
      "Reference date 2024-09-14 00:00:00 not found. Using nearest date: 2024-07-30 00:00:00\n"
     ]
    },
    {
     "name": "stderr",
     "output_type": "stream",
     "text": [
      "Processing:  13%|███████▊                                                   | 6137/46077 [10:49:42<41:26:37,  3.74s/it]"
     ]
    },
    {
     "name": "stdout",
     "output_type": "stream",
     "text": [
      "Reference date 2023-11-12 00:00:00 not found. Using nearest date: 2023-11-13 00:00:00\n"
     ]
    },
    {
     "name": "stderr",
     "output_type": "stream",
     "text": [
      "Processing:  13%|███████▊                                                   | 6149/46077 [10:50:26<42:02:32,  3.79s/it]"
     ]
    },
    {
     "name": "stdout",
     "output_type": "stream",
     "text": [
      "Reference date 2022-08-09 00:00:00 not found. Using nearest date: 2022-08-10 00:00:00\n"
     ]
    },
    {
     "name": "stderr",
     "output_type": "stream",
     "text": [
      "Processing:  13%|███████▉                                                   | 6161/46077 [10:51:11<41:18:02,  3.72s/it]"
     ]
    },
    {
     "name": "stdout",
     "output_type": "stream",
     "text": [
      "Error for TRITURBINE on 2024-09-14 00:00:00: Insufficient data to determine d+1.\n",
      "Reference date 2024-09-14 00:00:00 not found. Using nearest date: 2024-07-30 00:00:00\n"
     ]
    },
    {
     "name": "stderr",
     "output_type": "stream",
     "text": [
      "Processing:  13%|███████▉                                                   | 6211/46077 [10:54:18<41:40:29,  3.76s/it]"
     ]
    },
    {
     "name": "stdout",
     "output_type": "stream",
     "text": [
      "Reference date 2017-05-20 00:00:00 not found. Using nearest date: 2017-05-19 00:00:00\n"
     ]
    },
    {
     "name": "stderr",
     "output_type": "stream",
     "text": [
      "Processing:  13%|███████▉                                                   | 6216/46077 [10:54:37<43:09:18,  3.90s/it]"
     ]
    },
    {
     "name": "stdout",
     "output_type": "stream",
     "text": [
      "Reference date 2017-02-11 00:00:00 not found. Using nearest date: 2017-02-10 00:00:00\n"
     ]
    },
    {
     "name": "stderr",
     "output_type": "stream",
     "text": [
      "Processing:  13%|███████▉                                                   | 6220/46077 [10:54:52<41:44:37,  3.77s/it]"
     ]
    },
    {
     "name": "stdout",
     "output_type": "stream",
     "text": [
      "Reference date 2016-08-06 00:00:00 not found. Using nearest date: 2016-08-05 00:00:00\n"
     ]
    },
    {
     "name": "stderr",
     "output_type": "stream",
     "text": [
      "Processing:  14%|███████▉                                                   | 6225/46077 [10:55:11<41:28:02,  3.75s/it]"
     ]
    },
    {
     "name": "stdout",
     "output_type": "stream",
     "text": [
      "Error for IGPL on 2024-09-14 00:00:00: Insufficient data to determine d+1.\n",
      "Reference date 2024-09-14 00:00:00 not found. Using nearest date: 2024-07-23 00:00:00\n"
     ]
    },
    {
     "name": "stderr",
     "output_type": "stream",
     "text": [
      "Processing:  14%|███████▉                                                   | 6226/46077 [10:55:15<42:24:58,  3.83s/it]"
     ]
    },
    {
     "name": "stdout",
     "output_type": "stream",
     "text": [
      "Error for IGPL on 2024-07-30 00:00:00: Insufficient data to determine d+1.\n",
      "Reference date 2024-07-30 00:00:00 not found. Using nearest date: 2024-07-23 00:00:00\n"
     ]
    },
    {
     "name": "stderr",
     "output_type": "stream",
     "text": [
      "Processing:  14%|███████▉                                                   | 6232/46077 [10:55:37<41:32:07,  3.75s/it]"
     ]
    },
    {
     "name": "stdout",
     "output_type": "stream",
     "text": [
      "Reference date 2021-11-06 00:00:00 not found. Using nearest date: 2021-11-08 00:00:00\n"
     ]
    },
    {
     "name": "stderr",
     "output_type": "stream",
     "text": [
      "Processing:  14%|███████▉                                                   | 6239/46077 [10:56:03<40:47:16,  3.69s/it]"
     ]
    },
    {
     "name": "stdout",
     "output_type": "stream",
     "text": [
      "Reference date 2020-06-28 00:00:00 not found. Using nearest date: 2020-06-29 00:00:00\n"
     ]
    },
    {
     "name": "stderr",
     "output_type": "stream",
     "text": [
      "Processing:  14%|████████                                                   | 6267/46077 [10:57:48<41:01:25,  3.71s/it]"
     ]
    },
    {
     "name": "stdout",
     "output_type": "stream",
     "text": [
      "Error for BARBEQUE on 2024-09-14 00:00:00: Insufficient data to determine d+1.\n",
      "Reference date 2024-09-14 00:00:00 not found. Using nearest date: 2024-07-30 00:00:00\n"
     ]
    },
    {
     "name": "stderr",
     "output_type": "stream",
     "text": [
      "Processing:  14%|████████                                                   | 6268/46077 [10:57:52<40:49:26,  3.69s/it]"
     ]
    },
    {
     "name": "stdout",
     "output_type": "stream",
     "text": [
      "Error for BARBEQUE on 2024-08-02 00:00:00: Insufficient data to determine d+1.\n",
      "Reference date 2024-08-02 00:00:00 not found. Using nearest date: 2024-07-30 00:00:00\n"
     ]
    },
    {
     "name": "stderr",
     "output_type": "stream",
     "text": [
      "Processing:  14%|████████                                                   | 6278/46077 [10:58:30<42:53:37,  3.88s/it]"
     ]
    },
    {
     "name": "stdout",
     "output_type": "stream",
     "text": [
      "Reference date 2023-01-26 00:00:00 not found. Using nearest date: 2023-01-27 00:00:00\n"
     ]
    },
    {
     "name": "stderr",
     "output_type": "stream",
     "text": [
      "Processing:  14%|████████                                                   | 6283/46077 [10:58:49<42:14:02,  3.82s/it]"
     ]
    },
    {
     "name": "stdout",
     "output_type": "stream",
     "text": [
      "Reference date 2021-03-24 00:00:00 not found. Using nearest date: 2021-04-07 00:00:00\n"
     ]
    },
    {
     "name": "stderr",
     "output_type": "stream",
     "text": [
      "Processing:  14%|████████                                                   | 6284/46077 [10:58:52<41:50:26,  3.79s/it]"
     ]
    },
    {
     "name": "stdout",
     "output_type": "stream",
     "text": [
      "Reference date 2021-03-23 00:00:00 not found. Using nearest date: 2021-04-07 00:00:00\n"
     ]
    },
    {
     "name": "stderr",
     "output_type": "stream",
     "text": [
      "Processing:  14%|████████                                                   | 6285/46077 [10:58:56<41:28:46,  3.75s/it]"
     ]
    },
    {
     "name": "stdout",
     "output_type": "stream",
     "text": [
      "Reference date 2021-03-23 00:00:00 not found. Using nearest date: 2021-04-07 00:00:00\n"
     ]
    },
    {
     "name": "stderr",
     "output_type": "stream",
     "text": [
      "Processing:  14%|████████                                                   | 6286/46077 [10:59:00<41:15:24,  3.73s/it]"
     ]
    },
    {
     "name": "stdout",
     "output_type": "stream",
     "text": [
      "Reference date 2021-03-23 00:00:00 not found. Using nearest date: 2021-04-07 00:00:00\n"
     ]
    },
    {
     "name": "stderr",
     "output_type": "stream",
     "text": [
      "Processing:  14%|████████                                                   | 6287/46077 [10:59:03<41:17:15,  3.74s/it]"
     ]
    },
    {
     "name": "stdout",
     "output_type": "stream",
     "text": [
      "Error for EKC on 2024-09-14 00:00:00: Insufficient data to determine d+1.\n",
      "Reference date 2024-09-14 00:00:00 not found. Using nearest date: 2024-07-23 00:00:00\n"
     ]
    },
    {
     "name": "stderr",
     "output_type": "stream",
     "text": [
      "Processing:  14%|████████                                                   | 6289/46077 [10:59:11<41:39:34,  3.77s/it]"
     ]
    },
    {
     "name": "stdout",
     "output_type": "stream",
     "text": [
      "Error for MEDANTA on 2024-09-14 00:00:00: Insufficient data to determine d+1.\n",
      "Reference date 2024-09-14 00:00:00 not found. Using nearest date: 2024-07-30 00:00:00\n"
     ]
    },
    {
     "name": "stderr",
     "output_type": "stream",
     "text": [
      "Processing:  14%|████████                                                   | 6290/46077 [10:59:15<41:20:20,  3.74s/it]"
     ]
    },
    {
     "name": "stdout",
     "output_type": "stream",
     "text": [
      "Error for MEDANTA on 2024-09-06 00:00:00: Insufficient data to determine d+1.\n",
      "Reference date 2024-09-06 00:00:00 not found. Using nearest date: 2024-07-30 00:00:00\n"
     ]
    },
    {
     "name": "stderr",
     "output_type": "stream",
     "text": [
      "Processing:  14%|████████                                                   | 6291/46077 [10:59:18<40:58:14,  3.71s/it]"
     ]
    },
    {
     "name": "stdout",
     "output_type": "stream",
     "text": [
      "Error for MEDANTA on 2024-08-12 00:00:00: Insufficient data to determine d+1.\n",
      "Reference date 2024-08-12 00:00:00 not found. Using nearest date: 2024-07-30 00:00:00\n"
     ]
    },
    {
     "name": "stderr",
     "output_type": "stream",
     "text": [
      "Processing:  14%|████████                                                   | 6294/46077 [10:59:29<41:06:15,  3.72s/it]"
     ]
    },
    {
     "name": "stdout",
     "output_type": "stream",
     "text": [
      "Reference date 2023-11-12 00:00:00 not found. Using nearest date: 2023-11-13 00:00:00\n"
     ]
    },
    {
     "name": "stderr",
     "output_type": "stream",
     "text": [
      "Processing:  14%|████████                                                   | 6297/46077 [10:59:41<41:17:11,  3.74s/it]"
     ]
    },
    {
     "name": "stdout",
     "output_type": "stream",
     "text": [
      "Reference date 2022-11-04 00:00:00 not found. Using nearest date: 2022-11-18 00:00:00\n"
     ]
    },
    {
     "name": "stderr",
     "output_type": "stream",
     "text": [
      "Processing:  14%|████████                                                   | 6298/46077 [10:59:44<41:02:19,  3.71s/it]"
     ]
    },
    {
     "name": "stdout",
     "output_type": "stream",
     "text": [
      "Reference date 2022-11-03 00:00:00 not found. Using nearest date: 2022-11-18 00:00:00\n"
     ]
    },
    {
     "name": "stderr",
     "output_type": "stream",
     "text": [
      "Processing:  14%|████████                                                   | 6299/46077 [10:59:48<40:56:36,  3.71s/it]"
     ]
    },
    {
     "name": "stdout",
     "output_type": "stream",
     "text": [
      "Reference date 2022-11-03 00:00:00 not found. Using nearest date: 2022-11-18 00:00:00\n"
     ]
    },
    {
     "name": "stderr",
     "output_type": "stream",
     "text": [
      "Processing:  14%|████████                                                   | 6300/46077 [10:59:52<41:08:46,  3.72s/it]"
     ]
    },
    {
     "name": "stdout",
     "output_type": "stream",
     "text": [
      "Reference date 2022-11-03 00:00:00 not found. Using nearest date: 2022-11-18 00:00:00\n"
     ]
    },
    {
     "name": "stderr",
     "output_type": "stream",
     "text": [
      "Processing:  14%|████████                                                   | 6301/46077 [10:59:55<40:57:52,  3.71s/it]"
     ]
    },
    {
     "name": "stdout",
     "output_type": "stream",
     "text": [
      "Reference date 2022-11-02 00:00:00 not found. Using nearest date: 2022-11-18 00:00:00\n"
     ]
    },
    {
     "name": "stderr",
     "output_type": "stream",
     "text": [
      "Processing:  14%|████████                                                   | 6302/46077 [10:59:59<40:50:25,  3.70s/it]"
     ]
    },
    {
     "name": "stdout",
     "output_type": "stream",
     "text": [
      "Reference date 2022-11-02 00:00:00 not found. Using nearest date: 2022-11-18 00:00:00\n"
     ]
    },
    {
     "name": "stderr",
     "output_type": "stream",
     "text": [
      "Processing:  14%|████████                                                   | 6303/46077 [11:00:03<40:41:43,  3.68s/it]"
     ]
    },
    {
     "name": "stdout",
     "output_type": "stream",
     "text": [
      "Reference date 2022-11-02 00:00:00 not found. Using nearest date: 2022-11-18 00:00:00\n"
     ]
    },
    {
     "name": "stderr",
     "output_type": "stream",
     "text": [
      "Processing:  14%|████████                                                   | 6304/46077 [11:00:07<41:03:43,  3.72s/it]"
     ]
    },
    {
     "name": "stdout",
     "output_type": "stream",
     "text": [
      "Reference date 2022-11-02 00:00:00 not found. Using nearest date: 2022-11-18 00:00:00\n"
     ]
    },
    {
     "name": "stderr",
     "output_type": "stream",
     "text": [
      "Processing:  14%|████████                                                   | 6305/46077 [11:00:10<41:12:11,  3.73s/it]"
     ]
    },
    {
     "name": "stdout",
     "output_type": "stream",
     "text": [
      "Reference date 2022-11-02 00:00:00 not found. Using nearest date: 2022-11-18 00:00:00\n"
     ]
    },
    {
     "name": "stderr",
     "output_type": "stream",
     "text": [
      "Processing:  14%|████████                                                   | 6311/46077 [11:00:33<41:10:53,  3.73s/it]"
     ]
    },
    {
     "name": "stdout",
     "output_type": "stream",
     "text": [
      "Reference date 2015-10-02 00:00:00 not found. Using nearest date: 2015-10-01 00:00:00\n"
     ]
    },
    {
     "name": "stderr",
     "output_type": "stream",
     "text": [
      "Processing:  14%|████████                                                   | 6313/46077 [11:00:40<40:57:40,  3.71s/it]"
     ]
    },
    {
     "name": "stdout",
     "output_type": "stream",
     "text": [
      "Error for UGROCAP on 2024-09-14 00:00:00: Insufficient data to determine d+1.\n",
      "Reference date 2024-09-14 00:00:00 not found. Using nearest date: 2024-07-30 00:00:00\n"
     ]
    },
    {
     "name": "stderr",
     "output_type": "stream",
     "text": [
      "Processing:  14%|████████                                                   | 6315/46077 [11:00:47<40:43:47,  3.69s/it]"
     ]
    },
    {
     "name": "stdout",
     "output_type": "stream",
     "text": [
      "Reference date 2024-05-05 00:00:00 not found. Using nearest date: 2024-05-06 00:00:00\n"
     ]
    },
    {
     "name": "stderr",
     "output_type": "stream",
     "text": [
      "Processing:  14%|████████                                                   | 6320/46077 [11:01:06<41:01:40,  3.72s/it]"
     ]
    },
    {
     "name": "stdout",
     "output_type": "stream",
     "text": [
      "Reference date 2023-06-24 00:00:00 not found. Using nearest date: 2023-06-23 00:00:00\n"
     ]
    },
    {
     "name": "stderr",
     "output_type": "stream",
     "text": [
      "Processing:  14%|████████                                                   | 6336/46077 [11:01:28<10:15:56,  1.08it/s]"
     ]
    },
    {
     "name": "stdout",
     "output_type": "stream",
     "text": [
      "Error for MAHSEAMLES on 2024-09-14 00:00:00: Insufficient data to determine d+1.\n",
      "Reference date 2024-09-14 00:00:00 not found. Using nearest date: 2024-07-30 00:00:00\n"
     ]
    },
    {
     "name": "stderr",
     "output_type": "stream",
     "text": [
      "Processing:  14%|████████                                                   | 6338/46077 [11:01:36<16:37:10,  1.51s/it]"
     ]
    },
    {
     "name": "stdout",
     "output_type": "stream",
     "text": [
      "Reference date 2019-02-13 00:00:00 not found. Using nearest date: 2019-02-14 00:00:00\n"
     ]
    },
    {
     "name": "stderr",
     "output_type": "stream",
     "text": [
      "Processing:  14%|████████▏                                                  | 6356/46077 [11:02:44<41:11:34,  3.73s/it]"
     ]
    },
    {
     "name": "stdout",
     "output_type": "stream",
     "text": [
      "Error for ENGINERSIN on 2024-09-14 00:00:00: Insufficient data to determine d+1.\n",
      "Reference date 2024-09-14 00:00:00 not found. Using nearest date: 2024-07-30 00:00:00\n"
     ]
    },
    {
     "name": "stderr",
     "output_type": "stream",
     "text": [
      "Processing:  14%|████████▏                                                  | 6357/46077 [11:02:47<41:45:28,  3.78s/it]"
     ]
    },
    {
     "name": "stdout",
     "output_type": "stream",
     "text": [
      "Error for ENGINERSIN on 2024-08-13 00:00:00: Insufficient data to determine d+1.\n",
      "Reference date 2024-08-13 00:00:00 not found. Using nearest date: 2024-07-30 00:00:00\n"
     ]
    },
    {
     "name": "stderr",
     "output_type": "stream",
     "text": [
      "Processing:  14%|████████▏                                                  | 6358/46077 [11:02:51<41:46:37,  3.79s/it]"
     ]
    },
    {
     "name": "stdout",
     "output_type": "stream",
     "text": [
      "Reference date 2024-03-30 00:00:00 not found. Using nearest date: 2024-04-01 00:00:00\n"
     ]
    },
    {
     "name": "stderr",
     "output_type": "stream",
     "text": [
      "Processing:  14%|████████▏                                                  | 6367/46077 [11:03:25<41:29:01,  3.76s/it]"
     ]
    },
    {
     "name": "stdout",
     "output_type": "stream",
     "text": [
      "Reference date 2023-02-12 00:00:00 not found. Using nearest date: 2023-02-13 00:00:00\n"
     ]
    },
    {
     "name": "stderr",
     "output_type": "stream",
     "text": [
      "Processing:  14%|████████▏                                                  | 6372/46077 [11:03:43<41:02:11,  3.72s/it]"
     ]
    },
    {
     "name": "stdout",
     "output_type": "stream",
     "text": [
      "Reference date 2021-11-19 00:00:00 not found. Using nearest date: 2021-11-18 00:00:00\n"
     ]
    },
    {
     "name": "stderr",
     "output_type": "stream",
     "text": [
      "Processing:  14%|████████▏                                                  | 6380/46077 [11:04:13<41:02:58,  3.72s/it]"
     ]
    },
    {
     "name": "stdout",
     "output_type": "stream",
     "text": [
      "Reference date 2020-08-16 00:00:00 not found. Using nearest date: 2020-08-17 00:00:00\n"
     ]
    },
    {
     "name": "stderr",
     "output_type": "stream",
     "text": [
      "Processing:  14%|████████▏                                                  | 6381/46077 [11:04:17<42:22:45,  3.84s/it]"
     ]
    },
    {
     "name": "stdout",
     "output_type": "stream",
     "text": [
      "Reference date 2020-08-15 00:00:00 not found. Using nearest date: 2020-08-14 00:00:00\n"
     ]
    },
    {
     "name": "stderr",
     "output_type": "stream",
     "text": [
      "Processing:  14%|████████▏                                                  | 6382/46077 [11:04:21<42:10:34,  3.83s/it]"
     ]
    },
    {
     "name": "stdout",
     "output_type": "stream",
     "text": [
      "Reference date 2020-06-27 00:00:00 not found. Using nearest date: 2020-06-26 00:00:00\n"
     ]
    },
    {
     "name": "stderr",
     "output_type": "stream",
     "text": [
      "Processing:  14%|████████▏                                                  | 6383/46077 [11:04:25<42:07:13,  3.82s/it]"
     ]
    },
    {
     "name": "stdout",
     "output_type": "stream",
     "text": [
      "Reference date 2020-06-27 00:00:00 not found. Using nearest date: 2020-06-26 00:00:00\n"
     ]
    },
    {
     "name": "stderr",
     "output_type": "stream",
     "text": [
      "Processing:  14%|████████▏                                                  | 6390/46077 [11:04:51<41:13:26,  3.74s/it]"
     ]
    },
    {
     "name": "stdout",
     "output_type": "stream",
     "text": [
      "Reference date 2019-05-18 00:00:00 not found. Using nearest date: 2019-05-17 00:00:00\n"
     ]
    },
    {
     "name": "stderr",
     "output_type": "stream",
     "text": [
      "Processing:  14%|████████▏                                                  | 6412/46077 [11:06:14<41:51:43,  3.80s/it]"
     ]
    },
    {
     "name": "stdout",
     "output_type": "stream",
     "text": [
      "Reference date 2017-02-18 00:00:00 not found. Using nearest date: 2017-02-17 00:00:00\n"
     ]
    },
    {
     "name": "stderr",
     "output_type": "stream",
     "text": [
      "Processing:  14%|████████▏                                                  | 6430/46077 [11:07:21<41:04:59,  3.73s/it]"
     ]
    },
    {
     "name": "stdout",
     "output_type": "stream",
     "text": [
      "Error for RALLIS on 2024-09-14 00:00:00: Insufficient data to determine d+1.\n",
      "Reference date 2024-09-14 00:00:00 not found. Using nearest date: 2024-07-30 00:00:00\n"
     ]
    },
    {
     "name": "stderr",
     "output_type": "stream",
     "text": [
      "Processing:  14%|████████▏                                                  | 6439/46077 [11:07:54<41:03:02,  3.73s/it]"
     ]
    },
    {
     "name": "stdout",
     "output_type": "stream",
     "text": [
      "Reference date 2022-04-23 00:00:00 not found. Using nearest date: 2022-04-22 00:00:00\n"
     ]
    },
    {
     "name": "stderr",
     "output_type": "stream",
     "text": [
      "Processing:  14%|████████▎                                                  | 6444/46077 [11:08:13<40:53:41,  3.71s/it]"
     ]
    },
    {
     "name": "stdout",
     "output_type": "stream",
     "text": [
      "Reference date 2021-04-24 00:00:00 not found. Using nearest date: 2021-04-23 00:00:00\n"
     ]
    },
    {
     "name": "stderr",
     "output_type": "stream",
     "text": [
      "Processing:  14%|████████▎                                                  | 6510/46077 [11:12:19<40:27:08,  3.68s/it]"
     ]
    },
    {
     "name": "stdout",
     "output_type": "stream",
     "text": [
      "Error for KIRLPNU on 2024-09-14 00:00:00: Insufficient data to determine d+1.\n",
      "Reference date 2024-09-14 00:00:00 not found. Using nearest date: 2024-07-30 00:00:00\n"
     ]
    },
    {
     "name": "stderr",
     "output_type": "stream",
     "text": [
      "Processing:  14%|████████▎                                                  | 6512/46077 [11:12:27<40:49:37,  3.71s/it]"
     ]
    },
    {
     "name": "stdout",
     "output_type": "stream",
     "text": [
      "Reference date 2022-08-24 00:00:00 not found. Using nearest date: 2023-04-26 00:00:00\n"
     ]
    },
    {
     "name": "stderr",
     "output_type": "stream",
     "text": [
      "Processing:  14%|████████▎                                                  | 6513/46077 [11:12:30<40:39:10,  3.70s/it]"
     ]
    },
    {
     "name": "stdout",
     "output_type": "stream",
     "text": [
      "Error for JSFB on 2024-09-14 00:00:00: Insufficient data to determine d+1.\n",
      "Reference date 2024-09-14 00:00:00 not found. Using nearest date: 2024-07-30 00:00:00\n"
     ]
    },
    {
     "name": "stderr",
     "output_type": "stream",
     "text": [
      "Processing:  14%|████████▎                                                  | 6515/46077 [11:12:38<40:21:49,  3.67s/it]"
     ]
    },
    {
     "name": "stdout",
     "output_type": "stream",
     "text": [
      "Reference date 2024-02-07 00:00:00 not found. Using nearest date: 2024-02-14 00:00:00\n"
     ]
    },
    {
     "name": "stderr",
     "output_type": "stream",
     "text": [
      "Processing:  14%|████████▎                                                  | 6516/46077 [11:12:41<40:17:42,  3.67s/it]"
     ]
    },
    {
     "name": "stdout",
     "output_type": "stream",
     "text": [
      "Reference date 2024-02-06 00:00:00 not found. Using nearest date: 2024-02-14 00:00:00\n"
     ]
    },
    {
     "name": "stderr",
     "output_type": "stream",
     "text": [
      "Processing:  14%|████████▎                                                  | 6517/46077 [11:12:45<40:27:44,  3.68s/it]"
     ]
    },
    {
     "name": "stdout",
     "output_type": "stream",
     "text": [
      "Reference date 2024-02-05 00:00:00 not found. Using nearest date: 2024-02-14 00:00:00\n"
     ]
    },
    {
     "name": "stderr",
     "output_type": "stream",
     "text": [
      "Processing:  14%|████████▎                                                  | 6518/46077 [11:12:49<41:00:04,  3.73s/it]"
     ]
    },
    {
     "name": "stdout",
     "output_type": "stream",
     "text": [
      "Reference date 2017-07-12 00:00:00 not found. Using nearest date: 2017-07-25 00:00:00\n"
     ]
    },
    {
     "name": "stderr",
     "output_type": "stream",
     "text": [
      "Processing:  14%|████████▎                                                  | 6519/46077 [11:12:53<40:40:04,  3.70s/it]"
     ]
    },
    {
     "name": "stdout",
     "output_type": "stream",
     "text": [
      "Reference date 2017-07-12 00:00:00 not found. Using nearest date: 2017-07-25 00:00:00\n"
     ]
    },
    {
     "name": "stderr",
     "output_type": "stream",
     "text": [
      "Processing:  14%|████████▎                                                  | 6520/46077 [11:12:56<41:03:43,  3.74s/it]"
     ]
    },
    {
     "name": "stdout",
     "output_type": "stream",
     "text": [
      "Reference date 2017-07-12 00:00:00 not found. Using nearest date: 2017-07-25 00:00:00\n"
     ]
    },
    {
     "name": "stderr",
     "output_type": "stream",
     "text": [
      "Processing:  14%|████████▎                                                  | 6521/46077 [11:13:00<41:01:32,  3.73s/it]"
     ]
    },
    {
     "name": "stdout",
     "output_type": "stream",
     "text": [
      "Error for MAHLOG on 2024-09-14 00:00:00: Insufficient data to determine d+1.\n",
      "Reference date 2024-09-14 00:00:00 not found. Using nearest date: 2024-07-30 00:00:00\n"
     ]
    },
    {
     "name": "stderr",
     "output_type": "stream",
     "text": [
      "Processing:  14%|████████▎                                                  | 6537/46077 [11:13:59<40:33:18,  3.69s/it]"
     ]
    },
    {
     "name": "stdout",
     "output_type": "stream",
     "text": [
      "Reference date 2023-02-04 00:00:00 not found. Using nearest date: 2023-02-03 00:00:00\n"
     ]
    },
    {
     "name": "stderr",
     "output_type": "stream",
     "text": [
      "Processing:  14%|████████▍                                                  | 6548/46077 [11:14:40<41:08:30,  3.75s/it]"
     ]
    },
    {
     "name": "stdout",
     "output_type": "stream",
     "text": [
      "Reference date 2022-01-29 00:00:00 not found. Using nearest date: 2022-01-28 00:00:00\n"
     ]
    },
    {
     "name": "stderr",
     "output_type": "stream",
     "text": [
      "Processing:  14%|████████▍                                                  | 6553/46077 [11:14:59<40:37:19,  3.70s/it]"
     ]
    },
    {
     "name": "stdout",
     "output_type": "stream",
     "text": [
      "Reference date 2021-05-02 00:00:00 not found. Using nearest date: 2021-05-03 00:00:00\n"
     ]
    },
    {
     "name": "stderr",
     "output_type": "stream",
     "text": [
      "Processing:  14%|████████▍                                                  | 6558/46077 [11:15:17<40:38:12,  3.70s/it]"
     ]
    },
    {
     "name": "stdout",
     "output_type": "stream",
     "text": [
      "Reference date 2021-01-30 00:00:00 not found. Using nearest date: 2021-01-29 00:00:00\n"
     ]
    },
    {
     "name": "stderr",
     "output_type": "stream",
     "text": [
      "Processing:  14%|████████▍                                                  | 6562/46077 [11:15:32<40:28:54,  3.69s/it]"
     ]
    },
    {
     "name": "stdout",
     "output_type": "stream",
     "text": [
      "Reference date 2020-11-01 00:00:00 not found. Using nearest date: 2020-11-02 00:00:00\n"
     ]
    },
    {
     "name": "stderr",
     "output_type": "stream",
     "text": [
      "Processing:  14%|████████▍                                                  | 6577/46077 [11:16:28<41:37:06,  3.79s/it]"
     ]
    },
    {
     "name": "stdout",
     "output_type": "stream",
     "text": [
      "Reference date 2017-10-30 00:00:00 not found. Using nearest date: 2017-11-10 00:00:00\n"
     ]
    },
    {
     "name": "stderr",
     "output_type": "stream",
     "text": [
      "Processing:  14%|████████▍                                                  | 6578/46077 [11:16:32<41:10:43,  3.75s/it]"
     ]
    },
    {
     "name": "stdout",
     "output_type": "stream",
     "text": [
      "Reference date 2017-10-30 00:00:00 not found. Using nearest date: 2017-11-10 00:00:00\n"
     ]
    },
    {
     "name": "stderr",
     "output_type": "stream",
     "text": [
      "Processing:  14%|████████▍                                                  | 6579/46077 [11:16:36<40:46:46,  3.72s/it]"
     ]
    },
    {
     "name": "stdout",
     "output_type": "stream",
     "text": [
      "Reference date 2017-10-30 00:00:00 not found. Using nearest date: 2017-11-10 00:00:00\n"
     ]
    },
    {
     "name": "stderr",
     "output_type": "stream",
     "text": [
      "Processing:  14%|████████▍                                                  | 6580/46077 [11:16:39<40:37:20,  3.70s/it]"
     ]
    },
    {
     "name": "stdout",
     "output_type": "stream",
     "text": [
      "Reference date 2017-10-30 00:00:00 not found. Using nearest date: 2017-11-10 00:00:00\n"
     ]
    },
    {
     "name": "stderr",
     "output_type": "stream",
     "text": [
      "Processing:  14%|████████▍                                                  | 6581/46077 [11:16:43<40:22:41,  3.68s/it]"
     ]
    },
    {
     "name": "stdout",
     "output_type": "stream",
     "text": [
      "Reference date 2017-10-30 00:00:00 not found. Using nearest date: 2017-11-10 00:00:00\n"
     ]
    },
    {
     "name": "stderr",
     "output_type": "stream",
     "text": [
      "Processing:  14%|████████▍                                                  | 6582/46077 [11:16:47<40:20:23,  3.68s/it]"
     ]
    },
    {
     "name": "stdout",
     "output_type": "stream",
     "text": [
      "Reference date 2017-10-30 00:00:00 not found. Using nearest date: 2017-11-10 00:00:00\n"
     ]
    },
    {
     "name": "stderr",
     "output_type": "stream",
     "text": [
      "Processing:  14%|████████▍                                                  | 6583/46077 [11:16:50<40:28:46,  3.69s/it]"
     ]
    },
    {
     "name": "stdout",
     "output_type": "stream",
     "text": [
      "Error for DELHIVERY on 2024-09-14 00:00:00: Insufficient data to determine d+1.\n",
      "Reference date 2024-09-14 00:00:00 not found. Using nearest date: 2024-07-30 00:00:00\n"
     ]
    },
    {
     "name": "stderr",
     "output_type": "stream",
     "text": [
      "Processing:  14%|████████▍                                                  | 6584/46077 [11:16:54<40:28:21,  3.69s/it]"
     ]
    },
    {
     "name": "stdout",
     "output_type": "stream",
     "text": [
      "Error for DELHIVERY on 2024-08-03 00:00:00: Insufficient data to determine d+1.\n",
      "Reference date 2024-08-03 00:00:00 not found. Using nearest date: 2024-07-30 00:00:00\n"
     ]
    },
    {
     "name": "stderr",
     "output_type": "stream",
     "text": [
      "Processing:  14%|████████▍                                                  | 6586/46077 [11:17:01<40:13:25,  3.67s/it]"
     ]
    },
    {
     "name": "stdout",
     "output_type": "stream",
     "text": [
      "Reference date 2024-05-18 00:00:00 not found. Using nearest date: 2024-05-17 00:00:00\n"
     ]
    },
    {
     "name": "stderr",
     "output_type": "stream",
     "text": [
      "Processing:  14%|████████▍                                                  | 6587/46077 [11:17:05<40:09:23,  3.66s/it]"
     ]
    },
    {
     "name": "stdout",
     "output_type": "stream",
     "text": [
      "Reference date 2023-12-23 00:00:00 not found. Using nearest date: 2023-12-22 00:00:00\n"
     ]
    },
    {
     "name": "stderr",
     "output_type": "stream",
     "text": [
      "Processing:  14%|████████▍                                                  | 6593/46077 [11:17:27<40:30:52,  3.69s/it]"
     ]
    },
    {
     "name": "stdout",
     "output_type": "stream",
     "text": [
      "Reference date 2023-02-12 00:00:00 not found. Using nearest date: 2023-02-13 00:00:00\n"
     ]
    },
    {
     "name": "stderr",
     "output_type": "stream",
     "text": [
      "Processing:  14%|████████▍                                                  | 6598/46077 [11:17:46<41:06:14,  3.75s/it]"
     ]
    },
    {
     "name": "stdout",
     "output_type": "stream",
     "text": [
      "Reference date 2022-05-11 00:00:00 not found. Using nearest date: 2022-05-24 00:00:00\n"
     ]
    },
    {
     "name": "stderr",
     "output_type": "stream",
     "text": [
      "Processing:  14%|████████▍                                                  | 6599/46077 [11:17:50<41:11:35,  3.76s/it]"
     ]
    },
    {
     "name": "stdout",
     "output_type": "stream",
     "text": [
      "Reference date 2022-05-10 00:00:00 not found. Using nearest date: 2022-05-24 00:00:00\n"
     ]
    },
    {
     "name": "stderr",
     "output_type": "stream",
     "text": [
      "Processing:  14%|████████▍                                                  | 6600/46077 [11:17:54<40:50:58,  3.73s/it]"
     ]
    },
    {
     "name": "stdout",
     "output_type": "stream",
     "text": [
      "Reference date 2022-05-10 00:00:00 not found. Using nearest date: 2022-05-24 00:00:00\n"
     ]
    },
    {
     "name": "stderr",
     "output_type": "stream",
     "text": [
      "Processing:  14%|████████▍                                                  | 6601/46077 [11:17:57<40:42:55,  3.71s/it]"
     ]
    },
    {
     "name": "stdout",
     "output_type": "stream",
     "text": [
      "Reference date 2022-05-10 00:00:00 not found. Using nearest date: 2022-05-24 00:00:00\n"
     ]
    },
    {
     "name": "stderr",
     "output_type": "stream",
     "text": [
      "Processing:  14%|████████▍                                                  | 6602/46077 [11:18:01<40:34:02,  3.70s/it]"
     ]
    },
    {
     "name": "stdout",
     "output_type": "stream",
     "text": [
      "Error for HCG on 2024-09-14 00:00:00: Insufficient data to determine d+1.\n",
      "Reference date 2024-09-14 00:00:00 not found. Using nearest date: 2024-07-30 00:00:00\n"
     ]
    },
    {
     "name": "stderr",
     "output_type": "stream",
     "text": [
      "Processing:  14%|████████▍                                                  | 6603/46077 [11:18:04<40:18:19,  3.68s/it]"
     ]
    },
    {
     "name": "stdout",
     "output_type": "stream",
     "text": [
      "Error for HCG on 2024-08-12 00:00:00: Insufficient data to determine d+1.\n",
      "Reference date 2024-08-12 00:00:00 not found. Using nearest date: 2024-07-30 00:00:00\n"
     ]
    },
    {
     "name": "stderr",
     "output_type": "stream",
     "text": [
      "Processing:  14%|████████▍                                                  | 6604/46077 [11:18:08<40:05:36,  3.66s/it]"
     ]
    },
    {
     "name": "stdout",
     "output_type": "stream",
     "text": [
      "Error for HCG on 2024-08-12 00:00:00: Insufficient data to determine d+1.\n",
      "Reference date 2024-08-12 00:00:00 not found. Using nearest date: 2024-07-30 00:00:00\n"
     ]
    },
    {
     "name": "stderr",
     "output_type": "stream",
     "text": [
      "Processing:  14%|████████▍                                                  | 6605/46077 [11:18:12<40:22:20,  3.68s/it]"
     ]
    },
    {
     "name": "stdout",
     "output_type": "stream",
     "text": [
      "Error for HCG on 2024-08-09 00:00:00: Insufficient data to determine d+1.\n",
      "Reference date 2024-08-09 00:00:00 not found. Using nearest date: 2024-07-30 00:00:00\n"
     ]
    },
    {
     "name": "stderr",
     "output_type": "stream",
     "text": [
      "Processing:  14%|████████▍                                                  | 6615/46077 [11:18:49<40:42:28,  3.71s/it]"
     ]
    },
    {
     "name": "stdout",
     "output_type": "stream",
     "text": [
      "Reference date 2023-05-27 00:00:00 not found. Using nearest date: 2023-05-26 00:00:00\n"
     ]
    },
    {
     "name": "stderr",
     "output_type": "stream",
     "text": [
      "Processing:  14%|████████▍                                                  | 6616/46077 [11:18:53<40:36:05,  3.70s/it]"
     ]
    },
    {
     "name": "stdout",
     "output_type": "stream",
     "text": [
      "Reference date 2023-05-27 00:00:00 not found. Using nearest date: 2023-05-26 00:00:00\n"
     ]
    },
    {
     "name": "stderr",
     "output_type": "stream",
     "text": [
      "Processing:  14%|████████▍                                                  | 6620/46077 [11:19:08<40:26:14,  3.69s/it]"
     ]
    },
    {
     "name": "stdout",
     "output_type": "stream",
     "text": [
      "Reference date 2023-02-11 00:00:00 not found. Using nearest date: 2023-02-10 00:00:00\n"
     ]
    },
    {
     "name": "stderr",
     "output_type": "stream",
     "text": [
      "Processing:  14%|████████▌                                                  | 6643/46077 [11:20:33<41:09:37,  3.76s/it]"
     ]
    },
    {
     "name": "stdout",
     "output_type": "stream",
     "text": [
      "Reference date 2021-08-14 00:00:00 not found. Using nearest date: 2021-08-13 00:00:00\n"
     ]
    },
    {
     "name": "stderr",
     "output_type": "stream",
     "text": [
      "Processing:  14%|████████▌                                                  | 6650/46077 [11:21:00<43:26:43,  3.97s/it]"
     ]
    },
    {
     "name": "stdout",
     "output_type": "stream",
     "text": [
      "Reference date 2016-03-16 00:00:00 not found. Using nearest date: 2016-03-31 00:00:00\n"
     ]
    },
    {
     "name": "stderr",
     "output_type": "stream",
     "text": [
      "Processing:  14%|████████▌                                                  | 6651/46077 [11:21:04<43:31:51,  3.97s/it]"
     ]
    },
    {
     "name": "stdout",
     "output_type": "stream",
     "text": [
      "Reference date 2016-03-15 00:00:00 not found. Using nearest date: 2016-03-31 00:00:00\n"
     ]
    },
    {
     "name": "stderr",
     "output_type": "stream",
     "text": [
      "Processing:  14%|████████▌                                                  | 6652/46077 [11:21:09<44:14:21,  4.04s/it]"
     ]
    },
    {
     "name": "stdout",
     "output_type": "stream",
     "text": [
      "Reference date 2016-03-14 00:00:00 not found. Using nearest date: 2016-03-31 00:00:00\n"
     ]
    },
    {
     "name": "stderr",
     "output_type": "stream",
     "text": [
      "Processing:  14%|████████▌                                                  | 6653/46077 [11:21:12<43:36:08,  3.98s/it]"
     ]
    },
    {
     "name": "stdout",
     "output_type": "stream",
     "text": [
      "Reference date 2016-03-14 00:00:00 not found. Using nearest date: 2016-03-31 00:00:00\n"
     ]
    },
    {
     "name": "stderr",
     "output_type": "stream",
     "text": [
      "Processing:  14%|████████▌                                                  | 6654/46077 [11:21:16<42:35:17,  3.89s/it]"
     ]
    },
    {
     "name": "stdout",
     "output_type": "stream",
     "text": [
      "Error for SSWL on 2024-09-14 00:00:00: Insufficient data to determine d+1.\n",
      "Reference date 2024-09-14 00:00:00 not found. Using nearest date: 2024-07-30 00:00:00\n"
     ]
    },
    {
     "name": "stderr",
     "output_type": "stream",
     "text": [
      "Processing:  14%|████████▌                                                  | 6658/46077 [11:21:31<41:39:49,  3.81s/it]"
     ]
    },
    {
     "name": "stdout",
     "output_type": "stream",
     "text": [
      "Reference date 2024-03-30 00:00:00 not found. Using nearest date: 2024-04-01 00:00:00\n"
     ]
    },
    {
     "name": "stderr",
     "output_type": "stream",
     "text": [
      "Processing:  14%|████████▌                                                  | 6669/46077 [11:22:12<40:17:35,  3.68s/it]"
     ]
    },
    {
     "name": "stdout",
     "output_type": "stream",
     "text": [
      "Reference date 2022-10-30 00:00:00 not found. Using nearest date: 2022-10-31 00:00:00\n"
     ]
    },
    {
     "name": "stderr",
     "output_type": "stream",
     "text": [
      "Processing:  15%|████████▌                                                  | 6694/46077 [11:23:44<40:21:13,  3.69s/it]"
     ]
    },
    {
     "name": "stdout",
     "output_type": "stream",
     "text": [
      "Error for ASTRAMICRO on 2024-09-14 00:00:00: Insufficient data to determine d+1.\n",
      "Reference date 2024-09-14 00:00:00 not found. Using nearest date: 2024-07-30 00:00:00\n"
     ]
    },
    {
     "name": "stderr",
     "output_type": "stream",
     "text": [
      "Processing:  15%|████████▌                                                  | 6695/46077 [11:23:48<40:15:18,  3.68s/it]"
     ]
    },
    {
     "name": "stdout",
     "output_type": "stream",
     "text": [
      "Error for ASTRAMICRO on 2024-08-14 00:00:00: Insufficient data to determine d+1.\n",
      "Reference date 2024-08-14 00:00:00 not found. Using nearest date: 2024-07-30 00:00:00\n"
     ]
    },
    {
     "name": "stderr",
     "output_type": "stream",
     "text": [
      "Processing:  15%|████████▌                                                  | 6702/46077 [11:24:14<40:23:30,  3.69s/it]"
     ]
    },
    {
     "name": "stdout",
     "output_type": "stream",
     "text": [
      "Reference date 2023-08-15 00:00:00 not found. Using nearest date: 2023-08-16 00:00:00\n"
     ]
    },
    {
     "name": "stderr",
     "output_type": "stream",
     "text": [
      "Processing:  15%|████████▌                                                  | 6706/46077 [11:24:29<40:43:20,  3.72s/it]"
     ]
    },
    {
     "name": "stdout",
     "output_type": "stream",
     "text": [
      "Reference date 2022-08-15 00:00:00 not found. Using nearest date: 2022-08-16 00:00:00\n"
     ]
    },
    {
     "name": "stderr",
     "output_type": "stream",
     "text": [
      "Processing:  15%|████████▌                                                  | 6707/46077 [11:24:32<41:04:12,  3.76s/it]"
     ]
    },
    {
     "name": "stdout",
     "output_type": "stream",
     "text": [
      "Reference date 2021-06-26 00:00:00 not found. Using nearest date: 2021-06-25 00:00:00\n"
     ]
    },
    {
     "name": "stderr",
     "output_type": "stream",
     "text": [
      "Processing:  15%|████████▌                                                  | 6720/46077 [11:25:22<41:25:31,  3.79s/it]"
     ]
    },
    {
     "name": "stdout",
     "output_type": "stream",
     "text": [
      "Reference date 2016-07-16 00:00:00 not found. Using nearest date: 2016-07-15 00:00:00\n"
     ]
    },
    {
     "name": "stderr",
     "output_type": "stream",
     "text": [
      "Processing:  15%|████████▌                                                  | 6722/46077 [11:25:30<41:52:05,  3.83s/it]"
     ]
    },
    {
     "name": "stdout",
     "output_type": "stream",
     "text": [
      "Reference date 2015-05-02 00:00:00 not found. Using nearest date: 2015-05-04 00:00:00\n"
     ]
    },
    {
     "name": "stderr",
     "output_type": "stream",
     "text": [
      "Processing:  15%|████████▌                                                  | 6726/46077 [11:25:45<41:16:09,  3.78s/it]"
     ]
    },
    {
     "name": "stdout",
     "output_type": "stream",
     "text": [
      "Error for SOMANYCERA on 2024-09-14 00:00:00: Insufficient data to determine d+1.\n",
      "Reference date 2024-09-14 00:00:00 not found. Using nearest date: 2024-07-30 00:00:00\n"
     ]
    },
    {
     "name": "stderr",
     "output_type": "stream",
     "text": [
      "Processing:  15%|████████▌                                                  | 6727/46077 [11:25:48<41:00:29,  3.75s/it]"
     ]
    },
    {
     "name": "stdout",
     "output_type": "stream",
     "text": [
      "Error for SOMANYCERA on 2024-08-05 00:00:00: Insufficient data to determine d+1.\n",
      "Reference date 2024-08-05 00:00:00 not found. Using nearest date: 2024-07-30 00:00:00\n"
     ]
    },
    {
     "name": "stderr",
     "output_type": "stream",
     "text": [
      "Processing:  15%|████████▌                                                  | 6728/46077 [11:25:52<40:48:55,  3.73s/it]"
     ]
    },
    {
     "name": "stdout",
     "output_type": "stream",
     "text": [
      "Error for SOMANYCERA on 2024-08-04 00:00:00: Insufficient data to determine d+1.\n",
      "Reference date 2024-08-04 00:00:00 not found. Using nearest date: 2024-07-30 00:00:00\n"
     ]
    },
    {
     "name": "stderr",
     "output_type": "stream",
     "text": [
      "Processing:  15%|████████▌                                                  | 6729/46077 [11:25:56<40:41:05,  3.72s/it]"
     ]
    },
    {
     "name": "stdout",
     "output_type": "stream",
     "text": [
      "Error for SOMANYCERA on 2024-08-03 00:00:00: Insufficient data to determine d+1.\n",
      "Reference date 2024-08-03 00:00:00 not found. Using nearest date: 2024-07-30 00:00:00\n"
     ]
    },
    {
     "name": "stderr",
     "output_type": "stream",
     "text": [
      "Processing:  15%|████████▌                                                  | 6730/46077 [11:25:59<40:47:39,  3.73s/it]"
     ]
    },
    {
     "name": "stdout",
     "output_type": "stream",
     "text": [
      "Error for SOMANYCERA on 2024-08-03 00:00:00: Insufficient data to determine d+1.\n",
      "Reference date 2024-08-03 00:00:00 not found. Using nearest date: 2024-07-30 00:00:00\n"
     ]
    },
    {
     "name": "stderr",
     "output_type": "stream",
     "text": [
      "Processing:  15%|████████▌                                                  | 6735/46077 [11:26:18<40:18:31,  3.69s/it]"
     ]
    },
    {
     "name": "stdout",
     "output_type": "stream",
     "text": [
      "Reference date 2024-02-03 00:00:00 not found. Using nearest date: 2024-02-02 00:00:00\n"
     ]
    },
    {
     "name": "stderr",
     "output_type": "stream",
     "text": [
      "Processing:  15%|████████▋                                                  | 6736/46077 [11:26:22<40:39:10,  3.72s/it]"
     ]
    },
    {
     "name": "stdout",
     "output_type": "stream",
     "text": [
      "Reference date 2023-08-12 00:00:00 not found. Using nearest date: 2023-08-11 00:00:00\n"
     ]
    },
    {
     "name": "stderr",
     "output_type": "stream",
     "text": [
      "Processing:  15%|████████▋                                                  | 6742/46077 [11:26:44<40:39:47,  3.72s/it]"
     ]
    },
    {
     "name": "stdout",
     "output_type": "stream",
     "text": [
      "Reference date 2022-11-13 00:00:00 not found. Using nearest date: 2022-11-14 00:00:00\n"
     ]
    },
    {
     "name": "stderr",
     "output_type": "stream",
     "text": [
      "Processing:  15%|████████▋                                                  | 6749/46077 [11:27:10<40:48:24,  3.74s/it]"
     ]
    },
    {
     "name": "stdout",
     "output_type": "stream",
     "text": [
      "Reference date 2021-11-13 00:00:00 not found. Using nearest date: 2021-11-12 00:00:00\n"
     ]
    },
    {
     "name": "stderr",
     "output_type": "stream",
     "text": [
      "Processing:  15%|████████▋                                                  | 6750/46077 [11:27:14<41:02:23,  3.76s/it]"
     ]
    },
    {
     "name": "stdout",
     "output_type": "stream",
     "text": [
      "Reference date 2021-08-08 00:00:00 not found. Using nearest date: 2021-08-09 00:00:00\n"
     ]
    },
    {
     "name": "stderr",
     "output_type": "stream",
     "text": [
      "Processing:  15%|████████▋                                                  | 6754/46077 [11:27:29<41:22:50,  3.79s/it]"
     ]
    },
    {
     "name": "stdout",
     "output_type": "stream",
     "text": [
      "Reference date 2021-02-07 00:00:00 not found. Using nearest date: 2021-02-08 00:00:00\n"
     ]
    },
    {
     "name": "stderr",
     "output_type": "stream",
     "text": [
      "Processing:  15%|████████▋                                                  | 6769/46077 [11:28:26<40:59:26,  3.75s/it]"
     ]
    },
    {
     "name": "stdout",
     "output_type": "stream",
     "text": [
      "Reference date 2019-02-13 00:00:00 not found. Using nearest date: 2019-02-14 00:00:00\n"
     ]
    },
    {
     "name": "stderr",
     "output_type": "stream",
     "text": [
      "Processing:  15%|████████▋                                                  | 6793/46077 [11:29:56<40:43:54,  3.73s/it]"
     ]
    },
    {
     "name": "stdout",
     "output_type": "stream",
     "text": [
      "Reference date 2015-11-25 00:00:00 not found. Using nearest date: 2015-11-26 00:00:00\n"
     ]
    },
    {
     "name": "stderr",
     "output_type": "stream",
     "text": [
      "Processing:  15%|████████▋                                                  | 6795/46077 [11:30:04<40:34:26,  3.72s/it]"
     ]
    },
    {
     "name": "stdout",
     "output_type": "stream",
     "text": [
      "Error for IPL on 2024-09-14 00:00:00: Insufficient data to determine d+1.\n",
      "Reference date 2024-09-14 00:00:00 not found. Using nearest date: 2024-07-30 00:00:00\n"
     ]
    },
    {
     "name": "stderr",
     "output_type": "stream",
     "text": [
      "Processing:  15%|████████▋                                                  | 6797/46077 [11:30:11<40:35:31,  3.72s/it]"
     ]
    },
    {
     "name": "stdout",
     "output_type": "stream",
     "text": [
      "Reference date 2021-06-22 00:00:00 not found. Using nearest date: 2021-07-05 00:00:00\n"
     ]
    },
    {
     "name": "stderr",
     "output_type": "stream",
     "text": [
      "Processing:  15%|████████▋                                                  | 6798/46077 [11:30:15<40:23:29,  3.70s/it]"
     ]
    },
    {
     "name": "stdout",
     "output_type": "stream",
     "text": [
      "Reference date 2021-06-22 00:00:00 not found. Using nearest date: 2021-07-05 00:00:00\n"
     ]
    },
    {
     "name": "stderr",
     "output_type": "stream",
     "text": [
      "Processing:  15%|████████▋                                                  | 6799/46077 [11:30:19<40:40:49,  3.73s/it]"
     ]
    },
    {
     "name": "stdout",
     "output_type": "stream",
     "text": [
      "Reference date 2021-06-22 00:00:00 not found. Using nearest date: 2021-07-05 00:00:00\n"
     ]
    },
    {
     "name": "stderr",
     "output_type": "stream",
     "text": [
      "Processing:  15%|████████▋                                                  | 6800/46077 [11:30:22<40:27:28,  3.71s/it]"
     ]
    },
    {
     "name": "stdout",
     "output_type": "stream",
     "text": [
      "Reference date 2021-06-22 00:00:00 not found. Using nearest date: 2021-07-05 00:00:00\n"
     ]
    },
    {
     "name": "stderr",
     "output_type": "stream",
     "text": [
      "Processing:  15%|████████▋                                                  | 6801/46077 [11:30:26<40:42:23,  3.73s/it]"
     ]
    },
    {
     "name": "stdout",
     "output_type": "stream",
     "text": [
      "Reference date 2021-06-22 00:00:00 not found. Using nearest date: 2021-07-05 00:00:00\n"
     ]
    },
    {
     "name": "stderr",
     "output_type": "stream",
     "text": [
      "Processing:  15%|████████▋                                                  | 6802/46077 [11:30:30<40:36:09,  3.72s/it]"
     ]
    },
    {
     "name": "stdout",
     "output_type": "stream",
     "text": [
      "Reference date 2021-06-22 00:00:00 not found. Using nearest date: 2021-07-05 00:00:00\n"
     ]
    },
    {
     "name": "stderr",
     "output_type": "stream",
     "text": [
      "Processing:  15%|████████▋                                                  | 6803/46077 [11:30:33<40:28:52,  3.71s/it]"
     ]
    },
    {
     "name": "stdout",
     "output_type": "stream",
     "text": [
      "Reference date 2021-06-22 00:00:00 not found. Using nearest date: 2021-07-05 00:00:00\n"
     ]
    },
    {
     "name": "stderr",
     "output_type": "stream",
     "text": [
      "Processing:  15%|████████▋                                                  | 6804/46077 [11:30:37<40:21:39,  3.70s/it]"
     ]
    },
    {
     "name": "stdout",
     "output_type": "stream",
     "text": [
      "Error for TCPLPACK on 2024-07-31 00:00:00: Insufficient data to determine d+1.\n",
      "Reference date 2024-07-31 00:00:00 not found. Using nearest date: 2024-07-30 00:00:00\n"
     ]
    },
    {
     "name": "stderr",
     "output_type": "stream",
     "text": [
      "Processing:  15%|████████▋                                                  | 6808/46077 [11:30:52<40:23:04,  3.70s/it]"
     ]
    },
    {
     "name": "stdout",
     "output_type": "stream",
     "text": [
      "Error for RAJESHEXPO on 2024-09-14 00:00:00: Insufficient data to determine d+1.\n",
      "Reference date 2024-09-14 00:00:00 not found. Using nearest date: 2024-07-30 00:00:00\n"
     ]
    },
    {
     "name": "stderr",
     "output_type": "stream",
     "text": [
      "Processing:  15%|████████▋                                                  | 6818/46077 [11:31:31<42:48:18,  3.93s/it]"
     ]
    },
    {
     "name": "stdout",
     "output_type": "stream",
     "text": [
      "Error for TATACONSUM on 2024-09-14 00:00:00: Insufficient data to determine d+1.\n",
      "Reference date 2024-09-14 00:00:00 not found. Using nearest date: 2024-07-30 00:00:00\n"
     ]
    },
    {
     "name": "stderr",
     "output_type": "stream",
     "text": [
      "Processing:  15%|████████▋                                                  | 6819/46077 [11:31:34<42:18:11,  3.88s/it]"
     ]
    },
    {
     "name": "stdout",
     "output_type": "stream",
     "text": [
      "Error for TATACONSUM on 2024-09-10 00:00:00: Insufficient data to determine d+1.\n",
      "Reference date 2024-09-10 00:00:00 not found. Using nearest date: 2024-07-30 00:00:00\n"
     ]
    },
    {
     "name": "stderr",
     "output_type": "stream",
     "text": [
      "Processing:  15%|████████▋                                                  | 6820/46077 [11:31:38<41:44:00,  3.83s/it]"
     ]
    },
    {
     "name": "stdout",
     "output_type": "stream",
     "text": [
      "Error for TATACONSUM on 2024-08-12 00:00:00: Insufficient data to determine d+1.\n",
      "Reference date 2024-08-12 00:00:00 not found. Using nearest date: 2024-07-30 00:00:00\n"
     ]
    },
    {
     "name": "stderr",
     "output_type": "stream",
     "text": [
      "Processing:  15%|████████▋                                                  | 6821/46077 [11:31:42<41:54:28,  3.84s/it]"
     ]
    },
    {
     "name": "stdout",
     "output_type": "stream",
     "text": [
      "Error for TATACONSUM on 2024-07-31 00:00:00: Insufficient data to determine d+1.\n",
      "Reference date 2024-07-31 00:00:00 not found. Using nearest date: 2024-07-30 00:00:00\n"
     ]
    },
    {
     "name": "stderr",
     "output_type": "stream",
     "text": [
      "Processing:  15%|████████▋                                                  | 6822/46077 [11:31:46<41:49:31,  3.84s/it]"
     ]
    },
    {
     "name": "stdout",
     "output_type": "stream",
     "text": [
      "Error for TATACONSUM on 2024-07-30 00:00:00: Insufficient data to determine d+1.\n"
     ]
    },
    {
     "name": "stderr",
     "output_type": "stream",
     "text": [
      "Processing:  15%|████████▋                                                  | 6823/46077 [11:31:49<41:21:37,  3.79s/it]"
     ]
    },
    {
     "name": "stdout",
     "output_type": "stream",
     "text": [
      "Error for TATACONSUM on 2024-07-30 00:00:00: Insufficient data to determine d+1.\n"
     ]
    },
    {
     "name": "stderr",
     "output_type": "stream",
     "text": [
      "Processing:  15%|████████▊                                                  | 6852/46077 [11:33:39<40:42:04,  3.74s/it]"
     ]
    },
    {
     "name": "stdout",
     "output_type": "stream",
     "text": [
      "Reference date 2023-02-04 00:00:00 not found. Using nearest date: 2023-02-03 00:00:00\n"
     ]
    },
    {
     "name": "stderr",
     "output_type": "stream",
     "text": [
      "Processing:  15%|████████▊                                                  | 6865/46077 [11:34:27<40:41:50,  3.74s/it]"
     ]
    },
    {
     "name": "stdout",
     "output_type": "stream",
     "text": [
      "Reference date 2022-06-25 00:00:00 not found. Using nearest date: 2022-06-24 00:00:00\n"
     ]
    },
    {
     "name": "stderr",
     "output_type": "stream",
     "text": [
      "Processing:  15%|████████▊                                                  | 6878/46077 [11:35:17<41:42:55,  3.83s/it]"
     ]
    },
    {
     "name": "stdout",
     "output_type": "stream",
     "text": [
      "Reference date 2021-05-08 00:00:00 not found. Using nearest date: 2021-05-07 00:00:00\n"
     ]
    },
    {
     "name": "stderr",
     "output_type": "stream",
     "text": [
      "Processing:  15%|████████▊                                                  | 6883/46077 [11:35:36<41:02:45,  3.77s/it]"
     ]
    },
    {
     "name": "stdout",
     "output_type": "stream",
     "text": [
      "Reference date 2020-11-08 00:00:00 not found. Using nearest date: 2020-11-09 00:00:00\n"
     ]
    },
    {
     "name": "stderr",
     "output_type": "stream",
     "text": [
      "Processing:  15%|████████▊                                                  | 6884/46077 [11:35:39<41:08:56,  3.78s/it]"
     ]
    },
    {
     "name": "stdout",
     "output_type": "stream",
     "text": [
      "Reference date 2020-11-07 00:00:00 not found. Using nearest date: 2020-11-06 00:00:00\n"
     ]
    },
    {
     "name": "stderr",
     "output_type": "stream",
     "text": [
      "Processing:  15%|████████▊                                                  | 6916/46077 [11:37:40<40:49:55,  3.75s/it]"
     ]
    },
    {
     "name": "stdout",
     "output_type": "stream",
     "text": [
      "Reference date 2016-04-02 00:00:00 not found. Using nearest date: 2016-04-01 00:00:00\n"
     ]
    },
    {
     "name": "stderr",
     "output_type": "stream",
     "text": [
      "Processing:  15%|████████▊                                                  | 6924/46077 [11:38:09<40:33:12,  3.73s/it]"
     ]
    },
    {
     "name": "stdout",
     "output_type": "stream",
     "text": [
      "Error for RESPONIND on 2024-09-14 00:00:00: Insufficient data to determine d+1.\n",
      "Reference date 2024-09-14 00:00:00 not found. Using nearest date: 2024-07-30 00:00:00\n"
     ]
    },
    {
     "name": "stderr",
     "output_type": "stream",
     "text": [
      "Processing:  15%|████████▊                                                  | 6925/46077 [11:38:13<40:21:12,  3.71s/it]"
     ]
    },
    {
     "name": "stdout",
     "output_type": "stream",
     "text": [
      "Error for AHLUCONT on 2024-09-14 00:00:00: Insufficient data to determine d+1.\n",
      "Reference date 2024-09-14 00:00:00 not found. Using nearest date: 2024-07-30 00:00:00\n"
     ]
    },
    {
     "name": "stderr",
     "output_type": "stream",
     "text": [
      "Processing:  15%|████████▉                                                  | 6951/46077 [11:39:51<40:20:57,  3.71s/it]"
     ]
    },
    {
     "name": "stdout",
     "output_type": "stream",
     "text": [
      "Reference date 2020-02-15 00:00:00 not found. Using nearest date: 2020-02-14 00:00:00\n"
     ]
    },
    {
     "name": "stderr",
     "output_type": "stream",
     "text": [
      "Processing:  15%|████████▉                                                  | 6958/46077 [11:40:17<40:09:21,  3.70s/it]"
     ]
    },
    {
     "name": "stdout",
     "output_type": "stream",
     "text": [
      "Reference date 2019-02-17 00:00:00 not found. Using nearest date: 2019-02-18 00:00:00\n"
     ]
    },
    {
     "name": "stderr",
     "output_type": "stream",
     "text": [
      "Processing:  15%|████████▉                                                  | 6986/46077 [11:42:01<40:37:31,  3.74s/it]"
     ]
    },
    {
     "name": "stdout",
     "output_type": "stream",
     "text": [
      "Error for EMIL on 2024-09-14 00:00:00: Insufficient data to determine d+1.\n",
      "Reference date 2024-09-14 00:00:00 not found. Using nearest date: 2024-07-30 00:00:00\n"
     ]
    },
    {
     "name": "stderr",
     "output_type": "stream",
     "text": [
      "Processing:  15%|████████▉                                                  | 6988/46077 [11:42:08<40:30:01,  3.73s/it]"
     ]
    },
    {
     "name": "stdout",
     "output_type": "stream",
     "text": [
      "Reference date 2022-10-03 00:00:00 not found. Using nearest date: 2022-10-17 00:00:00\n"
     ]
    },
    {
     "name": "stderr",
     "output_type": "stream",
     "text": [
      "Processing:  15%|████████▉                                                  | 6989/46077 [11:42:12<40:19:44,  3.71s/it]"
     ]
    },
    {
     "name": "stdout",
     "output_type": "stream",
     "text": [
      "Reference date 2022-10-03 00:00:00 not found. Using nearest date: 2022-10-17 00:00:00\n"
     ]
    },
    {
     "name": "stderr",
     "output_type": "stream",
     "text": [
      "Processing:  15%|████████▉                                                  | 6990/46077 [11:42:16<40:09:05,  3.70s/it]"
     ]
    },
    {
     "name": "stdout",
     "output_type": "stream",
     "text": [
      "Reference date 2022-10-03 00:00:00 not found. Using nearest date: 2022-10-17 00:00:00\n"
     ]
    },
    {
     "name": "stderr",
     "output_type": "stream",
     "text": [
      "Processing:  15%|████████▉                                                  | 6991/46077 [11:42:19<40:05:06,  3.69s/it]"
     ]
    },
    {
     "name": "stdout",
     "output_type": "stream",
     "text": [
      "Reference date 2022-10-03 00:00:00 not found. Using nearest date: 2022-10-17 00:00:00\n"
     ]
    },
    {
     "name": "stderr",
     "output_type": "stream",
     "text": [
      "Processing:  15%|████████▉                                                  | 6992/46077 [11:42:23<39:51:04,  3.67s/it]"
     ]
    },
    {
     "name": "stdout",
     "output_type": "stream",
     "text": [
      "Error for SCHAND on 2024-09-14 00:00:00: Insufficient data to determine d+1.\n",
      "Reference date 2024-09-14 00:00:00 not found. Using nearest date: 2024-07-23 00:00:00\n"
     ]
    },
    {
     "name": "stderr",
     "output_type": "stream",
     "text": [
      "Processing:  15%|████████▉                                                  | 7001/46077 [11:42:57<41:00:01,  3.78s/it]"
     ]
    },
    {
     "name": "stdout",
     "output_type": "stream",
     "text": [
      "Reference date 2021-08-14 00:00:00 not found. Using nearest date: 2021-08-13 00:00:00\n"
     ]
    },
    {
     "name": "stderr",
     "output_type": "stream",
     "text": [
      "Processing:  15%|████████▉                                                  | 7005/46077 [11:43:11<40:13:50,  3.71s/it]"
     ]
    },
    {
     "name": "stdout",
     "output_type": "stream",
     "text": [
      "Reference date 2020-10-18 00:00:00 not found. Using nearest date: 2020-10-19 00:00:00\n"
     ]
    },
    {
     "name": "stderr",
     "output_type": "stream",
     "text": [
      "Processing:  15%|████████▉                                                  | 7020/46077 [11:44:07<39:50:55,  3.67s/it]"
     ]
    },
    {
     "name": "stdout",
     "output_type": "stream",
     "text": [
      "Reference date 2017-04-26 00:00:00 not found. Using nearest date: 2017-05-09 00:00:00\n"
     ]
    },
    {
     "name": "stderr",
     "output_type": "stream",
     "text": [
      "Processing:  15%|████████▉                                                  | 7021/46077 [11:44:11<39:54:45,  3.68s/it]"
     ]
    },
    {
     "name": "stdout",
     "output_type": "stream",
     "text": [
      "Reference date 2017-04-26 00:00:00 not found. Using nearest date: 2017-05-09 00:00:00\n"
     ]
    },
    {
     "name": "stderr",
     "output_type": "stream",
     "text": [
      "Processing:  15%|████████▉                                                  | 7022/46077 [11:44:15<40:40:02,  3.75s/it]"
     ]
    },
    {
     "name": "stdout",
     "output_type": "stream",
     "text": [
      "Reference date 2017-04-25 00:00:00 not found. Using nearest date: 2017-05-09 00:00:00\n"
     ]
    },
    {
     "name": "stderr",
     "output_type": "stream",
     "text": [
      "Processing:  15%|████████▉                                                  | 7023/46077 [11:44:19<41:05:06,  3.79s/it]"
     ]
    },
    {
     "name": "stdout",
     "output_type": "stream",
     "text": [
      "Reference date 2017-04-25 00:00:00 not found. Using nearest date: 2017-05-09 00:00:00\n"
     ]
    },
    {
     "name": "stderr",
     "output_type": "stream",
     "text": [
      "Processing:  15%|████████▉                                                  | 7024/46077 [11:44:22<40:43:29,  3.75s/it]"
     ]
    },
    {
     "name": "stdout",
     "output_type": "stream",
     "text": [
      "Reference date 2017-04-25 00:00:00 not found. Using nearest date: 2017-05-09 00:00:00\n"
     ]
    },
    {
     "name": "stderr",
     "output_type": "stream",
     "text": [
      "Processing:  15%|████████▉                                                  | 7025/46077 [11:44:27<42:40:26,  3.93s/it]"
     ]
    },
    {
     "name": "stdout",
     "output_type": "stream",
     "text": [
      "Reference date 2017-04-24 00:00:00 not found. Using nearest date: 2017-05-09 00:00:00\n"
     ]
    },
    {
     "name": "stderr",
     "output_type": "stream",
     "text": [
      "Processing:  15%|████████▉                                                  | 7026/46077 [11:44:30<41:46:04,  3.85s/it]"
     ]
    },
    {
     "name": "stdout",
     "output_type": "stream",
     "text": [
      "Reference date 2017-04-24 00:00:00 not found. Using nearest date: 2017-05-09 00:00:00\n"
     ]
    },
    {
     "name": "stderr",
     "output_type": "stream",
     "text": [
      "Processing:  15%|████████▉                                                  | 7027/46077 [11:44:34<41:35:59,  3.84s/it]"
     ]
    },
    {
     "name": "stdout",
     "output_type": "stream",
     "text": [
      "Reference date 2017-04-24 00:00:00 not found. Using nearest date: 2017-05-09 00:00:00\n"
     ]
    },
    {
     "name": "stderr",
     "output_type": "stream",
     "text": [
      "Processing:  15%|████████▉                                                  | 7028/46077 [11:44:38<41:43:25,  3.85s/it]"
     ]
    },
    {
     "name": "stdout",
     "output_type": "stream",
     "text": [
      "Reference date 2017-04-21 00:00:00 not found. Using nearest date: 2017-05-09 00:00:00\n"
     ]
    },
    {
     "name": "stderr",
     "output_type": "stream",
     "text": [
      "Processing:  15%|█████████                                                  | 7041/46077 [11:45:27<41:19:27,  3.81s/it]"
     ]
    },
    {
     "name": "stdout",
     "output_type": "stream",
     "text": [
      "Error for POLICYBZR on 2024-09-14 00:00:00: Insufficient data to determine d+1.\n",
      "Reference date 2024-09-14 00:00:00 not found. Using nearest date: 2024-07-30 00:00:00\n"
     ]
    },
    {
     "name": "stderr",
     "output_type": "stream",
     "text": [
      "Processing:  15%|█████████                                                  | 7054/46077 [11:46:14<39:47:10,  3.67s/it]"
     ]
    },
    {
     "name": "stdout",
     "output_type": "stream",
     "text": [
      "Reference date 2021-10-31 00:00:00 not found. Using nearest date: 2021-11-15 00:00:00\n"
     ]
    },
    {
     "name": "stderr",
     "output_type": "stream",
     "text": [
      "Processing:  15%|█████████                                                  | 7055/46077 [11:46:18<39:43:37,  3.67s/it]"
     ]
    },
    {
     "name": "stdout",
     "output_type": "stream",
     "text": [
      "Error for JCHAC on 2024-09-14 00:00:00: Insufficient data to determine d+1.\n",
      "Reference date 2024-09-14 00:00:00 not found. Using nearest date: 2024-07-30 00:00:00\n"
     ]
    },
    {
     "name": "stderr",
     "output_type": "stream",
     "text": [
      "Processing:  15%|█████████                                                  | 7056/46077 [11:46:22<39:55:30,  3.68s/it]"
     ]
    },
    {
     "name": "stdout",
     "output_type": "stream",
     "text": [
      "Error for TCIEXP on 2024-09-14 00:00:00: Insufficient data to determine d+1.\n",
      "Reference date 2024-09-14 00:00:00 not found. Using nearest date: 2024-07-30 00:00:00\n"
     ]
    },
    {
     "name": "stderr",
     "output_type": "stream",
     "text": [
      "Processing:  15%|█████████                                                  | 7057/46077 [11:46:27<43:52:21,  4.05s/it]"
     ]
    },
    {
     "name": "stdout",
     "output_type": "stream",
     "text": [
      "Error for TCIEXP on 2024-08-14 00:00:00: Insufficient data to determine d+1.\n",
      "Reference date 2024-08-14 00:00:00 not found. Using nearest date: 2024-07-30 00:00:00\n"
     ]
    },
    {
     "name": "stderr",
     "output_type": "stream",
     "text": [
      "Processing:  15%|█████████                                                  | 7058/46077 [11:46:30<42:36:41,  3.93s/it]"
     ]
    },
    {
     "name": "stdout",
     "output_type": "stream",
     "text": [
      "Error for TCIEXP on 2024-08-14 00:00:00: Insufficient data to determine d+1.\n",
      "Reference date 2024-08-14 00:00:00 not found. Using nearest date: 2024-07-30 00:00:00\n"
     ]
    },
    {
     "name": "stderr",
     "output_type": "stream",
     "text": [
      "Processing:  15%|█████████                                                  | 7059/46077 [11:46:37<51:24:14,  4.74s/it]"
     ]
    },
    {
     "name": "stdout",
     "output_type": "stream",
     "text": [
      "Error for TCIEXP on 2024-08-13 00:00:00: Insufficient data to determine d+1.\n",
      "Reference date 2024-08-13 00:00:00 not found. Using nearest date: 2024-07-30 00:00:00\n"
     ]
    },
    {
     "name": "stderr",
     "output_type": "stream",
     "text": [
      "Processing:  15%|█████████                                                  | 7063/46077 [11:46:52<43:22:50,  4.00s/it]"
     ]
    },
    {
     "name": "stdout",
     "output_type": "stream",
     "text": [
      "Reference date 2023-08-05 00:00:00 not found. Using nearest date: 2023-08-04 00:00:00\n"
     ]
    },
    {
     "name": "stderr",
     "output_type": "stream",
     "text": [
      "Processing:  15%|█████████                                                  | 7081/46077 [11:47:59<39:47:16,  3.67s/it]"
     ]
    },
    {
     "name": "stdout",
     "output_type": "stream",
     "text": [
      "Reference date 2021-10-23 00:00:00 not found. Using nearest date: 2021-10-22 00:00:00\n"
     ]
    },
    {
     "name": "stderr",
     "output_type": "stream",
     "text": [
      "Processing:  15%|█████████                                                  | 7090/46077 [11:48:32<40:00:35,  3.69s/it]"
     ]
    },
    {
     "name": "stdout",
     "output_type": "stream",
     "text": [
      "Reference date 2020-05-09 00:00:00 not found. Using nearest date: 2020-05-08 00:00:00\n"
     ]
    },
    {
     "name": "stderr",
     "output_type": "stream",
     "text": [
      "Processing:  15%|█████████                                                  | 7102/46077 [11:49:17<40:08:18,  3.71s/it]"
     ]
    },
    {
     "name": "stdout",
     "output_type": "stream",
     "text": [
      "Error for TANLA on 2024-09-14 00:00:00: Insufficient data to determine d+1.\n",
      "Reference date 2024-09-14 00:00:00 not found. Using nearest date: 2024-07-30 00:00:00\n"
     ]
    },
    {
     "name": "stderr",
     "output_type": "stream",
     "text": [
      "Processing:  15%|█████████                                                  | 7103/46077 [11:49:20<39:55:59,  3.69s/it]"
     ]
    },
    {
     "name": "stdout",
     "output_type": "stream",
     "text": [
      "Error for TANLA on 2024-07-31 00:00:00: Insufficient data to determine d+1.\n",
      "Reference date 2024-07-31 00:00:00 not found. Using nearest date: 2024-07-30 00:00:00\n"
     ]
    },
    {
     "name": "stderr",
     "output_type": "stream",
     "text": [
      "Processing:  15%|█████████                                                  | 7110/46077 [11:49:46<39:57:03,  3.69s/it]"
     ]
    },
    {
     "name": "stdout",
     "output_type": "stream",
     "text": [
      "Error for GLAND on 2024-09-14 00:00:00: Insufficient data to determine d+1.\n",
      "Reference date 2024-09-14 00:00:00 not found. Using nearest date: 2024-07-30 00:00:00\n"
     ]
    },
    {
     "name": "stderr",
     "output_type": "stream",
     "text": [
      "Processing:  15%|█████████                                                  | 7111/46077 [11:49:50<40:12:21,  3.71s/it]"
     ]
    },
    {
     "name": "stdout",
     "output_type": "stream",
     "text": [
      "Error for GLAND on 2024-08-07 00:00:00: Insufficient data to determine d+1.\n",
      "Reference date 2024-08-07 00:00:00 not found. Using nearest date: 2024-07-30 00:00:00\n"
     ]
    },
    {
     "name": "stderr",
     "output_type": "stream",
     "text": [
      "Processing:  15%|█████████                                                  | 7112/46077 [11:49:54<40:13:26,  3.72s/it]"
     ]
    },
    {
     "name": "stdout",
     "output_type": "stream",
     "text": [
      "Error for GLAND on 2024-08-06 00:00:00: Insufficient data to determine d+1.\n",
      "Reference date 2024-08-06 00:00:00 not found. Using nearest date: 2024-07-30 00:00:00\n"
     ]
    },
    {
     "name": "stderr",
     "output_type": "stream",
     "text": [
      "Processing:  15%|█████████                                                  | 7122/46077 [11:50:30<39:41:14,  3.67s/it]"
     ]
    },
    {
     "name": "stdout",
     "output_type": "stream",
     "text": [
      "Reference date 2022-10-30 00:00:00 not found. Using nearest date: 2022-10-31 00:00:00\n"
     ]
    },
    {
     "name": "stderr",
     "output_type": "stream",
     "text": [
      "Processing:  15%|█████████                                                  | 7123/46077 [11:50:34<41:01:18,  3.79s/it]"
     ]
    },
    {
     "name": "stdout",
     "output_type": "stream",
     "text": [
      "Reference date 2022-06-25 00:00:00 not found. Using nearest date: 2022-06-24 00:00:00\n"
     ]
    },
    {
     "name": "stderr",
     "output_type": "stream",
     "text": [
      "Processing:  15%|█████████                                                  | 7124/46077 [11:50:38<40:31:15,  3.74s/it]"
     ]
    },
    {
     "name": "stdout",
     "output_type": "stream",
     "text": [
      "Reference date 2022-05-21 00:00:00 not found. Using nearest date: 2022-05-20 00:00:00\n"
     ]
    },
    {
     "name": "stderr",
     "output_type": "stream",
     "text": [
      "Processing:  15%|█████████▏                                                 | 7130/46077 [11:51:00<39:57:37,  3.69s/it]"
     ]
    },
    {
     "name": "stdout",
     "output_type": "stream",
     "text": [
      "Reference date 2021-10-24 00:00:00 not found. Using nearest date: 2021-10-25 00:00:00\n"
     ]
    },
    {
     "name": "stderr",
     "output_type": "stream",
     "text": [
      "Processing:  15%|█████████▏                                                 | 7133/46077 [11:51:11<39:43:49,  3.67s/it]"
     ]
    },
    {
     "name": "stdout",
     "output_type": "stream",
     "text": [
      "Reference date 2021-07-21 00:00:00 not found. Using nearest date: 2021-07-22 00:00:00\n"
     ]
    },
    {
     "name": "stderr",
     "output_type": "stream",
     "text": [
      "Processing:  15%|█████████▏                                                 | 7137/46077 [11:51:26<40:09:55,  3.71s/it]"
     ]
    },
    {
     "name": "stdout",
     "output_type": "stream",
     "text": [
      "Reference date 2020-11-09 00:00:00 not found. Using nearest date: 2020-11-20 00:00:00\n"
     ]
    },
    {
     "name": "stderr",
     "output_type": "stream",
     "text": [
      "Processing:  15%|█████████▏                                                 | 7138/46077 [11:51:30<40:24:25,  3.74s/it]"
     ]
    },
    {
     "name": "stdout",
     "output_type": "stream",
     "text": [
      "Reference date 2020-11-09 00:00:00 not found. Using nearest date: 2020-11-20 00:00:00\n"
     ]
    },
    {
     "name": "stderr",
     "output_type": "stream",
     "text": [
      "Processing:  15%|█████████▏                                                 | 7139/46077 [11:51:33<40:05:46,  3.71s/it]"
     ]
    },
    {
     "name": "stdout",
     "output_type": "stream",
     "text": [
      "Reference date 2020-11-09 00:00:00 not found. Using nearest date: 2020-11-20 00:00:00\n"
     ]
    },
    {
     "name": "stderr",
     "output_type": "stream",
     "text": [
      "Processing:  15%|█████████▏                                                 | 7140/46077 [11:51:37<40:07:14,  3.71s/it]"
     ]
    },
    {
     "name": "stdout",
     "output_type": "stream",
     "text": [
      "Reference date 2020-11-08 00:00:00 not found. Using nearest date: 2020-11-20 00:00:00\n"
     ]
    },
    {
     "name": "stderr",
     "output_type": "stream",
     "text": [
      "Processing:  15%|█████████▏                                                 | 7141/46077 [11:51:41<40:03:19,  3.70s/it]"
     ]
    },
    {
     "name": "stdout",
     "output_type": "stream",
     "text": [
      "Error for TRENT on 2024-09-14 00:00:00: Insufficient data to determine d+1.\n",
      "Reference date 2024-09-14 00:00:00 not found. Using nearest date: 2024-07-30 00:00:00\n"
     ]
    },
    {
     "name": "stderr",
     "output_type": "stream",
     "text": [
      "Processing:  16%|█████████▏                                                 | 7142/46077 [11:51:44<39:45:45,  3.68s/it]"
     ]
    },
    {
     "name": "stdout",
     "output_type": "stream",
     "text": [
      "Error for TRENT on 2024-08-12 00:00:00: Insufficient data to determine d+1.\n",
      "Reference date 2024-08-12 00:00:00 not found. Using nearest date: 2024-07-30 00:00:00\n"
     ]
    },
    {
     "name": "stderr",
     "output_type": "stream",
     "text": [
      "Processing:  16%|█████████▏                                                 | 7146/46077 [11:51:59<39:39:20,  3.67s/it]"
     ]
    },
    {
     "name": "stdout",
     "output_type": "stream",
     "text": [
      "Reference date 2024-05-18 00:00:00 not found. Using nearest date: 2024-05-17 00:00:00\n"
     ]
    },
    {
     "name": "stderr",
     "output_type": "stream",
     "text": [
      "Processing:  16%|█████████▏                                                 | 7158/46077 [11:52:43<39:38:49,  3.67s/it]"
     ]
    },
    {
     "name": "stdout",
     "output_type": "stream",
     "text": [
      "Reference date 2023-08-12 00:00:00 not found. Using nearest date: 2023-08-11 00:00:00\n"
     ]
    },
    {
     "name": "stderr",
     "output_type": "stream",
     "text": [
      "Processing:  16%|█████████▏                                                 | 7200/46077 [11:55:18<40:08:14,  3.72s/it]"
     ]
    },
    {
     "name": "stdout",
     "output_type": "stream",
     "text": [
      "Reference date 2021-05-02 00:00:00 not found. Using nearest date: 2021-05-03 00:00:00\n"
     ]
    },
    {
     "name": "stderr",
     "output_type": "stream",
     "text": [
      "Processing:  16%|█████████▏                                                 | 7209/46077 [11:55:52<39:50:18,  3.69s/it]"
     ]
    },
    {
     "name": "stdout",
     "output_type": "stream",
     "text": [
      "Reference date 2020-05-25 00:00:00 not found. Using nearest date: 2020-05-26 00:00:00\n"
     ]
    },
    {
     "name": "stderr",
     "output_type": "stream",
     "text": [
      "Processing:  16%|█████████▏                                                 | 7210/46077 [11:55:55<39:49:34,  3.69s/it]"
     ]
    },
    {
     "name": "stdout",
     "output_type": "stream",
     "text": [
      "Reference date 2020-05-25 00:00:00 not found. Using nearest date: 2020-05-26 00:00:00\n"
     ]
    },
    {
     "name": "stderr",
     "output_type": "stream",
     "text": [
      "Processing:  16%|█████████▏                                                 | 7211/46077 [11:55:59<39:38:33,  3.67s/it]"
     ]
    },
    {
     "name": "stdout",
     "output_type": "stream",
     "text": [
      "Reference date 2020-05-25 00:00:00 not found. Using nearest date: 2020-05-26 00:00:00\n"
     ]
    },
    {
     "name": "stderr",
     "output_type": "stream",
     "text": [
      "Processing:  16%|█████████▏                                                 | 7212/46077 [11:56:03<39:29:49,  3.66s/it]"
     ]
    },
    {
     "name": "stdout",
     "output_type": "stream",
     "text": [
      "Reference date 2020-02-09 00:00:00 not found. Using nearest date: 2020-02-10 00:00:00\n"
     ]
    },
    {
     "name": "stderr",
     "output_type": "stream",
     "text": [
      "Processing:  16%|█████████▎                                                 | 7234/46077 [11:57:24<40:32:59,  3.76s/it]"
     ]
    },
    {
     "name": "stdout",
     "output_type": "stream",
     "text": [
      "Reference date 2017-04-01 00:00:00 not found. Using nearest date: 2017-03-31 00:00:00\n"
     ]
    },
    {
     "name": "stderr",
     "output_type": "stream",
     "text": [
      "Processing:  16%|█████████▎                                                 | 7236/46077 [11:57:32<40:16:15,  3.73s/it]"
     ]
    },
    {
     "name": "stdout",
     "output_type": "stream",
     "text": [
      "Error for KPIL on 2024-09-14 00:00:00: Insufficient data to determine d+1.\n",
      "Reference date 2024-09-14 00:00:00 not found. Using nearest date: 2024-07-30 00:00:00\n"
     ]
    },
    {
     "name": "stderr",
     "output_type": "stream",
     "text": [
      "Processing:  16%|█████████▎                                                 | 7237/46077 [11:57:36<40:17:33,  3.73s/it]"
     ]
    },
    {
     "name": "stdout",
     "output_type": "stream",
     "text": [
      "Error for KPIL on 2024-08-19 00:00:00: Insufficient data to determine d+1.\n",
      "Reference date 2024-08-19 00:00:00 not found. Using nearest date: 2024-07-30 00:00:00\n"
     ]
    },
    {
     "name": "stderr",
     "output_type": "stream",
     "text": [
      "Processing:  16%|█████████▎                                                 | 7238/46077 [11:57:39<40:08:15,  3.72s/it]"
     ]
    },
    {
     "name": "stdout",
     "output_type": "stream",
     "text": [
      "Error for KPIL on 2024-07-30 00:00:00: Insufficient data to determine d+1.\n"
     ]
    },
    {
     "name": "stderr",
     "output_type": "stream",
     "text": [
      "Processing:  16%|█████████▎                                                 | 7246/46077 [11:58:09<39:47:13,  3.69s/it]"
     ]
    },
    {
     "name": "stdout",
     "output_type": "stream",
     "text": [
      "Reference date 2023-05-19 00:00:00 not found. Using nearest date: 2023-05-30 00:00:00\n"
     ]
    },
    {
     "name": "stderr",
     "output_type": "stream",
     "text": [
      "Processing:  16%|█████████▎                                                 | 7247/46077 [11:58:12<39:32:34,  3.67s/it]"
     ]
    },
    {
     "name": "stdout",
     "output_type": "stream",
     "text": [
      "Reference date 2023-05-09 00:00:00 not found. Using nearest date: 2023-05-30 00:00:00\n"
     ]
    },
    {
     "name": "stderr",
     "output_type": "stream",
     "text": [
      "Processing:  16%|█████████▎                                                 | 7248/46077 [11:58:16<39:29:59,  3.66s/it]"
     ]
    },
    {
     "name": "stdout",
     "output_type": "stream",
     "text": [
      "Reference date 2023-03-13 00:00:00 not found. Using nearest date: 2023-05-30 00:00:00\n"
     ]
    },
    {
     "name": "stderr",
     "output_type": "stream",
     "text": [
      "Processing:  16%|█████████▎                                                 | 7249/46077 [11:58:20<39:35:55,  3.67s/it]"
     ]
    },
    {
     "name": "stdout",
     "output_type": "stream",
     "text": [
      "Reference date 2023-02-12 00:00:00 not found. Using nearest date: 2023-05-30 00:00:00\n"
     ]
    },
    {
     "name": "stderr",
     "output_type": "stream",
     "text": [
      "Processing:  16%|█████████▎                                                 | 7250/46077 [11:58:23<39:22:42,  3.65s/it]"
     ]
    },
    {
     "name": "stdout",
     "output_type": "stream",
     "text": [
      "Reference date 2023-02-10 00:00:00 not found. Using nearest date: 2023-05-30 00:00:00\n"
     ]
    },
    {
     "name": "stderr",
     "output_type": "stream",
     "text": [
      "Processing:  16%|█████████▎                                                 | 7251/46077 [11:58:27<39:43:48,  3.68s/it]"
     ]
    },
    {
     "name": "stdout",
     "output_type": "stream",
     "text": [
      "Reference date 2022-11-11 00:00:00 not found. Using nearest date: 2023-05-30 00:00:00\n"
     ]
    },
    {
     "name": "stderr",
     "output_type": "stream",
     "text": [
      "Processing:  16%|█████████▎                                                 | 7252/46077 [11:58:31<39:49:50,  3.69s/it]"
     ]
    },
    {
     "name": "stdout",
     "output_type": "stream",
     "text": [
      "Reference date 2022-08-05 00:00:00 not found. Using nearest date: 2023-05-30 00:00:00\n"
     ]
    },
    {
     "name": "stderr",
     "output_type": "stream",
     "text": [
      "Processing:  16%|█████████▎                                                 | 7253/46077 [11:58:34<39:42:06,  3.68s/it]"
     ]
    },
    {
     "name": "stdout",
     "output_type": "stream",
     "text": [
      "Reference date 2022-05-17 00:00:00 not found. Using nearest date: 2023-05-30 00:00:00\n"
     ]
    },
    {
     "name": "stderr",
     "output_type": "stream",
     "text": [
      "Processing:  16%|█████████▎                                                 | 7254/46077 [11:58:38<39:56:46,  3.70s/it]"
     ]
    },
    {
     "name": "stdout",
     "output_type": "stream",
     "text": [
      "Reference date 2022-05-17 00:00:00 not found. Using nearest date: 2023-05-30 00:00:00\n"
     ]
    },
    {
     "name": "stderr",
     "output_type": "stream",
     "text": [
      "Processing:  16%|█████████▎                                                 | 7255/46077 [11:58:42<39:47:12,  3.69s/it]"
     ]
    },
    {
     "name": "stdout",
     "output_type": "stream",
     "text": [
      "Reference date 2022-05-16 00:00:00 not found. Using nearest date: 2023-05-30 00:00:00\n"
     ]
    },
    {
     "name": "stderr",
     "output_type": "stream",
     "text": [
      "Processing:  16%|█████████▎                                                 | 7256/46077 [11:58:45<39:40:03,  3.68s/it]"
     ]
    },
    {
     "name": "stdout",
     "output_type": "stream",
     "text": [
      "Reference date 2022-02-21 00:00:00 not found. Using nearest date: 2023-05-30 00:00:00\n"
     ]
    },
    {
     "name": "stderr",
     "output_type": "stream",
     "text": [
      "Processing:  16%|█████████▎                                                 | 7257/46077 [11:58:49<39:36:06,  3.67s/it]"
     ]
    },
    {
     "name": "stdout",
     "output_type": "stream",
     "text": [
      "Reference date 2022-02-15 00:00:00 not found. Using nearest date: 2023-05-30 00:00:00\n"
     ]
    },
    {
     "name": "stderr",
     "output_type": "stream",
     "text": [
      "Processing:  16%|█████████▎                                                 | 7258/46077 [11:58:53<39:27:51,  3.66s/it]"
     ]
    },
    {
     "name": "stdout",
     "output_type": "stream",
     "text": [
      "Reference date 2021-11-02 00:00:00 not found. Using nearest date: 2023-05-30 00:00:00\n"
     ]
    },
    {
     "name": "stderr",
     "output_type": "stream",
     "text": [
      "Processing:  16%|█████████▎                                                 | 7259/46077 [11:58:56<39:29:29,  3.66s/it]"
     ]
    },
    {
     "name": "stdout",
     "output_type": "stream",
     "text": [
      "Reference date 2021-11-02 00:00:00 not found. Using nearest date: 2023-05-30 00:00:00\n"
     ]
    },
    {
     "name": "stderr",
     "output_type": "stream",
     "text": [
      "Processing:  16%|█████████▎                                                 | 7260/46077 [11:59:00<39:44:47,  3.69s/it]"
     ]
    },
    {
     "name": "stdout",
     "output_type": "stream",
     "text": [
      "Reference date 2021-08-04 00:00:00 not found. Using nearest date: 2023-05-30 00:00:00\n"
     ]
    },
    {
     "name": "stderr",
     "output_type": "stream",
     "text": [
      "Processing:  16%|█████████▎                                                 | 7261/46077 [11:59:04<39:43:21,  3.68s/it]"
     ]
    },
    {
     "name": "stdout",
     "output_type": "stream",
     "text": [
      "Reference date 2021-05-13 00:00:00 not found. Using nearest date: 2023-05-30 00:00:00\n"
     ]
    },
    {
     "name": "stderr",
     "output_type": "stream",
     "text": [
      "Processing:  16%|█████████▎                                                 | 7262/46077 [11:59:07<39:38:54,  3.68s/it]"
     ]
    },
    {
     "name": "stdout",
     "output_type": "stream",
     "text": [
      "Reference date 2021-05-12 00:00:00 not found. Using nearest date: 2023-05-30 00:00:00\n"
     ]
    },
    {
     "name": "stderr",
     "output_type": "stream",
     "text": [
      "Processing:  16%|█████████▎                                                 | 7263/46077 [11:59:11<39:56:13,  3.70s/it]"
     ]
    },
    {
     "name": "stdout",
     "output_type": "stream",
     "text": [
      "Reference date 2021-02-16 00:00:00 not found. Using nearest date: 2023-05-30 00:00:00\n"
     ]
    },
    {
     "name": "stderr",
     "output_type": "stream",
     "text": [
      "Processing:  16%|█████████▎                                                 | 7264/46077 [11:59:15<41:18:27,  3.83s/it]"
     ]
    },
    {
     "name": "stdout",
     "output_type": "stream",
     "text": [
      "Reference date 2021-02-15 00:00:00 not found. Using nearest date: 2023-05-30 00:00:00\n"
     ]
    },
    {
     "name": "stderr",
     "output_type": "stream",
     "text": [
      "Processing:  16%|█████████▎                                                 | 7265/46077 [11:59:19<40:37:26,  3.77s/it]"
     ]
    },
    {
     "name": "stdout",
     "output_type": "stream",
     "text": [
      "Reference date 2020-12-22 00:00:00 not found. Using nearest date: 2023-05-30 00:00:00\n"
     ]
    },
    {
     "name": "stderr",
     "output_type": "stream",
     "text": [
      "Processing:  16%|█████████▎                                                 | 7266/46077 [11:59:23<40:32:32,  3.76s/it]"
     ]
    },
    {
     "name": "stdout",
     "output_type": "stream",
     "text": [
      "Reference date 2020-11-24 00:00:00 not found. Using nearest date: 2023-05-30 00:00:00\n"
     ]
    },
    {
     "name": "stderr",
     "output_type": "stream",
     "text": [
      "Processing:  16%|█████████▎                                                 | 7267/46077 [11:59:26<40:35:18,  3.76s/it]"
     ]
    },
    {
     "name": "stdout",
     "output_type": "stream",
     "text": [
      "Reference date 2020-11-09 00:00:00 not found. Using nearest date: 2023-05-30 00:00:00\n"
     ]
    },
    {
     "name": "stderr",
     "output_type": "stream",
     "text": [
      "Processing:  16%|█████████▎                                                 | 7268/46077 [11:59:30<40:11:34,  3.73s/it]"
     ]
    },
    {
     "name": "stdout",
     "output_type": "stream",
     "text": [
      "Reference date 2020-11-05 00:00:00 not found. Using nearest date: 2023-05-30 00:00:00\n"
     ]
    },
    {
     "name": "stderr",
     "output_type": "stream",
     "text": [
      "Processing:  16%|█████████▎                                                 | 7269/46077 [11:59:34<40:34:38,  3.76s/it]"
     ]
    },
    {
     "name": "stdout",
     "output_type": "stream",
     "text": [
      "Reference date 2020-11-05 00:00:00 not found. Using nearest date: 2023-05-30 00:00:00\n"
     ]
    },
    {
     "name": "stderr",
     "output_type": "stream",
     "text": [
      "Processing:  16%|█████████▎                                                 | 7270/46077 [11:59:38<40:52:51,  3.79s/it]"
     ]
    },
    {
     "name": "stdout",
     "output_type": "stream",
     "text": [
      "Reference date 2020-08-21 00:00:00 not found. Using nearest date: 2023-05-30 00:00:00\n"
     ]
    },
    {
     "name": "stderr",
     "output_type": "stream",
     "text": [
      "Processing:  16%|█████████▎                                                 | 7271/46077 [11:59:42<40:56:11,  3.80s/it]"
     ]
    },
    {
     "name": "stdout",
     "output_type": "stream",
     "text": [
      "Reference date 2020-08-13 00:00:00 not found. Using nearest date: 2023-05-30 00:00:00\n"
     ]
    },
    {
     "name": "stderr",
     "output_type": "stream",
     "text": [
      "Processing:  16%|█████████▎                                                 | 7272/46077 [11:59:45<40:38:34,  3.77s/it]"
     ]
    },
    {
     "name": "stdout",
     "output_type": "stream",
     "text": [
      "Reference date 2020-07-27 00:00:00 not found. Using nearest date: 2023-05-30 00:00:00\n"
     ]
    },
    {
     "name": "stderr",
     "output_type": "stream",
     "text": [
      "Processing:  16%|█████████▎                                                 | 7273/46077 [11:59:49<40:14:01,  3.73s/it]"
     ]
    },
    {
     "name": "stdout",
     "output_type": "stream",
     "text": [
      "Reference date 2020-05-21 00:00:00 not found. Using nearest date: 2023-05-30 00:00:00\n"
     ]
    },
    {
     "name": "stderr",
     "output_type": "stream",
     "text": [
      "Processing:  16%|█████████▎                                                 | 7274/46077 [11:59:53<39:58:49,  3.71s/it]"
     ]
    },
    {
     "name": "stdout",
     "output_type": "stream",
     "text": [
      "Reference date 2020-03-31 00:00:00 not found. Using nearest date: 2023-05-30 00:00:00\n"
     ]
    },
    {
     "name": "stderr",
     "output_type": "stream",
     "text": [
      "Processing:  16%|█████████▎                                                 | 7275/46077 [11:59:56<39:49:12,  3.69s/it]"
     ]
    },
    {
     "name": "stdout",
     "output_type": "stream",
     "text": [
      "Reference date 2020-03-20 00:00:00 not found. Using nearest date: 2023-05-30 00:00:00\n"
     ]
    },
    {
     "name": "stderr",
     "output_type": "stream",
     "text": [
      "Processing:  16%|█████████▎                                                 | 7276/46077 [12:00:00<39:58:23,  3.71s/it]"
     ]
    },
    {
     "name": "stdout",
     "output_type": "stream",
     "text": [
      "Reference date 2020-03-18 00:00:00 not found. Using nearest date: 2023-05-30 00:00:00\n"
     ]
    },
    {
     "name": "stderr",
     "output_type": "stream",
     "text": [
      "Processing:  16%|█████████▎                                                 | 7277/46077 [12:00:04<39:44:23,  3.69s/it]"
     ]
    },
    {
     "name": "stdout",
     "output_type": "stream",
     "text": [
      "Reference date 2020-02-12 00:00:00 not found. Using nearest date: 2023-05-30 00:00:00\n"
     ]
    },
    {
     "name": "stderr",
     "output_type": "stream",
     "text": [
      "Processing:  16%|█████████▎                                                 | 7278/46077 [12:00:07<39:44:37,  3.69s/it]"
     ]
    },
    {
     "name": "stdout",
     "output_type": "stream",
     "text": [
      "Reference date 2020-02-11 00:00:00 not found. Using nearest date: 2023-05-30 00:00:00\n"
     ]
    },
    {
     "name": "stderr",
     "output_type": "stream",
     "text": [
      "Processing:  16%|█████████▎                                                 | 7279/46077 [12:00:11<39:40:47,  3.68s/it]"
     ]
    },
    {
     "name": "stdout",
     "output_type": "stream",
     "text": [
      "Reference date 2020-02-11 00:00:00 not found. Using nearest date: 2023-05-30 00:00:00\n"
     ]
    },
    {
     "name": "stderr",
     "output_type": "stream",
     "text": [
      "Processing:  16%|█████████▎                                                 | 7280/46077 [12:00:15<39:36:49,  3.68s/it]"
     ]
    },
    {
     "name": "stdout",
     "output_type": "stream",
     "text": [
      "Reference date 2019-11-11 00:00:00 not found. Using nearest date: 2023-05-30 00:00:00\n"
     ]
    },
    {
     "name": "stderr",
     "output_type": "stream",
     "text": [
      "Processing:  16%|█████████▎                                                 | 7281/46077 [12:00:18<39:30:47,  3.67s/it]"
     ]
    },
    {
     "name": "stdout",
     "output_type": "stream",
     "text": [
      "Reference date 2019-11-08 00:00:00 not found. Using nearest date: 2023-05-30 00:00:00\n"
     ]
    },
    {
     "name": "stderr",
     "output_type": "stream",
     "text": [
      "Processing:  16%|█████████▎                                                 | 7282/46077 [12:00:22<39:46:51,  3.69s/it]"
     ]
    },
    {
     "name": "stdout",
     "output_type": "stream",
     "text": [
      "Reference date 2019-11-07 00:00:00 not found. Using nearest date: 2023-05-30 00:00:00\n"
     ]
    },
    {
     "name": "stderr",
     "output_type": "stream",
     "text": [
      "Processing:  16%|█████████▎                                                 | 7283/46077 [12:00:26<39:59:39,  3.71s/it]"
     ]
    },
    {
     "name": "stdout",
     "output_type": "stream",
     "text": [
      "Reference date 2019-11-07 00:00:00 not found. Using nearest date: 2023-05-30 00:00:00\n"
     ]
    },
    {
     "name": "stderr",
     "output_type": "stream",
     "text": [
      "Processing:  16%|█████████▎                                                 | 7284/46077 [12:00:29<39:51:10,  3.70s/it]"
     ]
    },
    {
     "name": "stdout",
     "output_type": "stream",
     "text": [
      "Reference date 2019-11-07 00:00:00 not found. Using nearest date: 2023-05-30 00:00:00\n"
     ]
    },
    {
     "name": "stderr",
     "output_type": "stream",
     "text": [
      "Processing:  16%|█████████▎                                                 | 7285/46077 [12:00:33<40:26:38,  3.75s/it]"
     ]
    },
    {
     "name": "stdout",
     "output_type": "stream",
     "text": [
      "Reference date 2019-08-02 00:00:00 not found. Using nearest date: 2023-05-30 00:00:00\n"
     ]
    },
    {
     "name": "stderr",
     "output_type": "stream",
     "text": [
      "Processing:  16%|█████████▎                                                 | 7286/46077 [12:00:37<40:06:10,  3.72s/it]"
     ]
    },
    {
     "name": "stdout",
     "output_type": "stream",
     "text": [
      "Reference date 2019-07-31 00:00:00 not found. Using nearest date: 2023-05-30 00:00:00\n"
     ]
    },
    {
     "name": "stderr",
     "output_type": "stream",
     "text": [
      "Processing:  16%|█████████▎                                                 | 7287/46077 [12:00:41<40:00:51,  3.71s/it]"
     ]
    },
    {
     "name": "stdout",
     "output_type": "stream",
     "text": [
      "Reference date 2019-07-31 00:00:00 not found. Using nearest date: 2023-05-30 00:00:00\n"
     ]
    },
    {
     "name": "stderr",
     "output_type": "stream",
     "text": [
      "Processing:  16%|█████████▎                                                 | 7288/46077 [12:00:44<40:06:01,  3.72s/it]"
     ]
    },
    {
     "name": "stdout",
     "output_type": "stream",
     "text": [
      "Reference date 2019-07-31 00:00:00 not found. Using nearest date: 2023-05-30 00:00:00\n"
     ]
    },
    {
     "name": "stderr",
     "output_type": "stream",
     "text": [
      "Processing:  16%|█████████▎                                                 | 7289/46077 [12:00:48<39:56:48,  3.71s/it]"
     ]
    },
    {
     "name": "stdout",
     "output_type": "stream",
     "text": [
      "Reference date 2019-06-25 00:00:00 not found. Using nearest date: 2023-05-30 00:00:00\n"
     ]
    },
    {
     "name": "stderr",
     "output_type": "stream",
     "text": [
      "Processing:  16%|█████████▎                                                 | 7290/46077 [12:00:52<39:55:29,  3.71s/it]"
     ]
    },
    {
     "name": "stdout",
     "output_type": "stream",
     "text": [
      "Reference date 2019-05-15 00:00:00 not found. Using nearest date: 2023-05-30 00:00:00\n"
     ]
    },
    {
     "name": "stderr",
     "output_type": "stream",
     "text": [
      "Processing:  16%|█████████▎                                                 | 7291/46077 [12:00:55<39:51:06,  3.70s/it]"
     ]
    },
    {
     "name": "stdout",
     "output_type": "stream",
     "text": [
      "Reference date 2019-05-10 00:00:00 not found. Using nearest date: 2023-05-30 00:00:00\n"
     ]
    },
    {
     "name": "stderr",
     "output_type": "stream",
     "text": [
      "Processing:  16%|█████████▎                                                 | 7292/46077 [12:00:59<39:46:39,  3.69s/it]"
     ]
    },
    {
     "name": "stdout",
     "output_type": "stream",
     "text": [
      "Reference date 2019-05-10 00:00:00 not found. Using nearest date: 2023-05-30 00:00:00\n"
     ]
    },
    {
     "name": "stderr",
     "output_type": "stream",
     "text": [
      "Processing:  16%|█████████▎                                                 | 7293/46077 [12:01:03<39:59:41,  3.71s/it]"
     ]
    },
    {
     "name": "stdout",
     "output_type": "stream",
     "text": [
      "Reference date 2019-05-10 00:00:00 not found. Using nearest date: 2023-05-30 00:00:00\n"
     ]
    },
    {
     "name": "stderr",
     "output_type": "stream",
     "text": [
      "Processing:  16%|█████████▎                                                 | 7294/46077 [12:01:07<39:52:37,  3.70s/it]"
     ]
    },
    {
     "name": "stdout",
     "output_type": "stream",
     "text": [
      "Reference date 2019-05-10 00:00:00 not found. Using nearest date: 2023-05-30 00:00:00\n"
     ]
    },
    {
     "name": "stderr",
     "output_type": "stream",
     "text": [
      "Processing:  16%|█████████▎                                                 | 7295/46077 [12:01:10<39:55:44,  3.71s/it]"
     ]
    },
    {
     "name": "stdout",
     "output_type": "stream",
     "text": [
      "Reference date 2019-03-27 00:00:00 not found. Using nearest date: 2023-05-30 00:00:00\n"
     ]
    },
    {
     "name": "stderr",
     "output_type": "stream",
     "text": [
      "Processing:  16%|█████████▎                                                 | 7296/46077 [12:01:14<39:55:43,  3.71s/it]"
     ]
    },
    {
     "name": "stdout",
     "output_type": "stream",
     "text": [
      "Reference date 2019-03-26 00:00:00 not found. Using nearest date: 2023-05-30 00:00:00\n"
     ]
    },
    {
     "name": "stderr",
     "output_type": "stream",
     "text": [
      "Processing:  16%|█████████▎                                                 | 7297/46077 [12:01:18<39:51:16,  3.70s/it]"
     ]
    },
    {
     "name": "stdout",
     "output_type": "stream",
     "text": [
      "Reference date 2019-02-12 00:00:00 not found. Using nearest date: 2023-05-30 00:00:00\n"
     ]
    },
    {
     "name": "stderr",
     "output_type": "stream",
     "text": [
      "Processing:  16%|█████████▎                                                 | 7298/46077 [12:01:22<40:21:47,  3.75s/it]"
     ]
    },
    {
     "name": "stdout",
     "output_type": "stream",
     "text": [
      "Reference date 2019-02-04 00:00:00 not found. Using nearest date: 2023-05-30 00:00:00\n"
     ]
    },
    {
     "name": "stderr",
     "output_type": "stream",
     "text": [
      "Processing:  16%|█████████▎                                                 | 7299/46077 [12:01:25<40:54:43,  3.80s/it]"
     ]
    },
    {
     "name": "stdout",
     "output_type": "stream",
     "text": [
      "Reference date 2018-11-02 00:00:00 not found. Using nearest date: 2023-05-30 00:00:00\n"
     ]
    },
    {
     "name": "stderr",
     "output_type": "stream",
     "text": [
      "Processing:  16%|█████████▎                                                 | 7300/46077 [12:01:29<40:30:00,  3.76s/it]"
     ]
    },
    {
     "name": "stdout",
     "output_type": "stream",
     "text": [
      "Reference date 2018-11-01 00:00:00 not found. Using nearest date: 2023-05-30 00:00:00\n"
     ]
    },
    {
     "name": "stderr",
     "output_type": "stream",
     "text": [
      "Processing:  16%|█████████▎                                                 | 7301/46077 [12:01:33<40:35:56,  3.77s/it]"
     ]
    },
    {
     "name": "stdout",
     "output_type": "stream",
     "text": [
      "Reference date 2018-11-01 00:00:00 not found. Using nearest date: 2023-05-30 00:00:00\n"
     ]
    },
    {
     "name": "stderr",
     "output_type": "stream",
     "text": [
      "Processing:  16%|█████████▎                                                 | 7302/46077 [12:01:37<40:12:26,  3.73s/it]"
     ]
    },
    {
     "name": "stdout",
     "output_type": "stream",
     "text": [
      "Reference date 2018-08-08 00:00:00 not found. Using nearest date: 2023-05-30 00:00:00\n"
     ]
    },
    {
     "name": "stderr",
     "output_type": "stream",
     "text": [
      "Processing:  16%|█████████▎                                                 | 7303/46077 [12:01:40<39:55:08,  3.71s/it]"
     ]
    },
    {
     "name": "stdout",
     "output_type": "stream",
     "text": [
      "Reference date 2018-08-08 00:00:00 not found. Using nearest date: 2023-05-30 00:00:00\n"
     ]
    },
    {
     "name": "stderr",
     "output_type": "stream",
     "text": [
      "Processing:  16%|█████████▎                                                 | 7304/46077 [12:01:44<39:58:50,  3.71s/it]"
     ]
    },
    {
     "name": "stdout",
     "output_type": "stream",
     "text": [
      "Reference date 2018-07-19 00:00:00 not found. Using nearest date: 2023-05-30 00:00:00\n"
     ]
    },
    {
     "name": "stderr",
     "output_type": "stream",
     "text": [
      "Processing:  16%|█████████▎                                                 | 7305/46077 [12:01:48<39:49:14,  3.70s/it]"
     ]
    },
    {
     "name": "stdout",
     "output_type": "stream",
     "text": [
      "Reference date 2018-05-31 00:00:00 not found. Using nearest date: 2023-05-30 00:00:00\n"
     ]
    },
    {
     "name": "stderr",
     "output_type": "stream",
     "text": [
      "Processing:  16%|█████████▎                                                 | 7306/46077 [12:01:51<39:37:30,  3.68s/it]"
     ]
    },
    {
     "name": "stdout",
     "output_type": "stream",
     "text": [
      "Reference date 2018-05-28 00:00:00 not found. Using nearest date: 2023-05-30 00:00:00\n"
     ]
    },
    {
     "name": "stderr",
     "output_type": "stream",
     "text": [
      "Processing:  16%|█████████▎                                                 | 7307/46077 [12:01:55<39:28:55,  3.67s/it]"
     ]
    },
    {
     "name": "stdout",
     "output_type": "stream",
     "text": [
      "Reference date 2018-02-09 00:00:00 not found. Using nearest date: 2023-05-30 00:00:00\n"
     ]
    },
    {
     "name": "stderr",
     "output_type": "stream",
     "text": [
      "Processing:  16%|█████████▎                                                 | 7308/46077 [12:01:59<39:28:06,  3.66s/it]"
     ]
    },
    {
     "name": "stdout",
     "output_type": "stream",
     "text": [
      "Reference date 2018-02-08 00:00:00 not found. Using nearest date: 2023-05-30 00:00:00\n"
     ]
    },
    {
     "name": "stderr",
     "output_type": "stream",
     "text": [
      "Processing:  16%|█████████▎                                                 | 7309/46077 [12:02:02<39:40:04,  3.68s/it]"
     ]
    },
    {
     "name": "stdout",
     "output_type": "stream",
     "text": [
      "Reference date 2018-02-08 00:00:00 not found. Using nearest date: 2023-05-30 00:00:00\n"
     ]
    },
    {
     "name": "stderr",
     "output_type": "stream",
     "text": [
      "Processing:  16%|█████████▎                                                 | 7310/46077 [12:02:06<39:55:05,  3.71s/it]"
     ]
    },
    {
     "name": "stdout",
     "output_type": "stream",
     "text": [
      "Reference date 2017-12-26 00:00:00 not found. Using nearest date: 2023-05-30 00:00:00\n"
     ]
    },
    {
     "name": "stderr",
     "output_type": "stream",
     "text": [
      "Processing:  16%|█████████▎                                                 | 7311/46077 [12:02:10<39:48:00,  3.70s/it]"
     ]
    },
    {
     "name": "stdout",
     "output_type": "stream",
     "text": [
      "Reference date 2017-11-16 00:00:00 not found. Using nearest date: 2023-05-30 00:00:00\n"
     ]
    },
    {
     "name": "stderr",
     "output_type": "stream",
     "text": [
      "Processing:  16%|█████████▎                                                 | 7312/46077 [12:02:13<39:39:12,  3.68s/it]"
     ]
    },
    {
     "name": "stdout",
     "output_type": "stream",
     "text": [
      "Reference date 2017-11-15 00:00:00 not found. Using nearest date: 2023-05-30 00:00:00\n"
     ]
    },
    {
     "name": "stderr",
     "output_type": "stream",
     "text": [
      "Processing:  16%|█████████▎                                                 | 7313/46077 [12:02:17<39:39:24,  3.68s/it]"
     ]
    },
    {
     "name": "stdout",
     "output_type": "stream",
     "text": [
      "Reference date 2017-08-16 00:00:00 not found. Using nearest date: 2023-05-30 00:00:00\n"
     ]
    },
    {
     "name": "stderr",
     "output_type": "stream",
     "text": [
      "Processing:  16%|█████████▎                                                 | 7314/46077 [12:02:21<39:33:37,  3.67s/it]"
     ]
    },
    {
     "name": "stdout",
     "output_type": "stream",
     "text": [
      "Reference date 2017-08-14 00:00:00 not found. Using nearest date: 2023-05-30 00:00:00\n"
     ]
    },
    {
     "name": "stderr",
     "output_type": "stream",
     "text": [
      "Processing:  16%|█████████▎                                                 | 7315/46077 [12:02:25<40:09:19,  3.73s/it]"
     ]
    },
    {
     "name": "stdout",
     "output_type": "stream",
     "text": [
      "Reference date 2017-08-11 00:00:00 not found. Using nearest date: 2023-05-30 00:00:00\n"
     ]
    },
    {
     "name": "stderr",
     "output_type": "stream",
     "text": [
      "Processing:  16%|█████████▎                                                 | 7316/46077 [12:02:28<40:00:57,  3.72s/it]"
     ]
    },
    {
     "name": "stdout",
     "output_type": "stream",
     "text": [
      "Reference date 2017-05-23 00:00:00 not found. Using nearest date: 2023-05-30 00:00:00\n"
     ]
    },
    {
     "name": "stderr",
     "output_type": "stream",
     "text": [
      "Processing:  16%|█████████▎                                                 | 7317/46077 [12:02:32<39:51:41,  3.70s/it]"
     ]
    },
    {
     "name": "stdout",
     "output_type": "stream",
     "text": [
      "Reference date 2017-05-23 00:00:00 not found. Using nearest date: 2023-05-30 00:00:00\n"
     ]
    },
    {
     "name": "stderr",
     "output_type": "stream",
     "text": [
      "Processing:  16%|█████████▎                                                 | 7318/46077 [12:02:36<39:42:10,  3.69s/it]"
     ]
    },
    {
     "name": "stdout",
     "output_type": "stream",
     "text": [
      "Reference date 2017-05-22 00:00:00 not found. Using nearest date: 2023-05-30 00:00:00\n"
     ]
    },
    {
     "name": "stderr",
     "output_type": "stream",
     "text": [
      "Processing:  16%|█████████▎                                                 | 7319/46077 [12:02:39<39:41:30,  3.69s/it]"
     ]
    },
    {
     "name": "stdout",
     "output_type": "stream",
     "text": [
      "Reference date 2017-03-31 00:00:00 not found. Using nearest date: 2023-05-30 00:00:00\n"
     ]
    },
    {
     "name": "stderr",
     "output_type": "stream",
     "text": [
      "Processing:  16%|█████████▎                                                 | 7320/46077 [12:02:45<45:05:39,  4.19s/it]"
     ]
    },
    {
     "name": "stdout",
     "output_type": "stream",
     "text": [
      "Reference date 2017-02-17 00:00:00 not found. Using nearest date: 2023-05-30 00:00:00\n"
     ]
    },
    {
     "name": "stderr",
     "output_type": "stream",
     "text": [
      "Processing:  16%|█████████▎                                                 | 7321/46077 [12:02:48<43:21:39,  4.03s/it]"
     ]
    },
    {
     "name": "stdout",
     "output_type": "stream",
     "text": [
      "Reference date 2017-02-16 00:00:00 not found. Using nearest date: 2023-05-30 00:00:00\n"
     ]
    },
    {
     "name": "stderr",
     "output_type": "stream",
     "text": [
      "Processing:  16%|█████████▍                                                 | 7322/46077 [12:02:52<42:10:11,  3.92s/it]"
     ]
    },
    {
     "name": "stdout",
     "output_type": "stream",
     "text": [
      "Reference date 2017-02-14 00:00:00 not found. Using nearest date: 2023-05-30 00:00:00\n"
     ]
    },
    {
     "name": "stderr",
     "output_type": "stream",
     "text": [
      "Processing:  16%|█████████▍                                                 | 7323/46077 [12:02:56<41:28:15,  3.85s/it]"
     ]
    },
    {
     "name": "stdout",
     "output_type": "stream",
     "text": [
      "Reference date 2016-11-16 00:00:00 not found. Using nearest date: 2023-05-30 00:00:00\n"
     ]
    },
    {
     "name": "stderr",
     "output_type": "stream",
     "text": [
      "Processing:  16%|█████████▍                                                 | 7324/46077 [12:02:59<41:16:15,  3.83s/it]"
     ]
    },
    {
     "name": "stdout",
     "output_type": "stream",
     "text": [
      "Reference date 2016-08-17 00:00:00 not found. Using nearest date: 2023-05-30 00:00:00\n"
     ]
    },
    {
     "name": "stderr",
     "output_type": "stream",
     "text": [
      "Processing:  16%|█████████▍                                                 | 7325/46077 [12:03:03<40:47:15,  3.79s/it]"
     ]
    },
    {
     "name": "stdout",
     "output_type": "stream",
     "text": [
      "Reference date 2016-08-16 00:00:00 not found. Using nearest date: 2023-05-30 00:00:00\n"
     ]
    },
    {
     "name": "stderr",
     "output_type": "stream",
     "text": [
      "Processing:  16%|█████████▍                                                 | 7326/46077 [12:03:07<41:22:51,  3.84s/it]"
     ]
    },
    {
     "name": "stdout",
     "output_type": "stream",
     "text": [
      "Reference date 2016-08-16 00:00:00 not found. Using nearest date: 2023-05-30 00:00:00\n"
     ]
    },
    {
     "name": "stderr",
     "output_type": "stream",
     "text": [
      "Processing:  16%|█████████▍                                                 | 7327/46077 [12:03:11<40:44:53,  3.79s/it]"
     ]
    },
    {
     "name": "stdout",
     "output_type": "stream",
     "text": [
      "Reference date 2016-05-31 00:00:00 not found. Using nearest date: 2023-05-30 00:00:00\n"
     ]
    },
    {
     "name": "stderr",
     "output_type": "stream",
     "text": [
      "Processing:  16%|█████████▌                                                  | 7351/46077 [12:03:15<5:10:08,  2.08it/s]"
     ]
    },
    {
     "name": "stdout",
     "output_type": "stream",
     "text": [
      "Error for APOLLOTYRE on 2024-09-14 00:00:00: Insufficient data to determine d+1.\n",
      "Reference date 2024-09-14 00:00:00 not found. Using nearest date: 2024-07-30 00:00:00\n"
     ]
    },
    {
     "name": "stderr",
     "output_type": "stream",
     "text": [
      "Processing:  16%|█████████▌                                                  | 7352/46077 [12:03:19<7:07:08,  1.51it/s]"
     ]
    },
    {
     "name": "stdout",
     "output_type": "stream",
     "text": [
      "Error for APOLLOTYRE on 2024-08-08 00:00:00: Insufficient data to determine d+1.\n",
      "Reference date 2024-08-08 00:00:00 not found. Using nearest date: 2024-07-30 00:00:00\n"
     ]
    },
    {
     "name": "stderr",
     "output_type": "stream",
     "text": [
      "Processing:  16%|█████████▍                                                 | 7361/46077 [12:03:53<33:42:55,  3.14s/it]"
     ]
    },
    {
     "name": "stdout",
     "output_type": "stream",
     "text": [
      "Reference date 2023-08-12 00:00:00 not found. Using nearest date: 2023-08-11 00:00:00\n"
     ]
    },
    {
     "name": "stderr",
     "output_type": "stream",
     "text": [
      "Processing:  16%|█████████▍                                                 | 7362/46077 [12:03:56<35:16:23,  3.28s/it]"
     ]
    },
    {
     "name": "stdout",
     "output_type": "stream",
     "text": [
      "Reference date 2023-08-12 00:00:00 not found. Using nearest date: 2023-08-11 00:00:00\n"
     ]
    },
    {
     "name": "stderr",
     "output_type": "stream",
     "text": [
      "Processing:  16%|█████████▍                                                 | 7378/46077 [12:04:58<40:29:49,  3.77s/it]"
     ]
    },
    {
     "name": "stdout",
     "output_type": "stream",
     "text": [
      "Reference date 2022-08-15 00:00:00 not found. Using nearest date: 2022-08-16 00:00:00\n"
     ]
    },
    {
     "name": "stderr",
     "output_type": "stream",
     "text": [
      "Processing:  16%|█████████▍                                                 | 7383/46077 [12:05:17<40:54:27,  3.81s/it]"
     ]
    },
    {
     "name": "stdout",
     "output_type": "stream",
     "text": [
      "Reference date 2022-06-18 00:00:00 not found. Using nearest date: 2022-06-17 00:00:00\n"
     ]
    },
    {
     "name": "stderr",
     "output_type": "stream",
     "text": [
      "Processing:  16%|█████████▍                                                 | 7384/46077 [12:05:21<40:36:48,  3.78s/it]"
     ]
    },
    {
     "name": "stdout",
     "output_type": "stream",
     "text": [
      "Reference date 2022-05-14 00:00:00 not found. Using nearest date: 2022-05-13 00:00:00\n"
     ]
    },
    {
     "name": "stderr",
     "output_type": "stream",
     "text": [
      "Processing:  16%|█████████▍                                                 | 7385/46077 [12:05:24<40:34:49,  3.78s/it]"
     ]
    },
    {
     "name": "stdout",
     "output_type": "stream",
     "text": [
      "Reference date 2022-05-14 00:00:00 not found. Using nearest date: 2022-05-13 00:00:00\n"
     ]
    },
    {
     "name": "stderr",
     "output_type": "stream",
     "text": [
      "Processing:  16%|█████████▍                                                 | 7388/46077 [12:05:36<41:36:37,  3.87s/it]"
     ]
    },
    {
     "name": "stdout",
     "output_type": "stream",
     "text": [
      "Reference date 2021-11-13 00:00:00 not found. Using nearest date: 2021-11-12 00:00:00\n"
     ]
    },
    {
     "name": "stderr",
     "output_type": "stream",
     "text": [
      "Processing:  16%|█████████▍                                                 | 7396/46077 [12:06:06<39:54:23,  3.71s/it]"
     ]
    },
    {
     "name": "stdout",
     "output_type": "stream",
     "text": [
      "Reference date 2021-05-13 00:00:00 not found. Using nearest date: 2021-05-14 00:00:00\n"
     ]
    },
    {
     "name": "stderr",
     "output_type": "stream",
     "text": [
      "Processing:  16%|█████████▌                                                 | 7448/46077 [12:09:38<41:40:28,  3.88s/it]"
     ]
    },
    {
     "name": "stdout",
     "output_type": "stream",
     "text": [
      "Reference date 2017-08-05 00:00:00 not found. Using nearest date: 2017-08-04 00:00:00\n"
     ]
    },
    {
     "name": "stderr",
     "output_type": "stream",
     "text": [
      "Processing:  16%|█████████▌                                                 | 7449/46077 [12:09:42<41:14:30,  3.84s/it]"
     ]
    },
    {
     "name": "stdout",
     "output_type": "stream",
     "text": [
      "Reference date 2017-07-01 00:00:00 not found. Using nearest date: 2017-06-30 00:00:00\n"
     ]
    },
    {
     "name": "stderr",
     "output_type": "stream",
     "text": [
      "Processing:  16%|█████████▌                                                 | 7465/46077 [12:10:42<42:06:28,  3.93s/it]"
     ]
    },
    {
     "name": "stdout",
     "output_type": "stream",
     "text": [
      "Error for DATAPATTNS on 2024-09-14 00:00:00: Insufficient data to determine d+1.\n",
      "Reference date 2024-09-14 00:00:00 not found. Using nearest date: 2024-07-30 00:00:00\n"
     ]
    },
    {
     "name": "stderr",
     "output_type": "stream",
     "text": [
      "Processing:  16%|█████████▌                                                 | 7474/46077 [12:11:16<40:27:51,  3.77s/it]"
     ]
    },
    {
     "name": "stdout",
     "output_type": "stream",
     "text": [
      "Reference date 2021-12-14 00:00:00 not found. Using nearest date: 2021-12-24 00:00:00\n"
     ]
    },
    {
     "name": "stderr",
     "output_type": "stream",
     "text": [
      "Processing:  16%|█████████▌                                                 | 7475/46077 [12:11:20<40:26:12,  3.77s/it]"
     ]
    },
    {
     "name": "stdout",
     "output_type": "stream",
     "text": [
      "Reference date 2021-12-13 00:00:00 not found. Using nearest date: 2021-12-24 00:00:00\n"
     ]
    },
    {
     "name": "stderr",
     "output_type": "stream",
     "text": [
      "Processing:  16%|█████████▌                                                 | 7476/46077 [12:11:24<40:40:06,  3.79s/it]"
     ]
    },
    {
     "name": "stdout",
     "output_type": "stream",
     "text": [
      "Error for TRIL on 2024-09-14 00:00:00: Insufficient data to determine d+1.\n",
      "Reference date 2024-09-14 00:00:00 not found. Using nearest date: 2024-07-30 00:00:00\n"
     ]
    },
    {
     "name": "stderr",
     "output_type": "stream",
     "text": [
      "Processing:  16%|█████████▌                                                 | 7479/46077 [12:11:35<39:39:08,  3.70s/it]"
     ]
    },
    {
     "name": "stdout",
     "output_type": "stream",
     "text": [
      "Error for INDIAMART on 2024-09-14 00:00:00: Insufficient data to determine d+1.\n",
      "Reference date 2024-09-14 00:00:00 not found. Using nearest date: 2024-07-30 00:00:00\n"
     ]
    },
    {
     "name": "stderr",
     "output_type": "stream",
     "text": [
      "Processing:  16%|█████████▌                                                 | 7480/46077 [12:11:38<39:55:01,  3.72s/it]"
     ]
    },
    {
     "name": "stdout",
     "output_type": "stream",
     "text": [
      "Error for INDIAMART on 2024-08-01 00:00:00: Insufficient data to determine d+1.\n",
      "Reference date 2024-08-01 00:00:00 not found. Using nearest date: 2024-07-30 00:00:00\n"
     ]
    },
    {
     "name": "stderr",
     "output_type": "stream",
     "text": [
      "Processing:  16%|█████████▌                                                 | 7481/46077 [12:11:42<40:48:20,  3.81s/it]"
     ]
    },
    {
     "name": "stdout",
     "output_type": "stream",
     "text": [
      "Error for INDIAMART on 2024-07-31 00:00:00: Insufficient data to determine d+1.\n",
      "Reference date 2024-07-31 00:00:00 not found. Using nearest date: 2024-07-30 00:00:00\n"
     ]
    },
    {
     "name": "stderr",
     "output_type": "stream",
     "text": [
      "Processing:  16%|█████████▌                                                 | 7482/46077 [12:11:46<40:16:17,  3.76s/it]"
     ]
    },
    {
     "name": "stdout",
     "output_type": "stream",
     "text": [
      "Error for INDIAMART on 2024-07-31 00:00:00: Insufficient data to determine d+1.\n",
      "Reference date 2024-07-31 00:00:00 not found. Using nearest date: 2024-07-30 00:00:00\n"
     ]
    },
    {
     "name": "stderr",
     "output_type": "stream",
     "text": [
      "Processing:  16%|█████████▌                                                 | 7491/46077 [12:12:21<40:46:49,  3.80s/it]"
     ]
    },
    {
     "name": "stdout",
     "output_type": "stream",
     "text": [
      "Reference date 2023-10-29 00:00:00 not found. Using nearest date: 2023-10-30 00:00:00\n"
     ]
    },
    {
     "name": "stderr",
     "output_type": "stream",
     "text": [
      "Processing:  16%|█████████▌                                                 | 7492/46077 [12:12:25<40:21:04,  3.76s/it]"
     ]
    },
    {
     "name": "stdout",
     "output_type": "stream",
     "text": [
      "Reference date 2023-07-29 00:00:00 not found. Using nearest date: 2023-07-28 00:00:00\n"
     ]
    },
    {
     "name": "stderr",
     "output_type": "stream",
     "text": [
      "Processing:  16%|█████████▌                                                 | 7501/46077 [12:12:58<40:39:45,  3.79s/it]"
     ]
    },
    {
     "name": "stdout",
     "output_type": "stream",
     "text": [
      "Reference date 2023-01-22 00:00:00 not found. Using nearest date: 2023-01-23 00:00:00\n"
     ]
    },
    {
     "name": "stderr",
     "output_type": "stream",
     "text": [
      "Processing:  16%|█████████▌                                                 | 7504/46077 [12:13:09<40:02:54,  3.74s/it]"
     ]
    },
    {
     "name": "stdout",
     "output_type": "stream",
     "text": [
      "Reference date 2022-10-30 00:00:00 not found. Using nearest date: 2022-10-31 00:00:00\n"
     ]
    },
    {
     "name": "stderr",
     "output_type": "stream",
     "text": [
      "Processing:  16%|█████████▌                                                 | 7510/46077 [12:13:32<39:52:47,  3.72s/it]"
     ]
    },
    {
     "name": "stdout",
     "output_type": "stream",
     "text": [
      "Reference date 2022-04-30 00:00:00 not found. Using nearest date: 2022-04-29 00:00:00\n"
     ]
    },
    {
     "name": "stderr",
     "output_type": "stream",
     "text": [
      "Processing:  16%|█████████▌                                                 | 7512/46077 [12:13:39<39:30:51,  3.69s/it]"
     ]
    },
    {
     "name": "stdout",
     "output_type": "stream",
     "text": [
      "Reference date 2022-01-26 00:00:00 not found. Using nearest date: 2022-01-27 00:00:00\n"
     ]
    },
    {
     "name": "stderr",
     "output_type": "stream",
     "text": [
      "Processing:  16%|█████████▌                                                 | 7515/46077 [12:13:51<40:42:12,  3.80s/it]"
     ]
    },
    {
     "name": "stdout",
     "output_type": "stream",
     "text": [
      "Reference date 2021-10-23 00:00:00 not found. Using nearest date: 2021-10-22 00:00:00\n"
     ]
    },
    {
     "name": "stderr",
     "output_type": "stream",
     "text": [
      "Processing:  16%|█████████▌                                                 | 7516/46077 [12:13:54<40:11:23,  3.75s/it]"
     ]
    },
    {
     "name": "stdout",
     "output_type": "stream",
     "text": [
      "Reference date 2021-10-23 00:00:00 not found. Using nearest date: 2021-10-22 00:00:00\n"
     ]
    },
    {
     "name": "stderr",
     "output_type": "stream",
     "text": [
      "Processing:  16%|█████████▋                                                 | 7518/46077 [12:14:02<39:56:02,  3.73s/it]"
     ]
    },
    {
     "name": "stdout",
     "output_type": "stream",
     "text": [
      "Reference date 2021-07-24 00:00:00 not found. Using nearest date: 2021-07-23 00:00:00\n"
     ]
    },
    {
     "name": "stderr",
     "output_type": "stream",
     "text": [
      "Processing:  16%|█████████▋                                                 | 7521/46077 [12:14:13<39:23:07,  3.68s/it]"
     ]
    },
    {
     "name": "stdout",
     "output_type": "stream",
     "text": [
      "Reference date 2020-09-19 00:00:00 not found. Using nearest date: 2020-09-18 00:00:00\n"
     ]
    },
    {
     "name": "stderr",
     "output_type": "stream",
     "text": [
      "Processing:  16%|█████████▋                                                 | 7524/46077 [12:14:24<39:56:26,  3.73s/it]"
     ]
    },
    {
     "name": "stdout",
     "output_type": "stream",
     "text": [
      "Reference date 2019-06-24 00:00:00 not found. Using nearest date: 2019-07-04 00:00:00\n"
     ]
    },
    {
     "name": "stderr",
     "output_type": "stream",
     "text": [
      "Processing:  16%|█████████▋                                                 | 7525/46077 [12:14:28<39:39:11,  3.70s/it]"
     ]
    },
    {
     "name": "stdout",
     "output_type": "stream",
     "text": [
      "Reference date 2019-06-24 00:00:00 not found. Using nearest date: 2019-07-04 00:00:00\n"
     ]
    },
    {
     "name": "stderr",
     "output_type": "stream",
     "text": [
      "Processing:  16%|█████████▋                                                 | 7526/46077 [12:14:31<39:36:07,  3.70s/it]"
     ]
    },
    {
     "name": "stdout",
     "output_type": "stream",
     "text": [
      "Reference date 2019-06-21 00:00:00 not found. Using nearest date: 2019-07-04 00:00:00\n"
     ]
    },
    {
     "name": "stderr",
     "output_type": "stream",
     "text": [
      "Processing:  16%|█████████▋                                                 | 7527/46077 [12:14:35<39:49:00,  3.72s/it]"
     ]
    },
    {
     "name": "stdout",
     "output_type": "stream",
     "text": [
      "Error for IOLCP on 2024-09-14 00:00:00: Insufficient data to determine d+1.\n",
      "Reference date 2024-09-14 00:00:00 not found. Using nearest date: 2024-07-30 00:00:00\n"
     ]
    },
    {
     "name": "stderr",
     "output_type": "stream",
     "text": [
      "Processing:  16%|█████████▋                                                 | 7528/46077 [12:14:39<40:37:10,  3.79s/it]"
     ]
    },
    {
     "name": "stdout",
     "output_type": "stream",
     "text": [
      "Error for ASHOKLEY on 2024-09-14 00:00:00: Insufficient data to determine d+1.\n",
      "Reference date 2024-09-14 00:00:00 not found. Using nearest date: 2024-07-30 00:00:00\n"
     ]
    },
    {
     "name": "stderr",
     "output_type": "stream",
     "text": [
      "Processing:  16%|█████████▋                                                 | 7529/46077 [12:14:43<40:04:36,  3.74s/it]"
     ]
    },
    {
     "name": "stdout",
     "output_type": "stream",
     "text": [
      "Error for ASHOKLEY on 2024-09-10 00:00:00: Insufficient data to determine d+1.\n",
      "Reference date 2024-09-10 00:00:00 not found. Using nearest date: 2024-07-30 00:00:00\n"
     ]
    },
    {
     "name": "stderr",
     "output_type": "stream",
     "text": [
      "Processing:  16%|█████████▋                                                 | 7530/46077 [12:14:46<39:47:49,  3.72s/it]"
     ]
    },
    {
     "name": "stdout",
     "output_type": "stream",
     "text": [
      "Error for ASHOKLEY on 2024-08-02 00:00:00: Insufficient data to determine d+1.\n",
      "Reference date 2024-08-02 00:00:00 not found. Using nearest date: 2024-07-30 00:00:00\n"
     ]
    },
    {
     "name": "stderr",
     "output_type": "stream",
     "text": [
      "Processing:  16%|█████████▋                                                 | 7531/46077 [12:14:50<39:33:19,  3.69s/it]"
     ]
    },
    {
     "name": "stdout",
     "output_type": "stream",
     "text": [
      "Error for ASHOKLEY on 2024-07-30 00:00:00: Insufficient data to determine d+1.\n"
     ]
    },
    {
     "name": "stderr",
     "output_type": "stream",
     "text": [
      "Processing:  16%|█████████▋                                                 | 7533/46077 [12:14:58<40:01:52,  3.74s/it]"
     ]
    },
    {
     "name": "stdout",
     "output_type": "stream",
     "text": [
      "Reference date 2024-07-28 00:00:00 not found. Using nearest date: 2024-07-29 00:00:00\n"
     ]
    },
    {
     "name": "stderr",
     "output_type": "stream",
     "text": [
      "Processing:  16%|█████████▋                                                 | 7539/46077 [12:15:20<40:11:53,  3.76s/it]"
     ]
    },
    {
     "name": "stdout",
     "output_type": "stream",
     "text": [
      "Reference date 2024-05-26 00:00:00 not found. Using nearest date: 2024-05-27 00:00:00\n"
     ]
    },
    {
     "name": "stderr",
     "output_type": "stream",
     "text": [
      "Processing:  16%|█████████▋                                                 | 7540/46077 [12:15:24<39:55:44,  3.73s/it]"
     ]
    },
    {
     "name": "stdout",
     "output_type": "stream",
     "text": [
      "Reference date 2024-05-25 00:00:00 not found. Using nearest date: 2024-05-24 00:00:00\n"
     ]
    },
    {
     "name": "stderr",
     "output_type": "stream",
     "text": [
      "Processing:  16%|█████████▋                                                 | 7542/46077 [12:15:31<40:14:06,  3.76s/it]"
     ]
    },
    {
     "name": "stdout",
     "output_type": "stream",
     "text": [
      "Reference date 2024-04-17 00:00:00 not found. Using nearest date: 2024-04-18 00:00:00\n"
     ]
    },
    {
     "name": "stderr",
     "output_type": "stream",
     "text": [
      "Processing:  16%|█████████▋                                                 | 7551/46077 [12:16:05<39:51:07,  3.72s/it]"
     ]
    },
    {
     "name": "stdout",
     "output_type": "stream",
     "text": [
      "Reference date 2023-11-11 00:00:00 not found. Using nearest date: 2023-11-10 00:00:00\n"
     ]
    },
    {
     "name": "stderr",
     "output_type": "stream",
     "text": [
      "Processing:  16%|█████████▋                                                 | 7552/46077 [12:16:08<39:56:02,  3.73s/it]"
     ]
    },
    {
     "name": "stdout",
     "output_type": "stream",
     "text": [
      "Reference date 2023-11-11 00:00:00 not found. Using nearest date: 2023-11-10 00:00:00\n"
     ]
    },
    {
     "name": "stderr",
     "output_type": "stream",
     "text": [
      "Processing:  16%|█████████▋                                                 | 7554/46077 [12:16:16<40:05:08,  3.75s/it]"
     ]
    },
    {
     "name": "stdout",
     "output_type": "stream",
     "text": [
      "Reference date 2023-08-19 00:00:00 not found. Using nearest date: 2023-08-18 00:00:00\n"
     ]
    },
    {
     "name": "stderr",
     "output_type": "stream",
     "text": [
      "Processing:  16%|█████████▋                                                 | 7555/46077 [12:16:19<39:47:44,  3.72s/it]"
     ]
    },
    {
     "name": "stdout",
     "output_type": "stream",
     "text": [
      "Reference date 2023-07-29 00:00:00 not found. Using nearest date: 2023-07-28 00:00:00\n"
     ]
    },
    {
     "name": "stderr",
     "output_type": "stream",
     "text": [
      "Processing:  16%|█████████▋                                                 | 7569/46077 [12:17:12<39:46:25,  3.72s/it]"
     ]
    },
    {
     "name": "stdout",
     "output_type": "stream",
     "text": [
      "Reference date 2023-05-27 00:00:00 not found. Using nearest date: 2023-05-26 00:00:00\n"
     ]
    },
    {
     "name": "stderr",
     "output_type": "stream",
     "text": [
      "Processing:  16%|█████████▋                                                 | 7588/46077 [12:18:22<39:27:24,  3.69s/it]"
     ]
    },
    {
     "name": "stdout",
     "output_type": "stream",
     "text": [
      "Reference date 2022-11-12 00:00:00 not found. Using nearest date: 2022-11-11 00:00:00\n"
     ]
    },
    {
     "name": "stderr",
     "output_type": "stream",
     "text": [
      "Processing:  16%|█████████▋                                                 | 7602/46077 [12:19:14<40:24:18,  3.78s/it]"
     ]
    },
    {
     "name": "stdout",
     "output_type": "stream",
     "text": [
      "Reference date 2022-05-21 00:00:00 not found. Using nearest date: 2022-05-20 00:00:00\n"
     ]
    },
    {
     "name": "stderr",
     "output_type": "stream",
     "text": [
      "Processing:  17%|█████████▋                                                 | 7603/46077 [12:19:18<40:03:17,  3.75s/it]"
     ]
    },
    {
     "name": "stdout",
     "output_type": "stream",
     "text": [
      "Reference date 2022-05-21 00:00:00 not found. Using nearest date: 2022-05-20 00:00:00\n"
     ]
    },
    {
     "name": "stderr",
     "output_type": "stream",
     "text": [
      "Processing:  17%|█████████▊                                                 | 7635/46077 [12:21:17<40:52:47,  3.83s/it]"
     ]
    },
    {
     "name": "stdout",
     "output_type": "stream",
     "text": [
      "Reference date 2021-02-14 00:00:00 not found. Using nearest date: 2021-02-15 00:00:00\n"
     ]
    },
    {
     "name": "stderr",
     "output_type": "stream",
     "text": [
      "Processing:  17%|█████████▊                                                 | 7683/46077 [12:24:14<39:30:21,  3.70s/it]"
     ]
    },
    {
     "name": "stdout",
     "output_type": "stream",
     "text": [
      "Reference date 2019-11-12 00:00:00 not found. Using nearest date: 2019-11-13 00:00:00\n"
     ]
    },
    {
     "name": "stderr",
     "output_type": "stream",
     "text": [
      "Processing:  17%|█████████▊                                                 | 7684/46077 [12:24:18<39:18:02,  3.69s/it]"
     ]
    },
    {
     "name": "stdout",
     "output_type": "stream",
     "text": [
      "Reference date 2019-11-12 00:00:00 not found. Using nearest date: 2019-11-13 00:00:00\n"
     ]
    },
    {
     "name": "stderr",
     "output_type": "stream",
     "text": [
      "Processing:  17%|█████████▊                                                 | 7690/46077 [12:24:40<39:47:26,  3.73s/it]"
     ]
    },
    {
     "name": "stdout",
     "output_type": "stream",
     "text": [
      "Reference date 2019-08-03 00:00:00 not found. Using nearest date: 2019-08-02 00:00:00\n"
     ]
    },
    {
     "name": "stderr",
     "output_type": "stream",
     "text": [
      "Processing:  17%|█████████▉                                                 | 7713/46077 [12:26:06<40:46:25,  3.83s/it]"
     ]
    },
    {
     "name": "stdout",
     "output_type": "stream",
     "text": [
      "Reference date 2019-02-17 00:00:00 not found. Using nearest date: 2019-02-18 00:00:00\n"
     ]
    },
    {
     "name": "stderr",
     "output_type": "stream",
     "text": [
      "Processing:  17%|██████████                                                 | 7821/46077 [12:32:47<39:28:53,  3.72s/it]"
     ]
    },
    {
     "name": "stdout",
     "output_type": "stream",
     "text": [
      "Reference date 2015-11-07 00:00:00 not found. Using nearest date: 2015-11-06 00:00:00\n"
     ]
    },
    {
     "name": "stderr",
     "output_type": "stream",
     "text": [
      "Processing:  17%|██████████                                                 | 7842/46077 [12:34:05<40:21:05,  3.80s/it]"
     ]
    },
    {
     "name": "stdout",
     "output_type": "stream",
     "text": [
      "Error for SPLPETRO on 2024-09-14 00:00:00: Insufficient data to determine d+1.\n",
      "Reference date 2024-09-14 00:00:00 not found. Using nearest date: 2024-07-30 00:00:00\n"
     ]
    },
    {
     "name": "stderr",
     "output_type": "stream",
     "text": [
      "Processing:  17%|██████████                                                 | 7843/46077 [12:34:08<39:53:38,  3.76s/it]"
     ]
    },
    {
     "name": "stdout",
     "output_type": "stream",
     "text": [
      "Error for SPLPETRO on 2024-08-01 00:00:00: Insufficient data to determine d+1.\n",
      "Reference date 2024-08-01 00:00:00 not found. Using nearest date: 2024-07-30 00:00:00\n"
     ]
    },
    {
     "name": "stderr",
     "output_type": "stream",
     "text": [
      "Processing:  17%|██████████                                                 | 7849/46077 [12:34:31<39:14:53,  3.70s/it]"
     ]
    },
    {
     "name": "stdout",
     "output_type": "stream",
     "text": [
      "Reference date 2023-04-29 00:00:00 not found. Using nearest date: 2023-04-28 00:00:00\n"
     ]
    },
    {
     "name": "stderr",
     "output_type": "stream",
     "text": [
      "Processing:  17%|██████████                                                 | 7851/46077 [12:34:38<39:51:01,  3.75s/it]"
     ]
    },
    {
     "name": "stdout",
     "output_type": "stream",
     "text": [
      "Reference date 2022-10-29 00:00:00 not found. Using nearest date: 2022-10-28 00:00:00\n"
     ]
    },
    {
     "name": "stderr",
     "output_type": "stream",
     "text": [
      "Processing:  17%|██████████                                                 | 7854/46077 [12:34:49<39:07:27,  3.68s/it]"
     ]
    },
    {
     "name": "stdout",
     "output_type": "stream",
     "text": [
      "Error for NOCIL on 2024-09-14 00:00:00: Insufficient data to determine d+1.\n",
      "Reference date 2024-09-14 00:00:00 not found. Using nearest date: 2024-07-30 00:00:00\n"
     ]
    },
    {
     "name": "stderr",
     "output_type": "stream",
     "text": [
      "Processing:  17%|██████████                                                 | 7855/46077 [12:34:53<39:10:50,  3.69s/it]"
     ]
    },
    {
     "name": "stdout",
     "output_type": "stream",
     "text": [
      "Error for NOCIL on 2024-08-12 00:00:00: Insufficient data to determine d+1.\n",
      "Reference date 2024-08-12 00:00:00 not found. Using nearest date: 2024-07-30 00:00:00\n"
     ]
    },
    {
     "name": "stderr",
     "output_type": "stream",
     "text": [
      "Processing:  17%|██████████                                                 | 7856/46077 [12:34:56<39:04:13,  3.68s/it]"
     ]
    },
    {
     "name": "stdout",
     "output_type": "stream",
     "text": [
      "Error for NOCIL on 2024-08-10 00:00:00: Insufficient data to determine d+1.\n",
      "Reference date 2024-08-10 00:00:00 not found. Using nearest date: 2024-07-30 00:00:00\n"
     ]
    },
    {
     "name": "stderr",
     "output_type": "stream",
     "text": [
      "Processing:  17%|██████████                                                 | 7857/46077 [12:35:00<38:53:35,  3.66s/it]"
     ]
    },
    {
     "name": "stdout",
     "output_type": "stream",
     "text": [
      "Error for NOCIL on 2024-08-09 00:00:00: Insufficient data to determine d+1.\n",
      "Reference date 2024-08-09 00:00:00 not found. Using nearest date: 2024-07-30 00:00:00\n"
     ]
    },
    {
     "name": "stderr",
     "output_type": "stream",
     "text": [
      "Processing:  17%|██████████                                                 | 7863/46077 [12:35:22<38:59:29,  3.67s/it]"
     ]
    },
    {
     "name": "stdout",
     "output_type": "stream",
     "text": [
      "Reference date 2023-11-05 00:00:00 not found. Using nearest date: 2023-11-06 00:00:00\n"
     ]
    },
    {
     "name": "stderr",
     "output_type": "stream",
     "text": [
      "Processing:  17%|██████████                                                 | 7873/46077 [12:36:00<40:09:47,  3.78s/it]"
     ]
    },
    {
     "name": "stdout",
     "output_type": "stream",
     "text": [
      "Reference date 2023-02-12 00:00:00 not found. Using nearest date: 2023-02-13 00:00:00\n"
     ]
    },
    {
     "name": "stderr",
     "output_type": "stream",
     "text": [
      "Processing:  17%|██████████                                                 | 7880/46077 [12:36:26<39:20:23,  3.71s/it]"
     ]
    },
    {
     "name": "stdout",
     "output_type": "stream",
     "text": [
      "Reference date 2022-07-30 00:00:00 not found. Using nearest date: 2022-07-29 00:00:00\n"
     ]
    },
    {
     "name": "stderr",
     "output_type": "stream",
     "text": [
      "Processing:  17%|██████████                                                 | 7885/46077 [12:36:45<39:08:23,  3.69s/it]"
     ]
    },
    {
     "name": "stdout",
     "output_type": "stream",
     "text": [
      "Reference date 2022-02-06 00:00:00 not found. Using nearest date: 2022-02-07 00:00:00\n"
     ]
    },
    {
     "name": "stderr",
     "output_type": "stream",
     "text": [
      "Processing:  17%|██████████▏                                                | 7913/46077 [12:38:29<39:33:08,  3.73s/it]"
     ]
    },
    {
     "name": "stdout",
     "output_type": "stream",
     "text": [
      "Reference date 2019-05-25 00:00:00 not found. Using nearest date: 2019-05-24 00:00:00\n"
     ]
    },
    {
     "name": "stderr",
     "output_type": "stream",
     "text": [
      "Processing:  17%|██████████▏                                                | 7924/46077 [12:39:10<39:42:30,  3.75s/it]"
     ]
    },
    {
     "name": "stdout",
     "output_type": "stream",
     "text": [
      "Error for UJJIVANSFB on 2024-09-14 00:00:00: Insufficient data to determine d+1.\n",
      "Reference date 2024-09-14 00:00:00 not found. Using nearest date: 2024-07-30 00:00:00\n"
     ]
    },
    {
     "name": "stderr",
     "output_type": "stream",
     "text": [
      "Processing:  17%|██████████▏                                                | 7932/46077 [12:39:40<39:39:19,  3.74s/it]"
     ]
    },
    {
     "name": "stdout",
     "output_type": "stream",
     "text": [
      "Reference date 2023-10-29 00:00:00 not found. Using nearest date: 2023-10-30 00:00:00\n"
     ]
    },
    {
     "name": "stderr",
     "output_type": "stream",
     "text": [
      "Processing:  17%|██████████▏                                                | 7945/46077 [12:40:29<40:09:38,  3.79s/it]"
     ]
    },
    {
     "name": "stdout",
     "output_type": "stream",
     "text": [
      "Reference date 2022-11-08 00:00:00 not found. Using nearest date: 2022-11-09 00:00:00\n"
     ]
    },
    {
     "name": "stderr",
     "output_type": "stream",
     "text": [
      "Processing:  17%|██████████▏                                                | 7955/46077 [12:41:06<39:35:29,  3.74s/it]"
     ]
    },
    {
     "name": "stdout",
     "output_type": "stream",
     "text": [
      "Reference date 2021-08-19 00:00:00 not found. Using nearest date: 2021-08-20 00:00:00\n"
     ]
    },
    {
     "name": "stderr",
     "output_type": "stream",
     "text": [
      "Processing:  17%|██████████▏                                                | 7958/46077 [12:41:17<39:04:10,  3.69s/it]"
     ]
    },
    {
     "name": "stdout",
     "output_type": "stream",
     "text": [
      "Reference date 2021-08-08 00:00:00 not found. Using nearest date: 2021-08-09 00:00:00\n"
     ]
    },
    {
     "name": "stderr",
     "output_type": "stream",
     "text": [
      "Processing:  17%|██████████▏                                                | 7967/46077 [12:41:51<40:10:14,  3.79s/it]"
     ]
    },
    {
     "name": "stdout",
     "output_type": "stream",
     "text": [
      "Reference date 2020-11-07 00:00:00 not found. Using nearest date: 2020-11-06 00:00:00\n"
     ]
    },
    {
     "name": "stderr",
     "output_type": "stream",
     "text": [
      "Processing:  17%|██████████▏                                                | 7969/46077 [12:41:58<39:29:04,  3.73s/it]"
     ]
    },
    {
     "name": "stdout",
     "output_type": "stream",
     "text": [
      "Reference date 2020-08-01 00:00:00 not found. Using nearest date: 2020-07-31 00:00:00\n"
     ]
    },
    {
     "name": "stderr",
     "output_type": "stream",
     "text": [
      "Processing:  17%|██████████▏                                                | 7971/46077 [12:42:06<39:22:01,  3.72s/it]"
     ]
    },
    {
     "name": "stdout",
     "output_type": "stream",
     "text": [
      "Reference date 2020-01-25 00:00:00 not found. Using nearest date: 2020-01-24 00:00:00\n"
     ]
    },
    {
     "name": "stderr",
     "output_type": "stream",
     "text": [
      "Processing:  17%|██████████▏                                                | 7973/46077 [12:42:14<40:59:37,  3.87s/it]"
     ]
    },
    {
     "name": "stdout",
     "output_type": "stream",
     "text": [
      "Reference date 2019-12-04 00:00:00 not found. Using nearest date: 2019-12-12 00:00:00\n"
     ]
    },
    {
     "name": "stderr",
     "output_type": "stream",
     "text": [
      "Processing:  17%|██████████▏                                                | 7974/46077 [12:42:17<40:24:00,  3.82s/it]"
     ]
    },
    {
     "name": "stdout",
     "output_type": "stream",
     "text": [
      "Reference date 2019-12-02 00:00:00 not found. Using nearest date: 2019-12-12 00:00:00\n"
     ]
    },
    {
     "name": "stderr",
     "output_type": "stream",
     "text": [
      "Processing:  17%|██████████▏                                                | 7975/46077 [12:42:21<39:53:15,  3.77s/it]"
     ]
    },
    {
     "name": "stdout",
     "output_type": "stream",
     "text": [
      "Reference date 2019-12-02 00:00:00 not found. Using nearest date: 2019-12-12 00:00:00\n"
     ]
    },
    {
     "name": "stderr",
     "output_type": "stream",
     "text": [
      "Processing:  17%|██████████▏                                                | 7976/46077 [12:42:25<40:46:07,  3.85s/it]"
     ]
    },
    {
     "name": "stdout",
     "output_type": "stream",
     "text": [
      "Reference date 2019-12-02 00:00:00 not found. Using nearest date: 2019-12-12 00:00:00\n"
     ]
    },
    {
     "name": "stderr",
     "output_type": "stream",
     "text": [
      "Processing:  17%|██████████▏                                                | 7977/46077 [12:42:29<40:05:44,  3.79s/it]"
     ]
    },
    {
     "name": "stdout",
     "output_type": "stream",
     "text": [
      "Reference date 2019-12-02 00:00:00 not found. Using nearest date: 2019-12-12 00:00:00\n"
     ]
    },
    {
     "name": "stderr",
     "output_type": "stream",
     "text": [
      "Processing:  17%|██████████▏                                                | 7978/46077 [12:42:32<40:01:15,  3.78s/it]"
     ]
    },
    {
     "name": "stdout",
     "output_type": "stream",
     "text": [
      "Reference date 2019-12-02 00:00:00 not found. Using nearest date: 2019-12-12 00:00:00\n"
     ]
    },
    {
     "name": "stderr",
     "output_type": "stream",
     "text": [
      "Processing:  17%|██████████▏                                                | 7979/46077 [12:42:36<39:34:17,  3.74s/it]"
     ]
    },
    {
     "name": "stdout",
     "output_type": "stream",
     "text": [
      "Reference date 2019-12-01 00:00:00 not found. Using nearest date: 2019-12-12 00:00:00\n"
     ]
    },
    {
     "name": "stderr",
     "output_type": "stream",
     "text": [
      "Processing:  17%|██████████▏                                                | 7980/46077 [12:42:40<39:30:16,  3.73s/it]"
     ]
    },
    {
     "name": "stdout",
     "output_type": "stream",
     "text": [
      "Reference date 2019-11-30 00:00:00 not found. Using nearest date: 2019-12-12 00:00:00\n"
     ]
    },
    {
     "name": "stderr",
     "output_type": "stream",
     "text": [
      "Processing:  17%|██████████▏                                                | 7981/46077 [12:42:43<39:09:35,  3.70s/it]"
     ]
    },
    {
     "name": "stdout",
     "output_type": "stream",
     "text": [
      "Reference date 2019-11-30 00:00:00 not found. Using nearest date: 2019-12-12 00:00:00\n"
     ]
    },
    {
     "name": "stderr",
     "output_type": "stream",
     "text": [
      "Processing:  17%|██████████▏                                                | 7982/46077 [12:42:47<39:24:51,  3.72s/it]"
     ]
    },
    {
     "name": "stdout",
     "output_type": "stream",
     "text": [
      "Reference date 2019-11-29 00:00:00 not found. Using nearest date: 2019-12-12 00:00:00\n"
     ]
    },
    {
     "name": "stderr",
     "output_type": "stream",
     "text": [
      "Processing:  17%|██████████▏                                                | 7983/46077 [12:42:51<39:20:38,  3.72s/it]"
     ]
    },
    {
     "name": "stdout",
     "output_type": "stream",
     "text": [
      "Reference date 2019-11-29 00:00:00 not found. Using nearest date: 2019-12-12 00:00:00\n"
     ]
    },
    {
     "name": "stderr",
     "output_type": "stream",
     "text": [
      "Processing:  17%|██████████▏                                                | 7984/46077 [12:42:55<39:29:34,  3.73s/it]"
     ]
    },
    {
     "name": "stdout",
     "output_type": "stream",
     "text": [
      "Reference date 2019-11-28 00:00:00 not found. Using nearest date: 2019-12-12 00:00:00\n"
     ]
    },
    {
     "name": "stderr",
     "output_type": "stream",
     "text": [
      "Processing:  17%|██████████▏                                                | 7986/46077 [12:43:02<38:52:50,  3.67s/it]"
     ]
    },
    {
     "name": "stdout",
     "output_type": "stream",
     "text": [
      "Reference date 2019-11-03 00:00:00 not found. Using nearest date: 2019-11-04 00:00:00\n"
     ]
    },
    {
     "name": "stderr",
     "output_type": "stream",
     "text": [
      "Processing:  17%|██████████▏                                                | 7990/46077 [12:43:17<39:24:04,  3.72s/it]"
     ]
    },
    {
     "name": "stdout",
     "output_type": "stream",
     "text": [
      "Reference date 2017-12-06 00:00:00 not found. Using nearest date: 2017-12-18 00:00:00\n"
     ]
    },
    {
     "name": "stderr",
     "output_type": "stream",
     "text": [
      "Processing:  17%|██████████▏                                                | 7991/46077 [12:43:21<39:02:05,  3.69s/it]"
     ]
    },
    {
     "name": "stdout",
     "output_type": "stream",
     "text": [
      "Reference date 2017-12-06 00:00:00 not found. Using nearest date: 2017-12-18 00:00:00\n"
     ]
    },
    {
     "name": "stderr",
     "output_type": "stream",
     "text": [
      "Processing:  17%|██████████▏                                                | 7992/46077 [12:43:24<38:49:39,  3.67s/it]"
     ]
    },
    {
     "name": "stdout",
     "output_type": "stream",
     "text": [
      "Reference date 2017-12-05 00:00:00 not found. Using nearest date: 2017-12-18 00:00:00\n"
     ]
    },
    {
     "name": "stderr",
     "output_type": "stream",
     "text": [
      "Processing:  17%|██████████▏                                                | 7993/46077 [12:43:28<38:40:56,  3.66s/it]"
     ]
    },
    {
     "name": "stdout",
     "output_type": "stream",
     "text": [
      "Reference date 2017-12-04 00:00:00 not found. Using nearest date: 2017-12-18 00:00:00\n"
     ]
    },
    {
     "name": "stderr",
     "output_type": "stream",
     "text": [
      "Processing:  17%|██████████▏                                                | 7994/46077 [12:43:31<38:43:24,  3.66s/it]"
     ]
    },
    {
     "name": "stdout",
     "output_type": "stream",
     "text": [
      "Error for MPHASIS on 2024-09-14 00:00:00: Insufficient data to determine d+1.\n",
      "Reference date 2024-09-14 00:00:00 not found. Using nearest date: 2024-07-30 00:00:00\n"
     ]
    },
    {
     "name": "stderr",
     "output_type": "stream",
     "text": [
      "Processing:  17%|██████████▏                                                | 7995/46077 [12:43:35<39:39:00,  3.75s/it]"
     ]
    },
    {
     "name": "stdout",
     "output_type": "stream",
     "text": [
      "Reference date 2024-07-28 00:00:00 not found. Using nearest date: 2024-07-29 00:00:00\n"
     ]
    },
    {
     "name": "stderr",
     "output_type": "stream",
     "text": [
      "Processing:  17%|██████████▏                                                | 7998/46077 [12:43:47<39:12:43,  3.71s/it]"
     ]
    },
    {
     "name": "stdout",
     "output_type": "stream",
     "text": [
      "Reference date 2024-04-27 00:00:00 not found. Using nearest date: 2024-04-26 00:00:00\n"
     ]
    },
    {
     "name": "stderr",
     "output_type": "stream",
     "text": [
      "Processing:  17%|██████████▏                                                | 7999/46077 [12:43:50<38:56:58,  3.68s/it]"
     ]
    },
    {
     "name": "stdout",
     "output_type": "stream",
     "text": [
      "Reference date 2023-10-22 00:00:00 not found. Using nearest date: 2023-10-23 00:00:00\n"
     ]
    },
    {
     "name": "stderr",
     "output_type": "stream",
     "text": [
      "Processing:  17%|██████████▏                                                | 8001/46077 [12:43:58<38:53:39,  3.68s/it]"
     ]
    },
    {
     "name": "stdout",
     "output_type": "stream",
     "text": [
      "Reference date 2023-08-27 00:00:00 not found. Using nearest date: 2023-08-28 00:00:00\n"
     ]
    },
    {
     "name": "stderr",
     "output_type": "stream",
     "text": [
      "Processing:  17%|██████████▏                                                | 8002/46077 [12:44:01<39:07:22,  3.70s/it]"
     ]
    },
    {
     "name": "stdout",
     "output_type": "stream",
     "text": [
      "Reference date 2023-08-27 00:00:00 not found. Using nearest date: 2023-08-28 00:00:00\n"
     ]
    },
    {
     "name": "stderr",
     "output_type": "stream",
     "text": [
      "Processing:  17%|██████████▏                                                | 8004/46077 [12:44:09<39:23:28,  3.72s/it]"
     ]
    },
    {
     "name": "stdout",
     "output_type": "stream",
     "text": [
      "Reference date 2023-07-23 00:00:00 not found. Using nearest date: 2023-07-24 00:00:00\n"
     ]
    },
    {
     "name": "stderr",
     "output_type": "stream",
     "text": [
      "Processing:  17%|██████████▎                                                | 8005/46077 [12:44:13<40:00:54,  3.78s/it]"
     ]
    },
    {
     "name": "stdout",
     "output_type": "stream",
     "text": [
      "Reference date 2023-07-22 00:00:00 not found. Using nearest date: 2023-07-21 00:00:00\n"
     ]
    },
    {
     "name": "stderr",
     "output_type": "stream",
     "text": [
      "Processing:  17%|██████████▎                                                | 8009/46077 [12:44:28<39:20:37,  3.72s/it]"
     ]
    },
    {
     "name": "stdout",
     "output_type": "stream",
     "text": [
      "Reference date 2023-04-29 00:00:00 not found. Using nearest date: 2023-04-28 00:00:00\n"
     ]
    },
    {
     "name": "stderr",
     "output_type": "stream",
     "text": [
      "Processing:  17%|██████████▎                                                | 8016/46077 [12:44:54<38:53:03,  3.68s/it]"
     ]
    },
    {
     "name": "stdout",
     "output_type": "stream",
     "text": [
      "Reference date 2022-07-24 00:00:00 not found. Using nearest date: 2022-07-25 00:00:00\n"
     ]
    },
    {
     "name": "stderr",
     "output_type": "stream",
     "text": [
      "Processing:  17%|██████████▎                                                | 8017/46077 [12:44:58<39:39:22,  3.75s/it]"
     ]
    },
    {
     "name": "stdout",
     "output_type": "stream",
     "text": [
      "Reference date 2022-07-23 00:00:00 not found. Using nearest date: 2022-07-22 00:00:00\n"
     ]
    },
    {
     "name": "stderr",
     "output_type": "stream",
     "text": [
      "Processing:  17%|██████████▎                                                | 8025/46077 [12:45:27<39:00:15,  3.69s/it]"
     ]
    },
    {
     "name": "stdout",
     "output_type": "stream",
     "text": [
      "Reference date 2021-10-24 00:00:00 not found. Using nearest date: 2021-10-25 00:00:00\n"
     ]
    },
    {
     "name": "stderr",
     "output_type": "stream",
     "text": [
      "Processing:  17%|██████████▎                                                | 8026/46077 [12:45:31<38:53:42,  3.68s/it]"
     ]
    },
    {
     "name": "stdout",
     "output_type": "stream",
     "text": [
      "Reference date 2021-10-23 00:00:00 not found. Using nearest date: 2021-10-22 00:00:00\n"
     ]
    },
    {
     "name": "stderr",
     "output_type": "stream",
     "text": [
      "Processing:  17%|██████████▎                                                | 8031/46077 [12:45:50<39:56:03,  3.78s/it]"
     ]
    },
    {
     "name": "stdout",
     "output_type": "stream",
     "text": [
      "Reference date 2021-07-24 00:00:00 not found. Using nearest date: 2021-07-23 00:00:00\n"
     ]
    },
    {
     "name": "stderr",
     "output_type": "stream",
     "text": [
      "Processing:  17%|██████████▎                                                | 8034/46077 [12:46:01<39:08:57,  3.70s/it]"
     ]
    },
    {
     "name": "stdout",
     "output_type": "stream",
     "text": [
      "Reference date 2021-05-15 00:00:00 not found. Using nearest date: 2021-05-14 00:00:00\n"
     ]
    },
    {
     "name": "stderr",
     "output_type": "stream",
     "text": [
      "Processing:  17%|██████████▎                                                | 8044/46077 [12:46:38<39:21:11,  3.72s/it]"
     ]
    },
    {
     "name": "stdout",
     "output_type": "stream",
     "text": [
      "Reference date 2020-10-24 00:00:00 not found. Using nearest date: 2020-10-23 00:00:00\n"
     ]
    },
    {
     "name": "stderr",
     "output_type": "stream",
     "text": [
      "Processing:  17%|██████████▎                                                | 8048/46077 [12:46:53<39:02:44,  3.70s/it]"
     ]
    },
    {
     "name": "stdout",
     "output_type": "stream",
     "text": [
      "Reference date 2020-07-25 00:00:00 not found. Using nearest date: 2020-07-24 00:00:00\n"
     ]
    },
    {
     "name": "stderr",
     "output_type": "stream",
     "text": [
      "Processing:  17%|██████████▎                                                | 8057/46077 [12:47:26<38:43:32,  3.67s/it]"
     ]
    },
    {
     "name": "stdout",
     "output_type": "stream",
     "text": [
      "Reference date 2020-02-08 00:00:00 not found. Using nearest date: 2020-02-07 00:00:00\n"
     ]
    },
    {
     "name": "stderr",
     "output_type": "stream",
     "text": [
      "Processing:  18%|██████████▎                                                | 8067/46077 [12:48:02<38:46:15,  3.67s/it]"
     ]
    },
    {
     "name": "stdout",
     "output_type": "stream",
     "text": [
      "Reference date 2019-08-12 00:00:00 not found. Using nearest date: 2019-08-13 00:00:00\n"
     ]
    },
    {
     "name": "stderr",
     "output_type": "stream",
     "text": [
      "Processing:  18%|██████████▎                                                | 8068/46077 [12:48:06<38:50:04,  3.68s/it]"
     ]
    },
    {
     "name": "stdout",
     "output_type": "stream",
     "text": [
      "Reference date 2019-07-27 00:00:00 not found. Using nearest date: 2019-07-26 00:00:00\n"
     ]
    },
    {
     "name": "stderr",
     "output_type": "stream",
     "text": [
      "Processing:  18%|██████████▎                                                | 8069/46077 [12:48:10<39:24:23,  3.73s/it]"
     ]
    },
    {
     "name": "stdout",
     "output_type": "stream",
     "text": [
      "Reference date 2019-07-27 00:00:00 not found. Using nearest date: 2019-07-26 00:00:00\n"
     ]
    },
    {
     "name": "stderr",
     "output_type": "stream",
     "text": [
      "Processing:  18%|██████████▎                                                | 8070/46077 [12:48:13<39:09:48,  3.71s/it]"
     ]
    },
    {
     "name": "stdout",
     "output_type": "stream",
     "text": [
      "Reference date 2019-07-27 00:00:00 not found. Using nearest date: 2019-07-26 00:00:00\n"
     ]
    },
    {
     "name": "stderr",
     "output_type": "stream",
     "text": [
      "Processing:  18%|██████████▎                                                | 8097/46077 [12:49:53<38:38:42,  3.66s/it]"
     ]
    },
    {
     "name": "stdout",
     "output_type": "stream",
     "text": [
      "Reference date 2018-01-26 00:00:00 not found. Using nearest date: 2018-01-25 00:00:00\n"
     ]
    },
    {
     "name": "stderr",
     "output_type": "stream",
     "text": [
      "Processing:  18%|██████████▎                                                | 8099/46077 [12:50:01<38:27:06,  3.64s/it]"
     ]
    },
    {
     "name": "stdout",
     "output_type": "stream",
     "text": [
      "Reference date 2017-10-28 00:00:00 not found. Using nearest date: 2017-10-27 00:00:00\n"
     ]
    },
    {
     "name": "stderr",
     "output_type": "stream",
     "text": [
      "Processing:  18%|██████████▍                                                | 8107/46077 [12:50:30<38:37:45,  3.66s/it]"
     ]
    },
    {
     "name": "stdout",
     "output_type": "stream",
     "text": [
      "Reference date 2017-02-04 00:00:00 not found. Using nearest date: 2017-02-03 00:00:00\n"
     ]
    },
    {
     "name": "stderr",
     "output_type": "stream",
     "text": [
      "Processing:  18%|██████████▍                                                | 8110/46077 [12:50:42<39:39:06,  3.76s/it]"
     ]
    },
    {
     "name": "stdout",
     "output_type": "stream",
     "text": [
      "Reference date 2016-07-23 00:00:00 not found. Using nearest date: 2016-07-22 00:00:00\n"
     ]
    },
    {
     "name": "stderr",
     "output_type": "stream",
     "text": [
      "Processing:  18%|██████████▍                                                | 8111/46077 [12:50:46<39:16:23,  3.72s/it]"
     ]
    },
    {
     "name": "stdout",
     "output_type": "stream",
     "text": [
      "Reference date 2016-05-21 00:00:00 not found. Using nearest date: 2016-05-20 00:00:00\n"
     ]
    },
    {
     "name": "stderr",
     "output_type": "stream",
     "text": [
      "Processing:  18%|██████████▍                                                | 8115/46077 [12:51:00<39:07:18,  3.71s/it]"
     ]
    },
    {
     "name": "stdout",
     "output_type": "stream",
     "text": [
      "Error for ADVENZYMES on 2024-09-14 00:00:00: Insufficient data to determine d+1.\n",
      "Reference date 2024-09-14 00:00:00 not found. Using nearest date: 2024-07-30 00:00:00\n"
     ]
    },
    {
     "name": "stderr",
     "output_type": "stream",
     "text": [
      "Processing:  18%|██████████▍                                                | 8130/46077 [12:51:56<38:48:51,  3.68s/it]"
     ]
    },
    {
     "name": "stdout",
     "output_type": "stream",
     "text": [
      "Reference date 2016-07-19 00:00:00 not found. Using nearest date: 2016-08-01 00:00:00\n"
     ]
    },
    {
     "name": "stderr",
     "output_type": "stream",
     "text": [
      "Processing:  18%|██████████▍                                                | 8131/46077 [12:52:00<39:04:33,  3.71s/it]"
     ]
    },
    {
     "name": "stdout",
     "output_type": "stream",
     "text": [
      "Reference date 2016-07-19 00:00:00 not found. Using nearest date: 2016-08-01 00:00:00\n"
     ]
    },
    {
     "name": "stderr",
     "output_type": "stream",
     "text": [
      "Processing:  18%|██████████▍                                                | 8132/46077 [12:52:04<38:54:46,  3.69s/it]"
     ]
    },
    {
     "name": "stdout",
     "output_type": "stream",
     "text": [
      "Reference date 2016-07-18 00:00:00 not found. Using nearest date: 2016-08-01 00:00:00\n"
     ]
    },
    {
     "name": "stderr",
     "output_type": "stream",
     "text": [
      "Processing:  18%|██████████▍                                                | 8133/46077 [12:52:07<38:56:48,  3.70s/it]"
     ]
    },
    {
     "name": "stdout",
     "output_type": "stream",
     "text": [
      "Reference date 2016-07-18 00:00:00 not found. Using nearest date: 2016-08-01 00:00:00\n"
     ]
    },
    {
     "name": "stderr",
     "output_type": "stream",
     "text": [
      "Processing:  18%|██████████▍                                                | 8134/46077 [12:52:11<39:15:59,  3.73s/it]"
     ]
    },
    {
     "name": "stdout",
     "output_type": "stream",
     "text": [
      "Reference date 2016-07-15 00:00:00 not found. Using nearest date: 2016-08-01 00:00:00\n"
     ]
    },
    {
     "name": "stderr",
     "output_type": "stream",
     "text": [
      "Processing:  18%|██████████▍                                                | 8135/46077 [12:52:15<39:02:44,  3.70s/it]"
     ]
    },
    {
     "name": "stdout",
     "output_type": "stream",
     "text": [
      "Error for CEATLTD on 2024-09-14 00:00:00: Insufficient data to determine d+1.\n",
      "Reference date 2024-09-14 00:00:00 not found. Using nearest date: 2024-07-30 00:00:00\n"
     ]
    },
    {
     "name": "stderr",
     "output_type": "stream",
     "text": [
      "Processing:  18%|██████████▍                                                | 8136/46077 [12:52:19<39:23:04,  3.74s/it]"
     ]
    },
    {
     "name": "stdout",
     "output_type": "stream",
     "text": [
      "Reference date 2024-07-20 00:00:00 not found. Using nearest date: 2024-07-19 00:00:00\n"
     ]
    },
    {
     "name": "stderr",
     "output_type": "stream",
     "text": [
      "Processing:  18%|██████████▍                                                | 8137/46077 [12:52:22<38:58:45,  3.70s/it]"
     ]
    },
    {
     "name": "stdout",
     "output_type": "stream",
     "text": [
      "Reference date 2024-07-20 00:00:00 not found. Using nearest date: 2024-07-19 00:00:00\n"
     ]
    },
    {
     "name": "stderr",
     "output_type": "stream",
     "text": [
      "Processing:  18%|██████████▍                                                | 8138/46077 [12:52:26<38:47:38,  3.68s/it]"
     ]
    },
    {
     "name": "stdout",
     "output_type": "stream",
     "text": [
      "Reference date 2024-06-09 00:00:00 not found. Using nearest date: 2024-06-10 00:00:00\n"
     ]
    },
    {
     "name": "stderr",
     "output_type": "stream",
     "text": [
      "Processing:  18%|██████████▍                                                | 8139/46077 [12:52:30<38:36:53,  3.66s/it]"
     ]
    },
    {
     "name": "stdout",
     "output_type": "stream",
     "text": [
      "Reference date 2024-05-05 00:00:00 not found. Using nearest date: 2024-05-06 00:00:00\n"
     ]
    },
    {
     "name": "stderr",
     "output_type": "stream",
     "text": [
      "Processing:  18%|██████████▍                                                | 8141/46077 [12:52:37<38:32:37,  3.66s/it]"
     ]
    },
    {
     "name": "stdout",
     "output_type": "stream",
     "text": [
      "Reference date 2024-01-26 00:00:00 not found. Using nearest date: 2024-01-25 00:00:00\n"
     ]
    },
    {
     "name": "stderr",
     "output_type": "stream",
     "text": [
      "Processing:  18%|██████████▍                                                | 8150/46077 [12:53:10<38:58:51,  3.70s/it]"
     ]
    },
    {
     "name": "stdout",
     "output_type": "stream",
     "text": [
      "Reference date 2023-05-06 00:00:00 not found. Using nearest date: 2023-05-05 00:00:00\n"
     ]
    },
    {
     "name": "stderr",
     "output_type": "stream",
     "text": [
      "Processing:  18%|██████████▍                                                | 8155/46077 [12:53:29<39:00:53,  3.70s/it]"
     ]
    },
    {
     "name": "stdout",
     "output_type": "stream",
     "text": [
      "Reference date 2022-11-08 00:00:00 not found. Using nearest date: 2022-11-09 00:00:00\n"
     ]
    },
    {
     "name": "stderr",
     "output_type": "stream",
     "text": [
      "Processing:  18%|██████████▍                                                | 8184/46077 [12:55:16<38:48:15,  3.69s/it]"
     ]
    },
    {
     "name": "stdout",
     "output_type": "stream",
     "text": [
      "Reference date 2020-05-30 00:00:00 not found. Using nearest date: 2020-05-29 00:00:00\n"
     ]
    },
    {
     "name": "stderr",
     "output_type": "stream",
     "text": [
      "Processing:  18%|██████████▌                                                | 8203/46077 [12:56:43<52:04:42,  4.95s/it]"
     ]
    },
    {
     "name": "stdout",
     "output_type": "stream",
     "text": [
      "Reference date 2017-05-20 00:00:00 not found. Using nearest date: 2017-05-19 00:00:00\n"
     ]
    },
    {
     "name": "stderr",
     "output_type": "stream",
     "text": [
      "Processing:  18%|██████████▌                                                | 8210/46077 [12:57:10<40:43:25,  3.87s/it]"
     ]
    },
    {
     "name": "stdout",
     "output_type": "stream",
     "text": [
      "Reference date 2016-01-09 00:00:00 not found. Using nearest date: 2016-01-08 00:00:00\n"
     ]
    },
    {
     "name": "stderr",
     "output_type": "stream",
     "text": [
      "Processing:  18%|██████████▌                                                | 8216/46077 [12:57:35<47:44:27,  4.54s/it]"
     ]
    },
    {
     "name": "stdout",
     "output_type": "stream",
     "text": [
      "Reference date 2023-11-22 00:00:00 not found. Using nearest date: 2023-11-30 00:00:00\n"
     ]
    },
    {
     "name": "stderr",
     "output_type": "stream",
     "text": [
      "Processing:  18%|██████████▌                                                | 8217/46077 [12:57:40<50:33:17,  4.81s/it]"
     ]
    },
    {
     "name": "stdout",
     "output_type": "stream",
     "text": [
      "Reference date 2023-11-22 00:00:00 not found. Using nearest date: 2023-11-30 00:00:00\n"
     ]
    },
    {
     "name": "stderr",
     "output_type": "stream",
     "text": [
      "Processing:  18%|██████████▌                                                | 8218/46077 [12:57:45<51:20:53,  4.88s/it]"
     ]
    },
    {
     "name": "stdout",
     "output_type": "stream",
     "text": [
      "Error for MANAPPURAM on 2024-09-14 00:00:00: Insufficient data to determine d+1.\n",
      "Reference date 2024-09-14 00:00:00 not found. Using nearest date: 2024-07-30 00:00:00\n"
     ]
    },
    {
     "name": "stderr",
     "output_type": "stream",
     "text": [
      "Processing:  18%|██████████▌                                                | 8219/46077 [12:57:50<51:45:34,  4.92s/it]"
     ]
    },
    {
     "name": "stdout",
     "output_type": "stream",
     "text": [
      "Error for MANAPPURAM on 2024-08-14 00:00:00: Insufficient data to determine d+1.\n",
      "Reference date 2024-08-14 00:00:00 not found. Using nearest date: 2024-07-30 00:00:00\n"
     ]
    },
    {
     "name": "stderr",
     "output_type": "stream",
     "text": [
      "Processing:  18%|██████████▌                                                | 8220/46077 [12:57:55<52:21:06,  4.98s/it]"
     ]
    },
    {
     "name": "stdout",
     "output_type": "stream",
     "text": [
      "Error for MANAPPURAM on 2024-08-14 00:00:00: Insufficient data to determine d+1.\n",
      "Reference date 2024-08-14 00:00:00 not found. Using nearest date: 2024-07-30 00:00:00\n"
     ]
    },
    {
     "name": "stderr",
     "output_type": "stream",
     "text": [
      "Processing:  18%|██████████▌                                                | 8221/46077 [12:58:01<55:19:36,  5.26s/it]"
     ]
    },
    {
     "name": "stdout",
     "output_type": "stream",
     "text": [
      "Error for MANAPPURAM on 2024-08-13 00:00:00: Insufficient data to determine d+1.\n",
      "Reference date 2024-08-13 00:00:00 not found. Using nearest date: 2024-07-30 00:00:00\n"
     ]
    },
    {
     "name": "stderr",
     "output_type": "stream",
     "text": [
      "Processing:  18%|██████████▌                                                | 8223/46077 [12:58:16<65:35:30,  6.24s/it]"
     ]
    },
    {
     "name": "stdout",
     "output_type": "stream",
     "text": [
      "Reference date 2024-05-26 00:00:00 not found. Using nearest date: 2024-05-27 00:00:00\n"
     ]
    },
    {
     "name": "stderr",
     "output_type": "stream",
     "text": [
      "Processing:  18%|██████████▌                                                | 8224/46077 [12:58:20<58:51:55,  5.60s/it]"
     ]
    },
    {
     "name": "stdout",
     "output_type": "stream",
     "text": [
      "Reference date 2024-05-25 00:00:00 not found. Using nearest date: 2024-05-24 00:00:00\n"
     ]
    },
    {
     "name": "stderr",
     "output_type": "stream",
     "text": [
      "Processing:  18%|██████████▌                                                | 8226/46077 [12:58:28<50:19:30,  4.79s/it]"
     ]
    },
    {
     "name": "stdout",
     "output_type": "stream",
     "text": [
      "Reference date 2024-02-17 00:00:00 not found. Using nearest date: 2024-02-16 00:00:00\n"
     ]
    },
    {
     "name": "stderr",
     "output_type": "stream",
     "text": [
      "Processing:  18%|██████████▌                                                | 8235/46077 [12:59:03<41:10:40,  3.92s/it]"
     ]
    },
    {
     "name": "stdout",
     "output_type": "stream",
     "text": [
      "Reference date 2023-11-14 00:00:00 not found. Using nearest date: 2023-11-15 00:00:00\n"
     ]
    },
    {
     "name": "stderr",
     "output_type": "stream",
     "text": [
      "Processing:  18%|██████████▌                                                | 8240/46077 [12:59:22<40:04:41,  3.81s/it]"
     ]
    },
    {
     "name": "stdout",
     "output_type": "stream",
     "text": [
      "Reference date 2023-05-13 00:00:00 not found. Using nearest date: 2023-05-12 00:00:00\n"
     ]
    },
    {
     "name": "stderr",
     "output_type": "stream",
     "text": [
      "Processing:  18%|██████████▌                                                | 8241/46077 [12:59:26<40:32:10,  3.86s/it]"
     ]
    },
    {
     "name": "stdout",
     "output_type": "stream",
     "text": [
      "Reference date 2023-05-07 00:00:00 not found. Using nearest date: 2023-05-08 00:00:00\n"
     ]
    },
    {
     "name": "stderr",
     "output_type": "stream",
     "text": [
      "Processing:  18%|██████████▌                                                | 8245/46077 [12:59:42<40:36:07,  3.86s/it]"
     ]
    },
    {
     "name": "stdout",
     "output_type": "stream",
     "text": [
      "Reference date 2023-02-05 00:00:00 not found. Using nearest date: 2023-02-06 00:00:00\n"
     ]
    },
    {
     "name": "stderr",
     "output_type": "stream",
     "text": [
      "Processing:  18%|██████████▌                                                | 8246/46077 [12:59:46<40:55:36,  3.89s/it]"
     ]
    },
    {
     "name": "stdout",
     "output_type": "stream",
     "text": [
      "Reference date 2023-02-05 00:00:00 not found. Using nearest date: 2023-02-06 00:00:00\n"
     ]
    },
    {
     "name": "stderr",
     "output_type": "stream",
     "text": [
      "Processing:  18%|██████████▌                                                | 8261/46077 [13:00:52<48:05:08,  4.58s/it]"
     ]
    }
   ],
   "source": [
    "import pandas as pd\n",
    "from tqdm import tqdm\n",
    "\n",
    "# Function to get the nearest available date in stock data if the exact date is missing\n",
    "def get_nearest_date(stock_data, reference_date):\n",
    "    stock_data = stock_data.copy()\n",
    "    stock_data['Date'] = pd.to_datetime(stock_data['Date'])  \n",
    "    reference_date = pd.to_datetime(reference_date)\n",
    "    \n",
    "    if reference_date in stock_data['Date'].values:\n",
    "        return reference_date  # Exact match found\n",
    "    else:\n",
    "        # Find the nearest available date\n",
    "        closest_date = stock_data.loc[stock_data['Date'].sub(reference_date).abs().idxmin(), 'Date']\n",
    "        return closest_date\n",
    "\n",
    "# Loop through each row of the analyst ratings with a progress bar\n",
    "for index, row in tqdm(analyst_ratings.iterrows(), total=analyst_ratings.shape[0], desc=\"Processing\"):\n",
    "    matched_company = row['matched_company_name']  # Refer to the matched company name in the dataframe\n",
    "    \n",
    "    if matched_company:\n",
    "        # Get the ticker corresponding to the matched company name\n",
    "        matched_ticker = stock_df[stock_df['Company Name'].str.lower() == matched_company]['Symbol'].iloc[0]\n",
    "    else:\n",
    "        matched_ticker = None  # No matching company found\n",
    "    \n",
    "    n_days = 5  # Set the number of days for predicting return\n",
    "    \n",
    "    # Initialize nearest_date outside the condition to handle cases where matched_ticker is None\n",
    "    nearest_date = None\n",
    "    \n",
    "    # Only call the function if a ticker was found\n",
    "    if matched_ticker:\n",
    "        try:\n",
    "            # Get stock data for the matched ticker\n",
    "            stock_data = stock_df.loc[stock_df['Symbol'] == matched_ticker].copy()  # Use .copy() to avoid warnings\n",
    "            \n",
    "            # Get the nearest available date if the reference date is not found\n",
    "            nearest_date = get_nearest_date(stock_data, row['date'])\n",
    "            \n",
    "            # Call the prediction function with the nearest available date\n",
    "            _, _, total_return, _, _, _ = predict_n_day_return(matched_ticker, nearest_date, n_days, stock_df, dividend_rows)\n",
    "            analyst_ratings.loc[index, 'actual_return'] = total_return  # Use .loc to set the value\n",
    "        \n",
    "        except Exception as e:\n",
    "            analyst_ratings.loc[index, 'actual_return'] = None  # Store None if there's an error\n",
    "            tqdm.write(f\"Error for {matched_ticker} on {row['date']}: {e}\")\n",
    "    else:\n",
    "        analyst_ratings.loc[index, 'actual_return'] = None  # No ticker found, store None\n",
    "    \n",
    "    # Print a warning if the nearest date is not the same as the reference date and is defined\n",
    "    if nearest_date is not None and nearest_date != row['date']:\n",
    "        tqdm.write(f\"Reference date {row['date']} not found. Using nearest date: {nearest_date}\")"
   ]
  },
  {
   "cell_type": "code",
   "execution_count": null,
   "id": "f731bcd2-c3cc-4ec8-ac7b-72f19f0fa1d3",
   "metadata": {},
   "outputs": [],
   "source": [
    "industry_keywords = {\n",
    "    'Finance': ['bank', 'financial', 'insurance', 'capital', 'investment', 'wealth', 'lending', 'asset management', 'mutual fund', 'securities', 'credit', 'equity', 'stock exchange', 'private equity', 'venture capital'],\n",
    "    \n",
    "    'Technology': ['tech', 'software', 'IT', 'digital', 'cloud', 'data', 'artificial intelligence', 'AI', 'machine learning', 'hardware', 'blockchain', 'cybersecurity', 'semiconductor', 'saas', 'paas', 'technology services', 'internet', 'networking'],\n",
    "    \n",
    "    'Healthcare': ['pharma', 'biotech', 'medical', 'healthcare', 'hospital', 'clinical', 'diagnostics', 'life sciences', 'medtech', 'wellness', 'drug', 'therapy', 'genomics', 'vaccines', 'biopharma'],\n",
    "    \n",
    "    'Manufacturing': ['steel', 'cement', 'construction', 'engineering', 'manufacturing', 'machinery', 'industrial', 'fabrication', 'metals', 'automotive', 'tools', 'aerospace', 'assembly', 'chemicals', 'plastics', 'production'],\n",
    "    \n",
    "    'Energy': ['oil', 'energy', 'gas', 'power', 'coal', 'electricity', 'solar', 'renewable', 'wind', 'hydro', 'nuclear', 'fossil fuels', 'mining', 'petroleum', 'green energy', 'battery'],\n",
    "    \n",
    "    'Consumer Goods': ['consumer', 'retail', 'fashion', 'apparel', 'food', 'beverage', 'fmcg', 'personal care', 'household', 'luxury', 'ecommerce', 'cosmetics', 'home appliances', 'groceries', 'sportswear', 'furniture'],\n",
    "    \n",
    "    'Telecommunications': ['telecom', 'wireless', 'broadband', 'satellite', 'mobile', 'network', 'fiber', 'telecommunication services', 'cellular', '5G', 'communication', 'ISP'],\n",
    "    \n",
    "    'Utilities': ['water', 'electric', 'gas distribution', 'utilities', 'waste management', 'public services', 'sanitation', 'power grid'],\n",
    "    \n",
    "    'Real Estate': ['real estate', 'property', 'construction', 'housing', 'commercial real estate', 'residential', 'mortgage', 'land development', 'realty', 'leasing', 'brokerage', 'facility management', 'rental'],\n",
    "    \n",
    "    'Transportation': ['logistics', 'shipping', 'transportation', 'rail', 'trucking', 'freight', 'airlines', 'aviation', 'maritime', 'delivery', 'supply chain', 'public transport', 'cargo', 'transport services'],\n",
    "    \n",
    "    'Media & Entertainment': ['media', 'entertainment', 'film', 'television', 'music', 'broadcast', 'news', 'publishing', 'streaming', 'advertising', 'social media', 'gaming', 'content creation'],\n",
    "    \n",
    "    'Agriculture': ['agriculture', 'farming', 'crop', 'livestock', 'dairy', 'agribusiness', 'fertilizers', 'agrochemicals', 'forestry', 'horticulture', 'fisheries', 'seed', 'organic farming'],\n",
    "    \n",
    "    'Retail': ['retail', 'wholesale', 'department store', 'grocery', 'mall', 'shopping', 'online store', 'boutique', 'supermarket', 'convenience store']\n",
    "}"
   ]
  },
  {
   "cell_type": "code",
   "execution_count": null,
   "id": "ecb73112-9131-4352-b8a5-cecac09c704f",
   "metadata": {},
   "outputs": [],
   "source": [
    "from tqdm import tqdm\n",
    "\n",
    "# Initialize tqdm for pandas\n",
    "tqdm.pandas()\n",
    "\n",
    "# Function to identify sector based on description\n",
    "def identify_sector(description):\n",
    "    description = description.lower()  # Convert to lowercase for case-insensitive matching\n",
    "    for sector, keywords in industry_keywords.items():\n",
    "        if any(keyword in description for keyword in keywords):\n",
    "            return sector\n",
    "    return 'Unknown'  # Return 'Unknown' if no match is found\n",
    "\n",
    "# Create a new DataFrame with unique companies based on 'Symbol'\n",
    "unique_companies_df = stock_df.drop_duplicates(subset=['Symbol']).copy()\n",
    "\n",
    "# Apply sector identification on the unique companies\n",
    "unique_companies_df['Sector'] = unique_companies_df['Description'].progress_apply(identify_sector)\n",
    "\n",
    "# Display the updated DataFrame with unique entries and their sector\n",
    "print(unique_companies_df[['Symbol', 'Company Name', 'Description', 'Sector']])\n",
    "\n",
    "# If needed, you can save this to a new DataFrame, e.g., `unique_sector_df`, without affecting `stock_df`\n",
    "unique_sector_df = unique_companies_df[['Symbol', 'Company Name', 'Description', 'Sector']].copy()\n"
   ]
  },
  {
   "cell_type": "code",
   "execution_count": null,
   "id": "f92c1e05-82f8-4c68-a061-fe3ef9c1d1a9",
   "metadata": {},
   "outputs": [],
   "source": [
    "# Ensure the DataFrame with unique sectors based on symbols is saved as 'unique_sectors_df'\n",
    "# Assuming 'Symbol' is the column name in both DataFrames\n",
    "\n",
    "# Perform an inner join on 'Symbol' column\n",
    "merged_df = pd.merge(analyst_ratings, unique_sector_df[['Symbol', 'Sector']], on='Symbol', how='inner')\n",
    "\n",
    "# Display the merged DataFrame to confirm\n",
    "print(merged_df.head())"
   ]
  },
  {
   "cell_type": "code",
   "execution_count": null,
   "id": "bd9696b7-4647-476d-820a-52cc5173fe6b",
   "metadata": {},
   "outputs": [],
   "source": [
    "# Select only the desired columns from merged_df\n",
    "filtered_df = merged_df[['date', 'Company Name', 'Symbol', 'author', 'Sector', 'expected_return', 'actual_return']]\n",
    "\n",
    "# Display the filtered DataFrame to verify\n",
    "print(filtered_df.head())"
   ]
  },
  {
   "cell_type": "code",
   "execution_count": null,
   "id": "64203ae1-b91f-446e-8f85-58b1a855a6fa",
   "metadata": {},
   "outputs": [],
   "source": [
    "import matplotlib.pyplot as plt\n",
    "import seaborn as sns\n",
    "\n",
    "# Group by 'Sector' and aggregate company names\n",
    "sector_group_details = filtered_df.groupby('Sector').agg({\n",
    "    'Company Name': lambda x: ', '.join(x.unique()),  # Combine company names\n",
    "    'Symbol': 'count'  # Count the number of companies in each sector\n",
    "}).reset_index()\n",
    "\n",
    "# Rename the 'Symbol' column to 'Company Count' for clarity\n",
    "sector_group_details.rename(columns={'Symbol': 'Company Count'}, inplace=True)\n",
    "\n",
    "# Display the sector details\n",
    "print(sector_group_details)\n"
   ]
  },
  {
   "cell_type": "code",
   "execution_count": null,
   "id": "215465a0-d547-4076-b30e-4e3e59848e41",
   "metadata": {},
   "outputs": [],
   "source": [
    "import matplotlib.pyplot as plt\n",
    "import seaborn as sns\n",
    "\n",
    "# Group by 'Sector' and aggregate company names\n",
    "sector_group_details = filtered_df.groupby('Sector').agg({\n",
    "    'Company Name': lambda x: ', '.join(x.unique()),  # Combine company names\n",
    "    'Symbol': 'count'  # Count the number of companies in each sector\n",
    "}).reset_index()\n",
    "\n",
    "# Rename the 'Symbol' column to 'Company Count' for clarity\n",
    "sector_group_details.rename(columns={'Symbol': 'Company Count'}, inplace=True)\n",
    "\n",
    "# Display the sector details\n",
    "print(sector_group_details)"
   ]
  },
  {
   "cell_type": "markdown",
   "id": "5e93e5ba-1e1c-4b8e-8efd-40bd2d385da2",
   "metadata": {},
   "source": [
    "# Output Dataframe - Final"
   ]
  },
  {
   "cell_type": "code",
   "execution_count": null,
   "id": "cd95b45b-0fe9-41c5-801c-17c7f4f6731d",
   "metadata": {},
   "outputs": [],
   "source": [
    "# Save filtered_df as a CSV file\n",
    "filtered_df.to_csv('data/filtered_data_2.csv', index=False)"
   ]
  },
  {
   "cell_type": "code",
   "execution_count": null,
   "id": "c758daa0-e66e-4416-bee3-d217c41ae59b",
   "metadata": {},
   "outputs": [],
   "source": []
  },
  {
   "cell_type": "code",
   "execution_count": null,
   "id": "eafb76b2-b8a8-42d6-822c-295bc5d2ee03",
   "metadata": {},
   "outputs": [],
   "source": []
  },
  {
   "cell_type": "code",
   "execution_count": null,
   "id": "df935bb8-4710-4d52-836b-b0dc06b2a38d",
   "metadata": {},
   "outputs": [],
   "source": []
  },
  {
   "cell_type": "code",
   "execution_count": null,
   "id": "0424f712-32f7-4246-80d0-80bb1a50c7ea",
   "metadata": {},
   "outputs": [],
   "source": []
  }
 ],
 "metadata": {
  "kernelspec": {
   "display_name": "Python 3 (ipykernel)",
   "language": "python",
   "name": "python3"
  },
  "language_info": {
   "codemirror_mode": {
    "name": "ipython",
    "version": 3
   },
   "file_extension": ".py",
   "mimetype": "text/x-python",
   "name": "python",
   "nbconvert_exporter": "python",
   "pygments_lexer": "ipython3",
   "version": "3.11.5"
  }
 },
 "nbformat": 4,
 "nbformat_minor": 5
}
