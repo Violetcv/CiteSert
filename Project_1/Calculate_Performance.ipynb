{
 "cells": [
  {
   "cell_type": "code",
   "execution_count": 20,
   "id": "e1be7793-1f18-4dc6-83ff-0886ea9b22f4",
   "metadata": {},
   "outputs": [],
   "source": [
    "import pandas as pd\n",
    "from datetime import timedelta"
   ]
  },
  {
   "cell_type": "code",
   "execution_count": 21,
   "id": "56705184-de07-4428-9b49-7a7de3edb9eb",
   "metadata": {},
   "outputs": [
    {
     "name": "stdout",
     "output_type": "stream",
     "text": [
      "         date                    Company Name      Symbol  \\\n",
      "0  2015-11-16  speciality restaurants limited  SPECIALITY   \n",
      "1  2015-08-13  speciality restaurants limited  SPECIALITY   \n",
      "2  2024-09-14           eicher motors limited   EICHERMOT   \n",
      "3  2024-08-09           eicher motors limited   EICHERMOT   \n",
      "4  2024-08-09           eicher motors limited   EICHERMOT   \n",
      "\n",
      "                         author         Sector  expected_return  actual_return  \n",
      "0                         Karvy     Technology         9.432421      -0.018033  \n",
      "1           Reliance Securities     Technology         7.189542       0.018065  \n",
      "2  Consensus Share Price Target  Manufacturing              NaN            NaN  \n",
      "3                   Axis Direct  Manufacturing         4.748892            NaN  \n",
      "4           Prabhudas Lilladhar  Manufacturing        10.441767            NaN  \n"
     ]
    }
   ],
   "source": [
    "# Load the filtered DataFrame from the CSV file\n",
    "df = pd.read_csv('data/filtered_data_2.csv')\n",
    "\n",
    "# Display the first few rows of the DataFrame to verify it loaded correctly\n",
    "print(df.head())"
   ]
  },
  {
   "cell_type": "code",
   "execution_count": 22,
   "id": "37c446f9-389c-4051-a3de-5be377fb4036",
   "metadata": {},
   "outputs": [],
   "source": [
    "# Helper function to get top authors by positive correlation\n",
    "def get_top_authors_by_sector(df, start_date, end_date, top_n=10):\n",
    "    # Filter data for the period\n",
    "    period_data = df[(df['date'] >= start_date) & (df['date'] <= end_date)]\n",
    "\n",
    "    # Calculate correlation for each author-sector pair within this period\n",
    "    correlations = (\n",
    "        period_data.groupby(['Sector', 'author'])[['expected_return', 'actual_return']]\n",
    "        .corr()\n",
    "        .iloc[0::2, 1]  # Gets correlation between expected_return and actual_return\n",
    "        .reset_index(name='correlation')\n",
    "    )\n",
    "\n",
    "    # Filter for positive correlations only\n",
    "    positive_correlations = correlations[correlations['correlation'] > 0]\n",
    "\n",
    "    # Get top N authors per sector with highest positive correlations\n",
    "    top_authors_per_sector = (\n",
    "        positive_correlations.sort_values(by=['Sector', 'correlation'], ascending=[True, False])\n",
    "        .groupby('Sector')\n",
    "        .head(top_n)\n",
    "    )\n",
    "    \n",
    "    return top_authors_per_sector[['Sector', 'author', 'correlation']]"
   ]
  },
  {
   "cell_type": "code",
   "execution_count": 23,
   "id": "9b392e6b-643d-4526-a043-c3c3d76f16eb",
   "metadata": {},
   "outputs": [],
   "source": [
    "# Step 2: Define the function to evaluate monthly predictions\n",
    "def evaluate_monthly_performance(df, start_date, end_date, prediction_month):\n",
    "    # Get top authors per sector for the historical period\n",
    "    top_authors = get_top_authors_by_sector(df, start_date, end_date)\n",
    "\n",
    "    # Filter data for predictions in the target month\n",
    "    prediction_data = df[(df['date'].dt.to_period('M') == prediction_month)]\n",
    "\n",
    "    # Calculate performance for each (author, sector) pair in the top authors list\n",
    "    performance_data = []\n",
    "    for _, row in prediction_data.iterrows():\n",
    "        sector = row['Sector']\n",
    "        author = row['author']\n",
    "\n",
    "        # Check if author is in the top authors list for the sector\n",
    "        if not ((top_authors['Sector'] == sector) & (top_authors['author'] == author)).any():\n",
    "            continue  # Skip if the author-sector pair is not in the top authors list\n",
    "\n",
    "        # Calculate performance (signed direction of expected_return * actual_return)\n",
    "        performance = (row['expected_return'] * row['actual_return'])\n",
    "        performance_data.append({\n",
    "            'date': row['date'],\n",
    "            'Sector': sector,\n",
    "            'author': author,\n",
    "            'performance': performance\n",
    "        })\n",
    "\n",
    "    return pd.DataFrame(performance_data)"
   ]
  },
  {
   "cell_type": "code",
   "execution_count": 24,
   "id": "4fe1b0fd-2983-4dc1-8d8b-7c437bd91733",
   "metadata": {},
   "outputs": [],
   "source": [
    "# Step 3: Loop through each month and calculate performance\n",
    "performance_results = []\n",
    "df['date'] = pd.to_datetime(df['date'])\n",
    "min_date = df['date'].min()\n",
    "max_date = df['date'].max()"
   ]
  },
  {
   "cell_type": "code",
   "execution_count": 25,
   "id": "60f57062-7d32-45e3-bcd5-6819bdce5dd3",
   "metadata": {},
   "outputs": [
    {
     "name": "stderr",
     "output_type": "stream",
     "text": [
      "Processing Months: 100%|█████████████████████████████████████████████████████████████| 171/171 [00:55<00:00,  3.11it/s]\n"
     ]
    }
   ],
   "source": [
    "from tqdm import tqdm\n",
    "\n",
    "# Calculate total number of months to iterate\n",
    "total_months = ((max_date - (min_date + timedelta(days=365))).days) // 30\n",
    "\n",
    "# Initialize current_date\n",
    "current_date = min_date + timedelta(days=365)\n",
    "\n",
    "# Loop from the earliest date (shifted by one year) to the last available month\n",
    "for _ in tqdm(range(total_months), desc=\"Processing Months\"):\n",
    "    # Define the historical period (last 12 months)\n",
    "    start_date = current_date - timedelta(days=365)\n",
    "    end_date = current_date - timedelta(days=1)\n",
    "    \n",
    "    # Format current month for prediction data\n",
    "    prediction_month = current_date.to_period('M')\n",
    "    \n",
    "    # Evaluate performance for this month\n",
    "    monthly_performance = evaluate_monthly_performance(df, start_date, end_date, prediction_month)\n",
    "        # Add a column to explicitly indicate the prediction month\n",
    "    monthly_performance['prediction_month'] = prediction_month  # Ensures all rows get the same monthly timestamp\n",
    "\n",
    "    performance_results.append(monthly_performance)\n",
    "    \n",
    "    # Move to the next month\n",
    "    current_date += timedelta(days=30)  # Approximate month increment\n"
   ]
  },
  {
   "cell_type": "code",
   "execution_count": 37,
   "id": "6c4c711e-845c-45c2-ae91-814869fd4b2a",
   "metadata": {},
   "outputs": [
    {
     "name": "stdout",
     "output_type": "stream",
     "text": [
      "Performance of analysts' predictions by (author, sector) for each month:\n",
      "      prediction_month       date          Sector                    author  \\\n",
      "0              2011-07 2011-07-26         Finance       Chola Wealth Direct   \n",
      "1              2011-07 2011-07-30         Finance       Chola Wealth Direct   \n",
      "2              2011-08 2011-08-04         Finance       Chola Wealth Direct   \n",
      "3              2011-08 2011-08-04         Finance       Chola Wealth Direct   \n",
      "4              2011-10 2011-10-19         Finance       Chola Wealth Direct   \n",
      "...                ...        ...             ...                       ...   \n",
      "13461          2024-07 2024-07-18         Finance               Axis Direct   \n",
      "13462          2024-07 2024-07-18         Finance  BOB Capital Markets Ltd.   \n",
      "13463          2024-07 2024-07-18         Finance              IDBI Capital   \n",
      "13464          2024-07 2024-07-25  Consumer Goods               Anand Rathi   \n",
      "13465          2024-07 2024-07-25  Consumer Goods  ICICI Securities Limited   \n",
      "\n",
      "       performance  \n",
      "0        -0.887305  \n",
      "1              NaN  \n",
      "2              NaN  \n",
      "3              NaN  \n",
      "4         1.842394  \n",
      "...            ...  \n",
      "13461    -0.189415  \n",
      "13462          NaN  \n",
      "13463     0.155093  \n",
      "13464     0.767967  \n",
      "13465     0.557215  \n",
      "\n",
      "[13466 rows x 5 columns]\n"
     ]
    }
   ],
   "source": [
    "# Concatenate all results into a final DataFrame\n",
    "final_performance_df = pd.concat(performance_results, ignore_index=True)\n",
    "\n",
    "# Display or save results\n",
    "print(\"Performance of analysts' predictions by (author, sector) for each month:\")\n",
    "print(final_performance_df)"
   ]
  },
  {
   "cell_type": "code",
   "execution_count": 38,
   "id": "68c4b85d-0e4e-4ad7-b69e-15134c86a8d0",
   "metadata": {},
   "outputs": [
    {
     "name": "stdout",
     "output_type": "stream",
     "text": [
      "Results without NaN values:\n",
      "      prediction_month       date          Sector                    author  \\\n",
      "0              2011-07 2011-07-26         Finance       Chola Wealth Direct   \n",
      "4              2011-10 2011-10-19         Finance       Chola Wealth Direct   \n",
      "6              2012-01 2012-01-24         Finance       Chola Wealth Direct   \n",
      "9              2012-05 2012-05-02         Finance       Chola Wealth Direct   \n",
      "11             2012-05 2012-05-09         Finance       Chola Wealth Direct   \n",
      "...                ...        ...             ...                       ...   \n",
      "13460          2024-07 2024-07-18         Finance             Motilal Oswal   \n",
      "13461          2024-07 2024-07-18         Finance               Axis Direct   \n",
      "13463          2024-07 2024-07-18         Finance              IDBI Capital   \n",
      "13464          2024-07 2024-07-25  Consumer Goods               Anand Rathi   \n",
      "13465          2024-07 2024-07-25  Consumer Goods  ICICI Securities Limited   \n",
      "\n",
      "       performance  \n",
      "0        -0.887305  \n",
      "4         1.842394  \n",
      "6         0.976929  \n",
      "9        -0.505296  \n",
      "11        0.933437  \n",
      "...            ...  \n",
      "13460    -0.683916  \n",
      "13461    -0.189415  \n",
      "13463     0.155093  \n",
      "13464     0.767967  \n",
      "13465     0.557215  \n",
      "\n",
      "[12048 rows x 5 columns]\n"
     ]
    }
   ],
   "source": [
    "# Remove rows with NaN values\n",
    "cleaned_results = final_performance_df.dropna()\n",
    "\n",
    "# Print cleaned results\n",
    "print(\"Results without NaN values:\")\n",
    "print(cleaned_results)"
   ]
  },
  {
   "cell_type": "code",
   "execution_count": 39,
   "id": "d1a58a8f-1d87-4a86-8ef6-a258277c7835",
   "metadata": {},
   "outputs": [],
   "source": [
    "# Group by month if the result still contains daily-level data\n",
    "monthly_results = cleaned_results.groupby('prediction_month').mean(numeric_only=True).reset_index()"
   ]
  },
  {
   "cell_type": "code",
   "execution_count": 40,
   "id": "5ba08d45-bec6-4df5-a879-70d69fdcb146",
   "metadata": {},
   "outputs": [
    {
     "data": {
      "text/html": [
       "<div>\n",
       "<style scoped>\n",
       "    .dataframe tbody tr th:only-of-type {\n",
       "        vertical-align: middle;\n",
       "    }\n",
       "\n",
       "    .dataframe tbody tr th {\n",
       "        vertical-align: top;\n",
       "    }\n",
       "\n",
       "    .dataframe thead th {\n",
       "        text-align: right;\n",
       "    }\n",
       "</style>\n",
       "<table border=\"1\" class=\"dataframe\">\n",
       "  <thead>\n",
       "    <tr style=\"text-align: right;\">\n",
       "      <th></th>\n",
       "      <th>prediction_month</th>\n",
       "      <th>performance</th>\n",
       "    </tr>\n",
       "  </thead>\n",
       "  <tbody>\n",
       "    <tr>\n",
       "      <th>0</th>\n",
       "      <td>2011-07</td>\n",
       "      <td>-0.887305</td>\n",
       "    </tr>\n",
       "    <tr>\n",
       "      <th>1</th>\n",
       "      <td>2011-10</td>\n",
       "      <td>1.842394</td>\n",
       "    </tr>\n",
       "    <tr>\n",
       "      <th>2</th>\n",
       "      <td>2012-01</td>\n",
       "      <td>0.976929</td>\n",
       "    </tr>\n",
       "    <tr>\n",
       "      <th>3</th>\n",
       "      <td>2012-05</td>\n",
       "      <td>0.214071</td>\n",
       "    </tr>\n",
       "    <tr>\n",
       "      <th>4</th>\n",
       "      <td>2012-07</td>\n",
       "      <td>0.510901</td>\n",
       "    </tr>\n",
       "    <tr>\n",
       "      <th>...</th>\n",
       "      <td>...</td>\n",
       "      <td>...</td>\n",
       "    </tr>\n",
       "    <tr>\n",
       "      <th>138</th>\n",
       "      <td>2024-03</td>\n",
       "      <td>0.386272</td>\n",
       "    </tr>\n",
       "    <tr>\n",
       "      <th>139</th>\n",
       "      <td>2024-04</td>\n",
       "      <td>0.097032</td>\n",
       "    </tr>\n",
       "    <tr>\n",
       "      <th>140</th>\n",
       "      <td>2024-05</td>\n",
       "      <td>-0.113187</td>\n",
       "    </tr>\n",
       "    <tr>\n",
       "      <th>141</th>\n",
       "      <td>2024-06</td>\n",
       "      <td>0.502706</td>\n",
       "    </tr>\n",
       "    <tr>\n",
       "      <th>142</th>\n",
       "      <td>2024-07</td>\n",
       "      <td>0.207928</td>\n",
       "    </tr>\n",
       "  </tbody>\n",
       "</table>\n",
       "<p>143 rows × 2 columns</p>\n",
       "</div>"
      ],
      "text/plain": [
       "    prediction_month  performance\n",
       "0            2011-07    -0.887305\n",
       "1            2011-10     1.842394\n",
       "2            2012-01     0.976929\n",
       "3            2012-05     0.214071\n",
       "4            2012-07     0.510901\n",
       "..               ...          ...\n",
       "138          2024-03     0.386272\n",
       "139          2024-04     0.097032\n",
       "140          2024-05    -0.113187\n",
       "141          2024-06     0.502706\n",
       "142          2024-07     0.207928\n",
       "\n",
       "[143 rows x 2 columns]"
      ]
     },
     "execution_count": 40,
     "metadata": {},
     "output_type": "execute_result"
    }
   ],
   "source": [
    "monthly_results"
   ]
  },
  {
   "cell_type": "code",
   "execution_count": 29,
   "id": "02e35e90-df2f-4ce3-9f10-08a150434a31",
   "metadata": {},
   "outputs": [
    {
     "name": "stdout",
     "output_type": "stream",
     "text": [
      "Rows with NaN values:\n",
      "      prediction_month       date      Sector                    author  \\\n",
      "1              2011-07 2011-07-30     Finance       Chola Wealth Direct   \n",
      "2              2011-08 2011-08-04     Finance       Chola Wealth Direct   \n",
      "3              2011-08 2011-08-04     Finance       Chola Wealth Direct   \n",
      "5              2011-11 2011-11-18     Finance       Chola Wealth Direct   \n",
      "7              2012-02 2012-02-01     Finance       Chola Wealth Direct   \n",
      "...                ...        ...         ...                       ...   \n",
      "13434          2024-07 2024-07-02  Healthcare            SBI Securities   \n",
      "13435          2024-07 2024-07-30  Technology       Prabhudas Lilladhar   \n",
      "13436          2024-07 2024-07-30  Technology              ICICI Direct   \n",
      "13443          2024-07 2024-07-31  Healthcare              ICICI Direct   \n",
      "13462          2024-07 2024-07-18     Finance  BOB Capital Markets Ltd.   \n",
      "\n",
      "       performance  \n",
      "1              NaN  \n",
      "2              NaN  \n",
      "3              NaN  \n",
      "5              NaN  \n",
      "7              NaN  \n",
      "...            ...  \n",
      "13434          NaN  \n",
      "13435          NaN  \n",
      "13436          NaN  \n",
      "13443          NaN  \n",
      "13462          NaN  \n",
      "\n",
      "[1418 rows x 5 columns]\n",
      "NaN counts per column:\n",
      "prediction_month       0\n",
      "date                   0\n",
      "Sector                 0\n",
      "author                 0\n",
      "performance         1418\n",
      "dtype: int64\n"
     ]
    }
   ],
   "source": [
    "# Check rows with NaN values\n",
    "nan_rows = final_performance_df[final_performance_df.isna().any(axis=1)]\n",
    "print(\"Rows with NaN values:\")\n",
    "print(nan_rows)\n",
    "\n",
    "# Count NaN occurrences in each column\n",
    "nan_counts = final_performance_df.isna().sum()\n",
    "print(\"NaN counts per column:\")\n",
    "print(nan_counts)"
   ]
  },
  {
   "cell_type": "code",
   "execution_count": 30,
   "id": "ddabe1d4-1d4e-4337-8707-b894be9563e5",
   "metadata": {},
   "outputs": [],
   "source": [
    "# Prepare variables\n",
    "total_months = ((max_date - (min_date + timedelta(days=365))).days) // 30\n",
    "current_date = min_date + timedelta(days=365)\n",
    "performance_results = []"
   ]
  },
  {
   "cell_type": "code",
   "execution_count": 31,
   "id": "f5de234f-6835-48d2-ae24-784945a2dfd1",
   "metadata": {},
   "outputs": [
    {
     "name": "stderr",
     "output_type": "stream",
     "text": [
      "Processing Months: 100%|█████████████████████████████████████████████████████████████| 171/171 [00:46<00:00,  3.66it/s]\n"
     ]
    }
   ],
   "source": [
    "for _ in tqdm(range(total_months), desc=\"Processing Months\"):\n",
    "    start_date = current_date - timedelta(days=365)\n",
    "    end_date = current_date - timedelta(days=1)\n",
    "    prediction_month = current_date.to_period('M')  # Convert to monthly period\n",
    "\n",
    "    # Evaluate performance for this period and month\n",
    "    monthly_performance = evaluate_monthly_performance(df, start_date, end_date, prediction_month)\n",
    "\n",
    "    # Add a column to explicitly indicate the prediction month\n",
    "    monthly_performance['prediction_month'] = prediction_month  # Ensures all rows get the same monthly timestamp\n",
    "\n",
    "    performance_results.append(monthly_performance)\n",
    "\n",
    "    # Move to the next month\n",
    "    current_date += timedelta(days=30)"
   ]
  },
  {
   "cell_type": "code",
   "execution_count": 32,
   "id": "e0fbf9a3-fef9-48cc-aa67-a921ab46a108",
   "metadata": {},
   "outputs": [],
   "source": [
    "# Combine results into a single DataFrame\n",
    "results = pd.concat(performance_results, ignore_index=True)"
   ]
  },
  {
   "cell_type": "code",
   "execution_count": 33,
   "id": "467b0470-249d-4ef2-8ade-45ebad9bfa1c",
   "metadata": {},
   "outputs": [
    {
     "name": "stdout",
     "output_type": "stream",
     "text": [
      "<PeriodArray>\n",
      "['2011-07', '2011-08', '2011-10', '2011-11', '2012-01', '2012-02', '2012-05',\n",
      " '2012-07', '2012-10', '2012-11',\n",
      " ...\n",
      " '2023-10', '2023-11', '2023-12', '2024-01', '2024-02', '2024-03', '2024-04',\n",
      " '2024-05', '2024-06', '2024-07']\n",
      "Length: 146, dtype: period[M]\n"
     ]
    }
   ],
   "source": [
    "# Check the granularity of the 'prediction_month' column\n",
    "print(results['prediction_month'].unique())"
   ]
  },
  {
   "cell_type": "code",
   "execution_count": 34,
   "id": "138e0394-d6a1-4481-a096-fb7de4602534",
   "metadata": {},
   "outputs": [],
   "source": [
    "# Group by month if the result still contains daily-level data\n",
    "monthly_results = results.groupby('prediction_month').mean(numeric_only=True).reset_index()"
   ]
  },
  {
   "cell_type": "code",
   "execution_count": 35,
   "id": "a4e64854-0f25-4c30-8c13-72be4b2d5730",
   "metadata": {},
   "outputs": [
    {
     "name": "stdout",
     "output_type": "stream",
     "text": [
      "Results aggregated by month:\n",
      "    prediction_month  performance\n",
      "0            2011-07    -0.887305\n",
      "1            2011-08          NaN\n",
      "2            2011-10     1.842394\n",
      "3            2011-11          NaN\n",
      "4            2012-01     0.976929\n",
      "..               ...          ...\n",
      "141          2024-03     0.386272\n",
      "142          2024-04     0.097032\n",
      "143          2024-05    -0.113187\n",
      "144          2024-06     0.502706\n",
      "145          2024-07     0.207928\n",
      "\n",
      "[146 rows x 2 columns]\n"
     ]
    }
   ],
   "source": [
    "# Print results\n",
    "print(\"Results aggregated by month:\")\n",
    "print(monthly_results)"
   ]
  },
  {
   "cell_type": "code",
   "execution_count": null,
   "id": "4ce15852-264f-47be-8059-6ed61e3f450d",
   "metadata": {},
   "outputs": [],
   "source": []
  }
 ],
 "metadata": {
  "kernelspec": {
   "display_name": "Python 3 (ipykernel)",
   "language": "python",
   "name": "python3"
  },
  "language_info": {
   "codemirror_mode": {
    "name": "ipython",
    "version": 3
   },
   "file_extension": ".py",
   "mimetype": "text/x-python",
   "name": "python",
   "nbconvert_exporter": "python",
   "pygments_lexer": "ipython3",
   "version": "3.11.5"
  }
 },
 "nbformat": 4,
 "nbformat_minor": 5
}
