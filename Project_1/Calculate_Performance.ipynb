{
 "cells": [
  {
   "cell_type": "code",
   "execution_count": 24,
   "id": "e1be7793-1f18-4dc6-83ff-0886ea9b22f4",
   "metadata": {},
   "outputs": [],
   "source": [
    "import pandas as pd\n",
    "from datetime import timedelta"
   ]
  },
  {
   "cell_type": "code",
   "execution_count": 25,
   "id": "56705184-de07-4428-9b49-7a7de3edb9eb",
   "metadata": {},
   "outputs": [
    {
     "name": "stdout",
     "output_type": "stream",
     "text": [
      "         date                    Company Name      Symbol  \\\n",
      "0  2015-11-16  speciality restaurants limited  SPECIALITY   \n",
      "1  2015-08-13  speciality restaurants limited  SPECIALITY   \n",
      "2  2024-09-14           eicher motors limited   EICHERMOT   \n",
      "3  2024-08-09           eicher motors limited   EICHERMOT   \n",
      "4  2024-08-09           eicher motors limited   EICHERMOT   \n",
      "\n",
      "                         author         Sector  expected_return  actual_return  \n",
      "0                         Karvy     Technology         9.432421      -0.018033  \n",
      "1           Reliance Securities     Technology         7.189542       0.018065  \n",
      "2  Consensus Share Price Target  Manufacturing              NaN            NaN  \n",
      "3                   Axis Direct  Manufacturing         4.748892            NaN  \n",
      "4           Prabhudas Lilladhar  Manufacturing        10.441767            NaN  \n"
     ]
    }
   ],
   "source": [
    "# Load the filtered DataFrame from the CSV file\n",
    "df = pd.read_csv('data/filtered_data_2.csv')\n",
    "\n",
    "# Display the first few rows of the DataFrame to verify it loaded correctly\n",
    "print(df.head())"
   ]
  },
  {
   "cell_type": "code",
   "execution_count": 26,
   "id": "37c446f9-389c-4051-a3de-5be377fb4036",
   "metadata": {},
   "outputs": [],
   "source": [
    "# Helper function to get top authors by positive correlation\n",
    "def get_top_authors_by_sector(df, start_date, end_date, top_n=10):\n",
    "    # Filter data for the period\n",
    "    period_data = df[(df['date'] >= start_date) & (df['date'] <= end_date)]\n",
    "\n",
    "    # Calculate correlation for each author-sector pair within this period\n",
    "    correlations = (\n",
    "        period_data.groupby(['Sector', 'author'])[['expected_return', 'actual_return']]\n",
    "        .corr()\n",
    "        .iloc[0::2, 1]  # Gets correlation between expected_return and actual_return\n",
    "        .reset_index(name='correlation')\n",
    "    )\n",
    "\n",
    "    # Filter for positive correlations only\n",
    "    positive_correlations = correlations[correlations['correlation'] > 0]\n",
    "\n",
    "    # Get top N authors per sector with highest positive correlations\n",
    "    top_authors_per_sector = (\n",
    "        positive_correlations.sort_values(by=['Sector', 'correlation'], ascending=[True, False])\n",
    "        .groupby('Sector')\n",
    "        .head(top_n)\n",
    "    )\n",
    "    \n",
    "    return top_authors_per_sector[['Sector', 'author', 'correlation']]"
   ]
  },
  {
   "cell_type": "code",
   "execution_count": 27,
   "id": "9b392e6b-643d-4526-a043-c3c3d76f16eb",
   "metadata": {},
   "outputs": [],
   "source": [
    "# Step 2: Define the function to evaluate monthly predictions\n",
    "def evaluate_monthly_performance(df, start_date, end_date, prediction_month):\n",
    "    # Get top authors per sector for the historical period\n",
    "    top_authors = get_top_authors_by_sector(df, start_date, end_date)\n",
    "\n",
    "    # Filter data for predictions in the target month\n",
    "    prediction_data = df[(df['date'].dt.to_period('M') == prediction_month)]\n",
    "\n",
    "    # Calculate performance for each (author, sector) pair in the top authors list\n",
    "    performance_data = []\n",
    "    for _, row in prediction_data.iterrows():\n",
    "        sector = row['Sector']\n",
    "        author = row['author']\n",
    "\n",
    "        # Check if author is in the top authors list for the sector\n",
    "        if not ((top_authors['Sector'] == sector) & (top_authors['author'] == author)).any():\n",
    "            continue  # Skip if the author-sector pair is not in the top authors list\n",
    "\n",
    "        # Calculate performance (signed direction of expected_return * actual_return)\n",
    "        performance = (row['expected_return'] * row['actual_return'])\n",
    "        performance_data.append({\n",
    "            'date': row['date'],\n",
    "            'Sector': sector,\n",
    "            'author': author,\n",
    "            'performance': performance\n",
    "        })\n",
    "\n",
    "    return pd.DataFrame(performance_data)"
   ]
  },
  {
   "cell_type": "code",
   "execution_count": 28,
   "id": "4fe1b0fd-2983-4dc1-8d8b-7c437bd91733",
   "metadata": {},
   "outputs": [],
   "source": [
    "# Step 3: Loop through each month and calculate performance\n",
    "performance_results = []\n",
    "df['date'] = pd.to_datetime(df['date'])\n",
    "min_date = df['date'].min()\n",
    "max_date = df['date'].max()"
   ]
  },
  {
   "cell_type": "code",
   "execution_count": 29,
   "id": "60f57062-7d32-45e3-bcd5-6819bdce5dd3",
   "metadata": {},
   "outputs": [
    {
     "name": "stderr",
     "output_type": "stream",
     "text": [
      "Processing Months: 100%|█████████████████████████████████████████████████████████████| 171/171 [00:33<00:00,  5.18it/s]\n"
     ]
    }
   ],
   "source": [
    "from tqdm import tqdm\n",
    "\n",
    "# Calculate total number of months to iterate\n",
    "total_months = ((max_date - (min_date + timedelta(days=365))).days) // 30\n",
    "\n",
    "# Initialize current_date\n",
    "current_date = min_date + timedelta(days=365)\n",
    "\n",
    "# Loop from the earliest date (shifted by one year) to the last available month\n",
    "for _ in tqdm(range(total_months), desc=\"Processing Months\"):\n",
    "    # Define the historical period (last 12 months)\n",
    "    start_date = current_date - timedelta(days=365)\n",
    "    end_date = current_date - timedelta(days=1)\n",
    "    \n",
    "    # Format current month for prediction data\n",
    "    prediction_month = current_date.to_period('M')\n",
    "    \n",
    "    # Evaluate performance for this month\n",
    "    monthly_performance = evaluate_monthly_performance(df, start_date, end_date, prediction_month)\n",
    "    performance_results.append(monthly_performance)\n",
    "    \n",
    "    # Move to the next month\n",
    "    current_date += timedelta(days=30)  # Approximate month increment\n"
   ]
  },
  {
   "cell_type": "code",
   "execution_count": 31,
   "id": "6c4c711e-845c-45c2-ae91-814869fd4b2a",
   "metadata": {},
   "outputs": [
    {
     "name": "stdout",
     "output_type": "stream",
     "text": [
      "Performance of analysts' predictions by (author, sector) for each month:\n",
      "            date          Sector                    author  performance\n",
      "0     2011-07-26         Finance       Chola Wealth Direct    -0.887305\n",
      "1     2011-07-30         Finance       Chola Wealth Direct          NaN\n",
      "2     2011-08-04         Finance       Chola Wealth Direct          NaN\n",
      "3     2011-08-04         Finance       Chola Wealth Direct          NaN\n",
      "4     2011-10-19         Finance       Chola Wealth Direct     1.842394\n",
      "...          ...             ...                       ...          ...\n",
      "13461 2024-07-18         Finance               Axis Direct    -0.189415\n",
      "13462 2024-07-18         Finance  BOB Capital Markets Ltd.          NaN\n",
      "13463 2024-07-18         Finance              IDBI Capital     0.155093\n",
      "13464 2024-07-25  Consumer Goods               Anand Rathi     0.767967\n",
      "13465 2024-07-25  Consumer Goods  ICICI Securities Limited     0.557215\n",
      "\n",
      "[13466 rows x 4 columns]\n"
     ]
    }
   ],
   "source": [
    "# Concatenate all results into a final DataFrame\n",
    "final_performance_df = pd.concat(performance_results, ignore_index=True)\n",
    "\n",
    "# Display or save results\n",
    "print(\"Performance of analysts' predictions by (author, sector) for each month:\")\n",
    "print(final_performance_df)"
   ]
  },
  {
   "cell_type": "code",
   "execution_count": 33,
   "id": "68c4b85d-0e4e-4ad7-b69e-15134c86a8d0",
   "metadata": {},
   "outputs": [
    {
     "name": "stdout",
     "output_type": "stream",
     "text": [
      "Results without NaN values:\n",
      "            date          Sector                    author  performance\n",
      "0     2011-07-26         Finance       Chola Wealth Direct    -0.887305\n",
      "4     2011-10-19         Finance       Chola Wealth Direct     1.842394\n",
      "6     2012-01-24         Finance       Chola Wealth Direct     0.976929\n",
      "9     2012-05-02         Finance       Chola Wealth Direct    -0.505296\n",
      "11    2012-05-09         Finance       Chola Wealth Direct     0.933437\n",
      "...          ...             ...                       ...          ...\n",
      "13460 2024-07-18         Finance             Motilal Oswal    -0.683916\n",
      "13461 2024-07-18         Finance               Axis Direct    -0.189415\n",
      "13463 2024-07-18         Finance              IDBI Capital     0.155093\n",
      "13464 2024-07-25  Consumer Goods               Anand Rathi     0.767967\n",
      "13465 2024-07-25  Consumer Goods  ICICI Securities Limited     0.557215\n",
      "\n",
      "[12048 rows x 4 columns]\n"
     ]
    }
   ],
   "source": [
    "# Remove rows with NaN values\n",
    "cleaned_results = final_performance_df.dropna()\n",
    "\n",
    "# Print cleaned results\n",
    "print(\"Results without NaN values:\")\n",
    "print(cleaned_results)"
   ]
  },
  {
   "cell_type": "code",
   "execution_count": 34,
   "id": "02e35e90-df2f-4ce3-9f10-08a150434a31",
   "metadata": {},
   "outputs": [
    {
     "name": "stdout",
     "output_type": "stream",
     "text": [
      "Rows with NaN values:\n",
      "            date      Sector                    author  performance\n",
      "1     2011-07-30     Finance       Chola Wealth Direct          NaN\n",
      "2     2011-08-04     Finance       Chola Wealth Direct          NaN\n",
      "3     2011-08-04     Finance       Chola Wealth Direct          NaN\n",
      "5     2011-11-18     Finance       Chola Wealth Direct          NaN\n",
      "7     2012-02-01     Finance       Chola Wealth Direct          NaN\n",
      "...          ...         ...                       ...          ...\n",
      "13434 2024-07-02  Healthcare            SBI Securities          NaN\n",
      "13435 2024-07-30  Technology       Prabhudas Lilladhar          NaN\n",
      "13436 2024-07-30  Technology              ICICI Direct          NaN\n",
      "13443 2024-07-31  Healthcare              ICICI Direct          NaN\n",
      "13462 2024-07-18     Finance  BOB Capital Markets Ltd.          NaN\n",
      "\n",
      "[1418 rows x 4 columns]\n",
      "NaN counts per column:\n",
      "date              0\n",
      "Sector            0\n",
      "author            0\n",
      "performance    1418\n",
      "dtype: int64\n"
     ]
    }
   ],
   "source": [
    "# Check rows with NaN values\n",
    "nan_rows = final_performance_df[final_performance_df.isna().any(axis=1)]\n",
    "print(\"Rows with NaN values:\")\n",
    "print(nan_rows)\n",
    "\n",
    "# Count NaN occurrences in each column\n",
    "nan_counts = final_performance_df.isna().sum()\n",
    "print(\"NaN counts per column:\")\n",
    "print(nan_counts)"
   ]
  },
  {
   "cell_type": "code",
   "execution_count": null,
   "id": "ddabe1d4-1d4e-4337-8707-b894be9563e5",
   "metadata": {},
   "outputs": [],
   "source": []
  }
 ],
 "metadata": {
  "kernelspec": {
   "display_name": "Python 3 (ipykernel)",
   "language": "python",
   "name": "python3"
  },
  "language_info": {
   "codemirror_mode": {
    "name": "ipython",
    "version": 3
   },
   "file_extension": ".py",
   "mimetype": "text/x-python",
   "name": "python",
   "nbconvert_exporter": "python",
   "pygments_lexer": "ipython3",
   "version": "3.11.5"
  }
 },
 "nbformat": 4,
 "nbformat_minor": 5
}
